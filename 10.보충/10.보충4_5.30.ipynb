{
 "cells": [
  {
   "cell_type": "code",
   "execution_count": 1,
   "id": "a5a76d84-14e4-45ac-be7e-a6ad342b2816",
   "metadata": {},
   "outputs": [],
   "source": [
    "import tensorflow as tf\n",
    "from tensorflow import keras\n",
    "\n",
    "fashion_mnist = keras.datasets.fashion_mnist"
   ]
  },
  {
   "cell_type": "code",
   "execution_count": 2,
   "id": "1917737b-649d-427d-afca-55d66a53be29",
   "metadata": {},
   "outputs": [],
   "source": [
    "(X_train, y_train),  (X_test, y_test) = fashion_mnist.load_data() "
   ]
  },
  {
   "cell_type": "code",
   "execution_count": 3,
   "id": "45e078fd-b9dc-4600-8b70-06c211397188",
   "metadata": {},
   "outputs": [],
   "source": [
    "X_train.shape\n",
    "y_train = keras.utils.to_categorical(y_train)"
   ]
  },
  {
   "cell_type": "code",
   "execution_count": 4,
   "id": "e1790ee7-91f4-45a5-9c16-f49d872c53fd",
   "metadata": {},
   "outputs": [],
   "source": [
    "model = keras.models.Sequential(\n",
    "    [\n",
    "        keras.layers.Flatten(input_shape=[28,28]),\n",
    "        keras.layers.Dense(300,activation='relu'),\n",
    "        keras.layers.Dense(100,activation='relu'),\n",
    "        keras.layers.Dense(10,activation='softmax'),\n",
    "    ]\n",
    ")"
   ]
  },
  {
   "cell_type": "code",
   "execution_count": 5,
   "id": "562c3d29-68b4-49b2-82b2-423911ee5392",
   "metadata": {},
   "outputs": [
    {
     "data": {
      "image/png": "[encoded data removed]",
      "text/plain": [
       "<IPython.core.display.Image object>"
      ]
     },
     "execution_count": 5,
     "metadata": {},
     "output_type": "execute_result"
    }
   ],
   "source": [
    "keras.utils.plot_model(model,show_shapes=True)"
   ]
  },
  {
   "cell_type": "code",
   "execution_count": 6,
   "id": "43a748e2-eabe-4c45-bbfd-f2cc2080622e",
   "metadata": {},
   "outputs": [],
   "source": [
    "model.compile(loss='categorical_crossentropy',\n",
    "             optimizer=keras.optimizers.SGD(learning_rate=1e-3),\n",
    "             metrics=['accuracy'])"
   ]
  },
  {
   "cell_type": "code",
   "execution_count": 7,
   "id": "deff4d83-01f6-4149-a075-731280d0697e",
   "metadata": {},
   "outputs": [
    {
     "name": "stdout",
     "output_type": "stream",
     "text": [
      "Epoch 1/30\n",
      "1875/1875 [==============================] - 2s 767us/step - loss: 2.9731 - accuracy: 0.7431\n",
      "Epoch 2/30\n",
      "1875/1875 [==============================] - 1s 798us/step - loss: 0.5063 - accuracy: 0.8192\n",
      "Epoch 3/30\n",
      "1875/1875 [==============================] - 2s 880us/step - loss: 0.4526 - accuracy: 0.8364\n",
      "Epoch 4/30\n",
      "1875/1875 [==============================] - 2s 864us/step - loss: 0.4221 - accuracy: 0.8459\n",
      "Epoch 5/30\n",
      "1875/1875 [==============================] - 2s 876us/step - loss: 0.4008 - accuracy: 0.8531\n",
      "Epoch 6/30\n",
      "1875/1875 [==============================] - 2s 857us/step - loss: 0.3853 - accuracy: 0.8573\n",
      "Epoch 7/30\n",
      "1875/1875 [==============================] - 2s 853us/step - loss: 0.3703 - accuracy: 0.8634\n",
      "Epoch 8/30\n",
      "1875/1875 [==============================] - 2s 847us/step - loss: 0.3594 - accuracy: 0.8674\n",
      "Epoch 9/30\n",
      "1875/1875 [==============================] - 2s 851us/step - loss: 0.3497 - accuracy: 0.8709\n",
      "Epoch 10/30\n",
      "1875/1875 [==============================] - 2s 848us/step - loss: 0.3408 - accuracy: 0.8745\n",
      "Epoch 11/30\n",
      "1875/1875 [==============================] - 2s 845us/step - loss: 0.3343 - accuracy: 0.8770\n",
      "Epoch 12/30\n",
      "1875/1875 [==============================] - 2s 856us/step - loss: 0.3275 - accuracy: 0.8784\n",
      "Epoch 13/30\n",
      "1875/1875 [==============================] - 2s 854us/step - loss: 0.3204 - accuracy: 0.8806\n",
      "Epoch 14/30\n",
      "1875/1875 [==============================] - 2s 854us/step - loss: 0.3156 - accuracy: 0.8830\n",
      "Epoch 15/30\n",
      "1875/1875 [==============================] - 2s 908us/step - loss: 0.3098 - accuracy: 0.8842\n",
      "Epoch 16/30\n",
      "1875/1875 [==============================] - 2s 858us/step - loss: 0.3057 - accuracy: 0.8867\n",
      "Epoch 17/30\n",
      "1875/1875 [==============================] - 2s 854us/step - loss: 0.2999 - accuracy: 0.8892\n",
      "Epoch 18/30\n",
      "1875/1875 [==============================] - 2s 850us/step - loss: 0.2957 - accuracy: 0.8894\n",
      "Epoch 19/30\n",
      "1875/1875 [==============================] - 2s 857us/step - loss: 0.2917 - accuracy: 0.8914\n",
      "Epoch 20/30\n",
      "1875/1875 [==============================] - 2s 855us/step - loss: 0.2887 - accuracy: 0.8917\n",
      "Epoch 21/30\n",
      "1875/1875 [==============================] - 2s 833us/step - loss: 0.2835 - accuracy: 0.8953\n",
      "Epoch 22/30\n",
      "1875/1875 [==============================] - 2s 824us/step - loss: 0.2804 - accuracy: 0.8966\n",
      "Epoch 23/30\n",
      "1875/1875 [==============================] - 2s 848us/step - loss: 0.2776 - accuracy: 0.8966\n",
      "Epoch 24/30\n",
      "1875/1875 [==============================] - 2s 813us/step - loss: 0.2746 - accuracy: 0.8976\n",
      "Epoch 25/30\n",
      "1875/1875 [==============================] - 2s 813us/step - loss: 0.2712 - accuracy: 0.8989\n",
      "Epoch 26/30\n",
      "1875/1875 [==============================] - 2s 820us/step - loss: 0.2684 - accuracy: 0.9011\n",
      "Epoch 27/30\n",
      "1875/1875 [==============================] - 2s 835us/step - loss: 0.2647 - accuracy: 0.9020\n",
      "Epoch 28/30\n",
      "1875/1875 [==============================] - 2s 811us/step - loss: 0.2628 - accuracy: 0.9019\n",
      "Epoch 29/30\n",
      "1875/1875 [==============================] - 2s 820us/step - loss: 0.2601 - accuracy: 0.9037\n",
      "Epoch 30/30\n",
      "1875/1875 [==============================] - 2s 833us/step - loss: 0.2581 - accuracy: 0.9045\n"
     ]
    },
    {
     "data": {
      "text/plain": [
       "<keras.callbacks.History at 0x1a53b9c2f40>"
      ]
     },
     "execution_count": 7,
     "metadata": {},
     "output_type": "execute_result"
    }
   ],
   "source": [
    "model.fit(X_train, y_train, epochs=30)"
   ]
  },
  {
   "cell_type": "code",
   "execution_count": 9,
   "id": "226b2f23-3ad5-4c48-90d3-9e9bb3f3fb16",
   "metadata": {},
   "outputs": [],
   "source": [
    "import numpy as np"
   ]
  },
  {
   "cell_type": "code",
   "execution_count": 10,
   "id": "b71d42a1-67d5-4986-9f87-6bcd4c67efaf",
   "metadata": {},
   "outputs": [],
   "source": [
    "model.layers[1].set_weights([np.random.randn(784,300),np.zeros(300)])\n",
    "model.layers[2].set_weights([np.random.randn(300,100),np.zeros(100)])\n",
    "model.layers[3].set_weights([np.random.randn(100,10),np.zeros(10)])"
   ]
  },
  {
   "cell_type": "code",
   "execution_count": 11,
   "id": "774f9fd8-eb5d-47a6-bce2-7848e5e4a2b9",
   "metadata": {},
   "outputs": [],
   "source": [
    "import numpy as np\n",
    "import pandas as pd"
   ]
  },
  {
   "cell_type": "code",
   "execution_count": 12,
   "id": "227e459a-2c1c-4369-8fb1-a3d7b6a91d26",
   "metadata": {},
   "outputs": [],
   "source": [
    "import matplotlib \n",
    "import matplotlib.pyplot as plt"
   ]
  },
  {
   "cell_type": "code",
   "execution_count": 13,
   "id": "6b548675-7be6-46c4-877d-b73c0229ea3f",
   "metadata": {},
   "outputs": [],
   "source": [
    "plt.rcParams['axes.labelsize'] = 14\n",
    "plt.rcParams['xtick.labelsize'] = 12\n",
    "plt.rcParams['ytick.labelsize'] = 12"
   ]
  },
  {
   "cell_type": "code",
   "execution_count": 14,
   "id": "64929648-e427-41cb-b86d-9b2c9b2b41e8",
   "metadata": {},
   "outputs": [],
   "source": [
    "def reset_graph(seed=42):\n",
    "    tf.reset_default_graph()\n",
    "    tf.set_random_seed(seed)\n",
    "    np.random.seed(seed)"
   ]
  },
  {
   "cell_type": "code",
   "execution_count": 15,
   "id": "90a3a5f1-4d92-4bd3-9c6f-7d21d66f8551",
   "metadata": {},
   "outputs": [],
   "source": [
    "def relu(x):\n",
    "    return np.maximum(x,0)"
   ]
  },
  {
   "cell_type": "code",
   "execution_count": 16,
   "id": "5ecd8bb4-609d-4dbd-b07b-4d32036795b5",
   "metadata": {},
   "outputs": [
    {
     "ename": "NameError",
     "evalue": "name 'z' is not defined",
     "output_type": "error",
     "traceback": [
      "\u001b[1;31m---------------------------------------------------------------------------\u001b[0m",
      "\u001b[1;31mNameError\u001b[0m                                 Traceback (most recent call last)",
      "\u001b[1;32m~\\AppData\\Local\\Temp/ipykernel_19820/3500936727.py\u001b[0m in \u001b[0;36m<module>\u001b[1;34m\u001b[0m\n\u001b[1;32m----> 1\u001b[1;33m \u001b[0mplt\u001b[0m\u001b[1;33m.\u001b[0m\u001b[0mplot\u001b[0m\u001b[1;33m(\u001b[0m\u001b[0mz\u001b[0m\u001b[1;33m,\u001b[0m \u001b[0mleaky_relu\u001b[0m\u001b[1;33m(\u001b[0m\u001b[0mz\u001b[0m\u001b[1;33m,\u001b[0m\u001b[0ma\u001b[0m\u001b[1;33m=\u001b[0m\u001b[1;36m0.1\u001b[0m\u001b[1;33m)\u001b[0m\u001b[1;33m,\u001b[0m \u001b[1;34m\"b-\"\u001b[0m\u001b[1;33m,\u001b[0m \u001b[0mlinewidth\u001b[0m\u001b[1;33m=\u001b[0m\u001b[1;36m2\u001b[0m\u001b[1;33m)\u001b[0m\u001b[1;33m\u001b[0m\u001b[1;33m\u001b[0m\u001b[0m\n\u001b[0m\u001b[0;32m      2\u001b[0m \u001b[0mplt\u001b[0m\u001b[1;33m.\u001b[0m\u001b[0mplot\u001b[0m\u001b[1;33m(\u001b[0m\u001b[1;33m[\u001b[0m\u001b[1;33m-\u001b[0m\u001b[1;36m5\u001b[0m\u001b[1;33m,\u001b[0m\u001b[1;36m5\u001b[0m\u001b[1;33m]\u001b[0m\u001b[1;33m,\u001b[0m\u001b[1;33m[\u001b[0m\u001b[1;36m0\u001b[0m\u001b[1;33m,\u001b[0m\u001b[1;36m0\u001b[0m\u001b[1;33m]\u001b[0m\u001b[1;33m,\u001b[0m\u001b[1;34m'k-'\u001b[0m\u001b[1;33m)\u001b[0m\u001b[1;33m\u001b[0m\u001b[1;33m\u001b[0m\u001b[0m\n\u001b[0;32m      3\u001b[0m \u001b[0mplt\u001b[0m\u001b[1;33m.\u001b[0m\u001b[0mplot\u001b[0m\u001b[1;33m(\u001b[0m\u001b[1;33m[\u001b[0m\u001b[1;36m0\u001b[0m\u001b[1;33m,\u001b[0m\u001b[1;36m0\u001b[0m\u001b[1;33m]\u001b[0m\u001b[1;33m,\u001b[0m\u001b[1;33m[\u001b[0m\u001b[1;33m-\u001b[0m\u001b[1;36m0.5\u001b[0m\u001b[1;33m,\u001b[0m\u001b[1;36m4.2\u001b[0m\u001b[1;33m]\u001b[0m\u001b[1;33m,\u001b[0m\u001b[1;34m'k-'\u001b[0m\u001b[1;33m)\u001b[0m\u001b[1;33m\u001b[0m\u001b[1;33m\u001b[0m\u001b[0m\n\u001b[0;32m      4\u001b[0m \u001b[0mplt\u001b[0m\u001b[1;33m.\u001b[0m\u001b[0mshow\u001b[0m\u001b[1;33m(\u001b[0m\u001b[1;33m)\u001b[0m\u001b[1;33m\u001b[0m\u001b[1;33m\u001b[0m\u001b[0m\n",
      "\u001b[1;31mNameError\u001b[0m: name 'z' is not defined"
     ]
    }
   ],
   "source": [
    "plt.plot(z, leaky_relu(z,a=0.1), \"b-\", linewidth=2)\n",
    "plt.plot([-5,5],[0,0],'k-')\n",
    "plt.plot([0,0],[-0.5,4.2],'k-')\n",
    "plt.show()"
   ]
  },
  {
   "cell_type": "code",
   "execution_count": 17,
   "id": "c1903f8e-eba6-45e5-abd6-408aeb6d80b4",
   "metadata": {},
   "outputs": [],
   "source": [
    "def learky_relu(z, a=0.01):\n",
    "    return np.where(z > 0 ,z, z*a)"
   ]
  },
  {
   "cell_type": "code",
   "execution_count": 18,
   "id": "841db6f0-a700-4dc7-8675-c39597c8489a",
   "metadata": {},
   "outputs": [],
   "source": [
    "def leaky_relu(z, a=0.01):\n",
    "    return np.maximum(a*z,z)"
   ]
  },
  {
   "cell_type": "code",
   "execution_count": 19,
   "id": "0502aec4-1ec9-4488-84b4-df3dddcabb48",
   "metadata": {},
   "outputs": [],
   "source": [
    "y_test = keras.utils.to_categorical(y_test)"
   ]
  },
  {
   "cell_type": "code",
   "execution_count": 20,
   "id": "990adcd8-3a48-452c-b574-dd703e143cc2",
   "metadata": {},
   "outputs": [],
   "source": [
    "from keras import activations"
   ]
  },
  {
   "cell_type": "code",
   "execution_count": 21,
   "id": "8bb5ae44-c341-4148-aba9-ae7ec996a8ef",
   "metadata": {},
   "outputs": [],
   "source": [
    "model = keras.models.Sequential(\n",
    "    [\n",
    "        keras.layers.Flatten(input_shape=[28,28]),\n",
    "        keras.layers.Dense(300,activation='tanh'),\n",
    "        keras.layers.Dropout(0.5),\n",
    "        keras.layers.BatchNormalization(),\n",
    "        keras.layers.Dense(100,activation='tanh'),\n",
    "        keras.layers.BatchNormalization(),\n",
    "        keras.layers.Dropout(0.3),\n",
    "        keras.layers.Dense(10,activation='softmax'),\n",
    "    ]\n",
    ")"
   ]
  },
  {
   "cell_type": "code",
   "execution_count": 22,
   "id": "1158c492-5375-4917-b179-4c14bbda5d2c",
   "metadata": {},
   "outputs": [],
   "source": [
    "model.compile(loss='categorical_crossentropy',\n",
    "             optimizer=keras.optimizers.SGD(learning_rate=1e-3),\n",
    "             metrics=['accuracy'])"
   ]
  },
  {
   "cell_type": "code",
   "execution_count": 23,
   "id": "d71079a1-d00a-4b19-964c-3bc21f131887",
   "metadata": {},
   "outputs": [
    {
     "name": "stdout",
     "output_type": "stream",
     "text": [
      "Epoch 1/30\n",
      "1875/1875 [==============================] - 3s 1ms/step - loss: 1.6841 - accuracy: 0.4374 - val_loss: 0.7767 - val_accuracy: 0.7192\n",
      "Epoch 2/30\n",
      "1875/1875 [==============================] - 2s 1ms/step - loss: 1.1779 - accuracy: 0.5776 - val_loss: 0.7182 - val_accuracy: 0.7264\n",
      "Epoch 3/30\n",
      "1875/1875 [==============================] - 2s 1ms/step - loss: 1.0219 - accuracy: 0.6283 - val_loss: 0.6883 - val_accuracy: 0.7403\n",
      "Epoch 4/30\n",
      "1875/1875 [==============================] - 2s 1ms/step - loss: 0.9488 - accuracy: 0.6537 - val_loss: 0.6542 - val_accuracy: 0.7587\n",
      "Epoch 5/30\n",
      "1875/1875 [==============================] - 2s 1ms/step - loss: 0.8853 - accuracy: 0.6723 - val_loss: 0.6621 - val_accuracy: 0.7445\n",
      "Epoch 6/30\n",
      "1875/1875 [==============================] - 2s 1ms/step - loss: 0.8466 - accuracy: 0.6850 - val_loss: 0.6371 - val_accuracy: 0.7636\n",
      "Epoch 7/30\n",
      "1875/1875 [==============================] - 2s 1ms/step - loss: 0.8131 - accuracy: 0.7017 - val_loss: 0.6359 - val_accuracy: 0.7614\n",
      "Epoch 8/30\n",
      "1875/1875 [==============================] - 2s 1ms/step - loss: 0.7989 - accuracy: 0.7058 - val_loss: 0.6197 - val_accuracy: 0.7692\n",
      "Epoch 9/30\n",
      "1875/1875 [==============================] - 2s 1ms/step - loss: 0.7856 - accuracy: 0.7107 - val_loss: 0.6150 - val_accuracy: 0.7763\n",
      "Epoch 10/30\n",
      "1875/1875 [==============================] - 2s 1ms/step - loss: 0.7740 - accuracy: 0.7138 - val_loss: 0.6174 - val_accuracy: 0.7717\n",
      "Epoch 11/30\n",
      "1875/1875 [==============================] - 2s 1ms/step - loss: 0.7543 - accuracy: 0.7211 - val_loss: 0.6027 - val_accuracy: 0.7804\n",
      "Epoch 12/30\n",
      "1875/1875 [==============================] - 2s 1ms/step - loss: 0.7297 - accuracy: 0.7329 - val_loss: 0.5852 - val_accuracy: 0.7854\n",
      "Epoch 13/30\n",
      "1875/1875 [==============================] - 2s 1ms/step - loss: 0.7318 - accuracy: 0.7326 - val_loss: 0.5905 - val_accuracy: 0.7746\n",
      "Epoch 14/30\n",
      "1875/1875 [==============================] - 2s 1ms/step - loss: 0.7195 - accuracy: 0.7365 - val_loss: 0.5941 - val_accuracy: 0.7835\n",
      "Epoch 15/30\n",
      "1875/1875 [==============================] - 2s 1ms/step - loss: 0.7131 - accuracy: 0.7385 - val_loss: 0.5800 - val_accuracy: 0.7839\n",
      "Epoch 16/30\n",
      "1875/1875 [==============================] - 2s 1ms/step - loss: 0.7056 - accuracy: 0.7420 - val_loss: 0.5612 - val_accuracy: 0.7996\n",
      "Epoch 17/30\n",
      "1875/1875 [==============================] - 2s 1ms/step - loss: 0.6894 - accuracy: 0.7479 - val_loss: 0.5783 - val_accuracy: 0.7947\n",
      "Epoch 18/30\n",
      "1875/1875 [==============================] - 2s 1ms/step - loss: 0.6932 - accuracy: 0.7460 - val_loss: 0.5749 - val_accuracy: 0.7930\n",
      "Epoch 19/30\n",
      "1875/1875 [==============================] - 2s 1ms/step - loss: 0.6935 - accuracy: 0.7457 - val_loss: 0.5653 - val_accuracy: 0.7960\n",
      "Epoch 20/30\n",
      "1875/1875 [==============================] - 2s 1ms/step - loss: 0.6818 - accuracy: 0.7509 - val_loss: 0.5670 - val_accuracy: 0.7887\n",
      "Epoch 21/30\n",
      "1875/1875 [==============================] - 2s 1ms/step - loss: 0.6762 - accuracy: 0.7556 - val_loss: 0.5551 - val_accuracy: 0.7982\n",
      "Epoch 22/30\n",
      "1875/1875 [==============================] - 2s 1ms/step - loss: 0.6666 - accuracy: 0.7576 - val_loss: 0.5569 - val_accuracy: 0.7991\n",
      "Epoch 23/30\n",
      "1875/1875 [==============================] - 2s 1ms/step - loss: 0.6610 - accuracy: 0.7604 - val_loss: 0.5530 - val_accuracy: 0.7995\n",
      "Epoch 24/30\n",
      "1875/1875 [==============================] - 2s 1ms/step - loss: 0.6596 - accuracy: 0.7596 - val_loss: 0.5509 - val_accuracy: 0.8006\n",
      "Epoch 25/30\n",
      "1875/1875 [==============================] - 2s 1ms/step - loss: 0.6477 - accuracy: 0.7656 - val_loss: 0.5412 - val_accuracy: 0.8038\n",
      "Epoch 26/30\n",
      "1875/1875 [==============================] - 2s 1ms/step - loss: 0.6359 - accuracy: 0.7694 - val_loss: 0.5352 - val_accuracy: 0.8048\n",
      "Epoch 27/30\n",
      "1875/1875 [==============================] - 2s 1ms/step - loss: 0.6407 - accuracy: 0.7678 - val_loss: 0.5375 - val_accuracy: 0.8070\n",
      "Epoch 28/30\n",
      "1875/1875 [==============================] - 2s 1ms/step - loss: 0.6360 - accuracy: 0.7685 - val_loss: 0.5418 - val_accuracy: 0.8026\n",
      "Epoch 29/30\n",
      "1875/1875 [==============================] - 2s 1ms/step - loss: 0.6341 - accuracy: 0.7724 - val_loss: 0.5396 - val_accuracy: 0.8058\n",
      "Epoch 30/30\n",
      "1875/1875 [==============================] - 2s 1ms/step - loss: 0.6300 - accuracy: 0.7730 - val_loss: 0.5298 - val_accuracy: 0.8093\n"
     ]
    },
    {
     "data": {
      "text/plain": [
       "<keras.callbacks.History at 0x1a546ec0d00>"
      ]
     },
     "execution_count": 23,
     "metadata": {},
     "output_type": "execute_result"
    }
   ],
   "source": [
    "model.fit(X_train,y_train, epochs=30, validation_data=(X_test,y_test))"
   ]
  },
  {
   "cell_type": "code",
   "execution_count": 24,
   "id": "c4abf273-d039-42ec-850b-976fb28fa7ea",
   "metadata": {},
   "outputs": [],
   "source": [
    "def elu(z,a=1):\n",
    "    return np.where( z<0, a*(np.exp(z)-1) , z)"
   ]
  },
  {
   "cell_type": "code",
   "execution_count": 25,
   "id": "723a0d78-df84-4ed4-84a0-8e30a2ae6fee",
   "metadata": {},
   "outputs": [
    {
     "ename": "NameError",
     "evalue": "name 'z' is not defined",
     "output_type": "error",
     "traceback": [
      "\u001b[1;31m---------------------------------------------------------------------------\u001b[0m",
      "\u001b[1;31mNameError\u001b[0m                                 Traceback (most recent call last)",
      "\u001b[1;32m~\\AppData\\Local\\Temp/ipykernel_19820/239050493.py\u001b[0m in \u001b[0;36m<module>\u001b[1;34m\u001b[0m\n\u001b[1;32m----> 1\u001b[1;33m \u001b[0mplt\u001b[0m\u001b[1;33m.\u001b[0m\u001b[0mplot\u001b[0m\u001b[1;33m(\u001b[0m\u001b[0mz\u001b[0m\u001b[1;33m,\u001b[0m \u001b[0melu\u001b[0m\u001b[1;33m(\u001b[0m\u001b[0mz\u001b[0m\u001b[1;33m,\u001b[0m\u001b[0ma\u001b[0m\u001b[1;33m=\u001b[0m\u001b[1;36m1\u001b[0m\u001b[1;33m)\u001b[0m\u001b[1;33m,\u001b[0m \u001b[1;34m\"b-\"\u001b[0m\u001b[1;33m,\u001b[0m \u001b[0mlinewidth\u001b[0m\u001b[1;33m=\u001b[0m\u001b[1;36m2\u001b[0m\u001b[1;33m)\u001b[0m\u001b[1;33m\u001b[0m\u001b[1;33m\u001b[0m\u001b[0m\n\u001b[0m\u001b[0;32m      2\u001b[0m \u001b[0mplt\u001b[0m\u001b[1;33m.\u001b[0m\u001b[0mplot\u001b[0m\u001b[1;33m(\u001b[0m\u001b[1;33m[\u001b[0m\u001b[1;33m-\u001b[0m\u001b[1;36m5\u001b[0m\u001b[1;33m,\u001b[0m\u001b[1;36m5\u001b[0m\u001b[1;33m]\u001b[0m\u001b[1;33m,\u001b[0m\u001b[1;33m[\u001b[0m\u001b[1;36m0\u001b[0m\u001b[1;33m,\u001b[0m\u001b[1;36m0\u001b[0m\u001b[1;33m]\u001b[0m\u001b[1;33m,\u001b[0m\u001b[1;34m'k-'\u001b[0m\u001b[1;33m)\u001b[0m\u001b[1;33m\u001b[0m\u001b[1;33m\u001b[0m\u001b[0m\n\u001b[0;32m      3\u001b[0m \u001b[0mplt\u001b[0m\u001b[1;33m.\u001b[0m\u001b[0mplot\u001b[0m\u001b[1;33m(\u001b[0m\u001b[1;33m[\u001b[0m\u001b[1;36m0\u001b[0m\u001b[1;33m,\u001b[0m\u001b[1;36m0\u001b[0m\u001b[1;33m]\u001b[0m\u001b[1;33m,\u001b[0m\u001b[1;33m[\u001b[0m\u001b[1;33m-\u001b[0m\u001b[1;36m0.5\u001b[0m\u001b[1;33m,\u001b[0m\u001b[1;36m4.2\u001b[0m\u001b[1;33m]\u001b[0m\u001b[1;33m,\u001b[0m\u001b[1;34m'k-'\u001b[0m\u001b[1;33m)\u001b[0m\u001b[1;33m\u001b[0m\u001b[1;33m\u001b[0m\u001b[0m\n\u001b[0;32m      4\u001b[0m \u001b[0mplt\u001b[0m\u001b[1;33m.\u001b[0m\u001b[0mshow\u001b[0m\u001b[1;33m(\u001b[0m\u001b[1;33m)\u001b[0m\u001b[1;33m\u001b[0m\u001b[1;33m\u001b[0m\u001b[0m\n",
      "\u001b[1;31mNameError\u001b[0m: name 'z' is not defined"
     ]
    }
   ],
   "source": [
    "plt.plot(z, elu(z,a=1), \"b-\", linewidth=2)\n",
    "plt.plot([-5,5],[0,0],'k-')\n",
    "plt.plot([0,0],[-0.5,4.2],'k-')\n",
    "plt.show()"
   ]
  },
  {
   "cell_type": "code",
   "execution_count": 27,
   "id": "7d6131a6-b813-4575-aa05-a4a39ce0ebc5",
   "metadata": {},
   "outputs": [
    {
     "name": "stdout",
     "output_type": "stream",
     "text": [
      "Epoch 1/10\n",
      "1875/1875 [==============================] - 12s 6ms/step - loss: 1.0346 - accuracy: 0.7279 - val_loss: 0.7530 - val_accuracy: 0.7913\n",
      "Epoch 2/10\n",
      "1875/1875 [==============================] - 12s 7ms/step - loss: 0.6584 - accuracy: 0.8116 - val_loss: 0.6259 - val_accuracy: 0.8111\n",
      "Epoch 3/10\n",
      "1875/1875 [==============================] - 12s 7ms/step - loss: 0.5700 - accuracy: 0.8249 - val_loss: 0.5737 - val_accuracy: 0.8166\n",
      "Epoch 4/10\n",
      "1875/1875 [==============================] - 12s 7ms/step - loss: 0.5299 - accuracy: 0.8293 - val_loss: 0.5406 - val_accuracy: 0.8207\n",
      "Epoch 5/10\n",
      "1875/1875 [==============================] - 13s 7ms/step - loss: 0.5062 - accuracy: 0.8350 - val_loss: 0.5334 - val_accuracy: 0.8182\n",
      "Epoch 6/10\n",
      "1875/1875 [==============================] - 14s 7ms/step - loss: 0.4971 - accuracy: 0.8345 - val_loss: 0.5217 - val_accuracy: 0.8205\n",
      "Epoch 7/10\n",
      "1875/1875 [==============================] - 16s 8ms/step - loss: 0.4915 - accuracy: 0.8317 - val_loss: 0.5259 - val_accuracy: 0.8194\n",
      "Epoch 8/10\n",
      "1875/1875 [==============================] - 19s 10ms/step - loss: 0.4861 - accuracy: 0.8316 - val_loss: 0.5209 - val_accuracy: 0.8197\n",
      "Epoch 9/10\n",
      "1875/1875 [==============================] - 19s 10ms/step - loss: 0.4838 - accuracy: 0.8310 - val_loss: 0.5142 - val_accuracy: 0.8174\n",
      "Epoch 10/10\n",
      "1875/1875 [==============================] - 14s 8ms/step - loss: 0.4800 - accuracy: 0.8302 - val_loss: 0.5138 - val_accuracy: 0.8216\n"
     ]
    },
    {
     "data": {
      "text/plain": [
       "<keras.callbacks.History at 0x1a54ae12e20>"
      ]
     },
     "execution_count": 27,
     "metadata": {},
     "output_type": "execute_result"
    }
   ],
   "source": [
    "#1024~32~10 까지 모델 층 만들기\n",
    "# activation = 'elu'\n",
    "activation = 'tanh'\n",
    "model = keras.models.Sequential(\n",
    "    [\n",
    "        keras.layers.Flatten(input_shape=[28,28]),\n",
    "        keras.layers.Dense(1024,activation=activation),\n",
    "        keras.layers.Dense(512,activation=activation),\n",
    "        keras.layers.Dense(256,activation=activation),\n",
    "        keras.layers.Dense(128,activation=activation),\n",
    "        keras.layers.Dense(64,activation=activation),\n",
    "        keras.layers.Dense(32,activation=activation),\n",
    "        keras.layers.Dense(10,activation='softmax'),\n",
    "    ]\n",
    ")\n",
    "\n",
    "model.compile(loss='categorical_crossentropy',\n",
    "             optimizer=keras.optimizers.SGD(learning_rate=1e-3),\n",
    "             metrics=['accuracy'])\n",
    "\n",
    "model.fit(X_train,y_train, epochs=10, validation_data=(X_test,y_test))"
   ]
  },
  {
   "cell_type": "code",
   "execution_count": null,
   "id": "22ff2bb2-b652-49c4-86cb-ed016efc1c90",
   "metadata": {},
   "outputs": [],
   "source": []
  }
 ],
 "metadata": {
  "kernelspec": {
   "display_name": "Python 3 (ipykernel)",
   "language": "python",
   "name": "python3"
  },
  "language_info": {
   "codemirror_mode": {
    "name": "ipython",
    "version": 3
   },
   "file_extension": ".py",
   "mimetype": "text/x-python",
   "name": "python",
   "nbconvert_exporter": "python",
   "pygments_lexer": "ipython3",
   "version": "3.9.7"
  }
 },
 "nbformat": 4,
 "nbformat_minor": 5
}
