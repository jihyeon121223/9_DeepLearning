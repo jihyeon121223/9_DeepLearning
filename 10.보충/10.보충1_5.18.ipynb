{
 "cells": [
  {
   "cell_type": "raw",
   "id": "a6dfc66c-33fa-40a4-85c1-9627cd459cf4",
   "metadata": {},
   "source": [
    "핸즈온 머신러닝 책"
   ]
  },
  {
   "cell_type": "code",
   "execution_count": 1,
   "id": "284120f2-fa0b-43da-a51c-4229d217cd62",
   "metadata": {},
   "outputs": [],
   "source": [
    "import tensorflow as tf\n",
    "from tensorflow import keras"
   ]
  },
  {
   "cell_type": "code",
   "execution_count": 2,
   "id": "803d73b8-991b-4bd5-a8d6-b8e3caf6ebb3",
   "metadata": {},
   "outputs": [],
   "source": [
    "fashion_mnist = keras.datasets.fashion_mnist"
   ]
  },
  {
   "cell_type": "code",
   "execution_count": 25,
   "id": "d007b5e8-cdf2-4a9a-8f5d-d1e887a898ae",
   "metadata": {},
   "outputs": [],
   "source": [
    "#데이터 나누기\n",
    "(X_train_full, y_train_full), (X_test,y_test) = fashion_mnist.load_data()"
   ]
  },
  {
   "cell_type": "code",
   "execution_count": 4,
   "id": "1007f809-3488-4b11-9a62-b87c09324457",
   "metadata": {},
   "outputs": [
    {
     "data": {
      "text/plain": [
       "(60000, 28, 28)"
      ]
     },
     "execution_count": 4,
     "metadata": {},
     "output_type": "execute_result"
    }
   ],
   "source": [
    "X_train_full.shape"
   ]
  },
  {
   "cell_type": "code",
   "execution_count": 5,
   "id": "7bc94d6b-8ba4-4301-a79c-03f8d7405803",
   "metadata": {},
   "outputs": [
    {
     "data": {
      "text/plain": [
       "(60000,)"
      ]
     },
     "execution_count": 5,
     "metadata": {},
     "output_type": "execute_result"
    }
   ],
   "source": [
    "y_train_full.shape"
   ]
  },
  {
   "cell_type": "code",
   "execution_count": 26,
   "id": "4992459f-2b8b-49c7-827b-bdef9e5917fe",
   "metadata": {},
   "outputs": [],
   "source": [
    "#이거를 8:2로 나눌거야\n",
    "from sklearn.model_selection import train_test_split\n",
    "X_train, X_validation, y_train, y_validation = train_test_split(X_train_full, y_train_full, test_size=.2)"
   ]
  },
  {
   "cell_type": "code",
   "execution_count": 7,
   "id": "380ac6f7-7e78-4890-94b2-529f9d617651",
   "metadata": {},
   "outputs": [],
   "source": [
    "import matplotlib.pyplot as plt"
   ]
  },
  {
   "cell_type": "raw",
   "id": "af32d0a5-1063-4b79-aa9c-53097f61fba6",
   "metadata": {},
   "source": [
    "https://machinelearningmastery.com/how-to-develop-a-cnn-from-scratch-for-fashion-mnist-clothing-classification/"
   ]
  },
  {
   "cell_type": "code",
   "execution_count": 27,
   "id": "ae133b58-0177-44cd-8bee-6283b9a4bfbd",
   "metadata": {},
   "outputs": [
    {
     "data": {
      "text/plain": [
       "'Shirt'"
      ]
     },
     "execution_count": 27,
     "metadata": {},
     "output_type": "execute_result"
    }
   ],
   "source": [
    "#모델만들기 #tensor board깔거야:: pytorch에도 먹힘\n",
    "class_name = ['T-shirt/top'\n",
    ",'Trouser'\n",
    ",'Pullover'\n",
    ",'Dress'\n",
    ",'Coat'\n",
    ",'Sandal'\n",
    ",'Shirt'\n",
    ",'Sneaker'\n",
    ",'Bag'\n",
    ",'Ankle boot']\n",
    "\n",
    "class_name[y_train[0]]"
   ]
  },
  {
   "cell_type": "code",
   "execution_count": 9,
   "id": "8b563ff4-c576-4f63-b06a-80f3ef10647e",
   "metadata": {
    "tags": []
   },
   "outputs": [
    {
     "data": {
      "text/plain": [
       "<matplotlib.image.AxesImage at 0x1371bd33b50>"
      ]
     },
     "execution_count": 9,
     "metadata": {},
     "output_type": "execute_result"
    },
    {
     "data": {
      "image/png": "[encoded data removed]",
      "text/plain": [
       "<Figure size 432x288 with 1 Axes>"
      ]
     },
     "metadata": {
      "needs_background": "light"
     },
     "output_type": "display_data"
    }
   ],
   "source": [
    "plt.imshow(X_train[0])"
   ]
  },
  {
   "cell_type": "code",
   "execution_count": 10,
   "id": "dc49358f-1efe-42f2-b428-30e437d306c2",
   "metadata": {},
   "outputs": [
    {
     "data": {
      "text/plain": [
       "(48000, 28, 28)"
      ]
     },
     "execution_count": 10,
     "metadata": {},
     "output_type": "execute_result"
    }
   ],
   "source": [
    "X_train.shape"
   ]
  },
  {
   "cell_type": "code",
   "execution_count": 28,
   "id": "488d45c2-ff35-4384-a830-11d857662e15",
   "metadata": {},
   "outputs": [],
   "source": [
    "from keras.models import Sequential\n",
    "from keras.layers import Flatten, Dense\n",
    "\n",
    "model1 = Sequential()\n",
    "model1.add(Dense(300,activation='relu',input_shape=(28*28,)))\n",
    "model1.add(Dense(100,activation='relu'))\n",
    "model1.add(Dense(10,activation='softmax'))"
   ]
  },
  {
   "cell_type": "code",
   "execution_count": 12,
   "id": "be5b6758-7874-46db-83e1-c5e54ce46dba",
   "metadata": {},
   "outputs": [
    {
     "name": "stdout",
     "output_type": "stream",
     "text": [
      "Model: \"sequential\"\n",
      "_________________________________________________________________\n",
      " Layer (type)                Output Shape              Param #   \n",
      "=================================================================\n",
      " dense (Dense)               (None, 300)               235500    \n",
      "                                                                 \n",
      " dense_1 (Dense)             (None, 100)               30100     \n",
      "                                                                 \n",
      " dense_2 (Dense)             (None, 10)                1010      \n",
      "                                                                 \n",
      "=================================================================\n",
      "Total params: 266,610\n",
      "Trainable params: 266,610\n",
      "Non-trainable params: 0\n",
      "_________________________________________________________________\n"
     ]
    }
   ],
   "source": [
    "model1.summary()"
   ]
  },
  {
   "cell_type": "code",
   "execution_count": 13,
   "id": "222b6f9d-3ac1-4a9e-9461-2d6ad385fd2d",
   "metadata": {
    "tags": []
   },
   "outputs": [
    {
     "data": {
      "text/plain": [
       "['ELU',\n",
       " 'InputSpec',\n",
       " 'Layer',\n",
       " 'LeakyReLU',\n",
       " 'PReLU',\n",
       " 'ReLU',\n",
       " 'Softmax',\n",
       " 'ThresholdedReLU',\n",
       " '_TF_ACTIVATIONS_V2',\n",
       " '__builtins__',\n",
       " '__cached__',\n",
       " '__doc__',\n",
       " '__file__',\n",
       " '__loader__',\n",
       " '__name__',\n",
       " '__package__',\n",
       " '__spec__',\n",
       " '_large_compatible_negative',\n",
       " 'advanced_activations',\n",
       " 'backend',\n",
       " 'constraints',\n",
       " 'deserialize',\n",
       " 'deserialize_keras_object',\n",
       " 'elu',\n",
       " 'exponential',\n",
       " 'gelu',\n",
       " 'get',\n",
       " 'get_globals',\n",
       " 'hard_sigmoid',\n",
       " 'initializers',\n",
       " 'keras_export',\n",
       " 'leaky_relu',\n",
       " 'linear',\n",
       " 'log_softmax',\n",
       " 'regularizers',\n",
       " 'relu',\n",
       " 'relu6',\n",
       " 'selu',\n",
       " 'serialize',\n",
       " 'serialize_keras_object',\n",
       " 'sigmoid',\n",
       " 'silu',\n",
       " 'softmax',\n",
       " 'softplus',\n",
       " 'softsign',\n",
       " 'swish',\n",
       " 'tanh',\n",
       " 'tf',\n",
       " 'tf_utils']"
      ]
     },
     "execution_count": 13,
     "metadata": {},
     "output_type": "execute_result"
    }
   ],
   "source": [
    "from keras import activations\n",
    "\n",
    "dir(activations)"
   ]
  },
  {
   "cell_type": "code",
   "execution_count": 14,
   "id": "bfb46153-64c0-4b1a-9659-3c4b593be8bb",
   "metadata": {},
   "outputs": [],
   "source": [
    "model2 = keras.models.Sequential()\n",
    "model2.add(keras.layers.Dense(300,keras.activations.relu,input_shape=(28*28,))) #activ 이렇게 받으면 lr조절 가능(늘릴 수 있음)\n",
    "model2.add(keras.layers.Dense(100,keras.activations.relu)) \n",
    "model2.add(keras.layers.Dense(10,keras.activations.softmax))"
   ]
  },
  {
   "cell_type": "code",
   "execution_count": 15,
   "id": "1fac0ec1-a0ec-4342-b63f-9ecc92697c38",
   "metadata": {
    "tags": []
   },
   "outputs": [
    {
     "data": {
      "text/plain": [
       "['Optimizer',\n",
       " 'TFOptimizer',\n",
       " '__builtins__',\n",
       " '__cached__',\n",
       " '__doc__',\n",
       " '__file__',\n",
       " '__loader__',\n",
       " '__name__',\n",
       " '__package__',\n",
       " '__spec__',\n",
       " 'adadelta_experimental',\n",
       " 'adadelta_v2',\n",
       " 'adagrad_experimental',\n",
       " 'adagrad_v2',\n",
       " 'adam_experimental',\n",
       " 'adam_v2',\n",
       " 'adamax_v2',\n",
       " 'backend',\n",
       " 'deserialize',\n",
       " 'deserialize_keras_object',\n",
       " 'ftrl',\n",
       " 'get',\n",
       " 'gradient_descent_v2',\n",
       " 'keras_export',\n",
       " 'nadam_v2',\n",
       " 'optimizer_experimental',\n",
       " 'optimizer_v2',\n",
       " 'rmsprop_v2',\n",
       " 'serialize',\n",
       " 'serialize_keras_object',\n",
       " 'sgd_experimental',\n",
       " 'tf']"
      ]
     },
     "execution_count": 15,
     "metadata": {},
     "output_type": "execute_result"
    }
   ],
   "source": [
    "from keras import optimizers\n",
    "\n",
    "dir(optimizers)"
   ]
  },
  {
   "cell_type": "code",
   "execution_count": 16,
   "id": "04c5920c-93c2-44da-aa86-d4034f788311",
   "metadata": {},
   "outputs": [],
   "source": [
    "model2.compile(optimizer=keras.optimizers.SGD(learning_rate=0.001),\n",
    "               loss=keras.losses.CategoricalCrossentropy(), \n",
    "               metrics=['accuracy'])"
   ]
  },
  {
   "cell_type": "code",
   "execution_count": 17,
   "id": "101bc1b7-9104-4b38-8a13-64d58e333fe8",
   "metadata": {
    "tags": []
   },
   "outputs": [],
   "source": [
    "#배치사이즈 때문에 바꿔준다 #한번 하고 fit만 다시 돌릴거면 주석 처리해야 사이즈가 맞을거임\n",
    "X_train = X_train.reshape(-1,28*28)\n",
    "X_validation = X_validation.reshape(-1,28*28)\n",
    "#y_train은 원핫으로 바꿔준다\n",
    "y_train = keras.utils.to_categorical(y_train)\n",
    "y_validation = keras.utils.to_categorical(y_validation)"
   ]
  },
  {
   "cell_type": "code",
   "execution_count": 18,
   "id": "18056c17-3cb1-4948-ad7e-82f55bd64f0c",
   "metadata": {
    "tags": []
   },
   "outputs": [
    {
     "name": "stdout",
     "output_type": "stream",
     "text": [
      "Epoch 1/20\n",
      "120/120 [==============================] - 1s 4ms/step - loss: 27.9421 - accuracy: 0.5754 - val_loss: 1.1175 - val_accuracy: 0.6770\n",
      "Epoch 2/20\n",
      "120/120 [==============================] - 0s 3ms/step - loss: 0.9488 - accuracy: 0.6996 - val_loss: 0.8917 - val_accuracy: 0.7167\n",
      "Epoch 3/20\n",
      "120/120 [==============================] - 0s 3ms/step - loss: 0.8016 - accuracy: 0.7342 - val_loss: 0.8145 - val_accuracy: 0.7419\n",
      "Epoch 4/20\n",
      "120/120 [==============================] - 0s 4ms/step - loss: 0.7354 - accuracy: 0.7509 - val_loss: 0.7649 - val_accuracy: 0.7573\n",
      "Epoch 5/20\n",
      "120/120 [==============================] - 0s 4ms/step - loss: 0.6873 - accuracy: 0.7641 - val_loss: 0.7306 - val_accuracy: 0.7632\n",
      "Epoch 6/20\n",
      "120/120 [==============================] - 0s 3ms/step - loss: 0.6541 - accuracy: 0.7750 - val_loss: 0.7006 - val_accuracy: 0.7708\n",
      "Epoch 7/20\n",
      "120/120 [==============================] - 0s 3ms/step - loss: 0.6316 - accuracy: 0.7812 - val_loss: 0.6859 - val_accuracy: 0.7690\n",
      "Epoch 8/20\n",
      "120/120 [==============================] - 0s 3ms/step - loss: 0.6090 - accuracy: 0.7874 - val_loss: 0.6692 - val_accuracy: 0.7693\n",
      "Epoch 9/20\n",
      "120/120 [==============================] - 0s 3ms/step - loss: 0.5909 - accuracy: 0.7909 - val_loss: 0.6522 - val_accuracy: 0.7818\n",
      "Epoch 10/20\n",
      "120/120 [==============================] - 0s 3ms/step - loss: 0.5759 - accuracy: 0.7973 - val_loss: 0.6654 - val_accuracy: 0.7657\n",
      "Epoch 11/20\n",
      "120/120 [==============================] - 0s 3ms/step - loss: 0.5642 - accuracy: 0.8000 - val_loss: 0.6317 - val_accuracy: 0.7892\n",
      "Epoch 12/20\n",
      "120/120 [==============================] - 0s 3ms/step - loss: 0.5527 - accuracy: 0.8035 - val_loss: 0.6185 - val_accuracy: 0.7936\n",
      "Epoch 13/20\n",
      "120/120 [==============================] - 0s 3ms/step - loss: 0.5433 - accuracy: 0.8051 - val_loss: 0.6071 - val_accuracy: 0.7957\n",
      "Epoch 14/20\n",
      "120/120 [==============================] - 0s 3ms/step - loss: 0.5321 - accuracy: 0.8091 - val_loss: 0.6009 - val_accuracy: 0.7965\n",
      "Epoch 15/20\n",
      "120/120 [==============================] - 0s 4ms/step - loss: 0.5230 - accuracy: 0.8117 - val_loss: 0.5968 - val_accuracy: 0.8018\n",
      "Epoch 16/20\n",
      "120/120 [==============================] - 0s 3ms/step - loss: 0.5164 - accuracy: 0.8131 - val_loss: 0.5836 - val_accuracy: 0.8029\n",
      "Epoch 17/20\n",
      "120/120 [==============================] - 0s 3ms/step - loss: 0.5061 - accuracy: 0.8179 - val_loss: 0.5913 - val_accuracy: 0.8050\n",
      "Epoch 18/20\n",
      "120/120 [==============================] - 0s 3ms/step - loss: 0.5006 - accuracy: 0.8202 - val_loss: 0.5734 - val_accuracy: 0.8054\n",
      "Epoch 19/20\n",
      "120/120 [==============================] - 0s 3ms/step - loss: 0.4945 - accuracy: 0.8209 - val_loss: 0.5667 - val_accuracy: 0.8058\n",
      "Epoch 20/20\n",
      "120/120 [==============================] - 0s 4ms/step - loss: 0.4884 - accuracy: 0.8234 - val_loss: 0.5642 - val_accuracy: 0.8102\n"
     ]
    },
    {
     "data": {
      "text/plain": [
       "<keras.callbacks.History at 0x1371e0eec70>"
      ]
     },
     "execution_count": 18,
     "metadata": {},
     "output_type": "execute_result"
    }
   ],
   "source": [
    "model2.fit(X_train,\n",
    "          y_train,\n",
    "          epochs=20,\n",
    "          batch_size=400,\n",
    "          validation_data=(X_validation,y_validation))"
   ]
  },
  {
   "cell_type": "code",
   "execution_count": 19,
   "id": "7e38f018-5c64-4a3f-8efb-11375dbf43a8",
   "metadata": {},
   "outputs": [
    {
     "name": "stdout",
     "output_type": "stream",
     "text": [
      "Model: \"sequential_2\"\n",
      "_________________________________________________________________\n",
      " Layer (type)                Output Shape              Param #   \n",
      "=================================================================\n",
      " flatten (Flatten)           (None, 784)               0         \n",
      "                                                                 \n",
      " dense_6 (Dense)             (None, 300)               235500    \n",
      "                                                                 \n",
      " dense_7 (Dense)             (None, 100)               30100     \n",
      "                                                                 \n",
      " dense_8 (Dense)             (None, 10)                1010      \n",
      "                                                                 \n",
      "=================================================================\n",
      "Total params: 266,610\n",
      "Trainable params: 266,610\n",
      "Non-trainable params: 0\n",
      "_________________________________________________________________\n"
     ]
    }
   ],
   "source": [
    "model2 = keras.models.Sequential()\n",
    "model2.add(keras.layers.Flatten(input_shape=([28,28])))\n",
    "model2.add(keras.layers.Dense(300,keras.activations.relu)) \n",
    "model2.add(keras.layers.Dense(100,keras.activations.relu)) \n",
    "model2.add(keras.layers.Dense(10,keras.activations.softmax))\n",
    "           \n",
    "model2.summary()"
   ]
  },
  {
   "cell_type": "markdown",
   "id": "9d93a854-e314-4f0f-affc-1d8e37a22c57",
   "metadata": {},
   "source": [
    "## model3"
   ]
  },
  {
   "cell_type": "code",
   "execution_count": 33,
   "id": "2535d374-5015-4f6e-93a3-f465ea7b3d0a",
   "metadata": {},
   "outputs": [],
   "source": [
    "(X_train_full, y_train_full), (X_test,y_test) = fashion_mnist.load_data()\n",
    "X_train, X_validation, y_train, y_validation = train_test_split(X_train_full, y_train_full, \n",
    "                                                                test_size=0.2)\n",
    "class_name =['T-shirt/top'\n",
    ",'Trouser'\n",
    ",'Pullover'\n",
    ",'Dress'\n",
    ",'Coat'\n",
    ",'Sandal'\n",
    ",'Shirt'\n",
    ",'Sneaker'\n",
    ",'Bag'\n",
    ",'Ankle boot']\n",
    "\n"
   ]
  },
  {
   "cell_type": "code",
   "execution_count": 34,
   "id": "ef9a52a7-c9c4-4e22-919f-c1f5e30c361e",
   "metadata": {},
   "outputs": [],
   "source": [
    "model3.compile(optimizer=keras.optimizers.SGD(learning_rate=0.001),\n",
    "              loss=keras.losses.CategoricalCrossentropy(),\n",
    "              metrics=['accuracy'])"
   ]
  },
  {
   "cell_type": "code",
   "execution_count": 35,
   "id": "93ca58cb-c2a6-491b-be38-d3d63f98d9d5",
   "metadata": {},
   "outputs": [],
   "source": [
    "#마지막이 10이니깐 바꿔줘야지\n",
    "y_train = keras.utils.to_categorical(y_train)\n",
    "y_validation = keras.utils.to_categorical(y_validation)"
   ]
  },
  {
   "cell_type": "code",
   "execution_count": 36,
   "id": "25d6d892-a9c6-4886-95a7-57455570edef",
   "metadata": {
    "tags": []
   },
   "outputs": [
    {
     "name": "stdout",
     "output_type": "stream",
     "text": [
      "Epoch 1/20\n",
      "120/120 [==============================] - 1s 4ms/step - loss: 0.5215 - accuracy: 0.8164 - val_loss: 0.5155 - val_accuracy: 0.8185\n",
      "Epoch 2/20\n",
      "120/120 [==============================] - 0s 3ms/step - loss: 0.5132 - accuracy: 0.8178 - val_loss: 0.5116 - val_accuracy: 0.8200\n",
      "Epoch 3/20\n",
      "120/120 [==============================] - 0s 3ms/step - loss: 0.5027 - accuracy: 0.8216 - val_loss: 0.5113 - val_accuracy: 0.8180\n",
      "Epoch 4/20\n",
      "120/120 [==============================] - 0s 4ms/step - loss: 0.4953 - accuracy: 0.8224 - val_loss: 0.5110 - val_accuracy: 0.8190\n",
      "Epoch 5/20\n",
      "120/120 [==============================] - 0s 3ms/step - loss: 0.4892 - accuracy: 0.8241 - val_loss: 0.5099 - val_accuracy: 0.8202\n",
      "Epoch 6/20\n",
      "120/120 [==============================] - 0s 4ms/step - loss: 0.4821 - accuracy: 0.8265 - val_loss: 0.5073 - val_accuracy: 0.8213\n",
      "Epoch 7/20\n",
      "120/120 [==============================] - 0s 3ms/step - loss: 0.4745 - accuracy: 0.8307 - val_loss: 0.4999 - val_accuracy: 0.8227\n",
      "Epoch 8/20\n",
      "120/120 [==============================] - 0s 3ms/step - loss: 0.4696 - accuracy: 0.8312 - val_loss: 0.5097 - val_accuracy: 0.8201\n",
      "Epoch 9/20\n",
      "120/120 [==============================] - 0s 3ms/step - loss: 0.4635 - accuracy: 0.8326 - val_loss: 0.5012 - val_accuracy: 0.8231\n",
      "Epoch 10/20\n",
      "120/120 [==============================] - 0s 3ms/step - loss: 0.4604 - accuracy: 0.8337 - val_loss: 0.4984 - val_accuracy: 0.8251\n",
      "Epoch 11/20\n",
      "120/120 [==============================] - 0s 3ms/step - loss: 0.4547 - accuracy: 0.8360 - val_loss: 0.4962 - val_accuracy: 0.8243\n",
      "Epoch 12/20\n",
      "120/120 [==============================] - 0s 3ms/step - loss: 0.4511 - accuracy: 0.8357 - val_loss: 0.5036 - val_accuracy: 0.8207\n",
      "Epoch 13/20\n",
      "120/120 [==============================] - 0s 4ms/step - loss: 0.4457 - accuracy: 0.8372 - val_loss: 0.5007 - val_accuracy: 0.8223\n",
      "Epoch 14/20\n",
      "120/120 [==============================] - 0s 4ms/step - loss: 0.4424 - accuracy: 0.8390 - val_loss: 0.4881 - val_accuracy: 0.8287\n",
      "Epoch 15/20\n",
      "120/120 [==============================] - 0s 3ms/step - loss: 0.4389 - accuracy: 0.8403 - val_loss: 0.4881 - val_accuracy: 0.8293\n",
      "Epoch 16/20\n",
      "120/120 [==============================] - 0s 4ms/step - loss: 0.4331 - accuracy: 0.8428 - val_loss: 0.4871 - val_accuracy: 0.8284\n",
      "Epoch 17/20\n",
      "120/120 [==============================] - 0s 3ms/step - loss: 0.4299 - accuracy: 0.8432 - val_loss: 0.4880 - val_accuracy: 0.8270\n",
      "Epoch 18/20\n",
      "120/120 [==============================] - 0s 3ms/step - loss: 0.4263 - accuracy: 0.8451 - val_loss: 0.4831 - val_accuracy: 0.8290\n",
      "Epoch 19/20\n",
      "120/120 [==============================] - 0s 3ms/step - loss: 0.4226 - accuracy: 0.8459 - val_loss: 0.4812 - val_accuracy: 0.8300\n",
      "Epoch 20/20\n",
      "120/120 [==============================] - 0s 4ms/step - loss: 0.4205 - accuracy: 0.8448 - val_loss: 0.4892 - val_accuracy: 0.8270\n"
     ]
    },
    {
     "data": {
      "text/plain": [
       "<keras.callbacks.History at 0x137174afc40>"
      ]
     },
     "execution_count": 36,
     "metadata": {},
     "output_type": "execute_result"
    }
   ],
   "source": [
    "model3.fit(X_train,\n",
    "           y_train,\n",
    "           epochs=20,\n",
    "           batch_size=400,\n",
    "           validation_data=(X_validation,y_validation))"
   ]
  },
  {
   "cell_type": "code",
   "execution_count": 37,
   "id": "61aa93e8-4684-4526-9587-b0138c8dfe39",
   "metadata": {},
   "outputs": [
    {
     "name": "stdout",
     "output_type": "stream",
     "text": [
      "Model: \"sequential_6\"\n",
      "_________________________________________________________________\n",
      " Layer (type)                Output Shape              Param #   \n",
      "=================================================================\n",
      " flatten_3 (Flatten)         (None, 784)               0         \n",
      "                                                                 \n",
      " dense_18 (Dense)            (None, 300)               235500    \n",
      "                                                                 \n",
      " dense_19 (Dense)            (None, 100)               30100     \n",
      "                                                                 \n",
      " dense_20 (Dense)            (None, 10)                1010      \n",
      "                                                                 \n",
      "=================================================================\n",
      "Total params: 266,610\n",
      "Trainable params: 266,610\n",
      "Non-trainable params: 0\n",
      "_________________________________________________________________\n"
     ]
    }
   ],
   "source": [
    "model3 = Sequential(\n",
    "    [\n",
    "        keras.layers.Flatten(input_shape=([28,28])),\n",
    "        keras.layers.Dense(300,keras.activations.relu),\n",
    "        keras.layers.Dense(100,keras.activations.relu),\n",
    "        keras.layers.Dense(10,keras.activations.softmax)\n",
    "    ]\n",
    ")\n",
    "\n",
    "model3.summary()"
   ]
  },
  {
   "cell_type": "code",
   "execution_count": null,
   "id": "e4471016-e7cc-4a8b-b9ac-847bc98f3fdb",
   "metadata": {},
   "outputs": [],
   "source": []
  }
 ],
 "metadata": {
  "kernelspec": {
   "display_name": "Python 3 (ipykernel)",
   "language": "python",
   "name": "python3"
  },
  "language_info": {
   "codemirror_mode": {
    "name": "ipython",
    "version": 3
   },
   "file_extension": ".py",
   "mimetype": "text/x-python",
   "name": "python",
   "nbconvert_exporter": "python",
   "pygments_lexer": "ipython3",
   "version": "3.9.7"
  }
 },
 "nbformat": 4,
 "nbformat_minor": 5
}
