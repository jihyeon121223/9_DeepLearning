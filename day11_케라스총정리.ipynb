{
 "cells": [
  {
   "cell_type": "raw",
   "id": "09765e58-0eb2-4217-8187-4c381e78b5d8",
   "metadata": {},
   "source": [
    "#가상환경에 그래프 깔기\n",
    "conda activate keras\n",
    "pip install matplotlib"
   ]
  },
  {
   "cell_type": "raw",
   "id": "6fe99b41-8e8f-4282-84a4-ee8a27296cc2",
   "metadata": {},
   "source": [
    "교재 p.151,\n",
    "https://github.com/gilbutITbook/006975/blob/master/4.4-overfitting-and-underfitting.ipynb #여기에 어떻게 해석해야하는지 다 나와있음"
   ]
  },
  {
   "cell_type": "raw",
   "id": "de7dbd1e-feaf-4b06-aff7-86b5e69b2402",
   "metadata": {},
   "source": [
    "### preprocessing 전처리 과정\n",
    "0. 단어 UNIQUE -full_text --> unique\n",
    "1. word_index 만들기 (정수인덱스: 사전단어)\n",
    "2. index_word 만들기 (사전숫자: 정수인덱스)\n",
    "3. X에 대해 정수 인코딩(유니크)\n",
    "4. X, y를 나누기 8:2 (시그모이드 쓸거면 원핫 없이 정수 그대로) X_train, y_train, X_test, y_test (8:2)\n",
    "5. X_train, y_train, X_val, y_val (8:2) 를 만들기\n",
    "6. 원핫 X_train, val, test ==> one hot\n",
    "\n",
    "### 모델만들기\n",
    "### 모델컴파일\n",
    "### 학습\n",
    "### 테스트\n",
    "### 모델 활용(다른 사이트거 들고와서 위에서 분석한 결과로 새로운 결과를 도출하는지확인)"
   ]
  },
  {
   "cell_type": "raw",
   "id": "d3ec40dd-8ad2-4f5a-b7f5-9ce2cec7dc9c",
   "metadata": {},
   "source": [
    "모듈임포트\n",
    "#keras :: 네트워크를 잘 묶음"
   ]
  },
  {
   "cell_type": "code",
   "execution_count": 27,
   "id": "5f544741-3e58-4504-b9b8-f3b5d503f76e",
   "metadata": {},
   "outputs": [],
   "source": [
    "from keras.datasets import imdb\n",
    "import numpy as np\n",
    "from keras.models import Sequential #한 방향으로 쭉 연결\n",
    "from keras.layers import Dense, Dropout\n",
    "\n",
    "import matplotlib.pyplot as plt"
   ]
  },
  {
   "cell_type": "raw",
   "id": "f4f075c9-f3eb-4d6d-a4bd-c6740f22e221",
   "metadata": {},
   "source": [
    "데이터정리"
   ]
  },
  {
   "cell_type": "raw",
   "id": "7f912eb7-766b-442a-ab79-bc82824cf468",
   "metadata": {},
   "source": [
    "https://lsjsj92.tistory.com/545 #train, val, test 나누는 이유"
   ]
  },
  {
   "cell_type": "code",
   "execution_count": 2,
   "id": "76d77419-82a8-49aa-8bf1-444d721fbc99",
   "metadata": {},
   "outputs": [],
   "source": [
    "(train_data, train_labels), (test_data, test_labels) = imdb.load_data(num_words=5000)\n",
    "\n",
    "def vectorize_sequences(sequences, dimension=10000):\n",
    "    # 크기가 (len(sequences), dimension))이고 모든 원소가 0인 행렬을 만듭니다\n",
    "    results = np.zeros((len(sequences), dimension))\n",
    "    for i, sequence in enumerate(sequences):\n",
    "        results[i, sequence] = 1.  # results[i]에서 특정 인덱스의 위치를 1로 만듭니다\n",
    "    return results\n",
    "\n",
    "# 훈련 데이터를 벡터로 변환합니다\n",
    "X_train = vectorize_sequences(train_data)\n",
    "# 테스트 데이터를 벡터로 변환합니다\n",
    "X_test = vectorize_sequences(test_data)\n",
    "# 레이블을 벡터로 변환합니다\n",
    "y_train = np.asarray(train_labels).astype('float32')\n",
    "y_test = np.asarray(test_labels).astype('float32')\n",
    "y_train = y_train.reshape(-1,1)\n",
    "y_train = y_train.reshape(-1,1)"
   ]
  },
  {
   "cell_type": "raw",
   "id": "0ffaa613-4fcb-4b1b-a1bb-2bed338d1da0",
   "metadata": {},
   "source": [
    "네트워크생성(모델생성)"
   ]
  },
  {
   "cell_type": "code",
   "execution_count": 3,
   "id": "9d1a5e75-a8aa-4e82-80a3-7bf7aeedc7ef",
   "metadata": {},
   "outputs": [],
   "source": [
    "input_shape = X_train.shape[1]\n",
    "output_shape = y_train.shape[1]"
   ]
  },
  {
   "cell_type": "code",
   "execution_count": 4,
   "id": "2bbf154b-cf64-4abb-bb12-d37dcc68e746",
   "metadata": {},
   "outputs": [
    {
     "name": "stdout",
     "output_type": "stream",
     "text": [
      "Model: \"sequential\"\n",
      "_________________________________________________________________\n",
      " Layer (type)                Output Shape              Param #   \n",
      "=================================================================\n",
      " dense (Dense)               (None, 16)                160016    \n",
      "                                                                 \n",
      " dense_1 (Dense)             (None, 16)                272       \n",
      "                                                                 \n",
      " dense_2 (Dense)             (None, 1)                 17        \n",
      "                                                                 \n",
      "=================================================================\n",
      "Total params: 160,305\n",
      "Trainable params: 160,305\n",
      "Non-trainable params: 0\n",
      "_________________________________________________________________\n"
     ]
    }
   ],
   "source": [
    "original_model = Sequential()\n",
    "original_model.add(Dense(16,activation='relu',input_shape=(input_shape,))) #16=다음층\n",
    "original_model.add(Dense(16,activation='relu'))\n",
    "original_model.add(Dense(output_shape,activation='sigmoid'))\n",
    "\n",
    "original_model.summary()"
   ]
  },
  {
   "cell_type": "raw",
   "id": "997f99b4-4490-469f-bd27-d4fcf970649c",
   "metadata": {},
   "source": [
    "모델설정"
   ]
  },
  {
   "cell_type": "code",
   "execution_count": 5,
   "id": "1b9cdd1d-0d46-4e55-bf8f-ca391b534d51",
   "metadata": {},
   "outputs": [],
   "source": [
    "optimizer=\"rmsprop\" #보폭줄이며 꼼꼼히 보는데 상황도 봐가면서 \n",
    "loss=\"binary_crossentropy\"\n",
    "metrics=[\"accuracy\"]\n",
    "original_model.compile(optimizer=optimizer,\n",
    "                      loss=loss,\n",
    "                      metrics=metrics)"
   ]
  },
  {
   "cell_type": "raw",
   "id": "1c0aacbd-38c8-4bc9-93b2-eaa9ae1767dc",
   "metadata": {},
   "source": [
    "모델학습 및 평가\n",
    "#validation data set 유효성 검사 데이터 :: train data의 일부를 사용하여 train한 모델이 잘 예측을 하는지 평가, 히든 유닛의수를 선택하기 위해 분류기의 매개변수를 조정하는데 사용되는 예제세트\n",
    "이유>>train data set에 대한 모델 성능 평가는 bias된 점수를 초래 // 최종 튜닝 된 모델의 기술에 대해 unbiased 모델 기술의 추정치를 제공하기 위해 validation set을 사용\n",
    "https://ebbnflow.tistory.com/125"
   ]
  },
  {
   "cell_type": "code",
   "execution_count": 6,
   "id": "3df004f3-3e9d-4bd6-8145-dc6836af90a2",
   "metadata": {
    "tags": []
   },
   "outputs": [
    {
     "name": "stdout",
     "output_type": "stream",
     "text": [
      "Epoch 1/20\n",
      "49/49 [==============================] - 2s 34ms/step - loss: 0.4712 - accuracy: 0.8102 - val_loss: 0.3449 - val_accuracy: 0.8752\n",
      "Epoch 2/20\n",
      "49/49 [==============================] - 1s 20ms/step - loss: 0.2844 - accuracy: 0.8968 - val_loss: 0.2952 - val_accuracy: 0.8838\n",
      "Epoch 3/20\n",
      "49/49 [==============================] - 1s 21ms/step - loss: 0.2366 - accuracy: 0.9103 - val_loss: 0.3197 - val_accuracy: 0.8685\n",
      "Epoch 4/20\n",
      "49/49 [==============================] - 1s 20ms/step - loss: 0.2114 - accuracy: 0.9205 - val_loss: 0.2929 - val_accuracy: 0.8821\n",
      "Epoch 5/20\n",
      "49/49 [==============================] - 1s 20ms/step - loss: 0.1911 - accuracy: 0.9287 - val_loss: 0.3049 - val_accuracy: 0.8790\n",
      "Epoch 6/20\n",
      "49/49 [==============================] - 1s 21ms/step - loss: 0.1766 - accuracy: 0.9344 - val_loss: 0.3153 - val_accuracy: 0.8770\n",
      "Epoch 7/20\n",
      "49/49 [==============================] - 1s 20ms/step - loss: 0.1688 - accuracy: 0.9352 - val_loss: 0.3268 - val_accuracy: 0.8771\n",
      "Epoch 8/20\n",
      "49/49 [==============================] - 1s 20ms/step - loss: 0.1526 - accuracy: 0.9437 - val_loss: 0.3455 - val_accuracy: 0.8734\n",
      "Epoch 9/20\n",
      "49/49 [==============================] - 1s 20ms/step - loss: 0.1448 - accuracy: 0.9472 - val_loss: 0.3541 - val_accuracy: 0.8722\n",
      "Epoch 10/20\n",
      "49/49 [==============================] - 1s 20ms/step - loss: 0.1348 - accuracy: 0.9499 - val_loss: 0.3740 - val_accuracy: 0.8681\n",
      "Epoch 11/20\n",
      "49/49 [==============================] - 1s 20ms/step - loss: 0.1254 - accuracy: 0.9537 - val_loss: 0.4466 - val_accuracy: 0.8514\n",
      "Epoch 12/20\n",
      "49/49 [==============================] - 1s 20ms/step - loss: 0.1141 - accuracy: 0.9595 - val_loss: 0.4510 - val_accuracy: 0.8526\n",
      "Epoch 13/20\n",
      "49/49 [==============================] - 1s 20ms/step - loss: 0.1036 - accuracy: 0.9647 - val_loss: 0.4408 - val_accuracy: 0.8610\n",
      "Epoch 14/20\n",
      "49/49 [==============================] - 1s 20ms/step - loss: 0.0957 - accuracy: 0.9674 - val_loss: 0.4589 - val_accuracy: 0.8586\n",
      "Epoch 15/20\n",
      "49/49 [==============================] - 1s 21ms/step - loss: 0.0852 - accuracy: 0.9712 - val_loss: 0.4966 - val_accuracy: 0.8532\n",
      "Epoch 16/20\n",
      "49/49 [==============================] - 1s 20ms/step - loss: 0.0784 - accuracy: 0.9746 - val_loss: 0.5015 - val_accuracy: 0.8548\n",
      "Epoch 17/20\n",
      "49/49 [==============================] - 1s 20ms/step - loss: 0.0687 - accuracy: 0.9784 - val_loss: 0.5082 - val_accuracy: 0.8565\n",
      "Epoch 18/20\n",
      "49/49 [==============================] - 1s 20ms/step - loss: 0.0631 - accuracy: 0.9810 - val_loss: 0.5115 - val_accuracy: 0.8569\n",
      "Epoch 19/20\n",
      "49/49 [==============================] - 1s 22ms/step - loss: 0.0524 - accuracy: 0.9851 - val_loss: 0.5288 - val_accuracy: 0.8560\n",
      "Epoch 20/20\n",
      "49/49 [==============================] - 1s 20ms/step - loss: 0.0495 - accuracy: 0.9866 - val_loss: 0.5518 - val_accuracy: 0.8566\n"
     ]
    },
    {
     "data": {
      "text/plain": [
       "<keras.callbacks.History at 0x1aa90a8db50>"
      ]
     },
     "execution_count": 6,
     "metadata": {},
     "output_type": "execute_result"
    }
   ],
   "source": [
    "epochs=20 #100문항일 때, 100문항의 문제들을 몇 번이나 반복해서 풀어보는 지\n",
    "batch_size=512 #몇 문항을 풀고 해답을 맞추는 지 #100문항일 때, 배치사이즈가 100이면 전체를 다 풀고 난 뒤에 해답을 맞춰보는 것(기억용량이 커야함) #=1이면 한 문제 풀고 해답 맞춰보고 또 한 문제 풀고 맞춰보고 가중치갱신(오래걸림)\n",
    "validation_data=(X_test,y_test)\n",
    "original_model.fit(X_train,y_train,\n",
    "                  epochs=epochs,\n",
    "                  batch_size=batch_size,\n",
    "                  validation_data=validation_data) #validation_data :: loss와 model의 metrics(보통 accuracy)를 평가하기위해 사용, 6:2:2 에서 2를 차지하며 오버피팅방지 위함\n",
    "#모델의 결과값과 주어진 라벨 값과의 오차를 줄이기 위해, `역전파(Backpropagation)` 알고리즘으로 가중치가 갱신 #전체 문제를 푼 뒤 해답과 맞추므로 이 때 가중치 갱신은 한 번"
   ]
  },
  {
   "cell_type": "code",
   "execution_count": 7,
   "id": "307255c0-362a-488d-93e7-264b8122aef2",
   "metadata": {},
   "outputs": [
    {
     "name": "stdout",
     "output_type": "stream",
     "text": [
      "782/782 [==============================] - 1s 790us/step - loss: 0.5518 - accuracy: 0.8566\n"
     ]
    },
    {
     "data": {
      "text/plain": [
       "[0.5518185496330261, 0.8565599918365479]"
      ]
     },
     "execution_count": 7,
     "metadata": {},
     "output_type": "execute_result"
    }
   ],
   "source": [
    "original_model.evaluate(X_test,y_test)"
   ]
  },
  {
   "cell_type": "code",
   "execution_count": null,
   "id": "d03c4193-d760-4aaa-9100-1fa30effa256",
   "metadata": {},
   "outputs": [],
   "source": [
    "결과: 20번의 학습을 통해 loss : 훈련 손실값 는 줄어들고, acc : 훈련 정확도 는 높아졌으며, val_loss : 검증 손실값 는 높아졌으며, val_acc : 검증 정확도 는 줄어들었다."
   ]
  },
  {
   "cell_type": "code",
   "execution_count": 49,
   "id": "650ac4cb-3df6-4c9a-8bb4-dad23231f3ed",
   "metadata": {},
   "outputs": [
    {
     "data": {
      "image/png": "[encoded data removed]",
      "text/plain": [
       "<Figure size 432x288 with 1 Axes>"
      ]
     },
     "metadata": {
      "needs_background": "light"
     },
     "output_type": "display_data"
    }
   ],
   "source": [
    "#original_model결과 해석을 시각화 해보기\n",
    "\n",
    "original_model.history.history.keys()\n",
    "range(len(original_model.history.history['loss']))\n",
    "plt.plot(range(0,20),original_model.history.history['loss'],label='loss') #loss\n",
    "plt.plot(range(0,20),original_model.history.history['accuracy'],label='accuracy')\n",
    "plt.plot(range(0,20),original_model.history.history['val_loss'],label='val_loss') \n",
    "plt.plot(range(0,20),original_model.history.history['val_accuracy'],label='val_accuracy')\n",
    "\n",
    "plt.title('Training and validation loss')\n",
    "plt.xlabel('Epochs')\n",
    "plt.ylabel('Loss')\n",
    "plt.legend()\n",
    "\n",
    "plt.show() "
   ]
  },
  {
   "cell_type": "raw",
   "id": "826d732f-2e9e-4a2d-90dc-6d3a3b5861d1",
   "metadata": {},
   "source": [
    "모델활용"
   ]
  },
  {
   "cell_type": "code",
   "execution_count": 39,
   "id": "f2232a63-7528-4934-a203-73bffff94809",
   "metadata": {},
   "outputs": [
    {
     "name": "stdout",
     "output_type": "stream",
     "text": [
      "Epoch 1/20\n",
      "49/49 [==============================] - 2s 27ms/step - loss: 0.5942 - accuracy: 0.6933 - val_loss: 0.5312 - val_accuracy: 0.7912\n",
      "Epoch 2/20\n",
      "49/49 [==============================] - 1s 19ms/step - loss: 0.4924 - accuracy: 0.8389 - val_loss: 0.4829 - val_accuracy: 0.8458\n",
      "Epoch 3/20\n",
      "49/49 [==============================] - 1s 20ms/step - loss: 0.4474 - accuracy: 0.8870 - val_loss: 0.4594 - val_accuracy: 0.8742\n",
      "Epoch 4/20\n",
      "49/49 [==============================] - 1s 19ms/step - loss: 0.4192 - accuracy: 0.9058 - val_loss: 0.4540 - val_accuracy: 0.8648\n",
      "Epoch 5/20\n",
      "49/49 [==============================] - 1s 21ms/step - loss: 0.3980 - accuracy: 0.9175 - val_loss: 0.4407 - val_accuracy: 0.8779\n",
      "Epoch 6/20\n",
      "49/49 [==============================] - 1s 19ms/step - loss: 0.3792 - accuracy: 0.9274 - val_loss: 0.4479 - val_accuracy: 0.8676\n",
      "Epoch 7/20\n",
      "49/49 [==============================] - 1s 20ms/step - loss: 0.3632 - accuracy: 0.9327 - val_loss: 0.4308 - val_accuracy: 0.8762\n",
      "Epoch 8/20\n",
      "49/49 [==============================] - 1s 20ms/step - loss: 0.3492 - accuracy: 0.9354 - val_loss: 0.4362 - val_accuracy: 0.8735\n",
      "Epoch 9/20\n",
      "49/49 [==============================] - 1s 20ms/step - loss: 0.3355 - accuracy: 0.9397 - val_loss: 0.4461 - val_accuracy: 0.8692\n",
      "Epoch 10/20\n",
      "49/49 [==============================] - 1s 20ms/step - loss: 0.3230 - accuracy: 0.9434 - val_loss: 0.4522 - val_accuracy: 0.8678\n",
      "Epoch 11/20\n",
      "49/49 [==============================] - 1s 19ms/step - loss: 0.3113 - accuracy: 0.9450 - val_loss: 0.4530 - val_accuracy: 0.8668\n",
      "Epoch 12/20\n",
      "49/49 [==============================] - 1s 22ms/step - loss: 0.3002 - accuracy: 0.9476 - val_loss: 0.4550 - val_accuracy: 0.8665\n",
      "Epoch 13/20\n",
      "49/49 [==============================] - 1s 25ms/step - loss: 0.2887 - accuracy: 0.9488 - val_loss: 0.4508 - val_accuracy: 0.8647\n",
      "Epoch 14/20\n",
      "49/49 [==============================] - 1s 25ms/step - loss: 0.2696 - accuracy: 0.9520 - val_loss: 0.4235 - val_accuracy: 0.8651\n",
      "Epoch 15/20\n",
      "49/49 [==============================] - 1s 24ms/step - loss: 0.2374 - accuracy: 0.9529 - val_loss: 0.4031 - val_accuracy: 0.8632\n",
      "Epoch 16/20\n",
      "49/49 [==============================] - 1s 26ms/step - loss: 0.1998 - accuracy: 0.9550 - val_loss: 0.4055 - val_accuracy: 0.8639\n",
      "Epoch 17/20\n",
      "49/49 [==============================] - 1s 23ms/step - loss: 0.1725 - accuracy: 0.9561 - val_loss: 0.4174 - val_accuracy: 0.8636\n",
      "Epoch 18/20\n",
      "49/49 [==============================] - 1s 23ms/step - loss: 0.1589 - accuracy: 0.9566 - val_loss: 0.4200 - val_accuracy: 0.8608\n",
      "Epoch 19/20\n",
      "49/49 [==============================] - 1s 20ms/step - loss: 0.1496 - accuracy: 0.9593 - val_loss: 0.4340 - val_accuracy: 0.8596\n",
      "Epoch 20/20\n",
      "49/49 [==============================] - 1s 21ms/step - loss: 0.1448 - accuracy: 0.9604 - val_loss: 0.4459 - val_accuracy: 0.8599\n"
     ]
    },
    {
     "data": {
      "text/plain": [
       "<keras.callbacks.History at 0x1aa96698c10>"
      ]
     },
     "execution_count": 39,
     "metadata": {},
     "output_type": "execute_result"
    }
   ],
   "source": [
    "#모델 작게 해보기 #6\n",
    "small_model = Sequential()\n",
    "small_model.add(Dense(6,activation='relu',input_shape=(input_shape,)))\n",
    "small_model.add(Dense(6,activation='relu'))\n",
    "small_model.add(Dense(output_shape,activation='sigmoid'))\n",
    "\n",
    "optimizer=\"rmsprop\"\n",
    "loss=\"binary_crossentropy\"\n",
    "metrics=[\"accuracy\"]\n",
    "small_model.compile(optimizer=optimizer,\n",
    "                      loss=loss,\n",
    "                      metrics=metrics)\n",
    "\n",
    "epochs=20\n",
    "batch_size=512\n",
    "validation_data=(X_test,y_test)\n",
    "small_model.fit(X_train,y_train,\n",
    "                  epochs=epochs,\n",
    "                  batch_size=batch_size,\n",
    "                  validation_data=validation_data)"
   ]
  },
  {
   "cell_type": "raw",
   "id": "77a6de46-a0fd-4cc5-a92e-f29ab0e55987",
   "metadata": {},
   "source": [
    "결과: 20번의 학습을 통해 loss : 훈련 손실값 는 줄어들고, acc : 훈련 정확도 는 높아졌으며, val_loss : 검증 손실값 는 왔다갔다했으며, val_acc : 검증 정확도 는 줄어들었다."
   ]
  },
  {
   "cell_type": "code",
   "execution_count": 48,
   "id": "75a49c20-d09a-41d1-a4b1-c89c1517ea89",
   "metadata": {},
   "outputs": [
    {
     "data": {
      "image/png": "[encoded data removed]",
      "text/plain": [
       "<Figure size 432x288 with 1 Axes>"
      ]
     },
     "metadata": {
      "needs_background": "light"
     },
     "output_type": "display_data"
    }
   ],
   "source": [
    "#small_model결과 해석을 시각화 해보기\n",
    "small_model.history.history.keys()\n",
    "range(len(small_model.history.history['loss']))\n",
    "plt.plot(range(0,20),small_model.history.history['loss'],label='loss') #loss\n",
    "plt.plot(range(0,20),small_model.history.history['accuracy'],label='accuracy')\n",
    "plt.plot(range(0,20),small_model.history.history['val_loss'],label='val_loss') \n",
    "plt.plot(range(0,20),small_model.history.history['val_accuracy'],label='val_accuracy')\n",
    "\n",
    "plt.title('Training and validation loss')\n",
    "plt.xlabel('Epochs')\n",
    "plt.ylabel('Loss')\n",
    "plt.legend()\n",
    "\n",
    "plt.show() #오버피팅나니깐 언더피팅해주자"
   ]
  },
  {
   "cell_type": "raw",
   "id": "0cc28da8-c457-49f9-aa15-0dcf96c63ea3",
   "metadata": {},
   "source": [
    "https://otugi.tistory.com/121?category=406645 #l1,l2공식, 차이점"
   ]
  },
  {
   "cell_type": "code",
   "execution_count": 50,
   "id": "e8079feb-1e46-41db-9fb0-b837d3064c98",
   "metadata": {},
   "outputs": [
    {
     "name": "stdout",
     "output_type": "stream",
     "text": [
      "Epoch 1/20\n",
      "49/49 [==============================] - 2s 30ms/step - loss: 0.9355 - accuracy: 0.7792 - val_loss: 0.6845 - val_accuracy: 0.8363\n",
      "Epoch 2/20\n",
      "49/49 [==============================] - 1s 21ms/step - loss: 0.6324 - accuracy: 0.8454 - val_loss: 0.6020 - val_accuracy: 0.8412\n",
      "Epoch 3/20\n",
      "49/49 [==============================] - 1s 19ms/step - loss: 0.5627 - accuracy: 0.8578 - val_loss: 0.5483 - val_accuracy: 0.8601\n",
      "Epoch 4/20\n",
      "49/49 [==============================] - 1s 21ms/step - loss: 0.5376 - accuracy: 0.8616 - val_loss: 0.5304 - val_accuracy: 0.8621\n",
      "Epoch 5/20\n",
      "49/49 [==============================] - 1s 19ms/step - loss: 0.5173 - accuracy: 0.8679 - val_loss: 0.5180 - val_accuracy: 0.8657\n",
      "Epoch 6/20\n",
      "49/49 [==============================] - 1s 21ms/step - loss: 0.5100 - accuracy: 0.8688 - val_loss: 0.5110 - val_accuracy: 0.8663\n",
      "Epoch 7/20\n",
      "49/49 [==============================] - 1s 21ms/step - loss: 0.4983 - accuracy: 0.8733 - val_loss: 0.5129 - val_accuracy: 0.8635\n",
      "Epoch 8/20\n",
      "49/49 [==============================] - 1s 20ms/step - loss: 0.4901 - accuracy: 0.8746 - val_loss: 0.4978 - val_accuracy: 0.8696\n",
      "Epoch 9/20\n",
      "49/49 [==============================] - 1s 19ms/step - loss: 0.4846 - accuracy: 0.8756 - val_loss: 0.5305 - val_accuracy: 0.8526\n",
      "Epoch 10/20\n",
      "49/49 [==============================] - 1s 21ms/step - loss: 0.4766 - accuracy: 0.8780 - val_loss: 0.4833 - val_accuracy: 0.8728\n",
      "Epoch 11/20\n",
      "49/49 [==============================] - 1s 20ms/step - loss: 0.4719 - accuracy: 0.8797 - val_loss: 0.4885 - val_accuracy: 0.8719\n",
      "Epoch 12/20\n",
      "49/49 [==============================] - 1s 21ms/step - loss: 0.4626 - accuracy: 0.8849 - val_loss: 0.4739 - val_accuracy: 0.8772\n",
      "Epoch 13/20\n",
      "49/49 [==============================] - 1s 20ms/step - loss: 0.4560 - accuracy: 0.8868 - val_loss: 0.4783 - val_accuracy: 0.8741\n",
      "Epoch 14/20\n",
      "49/49 [==============================] - 1s 21ms/step - loss: 0.4522 - accuracy: 0.8876 - val_loss: 0.4749 - val_accuracy: 0.8739\n",
      "Epoch 15/20\n",
      "49/49 [==============================] - 1s 20ms/step - loss: 0.4453 - accuracy: 0.8890 - val_loss: 0.5265 - val_accuracy: 0.8512\n",
      "Epoch 16/20\n",
      "49/49 [==============================] - 1s 20ms/step - loss: 0.4401 - accuracy: 0.8904 - val_loss: 0.4826 - val_accuracy: 0.8705\n",
      "Epoch 17/20\n",
      "49/49 [==============================] - 1s 21ms/step - loss: 0.4376 - accuracy: 0.8915 - val_loss: 0.4731 - val_accuracy: 0.8716\n",
      "Epoch 18/20\n",
      "49/49 [==============================] - 1s 20ms/step - loss: 0.4331 - accuracy: 0.8934 - val_loss: 0.4648 - val_accuracy: 0.8736\n",
      "Epoch 19/20\n",
      "49/49 [==============================] - 1s 20ms/step - loss: 0.4273 - accuracy: 0.8964 - val_loss: 0.4774 - val_accuracy: 0.8728\n",
      "Epoch 20/20\n",
      "49/49 [==============================] - 1s 20ms/step - loss: 0.4240 - accuracy: 0.8984 - val_loss: 0.4767 - val_accuracy: 0.8734\n"
     ]
    },
    {
     "data": {
      "image/png": "[encoded data removed]",
      "text/plain": [
       "<Figure size 432x288 with 1 Axes>"
      ]
     },
     "metadata": {
      "needs_background": "light"
     },
     "output_type": "display_data"
    }
   ],
   "source": [
    "#overfitting을 방지 >> Regularization :: L1 regularization   #이상치가 적당히 무시되길 원할 때 #L1은 경우에 따라 특정 feature(vertor의 요소) 없이도 같은 값\n",
    "\n",
    "from keras import regularizers\n",
    "from keras.regularizers import l1 #l1을 regularizers로 씀\n",
    "\n",
    "l1_model = Sequential()\n",
    "l1_model.add(Dense(16,activation='relu',kernel_regularizer=l1(0.001),input_shape=(input_shape,)))\n",
    "l1_model.add(Dense(16,activation='relu',kernel_regularizer=l1(0.001)))\n",
    "l1_model.add(Dense(output_shape,activation='sigmoid'))\n",
    "\n",
    "optimizer=\"rmsprop\"\n",
    "loss=\"binary_crossentropy\"\n",
    "metrics=[\"accuracy\"]\n",
    "l1_model.compile(optimizer=optimizer,\n",
    "                      loss=loss,\n",
    "                      metrics=metrics)\n",
    "\n",
    "epochs=20\n",
    "batch_size=512\n",
    "validation_data=(X_test,y_test)\n",
    "l1_model.fit(X_train,y_train,\n",
    "                  epochs=epochs,\n",
    "                  batch_size=batch_size,\n",
    "                  validation_data=validation_data)\n",
    "\n",
    "#l1_model 결과 해석을 시각화 해보기\n",
    "l1_model.history.history.keys()\n",
    "range(len(l1_model.history.history['loss']))\n",
    "plt.plot(range(0,20),l1_model.history.history['loss'],label='loss') #loss\n",
    "plt.plot(range(0,20),l1_model.history.history['accuracy'],label='accuracy')\n",
    "plt.plot(range(0,20),l1_model.history.history['val_loss'],label='val_loss') \n",
    "plt.plot(range(0,20),l1_model.history.history['val_accuracy'],label='val_accuracy')\n",
    "\n",
    "plt.title('Training and validation loss')\n",
    "plt.xlabel('Epochs')\n",
    "plt.ylabel('Loss')\n",
    "plt.legend()\n",
    "\n",
    "plt.show() #오버피팅나니깐 언더피팅해주자"
   ]
  },
  {
   "cell_type": "code",
   "execution_count": 51,
   "id": "4c21408d-5dfa-4cc3-83d0-a1a86e57f696",
   "metadata": {},
   "outputs": [
    {
     "name": "stdout",
     "output_type": "stream",
     "text": [
      "Epoch 1/20\n",
      "49/49 [==============================] - 2s 29ms/step - loss: 0.4945 - accuracy: 0.8190 - val_loss: 0.3950 - val_accuracy: 0.8628\n",
      "Epoch 2/20\n",
      "49/49 [==============================] - 1s 21ms/step - loss: 0.3269 - accuracy: 0.8954 - val_loss: 0.3299 - val_accuracy: 0.8860\n",
      "Epoch 3/20\n",
      "49/49 [==============================] - 1s 21ms/step - loss: 0.2851 - accuracy: 0.9091 - val_loss: 0.3244 - val_accuracy: 0.8858\n",
      "Epoch 4/20\n",
      "49/49 [==============================] - 1s 21ms/step - loss: 0.2690 - accuracy: 0.9148 - val_loss: 0.3280 - val_accuracy: 0.8842\n",
      "Epoch 5/20\n",
      "49/49 [==============================] - 1s 21ms/step - loss: 0.2600 - accuracy: 0.9177 - val_loss: 0.3330 - val_accuracy: 0.8821\n",
      "Epoch 6/20\n",
      "49/49 [==============================] - 1s 23ms/step - loss: 0.2505 - accuracy: 0.9225 - val_loss: 0.3756 - val_accuracy: 0.8650\n",
      "Epoch 7/20\n",
      "49/49 [==============================] - 1s 23ms/step - loss: 0.2489 - accuracy: 0.9216 - val_loss: 0.3774 - val_accuracy: 0.8667\n",
      "Epoch 8/20\n",
      "49/49 [==============================] - 1s 23ms/step - loss: 0.2415 - accuracy: 0.9259 - val_loss: 0.3636 - val_accuracy: 0.8725\n",
      "Epoch 9/20\n",
      "49/49 [==============================] - 1s 22ms/step - loss: 0.2436 - accuracy: 0.9245 - val_loss: 0.3654 - val_accuracy: 0.8746\n",
      "Epoch 10/20\n",
      "49/49 [==============================] - 1s 20ms/step - loss: 0.2374 - accuracy: 0.9282 - val_loss: 0.3580 - val_accuracy: 0.8777\n",
      "Epoch 11/20\n",
      "49/49 [==============================] - 1s 21ms/step - loss: 0.2364 - accuracy: 0.9274 - val_loss: 0.3627 - val_accuracy: 0.8753\n",
      "Epoch 12/20\n",
      "49/49 [==============================] - 1s 20ms/step - loss: 0.2363 - accuracy: 0.9282 - val_loss: 0.3656 - val_accuracy: 0.8754\n",
      "Epoch 13/20\n",
      "49/49 [==============================] - 1s 23ms/step - loss: 0.2336 - accuracy: 0.9287 - val_loss: 0.3703 - val_accuracy: 0.8743\n",
      "Epoch 14/20\n",
      "49/49 [==============================] - 1s 21ms/step - loss: 0.2321 - accuracy: 0.9303 - val_loss: 0.3882 - val_accuracy: 0.8676\n",
      "Epoch 15/20\n",
      "49/49 [==============================] - 1s 22ms/step - loss: 0.2300 - accuracy: 0.9310 - val_loss: 0.3980 - val_accuracy: 0.8666\n",
      "Epoch 16/20\n",
      "49/49 [==============================] - 1s 20ms/step - loss: 0.2293 - accuracy: 0.9299 - val_loss: 0.3916 - val_accuracy: 0.8684\n",
      "Epoch 17/20\n",
      "49/49 [==============================] - 1s 21ms/step - loss: 0.2286 - accuracy: 0.9316 - val_loss: 0.3748 - val_accuracy: 0.8721\n",
      "Epoch 18/20\n",
      "49/49 [==============================] - 1s 22ms/step - loss: 0.2289 - accuracy: 0.9308 - val_loss: 0.3849 - val_accuracy: 0.8706\n",
      "Epoch 19/20\n",
      "49/49 [==============================] - 1s 21ms/step - loss: 0.2249 - accuracy: 0.9326 - val_loss: 0.4205 - val_accuracy: 0.8594\n",
      "Epoch 20/20\n",
      "49/49 [==============================] - 1s 21ms/step - loss: 0.2226 - accuracy: 0.9323 - val_loss: 0.3992 - val_accuracy: 0.8647\n"
     ]
    },
    {
     "data": {
      "image/png": "[encoded data removed]",
      "text/plain": [
       "<Figure size 432x288 with 1 Axes>"
      ]
     },
     "metadata": {
      "needs_background": "light"
     },
     "output_type": "display_data"
    }
   ],
   "source": [
    "#overfitting을 방지 >> Regularization :: L2 regularization   #이상치의 등장에 주의를 기울여야 할 때 # L2는 각 vector에 대해 unique한 값이 출력\n",
    "\n",
    "from keras import regularizers\n",
    "from keras.regularizers import l2 #l2을 regularizers로 씀\n",
    "\n",
    "l2_model = Sequential()\n",
    "l2_model.add(Dense(16,activation='relu',kernel_regularizer=l2(0.001),input_shape=(input_shape,)))\n",
    "l2_model.add(Dense(16,activation='relu',kernel_regularizer=l2(0.001)))\n",
    "l2_model.add(Dense(output_shape,activation='sigmoid'))\n",
    "\n",
    "optimizer=\"rmsprop\"\n",
    "loss=\"binary_crossentropy\"\n",
    "metrics=[\"accuracy\"]\n",
    "l2_model.compile(optimizer=optimizer,\n",
    "                      loss=loss,\n",
    "                      metrics=metrics)\n",
    "\n",
    "epochs=20\n",
    "batch_size=512\n",
    "validation_data=(X_test,y_test)\n",
    "l2_model.fit(X_train,y_train,\n",
    "                  epochs=epochs,\n",
    "                  batch_size=batch_size,\n",
    "                  validation_data=validation_data)\n",
    "\n",
    "#l2_model 결과 해석을 시각화 해보기\n",
    "l2_model.history.history.keys()\n",
    "range(len(l2_model.history.history['loss']))\n",
    "plt.plot(range(0,20),l2_model.history.history['loss'],label='loss') #loss\n",
    "plt.plot(range(0,20),l2_model.history.history['accuracy'],label='accuracy')\n",
    "plt.plot(range(0,20),l2_model.history.history['val_loss'],label='val_loss') \n",
    "plt.plot(range(0,20),l2_model.history.history['val_accuracy'],label='val_accuracy')\n",
    "\n",
    "plt.title('Training and validation loss')\n",
    "plt.xlabel('Epochs')\n",
    "plt.ylabel('Loss')\n",
    "plt.legend()\n",
    "\n",
    "plt.show() #오버피팅나니깐 언더피팅해주자"
   ]
  },
  {
   "cell_type": "code",
   "execution_count": 52,
   "id": "a46af33b-ec46-42f8-856c-0af1d00d6a81",
   "metadata": {},
   "outputs": [
    {
     "name": "stdout",
     "output_type": "stream",
     "text": [
      "Model: \"sequential\"\n",
      "_________________________________________________________________\n",
      " Layer (type)                Output Shape              Param #   \n",
      "=================================================================\n",
      " dense (Dense)               (None, 16)                160016    \n",
      "                                                                 \n",
      " dense_1 (Dense)             (None, 16)                272       \n",
      "                                                                 \n",
      " dense_2 (Dense)             (None, 1)                 17        \n",
      "                                                                 \n",
      "=================================================================\n",
      "Total params: 160,305\n",
      "Trainable params: 160,305\n",
      "Non-trainable params: 0\n",
      "_________________________________________________________________\n",
      "Epoch 1/20\n",
      "49/49 [==============================] - 2s 30ms/step - loss: 0.5849 - accuracy: 0.7008 - val_loss: 0.4353 - val_accuracy: 0.8638\n",
      "Epoch 2/20\n",
      "49/49 [==============================] - 1s 21ms/step - loss: 0.4457 - accuracy: 0.8154 - val_loss: 0.3436 - val_accuracy: 0.8818\n",
      "Epoch 3/20\n",
      "49/49 [==============================] - 1s 21ms/step - loss: 0.3698 - accuracy: 0.8599 - val_loss: 0.3029 - val_accuracy: 0.8834\n",
      "Epoch 4/20\n",
      "49/49 [==============================] - 1s 19ms/step - loss: 0.3209 - accuracy: 0.8794 - val_loss: 0.2888 - val_accuracy: 0.8852\n",
      "Epoch 5/20\n",
      "49/49 [==============================] - 1s 19ms/step - loss: 0.2900 - accuracy: 0.8933 - val_loss: 0.2761 - val_accuracy: 0.8867\n",
      "Epoch 6/20\n",
      "49/49 [==============================] - 1s 20ms/step - loss: 0.2640 - accuracy: 0.9064 - val_loss: 0.2891 - val_accuracy: 0.8853\n",
      "Epoch 7/20\n",
      "49/49 [==============================] - 1s 21ms/step - loss: 0.2433 - accuracy: 0.9118 - val_loss: 0.2901 - val_accuracy: 0.8849\n",
      "Epoch 8/20\n",
      "49/49 [==============================] - 1s 20ms/step - loss: 0.2301 - accuracy: 0.9184 - val_loss: 0.2978 - val_accuracy: 0.8833\n",
      "Epoch 9/20\n",
      "49/49 [==============================] - 1s 21ms/step - loss: 0.2145 - accuracy: 0.9242 - val_loss: 0.3197 - val_accuracy: 0.8812\n",
      "Epoch 10/20\n",
      "49/49 [==============================] - 1s 20ms/step - loss: 0.2050 - accuracy: 0.9284 - val_loss: 0.3255 - val_accuracy: 0.8810\n",
      "Epoch 11/20\n",
      "49/49 [==============================] - 1s 22ms/step - loss: 0.1959 - accuracy: 0.9314 - val_loss: 0.3401 - val_accuracy: 0.8809\n",
      "Epoch 12/20\n",
      "49/49 [==============================] - 1s 20ms/step - loss: 0.1884 - accuracy: 0.9336 - val_loss: 0.3606 - val_accuracy: 0.8801\n",
      "Epoch 13/20\n",
      "49/49 [==============================] - 1s 19ms/step - loss: 0.1817 - accuracy: 0.9352 - val_loss: 0.3752 - val_accuracy: 0.8800\n",
      "Epoch 14/20\n",
      "49/49 [==============================] - 1s 22ms/step - loss: 0.1714 - accuracy: 0.9403 - val_loss: 0.3977 - val_accuracy: 0.8781\n",
      "Epoch 15/20\n",
      "49/49 [==============================] - 1s 21ms/step - loss: 0.1658 - accuracy: 0.9397 - val_loss: 0.4063 - val_accuracy: 0.8762\n",
      "Epoch 16/20\n",
      "49/49 [==============================] - 1s 22ms/step - loss: 0.1586 - accuracy: 0.9417 - val_loss: 0.4280 - val_accuracy: 0.8760\n",
      "Epoch 17/20\n",
      "49/49 [==============================] - 1s 20ms/step - loss: 0.1527 - accuracy: 0.9455 - val_loss: 0.4433 - val_accuracy: 0.8713\n",
      "Epoch 18/20\n",
      "49/49 [==============================] - 1s 19ms/step - loss: 0.1538 - accuracy: 0.9454 - val_loss: 0.4481 - val_accuracy: 0.8747\n",
      "Epoch 19/20\n",
      "49/49 [==============================] - 1s 20ms/step - loss: 0.1515 - accuracy: 0.9460 - val_loss: 0.4809 - val_accuracy: 0.8738\n",
      "Epoch 20/20\n",
      "49/49 [==============================] - 1s 21ms/step - loss: 0.1432 - accuracy: 0.9473 - val_loss: 0.4896 - val_accuracy: 0.8734\n"
     ]
    },
    {
     "data": {
      "image/png": "[encoded data removed]",
      "text/plain": [
       "<Figure size 432x288 with 1 Axes>"
      ]
     },
     "metadata": {
      "needs_background": "light"
     },
     "output_type": "display_data"
    }
   ],
   "source": [
    "#overfitting을 방지 >> Regularization :: Dropout\n",
    "\n",
    "from keras import regularizers\n",
    "from keras.layers import Dropout \n",
    "\n",
    "drout_model = Sequential()\n",
    "drout_model.add(Dense(16,activation='relu',input_shape=(input_shape,)))\n",
    "drout_model.add(Dropout(0.5))\n",
    "drout_model.add(Dense(16,activation='relu'))\n",
    "drout_model.add(Dropout(0.5))\n",
    "drout_model.add(Dense(output_shape,activation='sigmoid'))\n",
    "\n",
    "original_model.summary()\n",
    "# drout_model.weight #확인\n",
    "\n",
    "optimizer=\"rmsprop\"\n",
    "loss=\"binary_crossentropy\"\n",
    "metrics=[\"accuracy\"]\n",
    "drout_model.compile(optimizer=optimizer,\n",
    "                      loss=loss,\n",
    "                      metrics=metrics)\n",
    "\n",
    "epochs=20\n",
    "batch_size=512\n",
    "validation_data=(X_test,y_test)\n",
    "drout_model.fit(X_train,y_train,\n",
    "                  epochs=epochs,\n",
    "                  batch_size=batch_size,\n",
    "                  validation_data=validation_data)\n",
    "\n",
    "#drout_model 결과 해석을 시각화 해보기\n",
    "drout_model.history.history.keys()\n",
    "range(len(drout_model.history.history['loss']))\n",
    "plt.plot(range(0,20),drout_model.history.history['loss'],label='loss') #loss\n",
    "plt.plot(range(0,20),drout_model.history.history['accuracy'],label='accuracy')\n",
    "plt.plot(range(0,20),drout_model.history.history['val_loss'],label='val_loss') \n",
    "plt.plot(range(0,20),drout_model.history.history['val_accuracy'],label='val_accuracy')\n",
    "\n",
    "plt.title('Training and validation loss')\n",
    "plt.xlabel('Epochs')\n",
    "plt.ylabel('Loss')\n",
    "plt.legend()\n",
    "\n",
    "plt.show() #오버피팅나니깐 언더피팅해주자"
   ]
  },
  {
   "cell_type": "raw",
   "id": "955bbc65-1df1-4dee-9178-838ab4a976d2",
   "metadata": {},
   "source": [
    "#결과해석이 안됨, 책보고 공부하고 알게되면 알려줘"
   ]
  },
  {
   "cell_type": "raw",
   "id": "3157e4a2-dfc1-4c88-a3a0-8c9c6b688484",
   "metadata": {},
   "source": [
    "참고\n",
    "실습: https://subinium.github.io/Keras-3-2/ \n",
    "이론: https://tykimos.github.io/lecture/\n",
    "도전: https://aifactory.space/page/aifactory/class"
   ]
  },
  {
   "cell_type": "code",
   "execution_count": null,
   "id": "de7b75a8-e4b4-4dd5-b874-93d924c6af72",
   "metadata": {},
   "outputs": [],
   "source": []
  }
 ],
 "metadata": {
  "kernelspec": {
   "display_name": "Python 3 (ipykernel)",
   "language": "python",
   "name": "python3"
  },
  "language_info": {
   "codemirror_mode": {
    "name": "ipython",
    "version": 3
   },
   "file_extension": ".py",
   "mimetype": "text/x-python",
   "name": "python",
   "nbconvert_exporter": "python",
   "pygments_lexer": "ipython3",
   "version": "3.9.7"
  }
 },
 "nbformat": 4,
 "nbformat_minor": 5
}
