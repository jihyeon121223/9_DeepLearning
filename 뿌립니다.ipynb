{
 "cells": [
  {
   "cell_type": "raw",
   "id": "e4a2eb4b-0294-4111-b1f5-b53a02f353b7",
   "metadata": {},
   "source": [
    "딥러닝 이때까지 함수 만들었음요 (파이썬 파일)\n",
    "여기선 그 함수 불러다가 학습 시켜보는거임"
   ]
  },
  {
   "cell_type": "code",
   "execution_count": 1,
   "id": "f18094d8-c858-408d-a83b-1b1849f61bf8",
   "metadata": {},
   "outputs": [],
   "source": [
    "#필요모듈, 만든 함수 불러오기\n",
    "import numpy as np\n",
    "from sklearn.model_selection import train_test_split\n",
    "from sklearn.datasets import fetch_openml\n",
    "from layers import MultiLayer\n",
    "from layers import Relu, Affine, SoftmaxWithLoss, Sigmoid\n",
    "from collections import OrderedDict"
   ]
  },
  {
   "cell_type": "code",
   "execution_count": 2,
   "id": "87815a23-43e2-4482-b714-416ef1b69992",
   "metadata": {},
   "outputs": [],
   "source": [
    "def make_one(x):\n",
    "    if x.ndim == 1: \n",
    "        t = np.zeros((x.size,np.unique(x).size))\n",
    "        for i in range(t.shape[0]):\n",
    "            t[i,x[i]]=1\n",
    "        return t"
   ]
  },
  {
   "cell_type": "code",
   "execution_count": 3,
   "id": "e13828cc-f940-4aff-8a48-63491b0de701",
   "metadata": {},
   "outputs": [],
   "source": [
    "# 학습 1:: 아이리스 꽃"
   ]
  },
  {
   "cell_type": "code",
   "execution_count": 5,
   "id": "73a33e45-d24e-4e03-909c-aad027528091",
   "metadata": {},
   "outputs": [
    {
     "name": "stdout",
     "output_type": "stream",
     "text": [
      "epoch  0 :val_loss=========== 3.7711676400319436 val_acc:======== 0.36666666666666664\n"
     ]
    },
    {
     "data": {
      "text/plain": [
       "0.23333333333333334"
      ]
     },
     "execution_count": 5,
     "metadata": {},
     "output_type": "execute_result"
    }
   ],
   "source": [
    "from sklearn.datasets import load_iris\n",
    "X = load_iris()['data']\n",
    "y = load_iris()['target']\n",
    "y = make_one(y)\n",
    "\n",
    "X_train, X_test, y_train, y_test = train_test_split(X,y,test_size=.4)\n",
    "X_val, X_test, y_val, y_test = train_test_split(X_test,y_test, test_size=.5)\n",
    "\n",
    "input_size = X_train.shape[1]\n",
    "hidden_size = [5]\n",
    "output_size = y_train.shape[1]\n",
    "\n",
    "model = MultiLayer(input_size,hidden_size,output_size)\n",
    "epochs = 10 #에폭 알아서 설정해주기 그냥 오래 걸려서 10 해줌 \n",
    "lr = 1e-3\n",
    "model.fit_gd(epochs,lr,X_train,y_train,X_val,y_val)\n",
    "model.accuracy(X_test,y_test)"
   ]
  },
  {
   "cell_type": "code",
   "execution_count": null,
   "id": "18505adb-6137-467c-9b24-a7ac2e5cb727",
   "metadata": {},
   "outputs": [],
   "source": [
    "# 학습 2:: 숫자그림 #불러오는데 오래걸림여"
   ]
  },
  {
   "cell_type": "code",
   "execution_count": 6,
   "id": "7d1101f1-2981-4ccf-8ae6-d612d8dcccf5",
   "metadata": {},
   "outputs": [
    {
     "name": "stdout",
     "output_type": "stream",
     "text": [
      "epoch  0 :val_loss=========== 13.854447649733846 val_acc:======== 0.14\n"
     ]
    },
    {
     "data": {
      "text/plain": [
       "0.47185714285714286"
      ]
     },
     "execution_count": 6,
     "metadata": {},
     "output_type": "execute_result"
    }
   ],
   "source": [
    "mnist = fetch_openml('mnist_784')\n",
    "X = mnist['data']\n",
    "y = mnist['target']\n",
    "X = X.astype(np.float32).values/255.\n",
    "y = y.astype(np.int32).values\n",
    "y = make_one(y)\n",
    "X_train, X_test, y_train, y_test = train_test_split(X,y,test_size=.4)\n",
    "X_val, X_test, y_val, y_test = train_test_split(X_test,y_test, test_size=.5)\n",
    "\n",
    "input_size = X_train.shape[1]\n",
    "hidden_size = [100,256,100]\n",
    "output_size = y_train.shape[1]\n",
    "\n",
    "model = MultiLayer(input_size,hidden_size,output_size)\n",
    "epochs = 10\n",
    "lr = 1e-3\n",
    "model.fit_gd(epochs,lr,X_train,y_train,X_val,y_val)\n",
    "model.accuracy(X_test,y_test)"
   ]
  },
  {
   "cell_type": "code",
   "execution_count": null,
   "id": "1830f484-4184-4c87-b33c-132dac1f06d8",
   "metadata": {},
   "outputs": [],
   "source": []
  },
  {
   "cell_type": "code",
   "execution_count": null,
   "id": "5a6e93a5-befc-4b52-bb20-4a538e14b305",
   "metadata": {},
   "outputs": [],
   "source": []
  },
  {
   "cell_type": "code",
   "execution_count": null,
   "id": "4d439115-2e48-462e-8824-31b3d5da3340",
   "metadata": {},
   "outputs": [],
   "source": []
  },
  {
   "cell_type": "code",
   "execution_count": 7,
   "id": "1686091d-759b-48d3-887c-70bdf0e651dd",
   "metadata": {},
   "outputs": [],
   "source": [
    "# 함수 추가 만드는 중"
   ]
  },
  {
   "cell_type": "code",
   "execution_count": 9,
   "id": "45a908bd-3de9-4f17-bb83-19df6f739a00",
   "metadata": {},
   "outputs": [],
   "source": [
    "class SGD:\n",
    "    def __init__(self,lr=1e-3):\n",
    "        self.lr = lr\n",
    "    \n",
    "    def minimize(self, w, grads):\n",
    "        for key in w.keys():\n",
    "            w[key] -=  self.lr*grads[key]  "
   ]
  },
  {
   "cell_type": "code",
   "execution_count": 10,
   "id": "6d74393a-a7fd-49b4-9e59-3aa4e7a00358",
   "metadata": {},
   "outputs": [],
   "source": [
    "class Momentum:\n",
    "    def __init__(self,lr=1e-3,m=0.9):\n",
    "        self.lr = lr\n",
    "        self.momentum = m\n",
    "        self.v = None\n",
    "    \n",
    "    def minimize(self,w,grads):\n",
    "        if self.v is None:\n",
    "            self.v = {}\n",
    "            for k,v in w.items():\n",
    "                self.v[k] = np.zeros_like(v)\n",
    "        for key in w.keys():\n",
    "            self.v[key] = self.momentum + self.v[key] - self.lr*grads[key]\n",
    "            w[key] += self.v[key]"
   ]
  },
  {
   "cell_type": "code",
   "execution_count": null,
   "id": "a712367c-df95-4872-b5fd-8ff9ad9cb07f",
   "metadata": {},
   "outputs": [],
   "source": []
  }
 ],
 "metadata": {
  "kernelspec": {
   "display_name": "Python 3 (ipykernel)",
   "language": "python",
   "name": "python3"
  },
  "language_info": {
   "codemirror_mode": {
    "name": "ipython",
    "version": 3
   },
   "file_extension": ".py",
   "mimetype": "text/x-python",
   "name": "python",
   "nbconvert_exporter": "python",
   "pygments_lexer": "ipython3",
   "version": "3.9.7"
  }
 },
 "nbformat": 4,
 "nbformat_minor": 5
}
