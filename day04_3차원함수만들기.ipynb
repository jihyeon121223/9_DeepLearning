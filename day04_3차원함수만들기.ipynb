{
 "cells": [
  {
   "cell_type": "raw",
   "id": "8f55db1c-d694-461e-9d77-629add8278e4",
   "metadata": {},
   "source": [
    "Neural Network Fit학습 구현목록\n",
    "1. 초기화수행: 초기값 주고 Network만들기\n",
    "2. 입력층, 은닋층, 출력층 구현\n",
    "3. 예측 함수 구현\n",
    "4. ross손실함수 구련\n",
    "5. 정확도 지표 함수 구현\n",
    "6. 기울기 함수 구현\n",
    "7. 미니배치 학습"
   ]
  },
  {
   "cell_type": "markdown",
   "id": "ae021969-290f-42c7-afa8-a1185c619d84",
   "metadata": {},
   "source": [
    "# 역전파(할건데 3차원 먼저 하나봄?)\n",
    "- fully connect : 맨 마지막에 예측 (CNN, RNN:내부에서 for문)"
   ]
  },
  {
   "cell_type": "code",
   "execution_count": 1,
   "id": "9d744674-0cea-4f2b-87fa-0d9120214ca1",
   "metadata": {},
   "outputs": [],
   "source": [
    "import numpy as np\n",
    "from sklearn import datasets"
   ]
  },
  {
   "cell_type": "code",
   "execution_count": 2,
   "id": "0cffc6ff-b1aa-4c9c-b996-3d02884dce2d",
   "metadata": {
    "tags": []
   },
   "outputs": [
    {
     "data": {
      "text/plain": [
       "['__all__',\n",
       " '__builtins__',\n",
       " '__cached__',\n",
       " '__doc__',\n",
       " '__file__',\n",
       " '__loader__',\n",
       " '__name__',\n",
       " '__package__',\n",
       " '__path__',\n",
       " '__spec__',\n",
       " '_base',\n",
       " '_california_housing',\n",
       " '_covtype',\n",
       " '_kddcup99',\n",
       " '_lfw',\n",
       " '_olivetti_faces',\n",
       " '_openml',\n",
       " '_rcv1',\n",
       " '_samples_generator',\n",
       " '_species_distributions',\n",
       " '_svmlight_format_fast',\n",
       " '_svmlight_format_io',\n",
       " '_twenty_newsgroups',\n",
       " 'clear_data_home',\n",
       " 'dump_svmlight_file',\n",
       " 'fetch_20newsgroups',\n",
       " 'fetch_20newsgroups_vectorized',\n",
       " 'fetch_california_housing',\n",
       " 'fetch_covtype',\n",
       " 'fetch_kddcup99',\n",
       " 'fetch_lfw_pairs',\n",
       " 'fetch_lfw_people',\n",
       " 'fetch_olivetti_faces',\n",
       " 'fetch_openml',\n",
       " 'fetch_rcv1',\n",
       " 'fetch_species_distributions',\n",
       " 'get_data_home',\n",
       " 'load_boston',\n",
       " 'load_breast_cancer',\n",
       " 'load_diabetes',\n",
       " 'load_digits',\n",
       " 'load_files',\n",
       " 'load_iris',\n",
       " 'load_linnerud',\n",
       " 'load_sample_image',\n",
       " 'load_sample_images',\n",
       " 'load_svmlight_file',\n",
       " 'load_svmlight_files',\n",
       " 'load_wine',\n",
       " 'make_biclusters',\n",
       " 'make_blobs',\n",
       " 'make_checkerboard',\n",
       " 'make_circles',\n",
       " 'make_classification',\n",
       " 'make_friedman1',\n",
       " 'make_friedman2',\n",
       " 'make_friedman3',\n",
       " 'make_gaussian_quantiles',\n",
       " 'make_hastie_10_2',\n",
       " 'make_low_rank_matrix',\n",
       " 'make_moons',\n",
       " 'make_multilabel_classification',\n",
       " 'make_regression',\n",
       " 'make_s_curve',\n",
       " 'make_sparse_coded_signal',\n",
       " 'make_sparse_spd_matrix',\n",
       " 'make_sparse_uncorrelated',\n",
       " 'make_spd_matrix',\n",
       " 'make_swiss_roll']"
      ]
     },
     "execution_count": 2,
     "metadata": {},
     "output_type": "execute_result"
    }
   ],
   "source": [
    "dir(datasets) #그냥 데이터 확인해서 원하는거 고를거임"
   ]
  },
  {
   "cell_type": "code",
   "execution_count": 3,
   "id": "66a66051-0810-4416-baf1-ed4930f90b13",
   "metadata": {
    "tags": []
   },
   "outputs": [
    {
     "data": {
      "text/plain": [
       "{'data': array([[1.423e+01, 1.710e+00, 2.430e+00, ..., 1.040e+00, 3.920e+00,\n",
       "         1.065e+03],\n",
       "        [1.320e+01, 1.780e+00, 2.140e+00, ..., 1.050e+00, 3.400e+00,\n",
       "         1.050e+03],\n",
       "        [1.316e+01, 2.360e+00, 2.670e+00, ..., 1.030e+00, 3.170e+00,\n",
       "         1.185e+03],\n",
       "        ...,\n",
       "        [1.327e+01, 4.280e+00, 2.260e+00, ..., 5.900e-01, 1.560e+00,\n",
       "         8.350e+02],\n",
       "        [1.317e+01, 2.590e+00, 2.370e+00, ..., 6.000e-01, 1.620e+00,\n",
       "         8.400e+02],\n",
       "        [1.413e+01, 4.100e+00, 2.740e+00, ..., 6.100e-01, 1.600e+00,\n",
       "         5.600e+02]]),\n",
       " 'target': array([0, 0, 0, 0, 0, 0, 0, 0, 0, 0, 0, 0, 0, 0, 0, 0, 0, 0, 0, 0, 0, 0,\n",
       "        0, 0, 0, 0, 0, 0, 0, 0, 0, 0, 0, 0, 0, 0, 0, 0, 0, 0, 0, 0, 0, 0,\n",
       "        0, 0, 0, 0, 0, 0, 0, 0, 0, 0, 0, 0, 0, 0, 0, 1, 1, 1, 1, 1, 1, 1,\n",
       "        1, 1, 1, 1, 1, 1, 1, 1, 1, 1, 1, 1, 1, 1, 1, 1, 1, 1, 1, 1, 1, 1,\n",
       "        1, 1, 1, 1, 1, 1, 1, 1, 1, 1, 1, 1, 1, 1, 1, 1, 1, 1, 1, 1, 1, 1,\n",
       "        1, 1, 1, 1, 1, 1, 1, 1, 1, 1, 1, 1, 1, 1, 1, 1, 1, 1, 1, 1, 2, 2,\n",
       "        2, 2, 2, 2, 2, 2, 2, 2, 2, 2, 2, 2, 2, 2, 2, 2, 2, 2, 2, 2, 2, 2,\n",
       "        2, 2, 2, 2, 2, 2, 2, 2, 2, 2, 2, 2, 2, 2, 2, 2, 2, 2, 2, 2, 2, 2,\n",
       "        2, 2]),\n",
       " 'frame': None,\n",
       " 'target_names': array(['class_0', 'class_1', 'class_2'], dtype='<U7'),\n",
       " 'DESCR': '.. _wine_dataset:\\n\\nWine recognition dataset\\n------------------------\\n\\n**Data Set Characteristics:**\\n\\n    :Number of Instances: 178 (50 in each of three classes)\\n    :Number of Attributes: 13 numeric, predictive attributes and the class\\n    :Attribute Information:\\n \\t\\t- Alcohol\\n \\t\\t- Malic acid\\n \\t\\t- Ash\\n\\t\\t- Alcalinity of ash  \\n \\t\\t- Magnesium\\n\\t\\t- Total phenols\\n \\t\\t- Flavanoids\\n \\t\\t- Nonflavanoid phenols\\n \\t\\t- Proanthocyanins\\n\\t\\t- Color intensity\\n \\t\\t- Hue\\n \\t\\t- OD280/OD315 of diluted wines\\n \\t\\t- Proline\\n\\n    - class:\\n            - class_0\\n            - class_1\\n            - class_2\\n\\t\\t\\n    :Summary Statistics:\\n    \\n    ============================= ==== ===== ======= =====\\n                                   Min   Max   Mean     SD\\n    ============================= ==== ===== ======= =====\\n    Alcohol:                      11.0  14.8    13.0   0.8\\n    Malic Acid:                   0.74  5.80    2.34  1.12\\n    Ash:                          1.36  3.23    2.36  0.27\\n    Alcalinity of Ash:            10.6  30.0    19.5   3.3\\n    Magnesium:                    70.0 162.0    99.7  14.3\\n    Total Phenols:                0.98  3.88    2.29  0.63\\n    Flavanoids:                   0.34  5.08    2.03  1.00\\n    Nonflavanoid Phenols:         0.13  0.66    0.36  0.12\\n    Proanthocyanins:              0.41  3.58    1.59  0.57\\n    Colour Intensity:              1.3  13.0     5.1   2.3\\n    Hue:                          0.48  1.71    0.96  0.23\\n    OD280/OD315 of diluted wines: 1.27  4.00    2.61  0.71\\n    Proline:                       278  1680     746   315\\n    ============================= ==== ===== ======= =====\\n\\n    :Missing Attribute Values: None\\n    :Class Distribution: class_0 (59), class_1 (71), class_2 (48)\\n    :Creator: R.A. Fisher\\n    :Donor: Michael Marshall (MARSHALL%PLU@io.arc.nasa.gov)\\n    :Date: July, 1988\\n\\nThis is a copy of UCI ML Wine recognition datasets.\\nhttps://archive.ics.uci.edu/ml/machine-learning-databases/wine/wine.data\\n\\nThe data is the results of a chemical analysis of wines grown in the same\\nregion in Italy by three different cultivators. There are thirteen different\\nmeasurements taken for different constituents found in the three types of\\nwine.\\n\\nOriginal Owners: \\n\\nForina, M. et al, PARVUS - \\nAn Extendible Package for Data Exploration, Classification and Correlation. \\nInstitute of Pharmaceutical and Food Analysis and Technologies,\\nVia Brigata Salerno, 16147 Genoa, Italy.\\n\\nCitation:\\n\\nLichman, M. (2013). UCI Machine Learning Repository\\n[https://archive.ics.uci.edu/ml]. Irvine, CA: University of California,\\nSchool of Information and Computer Science. \\n\\n.. topic:: References\\n\\n  (1) S. Aeberhard, D. Coomans and O. de Vel, \\n  Comparison of Classifiers in High Dimensional Settings, \\n  Tech. Rep. no. 92-02, (1992), Dept. of Computer Science and Dept. of  \\n  Mathematics and Statistics, James Cook University of North Queensland. \\n  (Also submitted to Technometrics). \\n\\n  The data was used with many others for comparing various \\n  classifiers. The classes are separable, though only RDA \\n  has achieved 100% correct classification. \\n  (RDA : 100%, QDA 99.4%, LDA 98.9%, 1NN 96.1% (z-transformed data)) \\n  (All results using the leave-one-out technique) \\n\\n  (2) S. Aeberhard, D. Coomans and O. de Vel, \\n  \"THE CLASSIFICATION PERFORMANCE OF RDA\" \\n  Tech. Rep. no. 92-01, (1992), Dept. of Computer Science and Dept. of \\n  Mathematics and Statistics, James Cook University of North Queensland. \\n  (Also submitted to Journal of Chemometrics).\\n',\n",
       " 'feature_names': ['alcohol',\n",
       "  'malic_acid',\n",
       "  'ash',\n",
       "  'alcalinity_of_ash',\n",
       "  'magnesium',\n",
       "  'total_phenols',\n",
       "  'flavanoids',\n",
       "  'nonflavanoid_phenols',\n",
       "  'proanthocyanins',\n",
       "  'color_intensity',\n",
       "  'hue',\n",
       "  'od280/od315_of_diluted_wines',\n",
       "  'proline']}"
      ]
     },
     "execution_count": 3,
     "metadata": {},
     "output_type": "execute_result"
    }
   ],
   "source": [
    "datasets.load_wine() #데이터 고름"
   ]
  },
  {
   "cell_type": "markdown",
   "id": "c9b88098-a068-43e4-9c45-42e33dc7fe43",
   "metadata": {},
   "source": [
    "## 데이터를 8:2=train:test로 나눠서 3layer 만들기"
   ]
  },
  {
   "cell_type": "raw",
   "id": "11431ca1-fd3f-4a11-ad41-6fb57b7561b1",
   "metadata": {},
   "source": [
    "#방식설명\n",
    "from layers import OneLayerNet\n",
    "model = OneLayerNet()\n",
    "\n",
    "model.train(X,t) #학습"
   ]
  },
  {
   "cell_type": "markdown",
   "id": "4b094342-b758-48cf-b781-0945e3cf4290",
   "metadata": {},
   "source": [
    "### 1. Activation function"
   ]
  },
  {
   "cell_type": "code",
   "execution_count": 4,
   "id": "a43e3a05-b6fd-4462-8453-0eafac6d07bd",
   "metadata": {},
   "outputs": [],
   "source": [
    "## 1. Activation function\n",
    "#sigmoid\n",
    "#softmax\n",
    "#relu\n",
    "\n",
    "## 2. Loss function\n",
    "#mse\n",
    "#cross_entropy_error\n",
    "\n",
    "## 3.differ fuction 미분함수\n",
    "#numerical_gradient: 만드는이유//수치미분을 위함(돌아가는 원리 알기 위해) >> 나중에 해석적 미분을 하려고, (fxh - fx)/h\n",
    "\n",
    "## 4. Layer 만들기 : 지금은 One 1차원으로 만들거임"
   ]
  },
  {
   "cell_type": "code",
   "execution_count": 5,
   "id": "e06d3b78-da14-40fa-9c54-c4b98aba0610",
   "metadata": {},
   "outputs": [],
   "source": [
    "#함수 만드는가봄"
   ]
  },
  {
   "cell_type": "code",
   "execution_count": 6,
   "id": "df41d975-7048-4425-9219-0434026039d7",
   "metadata": {},
   "outputs": [
    {
     "data": {
      "text/plain": [
       "[<matplotlib.lines.Line2D at 0x1ab4ea50ca0>]"
      ]
     },
     "execution_count": 6,
     "metadata": {},
     "output_type": "execute_result"
    },
    {
     "data": {
      "image/png": "[encoded data removed]",
      "text/plain": [
       "<Figure size 432x288 with 1 Axes>"
      ]
     },
     "metadata": {
      "needs_background": "light"
     },
     "output_type": "display_data"
    }
   ],
   "source": [
    "#이 두개는 sum없으니 행렬shape그대로 나와야함\n",
    "\n",
    "def sigmoid(x): \n",
    "    return 1/(1+np.exp(-x))\n",
    "\n",
    "def relu(x):\n",
    "    return np.where(x<=0,0,x)\n",
    "\n",
    "import matplotlib.pyplot as plt\n",
    "plt.plot(relu(np.arange(-5,5,0.1)),relu(np.arange(-5,5,0.1)))"
   ]
  },
  {
   "cell_type": "code",
   "execution_count": 7,
   "id": "703c74db-bbd9-41d4-8498-1c38455910e9",
   "metadata": {},
   "outputs": [],
   "source": [
    "# def relu(x):\n",
    "#     return np.maximum(0,x)\n",
    "\n",
    "# relu(0)\n",
    "# relu(10)\n",
    "# relu(3)"
   ]
  },
  {
   "cell_type": "code",
   "execution_count": 8,
   "id": "f6204554-733f-496b-b566-2d13e3817f82",
   "metadata": {},
   "outputs": [],
   "source": [
    "#원핫의 모양대로 나와야함\n",
    "#sum이라 한 값이 나옴\n",
    "\n",
    "def softmax(x): #원래 행렬의 모양대로 출력시키기 위해 한값(소프트맥스)만 곱함\n",
    "    x = x - np.max(x,axis=1).reshape(-1,1)\n",
    "    return np.exp(x)/np.sum(np.exp(x),axis=1).reshape(-1,1)"
   ]
  },
  {
   "cell_type": "code",
   "execution_count": 9,
   "id": "55ab0d4a-f2da-4ba9-9c1b-6f1a77ad2a60",
   "metadata": {},
   "outputs": [
    {
     "data": {
      "text/plain": [
       "array([[0, 1],\n",
       "       [2, 3],\n",
       "       [4, 5],\n",
       "       [6, 7]])"
      ]
     },
     "execution_count": 9,
     "metadata": {},
     "output_type": "execute_result"
    }
   ],
   "source": [
    "(np.arange(8).reshape(4,2))"
   ]
  },
  {
   "cell_type": "code",
   "execution_count": 10,
   "id": "7c660eab-866a-426e-8cf9-1284c1dab34c",
   "metadata": {},
   "outputs": [],
   "source": [
    "#를 확률값으로 만들어야"
   ]
  },
  {
   "cell_type": "code",
   "execution_count": 11,
   "id": "6e167be8-15e0-4d57-9154-1788badf230f",
   "metadata": {},
   "outputs": [
    {
     "data": {
      "text/plain": [
       "array([[1.00000000e+00, 2.71828183e+00],\n",
       "       [7.38905610e+00, 2.00855369e+01],\n",
       "       [5.45981500e+01, 1.48413159e+02],\n",
       "       [4.03428793e+02, 1.09663316e+03]])"
      ]
     },
     "execution_count": 11,
     "metadata": {},
     "output_type": "execute_result"
    }
   ],
   "source": [
    "np.exp(np.arange(8).reshape(4,2))"
   ]
  },
  {
   "cell_type": "code",
   "execution_count": 12,
   "id": "3106ae5a-07e1-4488-ab02-0d47c75d6f4a",
   "metadata": {},
   "outputs": [],
   "source": [
    "#각 열에서의 sum을 구해서 나눠줘야하니 여기선 4개값이 나오겠지"
   ]
  },
  {
   "cell_type": "code",
   "execution_count": 13,
   "id": "2b5ee6a6-4d93-4f8d-b4ea-9c9606ed2b80",
   "metadata": {},
   "outputs": [
    {
     "data": {
      "text/plain": [
       "array([[0.26894139, 0.73105851],\n",
       "       [0.26894139, 0.73105851],\n",
       "       [0.26894139, 0.73105851],\n",
       "       [0.26894139, 0.73105851]])"
      ]
     },
     "execution_count": 13,
     "metadata": {},
     "output_type": "execute_result"
    }
   ],
   "source": [
    "x = (np.arange(8).reshape(4,2))\n",
    "delta = 1e-7\n",
    "np.exp(x)/np.sum(np.exp(x+delta),axis=1).reshape(-1,1)"
   ]
  },
  {
   "cell_type": "code",
   "execution_count": 14,
   "id": "857eb502-7409-4a90-a1e2-df567cd82b70",
   "metadata": {},
   "outputs": [
    {
     "name": "stderr",
     "output_type": "stream",
     "text": [
      "C:\\Users\\user\\AppData\\Local\\Temp/ipykernel_11936/2158699086.py:5: RuntimeWarning: divide by zero encountered in double_scalars\n",
      "  3/np.exp(-100000) #그래서 delta추가\n"
     ]
    },
    {
     "data": {
      "text/plain": [
       "inf"
      ]
     },
     "execution_count": 14,
     "metadata": {},
     "output_type": "execute_result"
    }
   ],
   "source": [
    "np.exp(1)\n",
    "np.exp(0)\n",
    "np.exp(-1)\n",
    "np.exp(-1000)\n",
    "3/np.exp(-100000) #그래서 delta추가"
   ]
  },
  {
   "cell_type": "code",
   "execution_count": 15,
   "id": "82db0497-a2a0-4223-a75f-59a77f20a6fc",
   "metadata": {},
   "outputs": [
    {
     "ename": "ValueError",
     "evalue": "operands could not be broadcast together with shapes (4,2) (4,) ",
     "output_type": "error",
     "traceback": [
      "\u001b[1;31m---------------------------------------------------------------------------\u001b[0m",
      "\u001b[1;31mValueError\u001b[0m                                Traceback (most recent call last)",
      "\u001b[1;32m~\\AppData\\Local\\Temp/ipykernel_11936/3874894925.py\u001b[0m in \u001b[0;36m<module>\u001b[1;34m\u001b[0m\n\u001b[1;32m----> 1\u001b[1;33m \u001b[0mx\u001b[0m \u001b[1;33m-\u001b[0m \u001b[0mnp\u001b[0m\u001b[1;33m.\u001b[0m\u001b[0mmax\u001b[0m\u001b[1;33m(\u001b[0m\u001b[0mx\u001b[0m\u001b[1;33m,\u001b[0m\u001b[0maxis\u001b[0m\u001b[1;33m=\u001b[0m\u001b[1;36m1\u001b[0m\u001b[1;33m)\u001b[0m \u001b[1;31m#max는 행렬 한 줄의 가장 큰 값 뽑아냄\u001b[0m\u001b[1;33m\u001b[0m\u001b[1;33m\u001b[0m\u001b[0m\n\u001b[0m",
      "\u001b[1;31mValueError\u001b[0m: operands could not be broadcast together with shapes (4,2) (4,) "
     ]
    }
   ],
   "source": [
    "x - np.max(x,axis=1) #max는 행렬 한 줄의 가장 큰 값 뽑아냄 "
   ]
  },
  {
   "cell_type": "raw",
   "id": "b9791232-43e0-4246-8957-fbc3daf90169",
   "metadata": {},
   "source": [
    "operands could not be broadcast together with shapes (4,2) (4,) \n",
    "4,2행렬에 4열이 아니라 4행이 곱해져야함. 때문에 reshape(-1,1) 해줘야 4행이 됨"
   ]
  },
  {
   "cell_type": "markdown",
   "id": "efa0f234-ea37-4665-810d-71050163383b",
   "metadata": {},
   "source": [
    "### 2. Loss function"
   ]
  },
  {
   "cell_type": "code",
   "execution_count": 16,
   "id": "98ce89b5-6c38-4208-8e98-6c7bdd487af5",
   "metadata": {},
   "outputs": [],
   "source": [
    "#2 Loss Function\n",
    "def cross_entropy_error(y,t):\n",
    "    delta = 1e-5\n",
    "    return -np.sum(t*np.log(y+delta))/y.shape[0]"
   ]
  },
  {
   "cell_type": "code",
   "execution_count": 17,
   "id": "e4421927-ef71-41f0-b476-3ab956f386e3",
   "metadata": {},
   "outputs": [],
   "source": [
    "#x는 2차원이라 생각하고\n",
    "x = np.random.randint(1,10,8).reshape(4,2)\n",
    "x[0,0] = 3 #0,0자리에 3으로 대체하겠다\n",
    "\n",
    "\n",
    "#3 differ function\n",
    "def numerical_gradient(f,x): #각자리의 값을 미분해줘야하니 for문 돌리자\n",
    "    h = 1e-4 #아주작은 값을 빼줄거얍\n",
    "    grad = np.zeros_like(x)\n",
    "    if x.ndim == 2:\n",
    "        for i in range(x.shape[0]):\n",
    "            for j in range(x.shape[1]): #2차원이니깐 이렇게\n",
    "                fx = f(x[i,j]) #함수식 하나 만들기\n",
    "                tmp_val = x[i,j] #x에 i,j 행렬값을 집어넣는다\n",
    "                x[i,j] = tmp_val + h #작은 값을 더해서 증가시킨다\n",
    "                fxh = f(x[i,j]) #변화된 함수식\n",
    "                grad[i,j] = (fxh - fx)/h # i,j행렬 값의 미분값을 구함\n",
    "                x[i,j] = tmp_val #위를 받아서 다시 돌릴거\n",
    "    else: #b값 때문에 \n",
    "        for i in range(x.size):\n",
    "            fx = f(x[i])\n",
    "            tmp_val = x[i]\n",
    "            x[i] = tmp_val + h\n",
    "            fxh = f(x[i])\n",
    "            grad[i] = (fxh - fx)/h\n",
    "            x[i] = tmp_val\n",
    "    return grad"
   ]
  },
  {
   "cell_type": "code",
   "execution_count": 18,
   "id": "4b266acf-f6b0-48d6-9b14-e5c160647c56",
   "metadata": {},
   "outputs": [
    {
     "data": {
      "text/plain": [
       "(178, 13)"
      ]
     },
     "execution_count": 18,
     "metadata": {},
     "output_type": "execute_result"
    }
   ],
   "source": [
    "X = datasets.load_wine()['data']\n",
    "X.shape"
   ]
  },
  {
   "cell_type": "code",
   "execution_count": 19,
   "id": "84d15e27-f79d-4f0d-ab92-258d09c27ffc",
   "metadata": {},
   "outputs": [
    {
     "data": {
      "text/plain": [
       "(178,)"
      ]
     },
     "execution_count": 19,
     "metadata": {},
     "output_type": "execute_result"
    }
   ],
   "source": [
    "y = datasets.load_wine()['target']\n",
    "y.shape"
   ]
  },
  {
   "cell_type": "code",
   "execution_count": 20,
   "id": "b1c8fa28-b19b-44c3-8355-62a52cc325f5",
   "metadata": {
    "tags": []
   },
   "outputs": [
    {
     "data": {
      "text/plain": [
       "(178, 3)"
      ]
     },
     "execution_count": 20,
     "metadata": {},
     "output_type": "execute_result"
    }
   ],
   "source": [
    "t = np.zeros((y.size,np.unique(y).size))\n",
    "t.shape"
   ]
  },
  {
   "cell_type": "code",
   "execution_count": 21,
   "id": "2876858f-9a4a-4d40-b04f-5d26b24a8744",
   "metadata": {},
   "outputs": [],
   "source": [
    "for i in range(t.shape[0]): #178개 돌아감\n",
    "    t[i,y[i]] = 1"
   ]
  },
  {
   "cell_type": "code",
   "execution_count": 22,
   "id": "aab5b882-91e3-4fba-973d-6a4c90034ba5",
   "metadata": {},
   "outputs": [],
   "source": [
    "def predict(x,w):\n",
    "    return softmax(np.dot(x,w))"
   ]
  },
  {
   "cell_type": "code",
   "execution_count": 23,
   "id": "e3c0fbf4-d4c4-4c08-aaa7-7a1996e71dd3",
   "metadata": {},
   "outputs": [],
   "source": [
    "w = np.random.randn(13,3)\n",
    "pred = predict(X,w) #이렇게 예측하면 잘안됨 그래서softmax"
   ]
  },
  {
   "cell_type": "code",
   "execution_count": 24,
   "id": "6c64886b-d646-4926-a8ea-c81e99d6cef2",
   "metadata": {
    "collapsed": true,
    "jupyter": {
     "outputs_hidden": true
    },
    "tags": []
   },
   "outputs": [
    {
     "data": {
      "text/plain": [
       "array([[0.57611688, 0.21194156, 0.21194156],\n",
       "       [0.57611688, 0.21194156, 0.21194156],\n",
       "       [0.57611688, 0.21194156, 0.21194156],\n",
       "       [0.57611688, 0.21194156, 0.21194156],\n",
       "       [0.57611688, 0.21194156, 0.21194156],\n",
       "       [0.57611688, 0.21194156, 0.21194156],\n",
       "       [0.57611688, 0.21194156, 0.21194156],\n",
       "       [0.57611688, 0.21194156, 0.21194156],\n",
       "       [0.57611688, 0.21194156, 0.21194156],\n",
       "       [0.57611688, 0.21194156, 0.21194156],\n",
       "       [0.57611688, 0.21194156, 0.21194156],\n",
       "       [0.57611688, 0.21194156, 0.21194156],\n",
       "       [0.57611688, 0.21194156, 0.21194156],\n",
       "       [0.57611688, 0.21194156, 0.21194156],\n",
       "       [0.57611688, 0.21194156, 0.21194156],\n",
       "       [0.57611688, 0.21194156, 0.21194156],\n",
       "       [0.57611688, 0.21194156, 0.21194156],\n",
       "       [0.57611688, 0.21194156, 0.21194156],\n",
       "       [0.57611688, 0.21194156, 0.21194156],\n",
       "       [0.57611688, 0.21194156, 0.21194156],\n",
       "       [0.57611688, 0.21194156, 0.21194156],\n",
       "       [0.57611688, 0.21194156, 0.21194156],\n",
       "       [0.57611688, 0.21194156, 0.21194156],\n",
       "       [0.57611688, 0.21194156, 0.21194156],\n",
       "       [0.57611688, 0.21194156, 0.21194156],\n",
       "       [0.57611688, 0.21194156, 0.21194156],\n",
       "       [0.57611688, 0.21194156, 0.21194156],\n",
       "       [0.57611688, 0.21194156, 0.21194156],\n",
       "       [0.57611688, 0.21194156, 0.21194156],\n",
       "       [0.57611688, 0.21194156, 0.21194156],\n",
       "       [0.57611688, 0.21194156, 0.21194156],\n",
       "       [0.57611688, 0.21194156, 0.21194156],\n",
       "       [0.57611688, 0.21194156, 0.21194156],\n",
       "       [0.57611688, 0.21194156, 0.21194156],\n",
       "       [0.57611688, 0.21194156, 0.21194156],\n",
       "       [0.57611688, 0.21194156, 0.21194156],\n",
       "       [0.57611688, 0.21194156, 0.21194156],\n",
       "       [0.57611688, 0.21194156, 0.21194156],\n",
       "       [0.57611688, 0.21194156, 0.21194156],\n",
       "       [0.57611688, 0.21194156, 0.21194156],\n",
       "       [0.57611688, 0.21194156, 0.21194156],\n",
       "       [0.57611688, 0.21194156, 0.21194156],\n",
       "       [0.57611688, 0.21194156, 0.21194156],\n",
       "       [0.57611688, 0.21194156, 0.21194156],\n",
       "       [0.57611688, 0.21194156, 0.21194156],\n",
       "       [0.57611688, 0.21194156, 0.21194156],\n",
       "       [0.57611688, 0.21194156, 0.21194156],\n",
       "       [0.57611688, 0.21194156, 0.21194156],\n",
       "       [0.57611688, 0.21194156, 0.21194156],\n",
       "       [0.57611688, 0.21194156, 0.21194156],\n",
       "       [0.57611688, 0.21194156, 0.21194156],\n",
       "       [0.57611688, 0.21194156, 0.21194156],\n",
       "       [0.57611688, 0.21194156, 0.21194156],\n",
       "       [0.57611688, 0.21194156, 0.21194156],\n",
       "       [0.57611688, 0.21194156, 0.21194156],\n",
       "       [0.57611688, 0.21194156, 0.21194156],\n",
       "       [0.57611688, 0.21194156, 0.21194156],\n",
       "       [0.57611688, 0.21194156, 0.21194156],\n",
       "       [0.57611688, 0.21194156, 0.21194156],\n",
       "       [0.57611688, 0.21194156, 0.21194156],\n",
       "       [0.57611688, 0.21194156, 0.21194156],\n",
       "       [0.57611688, 0.21194156, 0.21194156],\n",
       "       [0.57611688, 0.21194156, 0.21194156],\n",
       "       [0.57611688, 0.21194156, 0.21194156],\n",
       "       [0.57611688, 0.21194156, 0.21194156],\n",
       "       [0.57611688, 0.21194156, 0.21194156],\n",
       "       [0.57611688, 0.21194156, 0.21194156],\n",
       "       [0.57611688, 0.21194156, 0.21194156],\n",
       "       [0.57611688, 0.21194156, 0.21194156],\n",
       "       [0.57611688, 0.21194156, 0.21194156],\n",
       "       [0.57611688, 0.21194156, 0.21194156],\n",
       "       [0.57611688, 0.21194156, 0.21194156],\n",
       "       [0.57611688, 0.21194156, 0.21194156],\n",
       "       [0.57611688, 0.21194156, 0.21194156],\n",
       "       [0.57611688, 0.21194156, 0.21194156],\n",
       "       [0.57611688, 0.21194156, 0.21194156],\n",
       "       [0.57611688, 0.21194156, 0.21194156],\n",
       "       [0.57611688, 0.21194156, 0.21194156],\n",
       "       [0.57611688, 0.21194156, 0.21194156],\n",
       "       [0.57611688, 0.21194156, 0.21194156],\n",
       "       [0.57611688, 0.21194156, 0.21194156],\n",
       "       [0.57611688, 0.21194156, 0.21194156],\n",
       "       [0.57611688, 0.21194156, 0.21194156],\n",
       "       [0.57611688, 0.21194156, 0.21194156],\n",
       "       [0.57611688, 0.21194156, 0.21194156],\n",
       "       [0.57611688, 0.21194156, 0.21194156],\n",
       "       [0.57611688, 0.21194156, 0.21194156],\n",
       "       [0.57611688, 0.21194156, 0.21194156],\n",
       "       [0.57611688, 0.21194156, 0.21194156],\n",
       "       [0.57611688, 0.21194156, 0.21194156],\n",
       "       [0.57611688, 0.21194156, 0.21194156],\n",
       "       [0.57611688, 0.21194156, 0.21194156],\n",
       "       [0.57611688, 0.21194156, 0.21194156],\n",
       "       [0.57611688, 0.21194156, 0.21194156],\n",
       "       [0.57611688, 0.21194156, 0.21194156],\n",
       "       [0.57611688, 0.21194156, 0.21194156],\n",
       "       [0.57611688, 0.21194156, 0.21194156],\n",
       "       [0.57611688, 0.21194156, 0.21194156],\n",
       "       [0.57611688, 0.21194156, 0.21194156],\n",
       "       [0.57611688, 0.21194156, 0.21194156],\n",
       "       [0.57611688, 0.21194156, 0.21194156],\n",
       "       [0.57611688, 0.21194156, 0.21194156],\n",
       "       [0.57611688, 0.21194156, 0.21194156],\n",
       "       [0.57611688, 0.21194156, 0.21194156],\n",
       "       [0.57611688, 0.21194156, 0.21194156],\n",
       "       [0.57611688, 0.21194156, 0.21194156],\n",
       "       [0.57611688, 0.21194156, 0.21194156],\n",
       "       [0.57611688, 0.21194156, 0.21194156],\n",
       "       [0.57611688, 0.21194156, 0.21194156],\n",
       "       [0.57611688, 0.21194156, 0.21194156],\n",
       "       [0.57611688, 0.21194156, 0.21194156],\n",
       "       [0.57611688, 0.21194156, 0.21194156],\n",
       "       [0.57611688, 0.21194156, 0.21194156],\n",
       "       [0.57611688, 0.21194156, 0.21194156],\n",
       "       [0.57611688, 0.21194156, 0.21194156],\n",
       "       [0.57611688, 0.21194156, 0.21194156],\n",
       "       [0.57611688, 0.21194156, 0.21194156],\n",
       "       [0.57611688, 0.21194156, 0.21194156],\n",
       "       [0.57611688, 0.21194156, 0.21194156],\n",
       "       [0.57611688, 0.21194156, 0.21194156],\n",
       "       [0.57611688, 0.21194156, 0.21194156],\n",
       "       [0.57611688, 0.21194156, 0.21194156],\n",
       "       [0.57611688, 0.21194156, 0.21194156],\n",
       "       [0.57611688, 0.21194156, 0.21194156],\n",
       "       [0.57611688, 0.21194156, 0.21194156],\n",
       "       [0.57611688, 0.21194156, 0.21194156],\n",
       "       [0.57611688, 0.21194156, 0.21194156],\n",
       "       [0.57611688, 0.21194156, 0.21194156],\n",
       "       [0.57611688, 0.21194156, 0.21194156],\n",
       "       [0.57611688, 0.21194156, 0.21194156],\n",
       "       [0.57611688, 0.21194156, 0.21194156],\n",
       "       [0.57611688, 0.21194156, 0.21194156],\n",
       "       [0.57611688, 0.21194156, 0.21194156],\n",
       "       [0.57611688, 0.21194156, 0.21194156],\n",
       "       [0.57611688, 0.21194156, 0.21194156],\n",
       "       [0.57611688, 0.21194156, 0.21194156],\n",
       "       [0.57611688, 0.21194156, 0.21194156],\n",
       "       [0.57611688, 0.21194156, 0.21194156],\n",
       "       [0.57611688, 0.21194156, 0.21194156],\n",
       "       [0.57611688, 0.21194156, 0.21194156],\n",
       "       [0.57611688, 0.21194156, 0.21194156],\n",
       "       [0.57611688, 0.21194156, 0.21194156],\n",
       "       [0.57611688, 0.21194156, 0.21194156],\n",
       "       [0.57611688, 0.21194156, 0.21194156],\n",
       "       [0.57611688, 0.21194156, 0.21194156],\n",
       "       [0.57611688, 0.21194156, 0.21194156],\n",
       "       [0.57611688, 0.21194156, 0.21194156],\n",
       "       [0.57611688, 0.21194156, 0.21194156],\n",
       "       [0.57611688, 0.21194156, 0.21194156],\n",
       "       [0.57611688, 0.21194156, 0.21194156],\n",
       "       [0.57611688, 0.21194156, 0.21194156],\n",
       "       [0.57611688, 0.21194156, 0.21194156],\n",
       "       [0.57611688, 0.21194156, 0.21194156],\n",
       "       [0.57611688, 0.21194156, 0.21194156],\n",
       "       [0.57611688, 0.21194156, 0.21194156],\n",
       "       [0.57611688, 0.21194156, 0.21194156],\n",
       "       [0.57611688, 0.21194156, 0.21194156],\n",
       "       [0.57611688, 0.21194156, 0.21194156],\n",
       "       [0.57611688, 0.21194156, 0.21194156],\n",
       "       [0.57611688, 0.21194156, 0.21194156],\n",
       "       [0.57611688, 0.21194156, 0.21194156],\n",
       "       [0.57611688, 0.21194156, 0.21194156],\n",
       "       [0.57611688, 0.21194156, 0.21194156],\n",
       "       [0.57611688, 0.21194156, 0.21194156],\n",
       "       [0.57611688, 0.21194156, 0.21194156],\n",
       "       [0.57611688, 0.21194156, 0.21194156],\n",
       "       [0.57611688, 0.21194156, 0.21194156],\n",
       "       [0.57611688, 0.21194156, 0.21194156],\n",
       "       [0.57611688, 0.21194156, 0.21194156],\n",
       "       [0.57611688, 0.21194156, 0.21194156],\n",
       "       [0.57611688, 0.21194156, 0.21194156],\n",
       "       [0.57611688, 0.21194156, 0.21194156],\n",
       "       [0.57611688, 0.21194156, 0.21194156],\n",
       "       [0.57611688, 0.21194156, 0.21194156],\n",
       "       [0.57611688, 0.21194156, 0.21194156],\n",
       "       [0.57611688, 0.21194156, 0.21194156],\n",
       "       [0.57611688, 0.21194156, 0.21194156],\n",
       "       [0.57611688, 0.21194156, 0.21194156]])"
      ]
     },
     "execution_count": 24,
     "metadata": {},
     "output_type": "execute_result"
    }
   ],
   "source": [
    "softmax(pred)"
   ]
  },
  {
   "cell_type": "code",
   "execution_count": 25,
   "id": "411811c1-ac27-41e7-8036-3879d854daab",
   "metadata": {},
   "outputs": [],
   "source": [
    "f = lambda W: cross_entropy_error(pred,t)"
   ]
  },
  {
   "cell_type": "code",
   "execution_count": 26,
   "id": "6be2978f-ac45-4e0c-8cb1-a10578c8f327",
   "metadata": {
    "tags": []
   },
   "outputs": [
    {
     "data": {
      "text/plain": [
       "array([[0., 0., 0.],\n",
       "       [0., 0., 0.],\n",
       "       [0., 0., 0.],\n",
       "       [0., 0., 0.],\n",
       "       [0., 0., 0.],\n",
       "       [0., 0., 0.],\n",
       "       [0., 0., 0.],\n",
       "       [0., 0., 0.],\n",
       "       [0., 0., 0.],\n",
       "       [0., 0., 0.],\n",
       "       [0., 0., 0.],\n",
       "       [0., 0., 0.],\n",
       "       [0., 0., 0.]])"
      ]
     },
     "execution_count": 26,
     "metadata": {},
     "output_type": "execute_result"
    }
   ],
   "source": [
    "#미분한 W값\n",
    "numerical_gradient(f,w)"
   ]
  },
  {
   "cell_type": "code",
   "execution_count": 27,
   "id": "4be5c5b7-f5ad-4c0f-8c6e-3c122c73b73b",
   "metadata": {},
   "outputs": [],
   "source": [
    "# 계속 w업데이트\n",
    "lr = 1e-3\n",
    "dW = numerical_gradient(f,w)\n",
    "w = w - lr*dW "
   ]
  },
  {
   "cell_type": "code",
   "execution_count": 28,
   "id": "629d9a04-0eb3-42ab-b9c4-e7f6b1b19247",
   "metadata": {},
   "outputs": [],
   "source": [
    "##이제 묶어서 클래스 만들거임:: 나중에 nework끼리 경쟁하는거가 있어서 하는거임\n",
    "\n",
    "#1 network 설계\n",
    "#2 predict = X*network\n",
    "#3 predict result vs true value 오차함수 생성\n",
    "#4 함수를 미분\n",
    "#5 미분값을 lr와 곱해서 빼준후 update\n",
    "\n",
    "class OneLayer:\n",
    "    def __init__(self,input_size,output_size):\n",
    "        self.W = {}\n",
    "        self.W['W1'] = np.random.randn(input_size,output_size)\n",
    "        self.W['b'] = np.random.randn(output_size)\n",
    "        \n",
    "    def predict(self,x):\n",
    "        w1,b = self.W['W1'],self.W['b']\n",
    "        pred = softmax(np.dot(x,W1) + b)\n",
    "        return pred\n",
    "    \n",
    "    def loss(self,x,t):\n",
    "        y = self.predict(x)\n",
    "        return cross_entropy_error(y,t)\n",
    "    \n",
    "    def numerical_gradient(self,x,t):\n",
    "        y = self.predict(x)\n",
    "        f = lambda W: cross_entropy_error(y,t)\n",
    "        grad = {}\n",
    "        grad['W1'] = numerical_gradient(f,self.W['W1'])\n",
    "        grad['b'] = numerical_gradient(f,self.W['b'])\n",
    "        \n",
    "        return grad\n",
    "    \n",
    "    def accuracy(self,x,t):\n",
    "        y = self.predict(x) #x를가지고 y를 예측\n",
    "        acc = np.sum(np.argmax(y,axis=1) == np.argmax(t,axis=1))/y.shape[0]\n",
    "        return acc\n",
    "    \n",
    "    def fit(self,x,t,epochs=1000,lr=1e-3,verbos=1): #verbos=1: 한줄로 학습결과 보여줌\n",
    "        for epoch in range(epochs):\n",
    "            self.W['W1'] = self.W['W1'] - lr*self.numerical_gradient(x,t)['W1']\n",
    "            self.W['b'] -= lr*self.numerical_gradient(x,t)['b']\n",
    "            if verbos == 1:\n",
    "                print(\"=========== loss \",self.loss(x,t), \"======== acc \",self.accuracy(x,t))\n",
    "                "
   ]
  },
  {
   "cell_type": "code",
   "execution_count": 29,
   "id": "3b6f828e-a801-460c-82e0-69f3f824461c",
   "metadata": {},
   "outputs": [],
   "source": [
    "#확인\n",
    "X.shape\n",
    "t.shape\n",
    "#값주기\n",
    "input_size = X.shape[1]\n",
    "output_size = t.shape[1]\n",
    "#모델생성\n",
    "model = OneLayer(input_size=input_size, output_size=output_size)"
   ]
  },
  {
   "cell_type": "code",
   "execution_count": 30,
   "id": "9af05b74-1318-42f3-a663-5f30291a276f",
   "metadata": {},
   "outputs": [
    {
     "data": {
      "text/plain": [
       "array([[ 0.18288475,  0.69007937, -1.6242587 ],\n",
       "       [-0.03376915,  1.18163281,  0.39970785],\n",
       "       [ 0.76031125, -0.16993336,  1.25258499],\n",
       "       [ 0.82807409, -0.77707652, -2.96479434],\n",
       "       [ 0.50378222, -2.07176777,  1.19342965],\n",
       "       [ 1.80861954, -0.42242125, -0.97363745],\n",
       "       [ 0.18413828, -0.96929613,  0.41595149],\n",
       "       [-0.98688024, -1.39754922,  1.50504256],\n",
       "       [ 1.48168107,  1.2912138 , -0.57199798],\n",
       "       [ 0.1549915 , -0.07754445, -1.12988335],\n",
       "       [ 1.41442526,  0.29676508,  0.77911924],\n",
       "       [ 1.14223235,  1.04393931, -1.25892969],\n",
       "       [ 1.990007  ,  1.29655838,  1.49168867]])"
      ]
     },
     "execution_count": 30,
     "metadata": {},
     "output_type": "execute_result"
    }
   ],
   "source": [
    "#확인\n",
    "model.W['W1'].shape\n",
    "model.W['W1']"
   ]
  },
  {
   "cell_type": "code",
   "execution_count": 31,
   "id": "0c6c2784-d757-4158-91c6-09b25c4aa10e",
   "metadata": {},
   "outputs": [
    {
     "data": {
      "text/plain": [
       "array([[0., 0., 0.],\n",
       "       [0., 0., 0.],\n",
       "       [0., 0., 0.],\n",
       "       [0., 0., 0.],\n",
       "       [0., 0., 0.],\n",
       "       [0., 0., 0.],\n",
       "       [0., 0., 0.],\n",
       "       [0., 0., 0.],\n",
       "       [0., 0., 0.],\n",
       "       [0., 0., 0.],\n",
       "       [0., 0., 0.],\n",
       "       [0., 0., 0.],\n",
       "       [0., 0., 0.]])"
      ]
     },
     "execution_count": 31,
     "metadata": {},
     "output_type": "execute_result"
    }
   ],
   "source": [
    "numerical_gradient(f,model.W['W1'])"
   ]
  },
  {
   "cell_type": "code",
   "execution_count": 32,
   "id": "ccdfac96-9162-4414-b22f-57a4dde21251",
   "metadata": {},
   "outputs": [
    {
     "data": {
      "text/plain": [
       "<function __main__.<lambda>(W)>"
      ]
     },
     "execution_count": 32,
     "metadata": {},
     "output_type": "execute_result"
    }
   ],
   "source": [
    "lambda W: cross_entropy_error(X,t)"
   ]
  },
  {
   "cell_type": "code",
   "execution_count": 38,
   "id": "4df04876-8044-41f2-b410-a5337d9409f6",
   "metadata": {
    "tags": []
   },
   "outputs": [
    {
     "ename": "NameError",
     "evalue": "name 'W1' is not defined",
     "output_type": "error",
     "traceback": [
      "\u001b[1;31m---------------------------------------------------------------------------\u001b[0m",
      "\u001b[1;31mNameError\u001b[0m                                 Traceback (most recent call last)",
      "\u001b[1;32m~\\AppData\\Local\\Temp/ipykernel_11936/601036587.py\u001b[0m in \u001b[0;36m<module>\u001b[1;34m\u001b[0m\n\u001b[1;32m----> 1\u001b[1;33m \u001b[0mmodel\u001b[0m\u001b[1;33m.\u001b[0m\u001b[0mnumerical_gradient\u001b[0m\u001b[1;33m(\u001b[0m\u001b[0mX\u001b[0m\u001b[1;33m,\u001b[0m\u001b[0mt\u001b[0m\u001b[1;33m)\u001b[0m\u001b[1;33m\u001b[0m\u001b[1;33m\u001b[0m\u001b[0m\n\u001b[0m",
      "\u001b[1;32m~\\AppData\\Local\\Temp/ipykernel_11936/3249707309.py\u001b[0m in \u001b[0;36mnumerical_gradient\u001b[1;34m(self, x, t)\u001b[0m\n\u001b[0;32m     23\u001b[0m \u001b[1;33m\u001b[0m\u001b[0m\n\u001b[0;32m     24\u001b[0m     \u001b[1;32mdef\u001b[0m \u001b[0mnumerical_gradient\u001b[0m\u001b[1;33m(\u001b[0m\u001b[0mself\u001b[0m\u001b[1;33m,\u001b[0m\u001b[0mx\u001b[0m\u001b[1;33m,\u001b[0m\u001b[0mt\u001b[0m\u001b[1;33m)\u001b[0m\u001b[1;33m:\u001b[0m\u001b[1;33m\u001b[0m\u001b[1;33m\u001b[0m\u001b[0m\n\u001b[1;32m---> 25\u001b[1;33m         \u001b[0my\u001b[0m \u001b[1;33m=\u001b[0m \u001b[0mself\u001b[0m\u001b[1;33m.\u001b[0m\u001b[0mpredict\u001b[0m\u001b[1;33m(\u001b[0m\u001b[0mx\u001b[0m\u001b[1;33m)\u001b[0m\u001b[1;33m\u001b[0m\u001b[1;33m\u001b[0m\u001b[0m\n\u001b[0m\u001b[0;32m     26\u001b[0m         \u001b[0mf\u001b[0m \u001b[1;33m=\u001b[0m \u001b[1;32mlambda\u001b[0m \u001b[0mW\u001b[0m\u001b[1;33m:\u001b[0m \u001b[0mcross_entropy_error\u001b[0m\u001b[1;33m(\u001b[0m\u001b[0my\u001b[0m\u001b[1;33m,\u001b[0m\u001b[0mt\u001b[0m\u001b[1;33m)\u001b[0m\u001b[1;33m\u001b[0m\u001b[1;33m\u001b[0m\u001b[0m\n\u001b[0;32m     27\u001b[0m         \u001b[0mgrad\u001b[0m \u001b[1;33m=\u001b[0m \u001b[1;33m{\u001b[0m\u001b[1;33m}\u001b[0m\u001b[1;33m\u001b[0m\u001b[1;33m\u001b[0m\u001b[0m\n",
      "\u001b[1;32m~\\AppData\\Local\\Temp/ipykernel_11936/3249707309.py\u001b[0m in \u001b[0;36mpredict\u001b[1;34m(self, x)\u001b[0m\n\u001b[0;32m     15\u001b[0m     \u001b[1;32mdef\u001b[0m \u001b[0mpredict\u001b[0m\u001b[1;33m(\u001b[0m\u001b[0mself\u001b[0m\u001b[1;33m,\u001b[0m\u001b[0mx\u001b[0m\u001b[1;33m)\u001b[0m\u001b[1;33m:\u001b[0m\u001b[1;33m\u001b[0m\u001b[1;33m\u001b[0m\u001b[0m\n\u001b[0;32m     16\u001b[0m         \u001b[0mw1\u001b[0m\u001b[1;33m,\u001b[0m\u001b[0mb\u001b[0m \u001b[1;33m=\u001b[0m \u001b[0mself\u001b[0m\u001b[1;33m.\u001b[0m\u001b[0mW\u001b[0m\u001b[1;33m[\u001b[0m\u001b[1;34m'W1'\u001b[0m\u001b[1;33m]\u001b[0m\u001b[1;33m,\u001b[0m\u001b[0mself\u001b[0m\u001b[1;33m.\u001b[0m\u001b[0mW\u001b[0m\u001b[1;33m[\u001b[0m\u001b[1;34m'b'\u001b[0m\u001b[1;33m]\u001b[0m\u001b[1;33m\u001b[0m\u001b[1;33m\u001b[0m\u001b[0m\n\u001b[1;32m---> 17\u001b[1;33m         \u001b[0mpred\u001b[0m \u001b[1;33m=\u001b[0m \u001b[0msoftmax\u001b[0m\u001b[1;33m(\u001b[0m\u001b[0mnp\u001b[0m\u001b[1;33m.\u001b[0m\u001b[0mdot\u001b[0m\u001b[1;33m(\u001b[0m\u001b[0mx\u001b[0m\u001b[1;33m,\u001b[0m\u001b[0mW1\u001b[0m\u001b[1;33m)\u001b[0m \u001b[1;33m+\u001b[0m \u001b[0mb\u001b[0m\u001b[1;33m)\u001b[0m\u001b[1;33m\u001b[0m\u001b[1;33m\u001b[0m\u001b[0m\n\u001b[0m\u001b[0;32m     18\u001b[0m         \u001b[1;32mreturn\u001b[0m \u001b[0mpred\u001b[0m\u001b[1;33m\u001b[0m\u001b[1;33m\u001b[0m\u001b[0m\n\u001b[0;32m     19\u001b[0m \u001b[1;33m\u001b[0m\u001b[0m\n",
      "\u001b[1;31mNameError\u001b[0m: name 'W1' is not defined"
     ]
    }
   ],
   "source": [
    "model.numerical_gradient(X,t)"
   ]
  },
  {
   "cell_type": "code",
   "execution_count": 39,
   "id": "bddc0da2-dd65-4419-9aed-4afd0b090bee",
   "metadata": {
    "tags": []
   },
   "outputs": [
    {
     "ename": "NameError",
     "evalue": "name 'W1' is not defined",
     "output_type": "error",
     "traceback": [
      "\u001b[1;31m---------------------------------------------------------------------------\u001b[0m",
      "\u001b[1;31mNameError\u001b[0m                                 Traceback (most recent call last)",
      "\u001b[1;32m~\\AppData\\Local\\Temp/ipykernel_11936/3775591166.py\u001b[0m in \u001b[0;36m<module>\u001b[1;34m\u001b[0m\n\u001b[1;32m----> 1\u001b[1;33m \u001b[0mmodel\u001b[0m\u001b[1;33m.\u001b[0m\u001b[0mfit\u001b[0m\u001b[1;33m(\u001b[0m\u001b[0mX\u001b[0m\u001b[1;33m,\u001b[0m\u001b[0mt\u001b[0m\u001b[1;33m,\u001b[0m\u001b[0mverbos\u001b[0m\u001b[1;33m=\u001b[0m\u001b[1;36m2\u001b[0m\u001b[1;33m)\u001b[0m\u001b[1;33m\u001b[0m\u001b[1;33m\u001b[0m\u001b[0m\n\u001b[0m",
      "\u001b[1;32m~\\AppData\\Local\\Temp/ipykernel_11936/3249707309.py\u001b[0m in \u001b[0;36mfit\u001b[1;34m(self, x, t, epochs, lr, verbos)\u001b[0m\n\u001b[0;32m     38\u001b[0m     \u001b[1;32mdef\u001b[0m \u001b[0mfit\u001b[0m\u001b[1;33m(\u001b[0m\u001b[0mself\u001b[0m\u001b[1;33m,\u001b[0m\u001b[0mx\u001b[0m\u001b[1;33m,\u001b[0m\u001b[0mt\u001b[0m\u001b[1;33m,\u001b[0m\u001b[0mepochs\u001b[0m\u001b[1;33m=\u001b[0m\u001b[1;36m1000\u001b[0m\u001b[1;33m,\u001b[0m\u001b[0mlr\u001b[0m\u001b[1;33m=\u001b[0m\u001b[1;36m1e-3\u001b[0m\u001b[1;33m,\u001b[0m\u001b[0mverbos\u001b[0m\u001b[1;33m=\u001b[0m\u001b[1;36m1\u001b[0m\u001b[1;33m)\u001b[0m\u001b[1;33m:\u001b[0m \u001b[1;31m#verbos=1: 한줄로 학습결과 보여줌\u001b[0m\u001b[1;33m\u001b[0m\u001b[1;33m\u001b[0m\u001b[0m\n\u001b[0;32m     39\u001b[0m         \u001b[1;32mfor\u001b[0m \u001b[0mepoch\u001b[0m \u001b[1;32min\u001b[0m \u001b[0mrange\u001b[0m\u001b[1;33m(\u001b[0m\u001b[0mepochs\u001b[0m\u001b[1;33m)\u001b[0m\u001b[1;33m:\u001b[0m\u001b[1;33m\u001b[0m\u001b[1;33m\u001b[0m\u001b[0m\n\u001b[1;32m---> 40\u001b[1;33m             \u001b[0mself\u001b[0m\u001b[1;33m.\u001b[0m\u001b[0mW\u001b[0m\u001b[1;33m[\u001b[0m\u001b[1;34m'W1'\u001b[0m\u001b[1;33m]\u001b[0m \u001b[1;33m=\u001b[0m \u001b[0mself\u001b[0m\u001b[1;33m.\u001b[0m\u001b[0mW\u001b[0m\u001b[1;33m[\u001b[0m\u001b[1;34m'W1'\u001b[0m\u001b[1;33m]\u001b[0m \u001b[1;33m-\u001b[0m \u001b[0mlr\u001b[0m\u001b[1;33m*\u001b[0m\u001b[0mself\u001b[0m\u001b[1;33m.\u001b[0m\u001b[0mnumerical_gradient\u001b[0m\u001b[1;33m(\u001b[0m\u001b[0mx\u001b[0m\u001b[1;33m,\u001b[0m\u001b[0mt\u001b[0m\u001b[1;33m)\u001b[0m\u001b[1;33m[\u001b[0m\u001b[1;34m'W1'\u001b[0m\u001b[1;33m]\u001b[0m\u001b[1;33m\u001b[0m\u001b[1;33m\u001b[0m\u001b[0m\n\u001b[0m\u001b[0;32m     41\u001b[0m             \u001b[0mself\u001b[0m\u001b[1;33m.\u001b[0m\u001b[0mW\u001b[0m\u001b[1;33m[\u001b[0m\u001b[1;34m'b'\u001b[0m\u001b[1;33m]\u001b[0m \u001b[1;33m-=\u001b[0m \u001b[0mlr\u001b[0m\u001b[1;33m*\u001b[0m\u001b[0mself\u001b[0m\u001b[1;33m.\u001b[0m\u001b[0mnumerical_gradient\u001b[0m\u001b[1;33m(\u001b[0m\u001b[0mx\u001b[0m\u001b[1;33m,\u001b[0m\u001b[0mt\u001b[0m\u001b[1;33m)\u001b[0m\u001b[1;33m[\u001b[0m\u001b[1;34m'b'\u001b[0m\u001b[1;33m]\u001b[0m\u001b[1;33m\u001b[0m\u001b[1;33m\u001b[0m\u001b[0m\n\u001b[0;32m     42\u001b[0m             \u001b[1;32mif\u001b[0m \u001b[0mverbos\u001b[0m \u001b[1;33m==\u001b[0m \u001b[1;36m1\u001b[0m\u001b[1;33m:\u001b[0m\u001b[1;33m\u001b[0m\u001b[1;33m\u001b[0m\u001b[0m\n",
      "\u001b[1;32m~\\AppData\\Local\\Temp/ipykernel_11936/3249707309.py\u001b[0m in \u001b[0;36mnumerical_gradient\u001b[1;34m(self, x, t)\u001b[0m\n\u001b[0;32m     23\u001b[0m \u001b[1;33m\u001b[0m\u001b[0m\n\u001b[0;32m     24\u001b[0m     \u001b[1;32mdef\u001b[0m \u001b[0mnumerical_gradient\u001b[0m\u001b[1;33m(\u001b[0m\u001b[0mself\u001b[0m\u001b[1;33m,\u001b[0m\u001b[0mx\u001b[0m\u001b[1;33m,\u001b[0m\u001b[0mt\u001b[0m\u001b[1;33m)\u001b[0m\u001b[1;33m:\u001b[0m\u001b[1;33m\u001b[0m\u001b[1;33m\u001b[0m\u001b[0m\n\u001b[1;32m---> 25\u001b[1;33m         \u001b[0my\u001b[0m \u001b[1;33m=\u001b[0m \u001b[0mself\u001b[0m\u001b[1;33m.\u001b[0m\u001b[0mpredict\u001b[0m\u001b[1;33m(\u001b[0m\u001b[0mx\u001b[0m\u001b[1;33m)\u001b[0m\u001b[1;33m\u001b[0m\u001b[1;33m\u001b[0m\u001b[0m\n\u001b[0m\u001b[0;32m     26\u001b[0m         \u001b[0mf\u001b[0m \u001b[1;33m=\u001b[0m \u001b[1;32mlambda\u001b[0m \u001b[0mW\u001b[0m\u001b[1;33m:\u001b[0m \u001b[0mcross_entropy_error\u001b[0m\u001b[1;33m(\u001b[0m\u001b[0my\u001b[0m\u001b[1;33m,\u001b[0m\u001b[0mt\u001b[0m\u001b[1;33m)\u001b[0m\u001b[1;33m\u001b[0m\u001b[1;33m\u001b[0m\u001b[0m\n\u001b[0;32m     27\u001b[0m         \u001b[0mgrad\u001b[0m \u001b[1;33m=\u001b[0m \u001b[1;33m{\u001b[0m\u001b[1;33m}\u001b[0m\u001b[1;33m\u001b[0m\u001b[1;33m\u001b[0m\u001b[0m\n",
      "\u001b[1;32m~\\AppData\\Local\\Temp/ipykernel_11936/3249707309.py\u001b[0m in \u001b[0;36mpredict\u001b[1;34m(self, x)\u001b[0m\n\u001b[0;32m     15\u001b[0m     \u001b[1;32mdef\u001b[0m \u001b[0mpredict\u001b[0m\u001b[1;33m(\u001b[0m\u001b[0mself\u001b[0m\u001b[1;33m,\u001b[0m\u001b[0mx\u001b[0m\u001b[1;33m)\u001b[0m\u001b[1;33m:\u001b[0m\u001b[1;33m\u001b[0m\u001b[1;33m\u001b[0m\u001b[0m\n\u001b[0;32m     16\u001b[0m         \u001b[0mw1\u001b[0m\u001b[1;33m,\u001b[0m\u001b[0mb\u001b[0m \u001b[1;33m=\u001b[0m \u001b[0mself\u001b[0m\u001b[1;33m.\u001b[0m\u001b[0mW\u001b[0m\u001b[1;33m[\u001b[0m\u001b[1;34m'W1'\u001b[0m\u001b[1;33m]\u001b[0m\u001b[1;33m,\u001b[0m\u001b[0mself\u001b[0m\u001b[1;33m.\u001b[0m\u001b[0mW\u001b[0m\u001b[1;33m[\u001b[0m\u001b[1;34m'b'\u001b[0m\u001b[1;33m]\u001b[0m\u001b[1;33m\u001b[0m\u001b[1;33m\u001b[0m\u001b[0m\n\u001b[1;32m---> 17\u001b[1;33m         \u001b[0mpred\u001b[0m \u001b[1;33m=\u001b[0m \u001b[0msoftmax\u001b[0m\u001b[1;33m(\u001b[0m\u001b[0mnp\u001b[0m\u001b[1;33m.\u001b[0m\u001b[0mdot\u001b[0m\u001b[1;33m(\u001b[0m\u001b[0mx\u001b[0m\u001b[1;33m,\u001b[0m\u001b[0mW1\u001b[0m\u001b[1;33m)\u001b[0m \u001b[1;33m+\u001b[0m \u001b[0mb\u001b[0m\u001b[1;33m)\u001b[0m\u001b[1;33m\u001b[0m\u001b[1;33m\u001b[0m\u001b[0m\n\u001b[0m\u001b[0;32m     18\u001b[0m         \u001b[1;32mreturn\u001b[0m \u001b[0mpred\u001b[0m\u001b[1;33m\u001b[0m\u001b[1;33m\u001b[0m\u001b[0m\n\u001b[0;32m     19\u001b[0m \u001b[1;33m\u001b[0m\u001b[0m\n",
      "\u001b[1;31mNameError\u001b[0m: name 'W1' is not defined"
     ]
    }
   ],
   "source": [
    "model.fit(X,t,verbos=2)"
   ]
  },
  {
   "cell_type": "code",
   "execution_count": null,
   "id": "862f89b0-efb1-418f-9122-9329ad3d3b4d",
   "metadata": {},
   "outputs": [],
   "source": []
  }
 ],
 "metadata": {
  "kernelspec": {
   "display_name": "Python 3 (ipykernel)",
   "language": "python",
   "name": "python3"
  },
  "language_info": {
   "codemirror_mode": {
    "name": "ipython",
    "version": 3
   },
   "file_extension": ".py",
   "mimetype": "text/x-python",
   "name": "python",
   "nbconvert_exporter": "python",
   "pygments_lexer": "ipython3",
   "version": "3.9.7"
  }
 },
 "nbformat": 4,
 "nbformat_minor": 5
}
