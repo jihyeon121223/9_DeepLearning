{
 "cells": [
  {
   "cell_type": "code",
   "execution_count": 1,
   "id": "4300ba83-0494-4c1c-944e-c161d881e76b",
   "metadata": {
    "tags": []
   },
   "outputs": [],
   "source": [
    "from activation import sigmoid, relu, softmax"
   ]
  },
  {
   "cell_type": "code",
   "execution_count": 2,
   "id": "00d4796a-7dce-436c-9d95-3e667f615d6c",
   "metadata": {},
   "outputs": [
    {
     "data": {
      "text/plain": [
       "0.9999546021312976"
      ]
     },
     "execution_count": 2,
     "metadata": {},
     "output_type": "execute_result"
    }
   ],
   "source": [
    "sigmoid(10)"
   ]
  },
  {
   "cell_type": "code",
   "execution_count": 3,
   "id": "02f7c3e6-a4bc-4ae3-aa63-8519aa7ee745",
   "metadata": {},
   "outputs": [],
   "source": [
    "from sklearn.datasets import fetch_openml"
   ]
  },
  {
   "cell_type": "code",
   "execution_count": 4,
   "id": "bc2f1a43-8a7b-4ff8-b79f-05e727027c37",
   "metadata": {},
   "outputs": [],
   "source": [
    "mnist = fetch_openml('mnist_784')"
   ]
  },
  {
   "cell_type": "code",
   "execution_count": 5,
   "id": "3d8a126a-babc-4204-b5d2-8aed4f9a8728",
   "metadata": {},
   "outputs": [
    {
     "data": {
      "text/html": [
       "<div>\n",
       "<style scoped>\n",
       "    .dataframe tbody tr th:only-of-type {\n",
       "        vertical-align: middle;\n",
       "    }\n",
       "\n",
       "    .dataframe tbody tr th {\n",
       "        vertical-align: top;\n",
       "    }\n",
       "\n",
       "    .dataframe thead th {\n",
       "        text-align: right;\n",
       "    }\n",
       "</style>\n",
       "<table border=\"1\" class=\"dataframe\">\n",
       "  <thead>\n",
       "    <tr style=\"text-align: right;\">\n",
       "      <th></th>\n",
       "      <th>pixel1</th>\n",
       "      <th>pixel2</th>\n",
       "      <th>pixel3</th>\n",
       "      <th>pixel4</th>\n",
       "      <th>pixel5</th>\n",
       "      <th>pixel6</th>\n",
       "      <th>pixel7</th>\n",
       "      <th>pixel8</th>\n",
       "      <th>pixel9</th>\n",
       "      <th>pixel10</th>\n",
       "      <th>...</th>\n",
       "      <th>pixel775</th>\n",
       "      <th>pixel776</th>\n",
       "      <th>pixel777</th>\n",
       "      <th>pixel778</th>\n",
       "      <th>pixel779</th>\n",
       "      <th>pixel780</th>\n",
       "      <th>pixel781</th>\n",
       "      <th>pixel782</th>\n",
       "      <th>pixel783</th>\n",
       "      <th>pixel784</th>\n",
       "    </tr>\n",
       "  </thead>\n",
       "  <tbody>\n",
       "    <tr>\n",
       "      <th>0</th>\n",
       "      <td>0.0</td>\n",
       "      <td>0.0</td>\n",
       "      <td>0.0</td>\n",
       "      <td>0.0</td>\n",
       "      <td>0.0</td>\n",
       "      <td>0.0</td>\n",
       "      <td>0.0</td>\n",
       "      <td>0.0</td>\n",
       "      <td>0.0</td>\n",
       "      <td>0.0</td>\n",
       "      <td>...</td>\n",
       "      <td>0.0</td>\n",
       "      <td>0.0</td>\n",
       "      <td>0.0</td>\n",
       "      <td>0.0</td>\n",
       "      <td>0.0</td>\n",
       "      <td>0.0</td>\n",
       "      <td>0.0</td>\n",
       "      <td>0.0</td>\n",
       "      <td>0.0</td>\n",
       "      <td>0.0</td>\n",
       "    </tr>\n",
       "    <tr>\n",
       "      <th>1</th>\n",
       "      <td>0.0</td>\n",
       "      <td>0.0</td>\n",
       "      <td>0.0</td>\n",
       "      <td>0.0</td>\n",
       "      <td>0.0</td>\n",
       "      <td>0.0</td>\n",
       "      <td>0.0</td>\n",
       "      <td>0.0</td>\n",
       "      <td>0.0</td>\n",
       "      <td>0.0</td>\n",
       "      <td>...</td>\n",
       "      <td>0.0</td>\n",
       "      <td>0.0</td>\n",
       "      <td>0.0</td>\n",
       "      <td>0.0</td>\n",
       "      <td>0.0</td>\n",
       "      <td>0.0</td>\n",
       "      <td>0.0</td>\n",
       "      <td>0.0</td>\n",
       "      <td>0.0</td>\n",
       "      <td>0.0</td>\n",
       "    </tr>\n",
       "    <tr>\n",
       "      <th>2</th>\n",
       "      <td>0.0</td>\n",
       "      <td>0.0</td>\n",
       "      <td>0.0</td>\n",
       "      <td>0.0</td>\n",
       "      <td>0.0</td>\n",
       "      <td>0.0</td>\n",
       "      <td>0.0</td>\n",
       "      <td>0.0</td>\n",
       "      <td>0.0</td>\n",
       "      <td>0.0</td>\n",
       "      <td>...</td>\n",
       "      <td>0.0</td>\n",
       "      <td>0.0</td>\n",
       "      <td>0.0</td>\n",
       "      <td>0.0</td>\n",
       "      <td>0.0</td>\n",
       "      <td>0.0</td>\n",
       "      <td>0.0</td>\n",
       "      <td>0.0</td>\n",
       "      <td>0.0</td>\n",
       "      <td>0.0</td>\n",
       "    </tr>\n",
       "    <tr>\n",
       "      <th>3</th>\n",
       "      <td>0.0</td>\n",
       "      <td>0.0</td>\n",
       "      <td>0.0</td>\n",
       "      <td>0.0</td>\n",
       "      <td>0.0</td>\n",
       "      <td>0.0</td>\n",
       "      <td>0.0</td>\n",
       "      <td>0.0</td>\n",
       "      <td>0.0</td>\n",
       "      <td>0.0</td>\n",
       "      <td>...</td>\n",
       "      <td>0.0</td>\n",
       "      <td>0.0</td>\n",
       "      <td>0.0</td>\n",
       "      <td>0.0</td>\n",
       "      <td>0.0</td>\n",
       "      <td>0.0</td>\n",
       "      <td>0.0</td>\n",
       "      <td>0.0</td>\n",
       "      <td>0.0</td>\n",
       "      <td>0.0</td>\n",
       "    </tr>\n",
       "    <tr>\n",
       "      <th>4</th>\n",
       "      <td>0.0</td>\n",
       "      <td>0.0</td>\n",
       "      <td>0.0</td>\n",
       "      <td>0.0</td>\n",
       "      <td>0.0</td>\n",
       "      <td>0.0</td>\n",
       "      <td>0.0</td>\n",
       "      <td>0.0</td>\n",
       "      <td>0.0</td>\n",
       "      <td>0.0</td>\n",
       "      <td>...</td>\n",
       "      <td>0.0</td>\n",
       "      <td>0.0</td>\n",
       "      <td>0.0</td>\n",
       "      <td>0.0</td>\n",
       "      <td>0.0</td>\n",
       "      <td>0.0</td>\n",
       "      <td>0.0</td>\n",
       "      <td>0.0</td>\n",
       "      <td>0.0</td>\n",
       "      <td>0.0</td>\n",
       "    </tr>\n",
       "    <tr>\n",
       "      <th>...</th>\n",
       "      <td>...</td>\n",
       "      <td>...</td>\n",
       "      <td>...</td>\n",
       "      <td>...</td>\n",
       "      <td>...</td>\n",
       "      <td>...</td>\n",
       "      <td>...</td>\n",
       "      <td>...</td>\n",
       "      <td>...</td>\n",
       "      <td>...</td>\n",
       "      <td>...</td>\n",
       "      <td>...</td>\n",
       "      <td>...</td>\n",
       "      <td>...</td>\n",
       "      <td>...</td>\n",
       "      <td>...</td>\n",
       "      <td>...</td>\n",
       "      <td>...</td>\n",
       "      <td>...</td>\n",
       "      <td>...</td>\n",
       "      <td>...</td>\n",
       "    </tr>\n",
       "    <tr>\n",
       "      <th>69995</th>\n",
       "      <td>0.0</td>\n",
       "      <td>0.0</td>\n",
       "      <td>0.0</td>\n",
       "      <td>0.0</td>\n",
       "      <td>0.0</td>\n",
       "      <td>0.0</td>\n",
       "      <td>0.0</td>\n",
       "      <td>0.0</td>\n",
       "      <td>0.0</td>\n",
       "      <td>0.0</td>\n",
       "      <td>...</td>\n",
       "      <td>0.0</td>\n",
       "      <td>0.0</td>\n",
       "      <td>0.0</td>\n",
       "      <td>0.0</td>\n",
       "      <td>0.0</td>\n",
       "      <td>0.0</td>\n",
       "      <td>0.0</td>\n",
       "      <td>0.0</td>\n",
       "      <td>0.0</td>\n",
       "      <td>0.0</td>\n",
       "    </tr>\n",
       "    <tr>\n",
       "      <th>69996</th>\n",
       "      <td>0.0</td>\n",
       "      <td>0.0</td>\n",
       "      <td>0.0</td>\n",
       "      <td>0.0</td>\n",
       "      <td>0.0</td>\n",
       "      <td>0.0</td>\n",
       "      <td>0.0</td>\n",
       "      <td>0.0</td>\n",
       "      <td>0.0</td>\n",
       "      <td>0.0</td>\n",
       "      <td>...</td>\n",
       "      <td>0.0</td>\n",
       "      <td>0.0</td>\n",
       "      <td>0.0</td>\n",
       "      <td>0.0</td>\n",
       "      <td>0.0</td>\n",
       "      <td>0.0</td>\n",
       "      <td>0.0</td>\n",
       "      <td>0.0</td>\n",
       "      <td>0.0</td>\n",
       "      <td>0.0</td>\n",
       "    </tr>\n",
       "    <tr>\n",
       "      <th>69997</th>\n",
       "      <td>0.0</td>\n",
       "      <td>0.0</td>\n",
       "      <td>0.0</td>\n",
       "      <td>0.0</td>\n",
       "      <td>0.0</td>\n",
       "      <td>0.0</td>\n",
       "      <td>0.0</td>\n",
       "      <td>0.0</td>\n",
       "      <td>0.0</td>\n",
       "      <td>0.0</td>\n",
       "      <td>...</td>\n",
       "      <td>0.0</td>\n",
       "      <td>0.0</td>\n",
       "      <td>0.0</td>\n",
       "      <td>0.0</td>\n",
       "      <td>0.0</td>\n",
       "      <td>0.0</td>\n",
       "      <td>0.0</td>\n",
       "      <td>0.0</td>\n",
       "      <td>0.0</td>\n",
       "      <td>0.0</td>\n",
       "    </tr>\n",
       "    <tr>\n",
       "      <th>69998</th>\n",
       "      <td>0.0</td>\n",
       "      <td>0.0</td>\n",
       "      <td>0.0</td>\n",
       "      <td>0.0</td>\n",
       "      <td>0.0</td>\n",
       "      <td>0.0</td>\n",
       "      <td>0.0</td>\n",
       "      <td>0.0</td>\n",
       "      <td>0.0</td>\n",
       "      <td>0.0</td>\n",
       "      <td>...</td>\n",
       "      <td>0.0</td>\n",
       "      <td>0.0</td>\n",
       "      <td>0.0</td>\n",
       "      <td>0.0</td>\n",
       "      <td>0.0</td>\n",
       "      <td>0.0</td>\n",
       "      <td>0.0</td>\n",
       "      <td>0.0</td>\n",
       "      <td>0.0</td>\n",
       "      <td>0.0</td>\n",
       "    </tr>\n",
       "    <tr>\n",
       "      <th>69999</th>\n",
       "      <td>0.0</td>\n",
       "      <td>0.0</td>\n",
       "      <td>0.0</td>\n",
       "      <td>0.0</td>\n",
       "      <td>0.0</td>\n",
       "      <td>0.0</td>\n",
       "      <td>0.0</td>\n",
       "      <td>0.0</td>\n",
       "      <td>0.0</td>\n",
       "      <td>0.0</td>\n",
       "      <td>...</td>\n",
       "      <td>0.0</td>\n",
       "      <td>0.0</td>\n",
       "      <td>0.0</td>\n",
       "      <td>0.0</td>\n",
       "      <td>0.0</td>\n",
       "      <td>0.0</td>\n",
       "      <td>0.0</td>\n",
       "      <td>0.0</td>\n",
       "      <td>0.0</td>\n",
       "      <td>0.0</td>\n",
       "    </tr>\n",
       "  </tbody>\n",
       "</table>\n",
       "<p>70000 rows × 784 columns</p>\n",
       "</div>"
      ],
      "text/plain": [
       "       pixel1  pixel2  pixel3  pixel4  pixel5  pixel6  pixel7  pixel8  pixel9  \\\n",
       "0         0.0     0.0     0.0     0.0     0.0     0.0     0.0     0.0     0.0   \n",
       "1         0.0     0.0     0.0     0.0     0.0     0.0     0.0     0.0     0.0   \n",
       "2         0.0     0.0     0.0     0.0     0.0     0.0     0.0     0.0     0.0   \n",
       "3         0.0     0.0     0.0     0.0     0.0     0.0     0.0     0.0     0.0   \n",
       "4         0.0     0.0     0.0     0.0     0.0     0.0     0.0     0.0     0.0   \n",
       "...       ...     ...     ...     ...     ...     ...     ...     ...     ...   \n",
       "69995     0.0     0.0     0.0     0.0     0.0     0.0     0.0     0.0     0.0   \n",
       "69996     0.0     0.0     0.0     0.0     0.0     0.0     0.0     0.0     0.0   \n",
       "69997     0.0     0.0     0.0     0.0     0.0     0.0     0.0     0.0     0.0   \n",
       "69998     0.0     0.0     0.0     0.0     0.0     0.0     0.0     0.0     0.0   \n",
       "69999     0.0     0.0     0.0     0.0     0.0     0.0     0.0     0.0     0.0   \n",
       "\n",
       "       pixel10  ...  pixel775  pixel776  pixel777  pixel778  pixel779  \\\n",
       "0          0.0  ...       0.0       0.0       0.0       0.0       0.0   \n",
       "1          0.0  ...       0.0       0.0       0.0       0.0       0.0   \n",
       "2          0.0  ...       0.0       0.0       0.0       0.0       0.0   \n",
       "3          0.0  ...       0.0       0.0       0.0       0.0       0.0   \n",
       "4          0.0  ...       0.0       0.0       0.0       0.0       0.0   \n",
       "...        ...  ...       ...       ...       ...       ...       ...   \n",
       "69995      0.0  ...       0.0       0.0       0.0       0.0       0.0   \n",
       "69996      0.0  ...       0.0       0.0       0.0       0.0       0.0   \n",
       "69997      0.0  ...       0.0       0.0       0.0       0.0       0.0   \n",
       "69998      0.0  ...       0.0       0.0       0.0       0.0       0.0   \n",
       "69999      0.0  ...       0.0       0.0       0.0       0.0       0.0   \n",
       "\n",
       "       pixel780  pixel781  pixel782  pixel783  pixel784  \n",
       "0           0.0       0.0       0.0       0.0       0.0  \n",
       "1           0.0       0.0       0.0       0.0       0.0  \n",
       "2           0.0       0.0       0.0       0.0       0.0  \n",
       "3           0.0       0.0       0.0       0.0       0.0  \n",
       "4           0.0       0.0       0.0       0.0       0.0  \n",
       "...         ...       ...       ...       ...       ...  \n",
       "69995       0.0       0.0       0.0       0.0       0.0  \n",
       "69996       0.0       0.0       0.0       0.0       0.0  \n",
       "69997       0.0       0.0       0.0       0.0       0.0  \n",
       "69998       0.0       0.0       0.0       0.0       0.0  \n",
       "69999       0.0       0.0       0.0       0.0       0.0  \n",
       "\n",
       "[70000 rows x 784 columns]"
      ]
     },
     "execution_count": 5,
     "metadata": {},
     "output_type": "execute_result"
    }
   ],
   "source": [
    "mnist['data']"
   ]
  },
  {
   "cell_type": "code",
   "execution_count": 6,
   "id": "91a61dc7-3124-4f76-8a2b-3dee56c8c8bf",
   "metadata": {},
   "outputs": [],
   "source": [
    "x = mnist['data']\n",
    "y = mnist['target']"
   ]
  },
  {
   "cell_type": "code",
   "execution_count": 7,
   "id": "b0f3802f-b9f9-4e0b-aa87-43581f3bc204",
   "metadata": {},
   "outputs": [],
   "source": [
    "#피클은 압축된 파일\n",
    "#피클 읽어들이기"
   ]
  },
  {
   "cell_type": "code",
   "execution_count": 8,
   "id": "2556536c-09c5-4517-9fb7-229d12c2c312",
   "metadata": {},
   "outputs": [
    {
     "name": "stdout",
     "output_type": "stream",
     "text": [
      " C 드라이브의 볼륨: Windows\n",
      " 볼륨 일련 번호: EAFD-7D9D\n",
      "\n",
      " C:\\Users\\user\\Desktop\\수업노트\\이강욱강사\\9.DeepLearning 디렉터리\n",
      "\n",
      "2022-04-21  오후 03:44    <DIR>          .\n",
      "2022-04-21  오후 03:44    <DIR>          ..\n",
      "2022-04-21  오후 03:36    <DIR>          .ipynb_checkpoints\n",
      "2022-04-21  오후 03:44    <DIR>          __pycache__\n",
      "2022-04-21  오후 03:33               189 activation.py\n",
      "2022-04-21  오후 03:44            38,138 day01_함수적용.ipynb\n",
      "2022-04-21  오후 03:37           130,039 dya01_딥러닝기초.ipynb\n",
      "2022-04-21  오후 02:59           181,853 sample_weight.pkl\n",
      "               4개 파일             350,219 바이트\n",
      "               4개 디렉터리  344,774,955,008 바이트 남음\n"
     ]
    }
   ],
   "source": [
    "ls"
   ]
  },
  {
   "cell_type": "code",
   "execution_count": 9,
   "id": "7691bbd3-5e84-4513-8672-50c9b4fc3424",
   "metadata": {
    "tags": []
   },
   "outputs": [],
   "source": [
    "import pickle\n",
    "with open('sample_weight.pkl','rb') as f:\n",
    "    weight = pickle.load(f)"
   ]
  },
  {
   "cell_type": "code",
   "execution_count": 10,
   "id": "8585f4ce-bd76-4ca2-9132-23e28de770d9",
   "metadata": {},
   "outputs": [
    {
     "data": {
      "text/plain": [
       "dict_keys(['b2', 'W1', 'b1', 'W2', 'W3', 'b3'])"
      ]
     },
     "execution_count": 10,
     "metadata": {},
     "output_type": "execute_result"
    }
   ],
   "source": [
    "weight.keys()"
   ]
  },
  {
   "cell_type": "code",
   "execution_count": 11,
   "id": "22e1431d-1328-47df-8739-eabd1380f8f5",
   "metadata": {},
   "outputs": [
    {
     "data": {
      "text/plain": [
       "(70000, 784)"
      ]
     },
     "execution_count": 11,
     "metadata": {},
     "output_type": "execute_result"
    }
   ],
   "source": [
    "x.values.shape #행,열"
   ]
  },
  {
   "cell_type": "code",
   "execution_count": 12,
   "id": "b5b70803-d3ed-4c83-b505-27869fca7029",
   "metadata": {},
   "outputs": [
    {
     "data": {
      "text/plain": [
       "28.0"
      ]
     },
     "execution_count": 12,
     "metadata": {},
     "output_type": "execute_result"
    }
   ],
   "source": [
    "import numpy as np\n",
    "np.sqrt(784)"
   ]
  },
  {
   "cell_type": "code",
   "execution_count": 13,
   "id": "94882518-fcf0-46ad-954b-ee68e8617116",
   "metadata": {},
   "outputs": [
    {
     "data": {
      "text/plain": [
       "<matplotlib.image.AxesImage at 0x1fff1ed52e0>"
      ]
     },
     "execution_count": 13,
     "metadata": {},
     "output_type": "execute_result"
    },
    {
     "data": {
      "image/png": "[encoded data removed]",
      "text/plain": [
       "<Figure size 432x288 with 1 Axes>"
      ]
     },
     "metadata": {
      "needs_background": "light"
     },
     "output_type": "display_data"
    }
   ],
   "source": [
    "import matplotlib.pyplot as plt\n",
    "plt.imshow(x.loc[[0],:].values.reshape(28,28))"
   ]
  },
  {
   "cell_type": "code",
   "execution_count": 14,
   "id": "326d837d-f62e-45ec-afe5-979cd7dcdb12",
   "metadata": {},
   "outputs": [
    {
     "data": {
      "text/plain": [
       "(784, 50)"
      ]
     },
     "execution_count": 14,
     "metadata": {},
     "output_type": "execute_result"
    }
   ],
   "source": [
    "weight['W1'].shape"
   ]
  },
  {
   "cell_type": "code",
   "execution_count": 15,
   "id": "8d6d428c-d1d8-4424-ae2b-863184904a55",
   "metadata": {},
   "outputs": [
    {
     "data": {
      "text/plain": [
       "(50, 100)"
      ]
     },
     "execution_count": 15,
     "metadata": {},
     "output_type": "execute_result"
    }
   ],
   "source": [
    "weight['W2'].shape"
   ]
  },
  {
   "cell_type": "code",
   "execution_count": 16,
   "id": "1550ba93-a5f8-4d09-bf13-47af91f61155",
   "metadata": {},
   "outputs": [
    {
     "data": {
      "text/plain": [
       "(100, 10)"
      ]
     },
     "execution_count": 16,
     "metadata": {},
     "output_type": "execute_result"
    }
   ],
   "source": [
    "weight['W3'].shape"
   ]
  },
  {
   "cell_type": "code",
   "execution_count": 17,
   "id": "83944dd3-fd81-450f-b2b4-df39a675b4a8",
   "metadata": {
    "collapsed": true,
    "jupyter": {
     "outputs_hidden": true
    },
    "tags": []
   },
   "outputs": [
    {
     "data": {
      "text/plain": [
       "array([[  0.,   0.,   0.,   0.,   0.,   0.,   0.,   0.,   0.,   0.,   0.,\n",
       "          0.,   0.,   0.,   0.,   0.,   0.,   0.,   0.,   0.,   0.,   0.,\n",
       "          0.,   0.,   0.,   0.,   0.,   0.,   0.,   0.,   0.,   0.,   0.,\n",
       "          0.,   0.,   0.,   0.,   0.,   0.,   0.,   0.,   0.,   0.,   0.,\n",
       "          0.,   0.,   0.,   0.,   0.,   0.,   0.,   0.,   0.,   0.,   0.,\n",
       "          0.,   0.,   0.,   0.,   0.,   0.,   0.,   0.,   0.,   0.,   0.,\n",
       "          0.,   0.,   0.,   0.,   0.,   0.,   0.,   0.,   0.,   0.,   0.,\n",
       "          0.,   0.,   0.,   0.,   0.,   0.,   0.,   0.,   0.,   0.,   0.,\n",
       "          0.,   0.,   0.,   0.,   0.,   0.,   0.,   0.,   0.,   0.,   0.,\n",
       "          0.,   0.,   0.,   0.,   0.,   0.,   0.,   0.,   0.,   0.,   0.,\n",
       "          0.,   0.,   0.,   0.,   0.,   0.,   0.,   0.,   0.,   0.,   0.,\n",
       "          0.,   0.,   0.,   0.,   0.,   0.,   0.,   0.,   0.,   0.,   0.,\n",
       "          0.,   0.,   0.,   0.,   0.,   0.,   0.,   0.,   0.,   0.,   0.,\n",
       "          0.,   0.,   0.,   0.,   0.,   0.,   0.,   0.,   0.,   3.,  18.,\n",
       "         18.,  18., 126., 136., 175.,  26., 166., 255., 247., 127.,   0.,\n",
       "          0.,   0.,   0.,   0.,   0.,   0.,   0.,   0.,   0.,   0.,   0.,\n",
       "         30.,  36.,  94., 154., 170., 253., 253., 253., 253., 253., 225.,\n",
       "        172., 253., 242., 195.,  64.,   0.,   0.,   0.,   0.,   0.,   0.,\n",
       "          0.,   0.,   0.,   0.,   0.,  49., 238., 253., 253., 253., 253.,\n",
       "        253., 253., 253., 253., 251.,  93.,  82.,  82.,  56.,  39.,   0.,\n",
       "          0.,   0.,   0.,   0.,   0.,   0.,   0.,   0.,   0.,   0.,   0.,\n",
       "         18., 219., 253., 253., 253., 253., 253., 198., 182., 247., 241.,\n",
       "          0.,   0.,   0.,   0.,   0.,   0.,   0.,   0.,   0.,   0.,   0.,\n",
       "          0.,   0.,   0.,   0.,   0.,   0.,   0.,  80., 156., 107., 253.,\n",
       "        253., 205.,  11.,   0.,  43., 154.,   0.,   0.,   0.,   0.,   0.,\n",
       "          0.,   0.,   0.,   0.,   0.,   0.,   0.,   0.,   0.,   0.,   0.,\n",
       "          0.,   0.,   0.,  14.,   1., 154., 253.,  90.,   0.,   0.,   0.,\n",
       "          0.,   0.,   0.,   0.,   0.,   0.,   0.,   0.,   0.,   0.,   0.,\n",
       "          0.,   0.,   0.,   0.,   0.,   0.,   0.,   0.,   0.,   0.,   0.,\n",
       "        139., 253., 190.,   2.,   0.,   0.,   0.,   0.,   0.,   0.,   0.,\n",
       "          0.,   0.,   0.,   0.,   0.,   0.,   0.,   0.,   0.,   0.,   0.,\n",
       "          0.,   0.,   0.,   0.,   0.,   0.,  11., 190., 253.,  70.,   0.,\n",
       "          0.,   0.,   0.,   0.,   0.,   0.,   0.,   0.,   0.,   0.,   0.,\n",
       "          0.,   0.,   0.,   0.,   0.,   0.,   0.,   0.,   0.,   0.,   0.,\n",
       "          0.,   0.,  35., 241., 225., 160., 108.,   1.,   0.,   0.,   0.,\n",
       "          0.,   0.,   0.,   0.,   0.,   0.,   0.,   0.,   0.,   0.,   0.,\n",
       "          0.,   0.,   0.,   0.,   0.,   0.,   0.,   0.,   0.,  81., 240.,\n",
       "        253., 253., 119.,  25.,   0.,   0.,   0.,   0.,   0.,   0.,   0.,\n",
       "          0.,   0.,   0.,   0.,   0.,   0.,   0.,   0.,   0.,   0.,   0.,\n",
       "          0.,   0.,   0.,   0.,   0.,  45., 186., 253., 253., 150.,  27.,\n",
       "          0.,   0.,   0.,   0.,   0.,   0.,   0.,   0.,   0.,   0.,   0.,\n",
       "          0.,   0.,   0.,   0.,   0.,   0.,   0.,   0.,   0.,   0.,   0.,\n",
       "          0.,  16.,  93., 252., 253., 187.,   0.,   0.,   0.,   0.,   0.,\n",
       "          0.,   0.,   0.,   0.,   0.,   0.,   0.,   0.,   0.,   0.,   0.,\n",
       "          0.,   0.,   0.,   0.,   0.,   0.,   0.,   0.,   0., 249., 253.,\n",
       "        249.,  64.,   0.,   0.,   0.,   0.,   0.,   0.,   0.,   0.,   0.,\n",
       "          0.,   0.,   0.,   0.,   0.,   0.,   0.,   0.,   0.,   0.,   0.,\n",
       "          0.,  46., 130., 183., 253., 253., 207.,   2.,   0.,   0.,   0.,\n",
       "          0.,   0.,   0.,   0.,   0.,   0.,   0.,   0.,   0.,   0.,   0.,\n",
       "          0.,   0.,   0.,   0.,   0.,  39., 148., 229., 253., 253., 253.,\n",
       "        250., 182.,   0.,   0.,   0.,   0.,   0.,   0.,   0.,   0.,   0.,\n",
       "          0.,   0.,   0.,   0.,   0.,   0.,   0.,   0.,   0.,  24., 114.,\n",
       "        221., 253., 253., 253., 253., 201.,  78.,   0.,   0.,   0.,   0.,\n",
       "          0.,   0.,   0.,   0.,   0.,   0.,   0.,   0.,   0.,   0.,   0.,\n",
       "          0.,   0.,  23.,  66., 213., 253., 253., 253., 253., 198.,  81.,\n",
       "          2.,   0.,   0.,   0.,   0.,   0.,   0.,   0.,   0.,   0.,   0.,\n",
       "          0.,   0.,   0.,   0.,   0.,   0.,  18., 171., 219., 253., 253.,\n",
       "        253., 253., 195.,  80.,   9.,   0.,   0.,   0.,   0.,   0.,   0.,\n",
       "          0.,   0.,   0.,   0.,   0.,   0.,   0.,   0.,   0.,   0.,  55.,\n",
       "        172., 226., 253., 253., 253., 253., 244., 133.,  11.,   0.,   0.,\n",
       "          0.,   0.,   0.,   0.,   0.,   0.,   0.,   0.,   0.,   0.,   0.,\n",
       "          0.,   0.,   0.,   0.,   0., 136., 253., 253., 253., 212., 135.,\n",
       "        132.,  16.,   0.,   0.,   0.,   0.,   0.,   0.,   0.,   0.,   0.,\n",
       "          0.,   0.,   0.,   0.,   0.,   0.,   0.,   0.,   0.,   0.,   0.,\n",
       "          0.,   0.,   0.,   0.,   0.,   0.,   0.,   0.,   0.,   0.,   0.,\n",
       "          0.,   0.,   0.,   0.,   0.,   0.,   0.,   0.,   0.,   0.,   0.,\n",
       "          0.,   0.,   0.,   0.,   0.,   0.,   0.,   0.,   0.,   0.,   0.,\n",
       "          0.,   0.,   0.,   0.,   0.,   0.,   0.,   0.,   0.,   0.,   0.,\n",
       "          0.,   0.,   0.,   0.,   0.,   0.,   0.,   0.,   0.,   0.,   0.,\n",
       "          0.,   0.,   0.,   0.,   0.,   0.,   0.,   0.,   0.,   0.,   0.,\n",
       "          0.,   0.,   0.,   0.,   0.,   0.,   0.,   0.,   0.,   0.,   0.,\n",
       "          0.,   0.,   0.]])"
      ]
     },
     "execution_count": 17,
     "metadata": {},
     "output_type": "execute_result"
    }
   ],
   "source": [
    "x.loc[0,:].values.reshape(1,784) #갯수,변수 * w 연산 "
   ]
  },
  {
   "cell_type": "code",
   "execution_count": 18,
   "id": "4b71bcda-2e81-4e59-9405-6978a6eb0fb0",
   "metadata": {},
   "outputs": [
    {
     "data": {
      "text/plain": [
       "array([[  991.38860958,  -217.98949059,  -140.67329528,  -460.98404979,\n",
       "         -179.71183814,  1062.42827282,   102.90943433,  -205.72395646,\n",
       "          381.3889542 ,   591.70272233,   554.62226978,  -295.27459535,\n",
       "        -1077.40078846,   904.33653098,  -332.77782281,  -256.82837849,\n",
       "           88.84547865,  -416.8090017 , -1281.22122269,   225.12826243,\n",
       "         -786.65975174,  -408.1099822 ,  -297.21922537,   -93.23165692,\n",
       "          330.2763571 ,  -917.24789315,  -942.0544862 ,  -132.75947368,\n",
       "          475.89150609,   146.18103212,  -442.96066009,   -49.14129888,\n",
       "          417.13127995,  -370.75653348,  1035.49641954,   161.79124251,\n",
       "          -30.93323837,   375.11777042,  -404.93164191,  -301.41180779,\n",
       "          -60.57421974,  -309.89668891,   119.47050803,   -95.61015799,\n",
       "         -872.86580185,   292.57894013,  -126.39668313,   461.81789378,\n",
       "        -1150.85181391,  -329.1812124 ]])"
      ]
     },
     "execution_count": 18,
     "metadata": {},
     "output_type": "execute_result"
    }
   ],
   "source": [
    "np.dot(x.loc[0,:].values.reshape(1,784),weight['W1'])"
   ]
  },
  {
   "cell_type": "code",
   "execution_count": 19,
   "id": "9900b425-7860-4607-94b4-3d2eef683911",
   "metadata": {},
   "outputs": [
    {
     "data": {
      "text/plain": [
       "array([[  991.32110643,  -217.91989799,  -140.70060002,  -460.96148886,\n",
       "         -179.93185288,  1062.20788435,   102.95806068,  -205.5889641 ,\n",
       "          381.62237974,   591.65398663,   554.72397169,  -295.30535574,\n",
       "        -1077.24596412,   904.38865601,  -332.71765046,  -256.86202711,\n",
       "           88.73329522,  -417.07360865, -1281.25445656,   225.26436658,\n",
       "         -786.59620806,  -408.06318414,  -297.2354419 ,   -93.28941528,\n",
       "          330.24527033,  -917.14423151,  -942.13907999,  -132.6428221 ,\n",
       "          476.11002712,   146.22540467,  -442.92687617,   -49.15850272,\n",
       "          417.0574423 ,  -370.59501291,  1035.39020705,   161.77477302,\n",
       "          -30.92409876,   375.2201547 ,  -404.92247552,  -301.46823769,\n",
       "          -60.68029489,  -309.79776175,   119.39913917,   -95.67364933,\n",
       "         -872.7411848 ,   292.60136295,  -126.39716284,   461.86316421,\n",
       "        -1151.00360566,  -329.07404428]])"
      ]
     },
     "execution_count": 19,
     "metadata": {},
     "output_type": "execute_result"
    }
   ],
   "source": [
    "np.dot(x.loc[0,:].values.reshape(1,784),weight['W1']) + weight['b1']"
   ]
  },
  {
   "cell_type": "code",
   "execution_count": 20,
   "id": "f502ddf3-7450-44ab-9a1c-c2d25c40072d",
   "metadata": {},
   "outputs": [],
   "source": [
    "l1 = np.dot(x.loc[0,:].values.reshape(1,784),weight['W1']) + weight['b1']"
   ]
  },
  {
   "cell_type": "code",
   "execution_count": 21,
   "id": "19b4b2d4-e89e-416f-884a-c7dc5a01a827",
   "metadata": {},
   "outputs": [
    {
     "data": {
      "text/plain": [
       "(1, 50)"
      ]
     },
     "execution_count": 21,
     "metadata": {},
     "output_type": "execute_result"
    }
   ],
   "source": [
    "l1.shape"
   ]
  },
  {
   "cell_type": "code",
   "execution_count": 22,
   "id": "8d8fd4e6-f239-4e2b-85e7-af3716e386df",
   "metadata": {},
   "outputs": [],
   "source": [
    "l2 = np.dot(l1,weight['W2']) + weight['b2']"
   ]
  },
  {
   "cell_type": "code",
   "execution_count": 23,
   "id": "b3225edf-d563-4376-904a-5e1957e8bf6d",
   "metadata": {},
   "outputs": [
    {
     "data": {
      "text/plain": [
       "(1, 100)"
      ]
     },
     "execution_count": 23,
     "metadata": {},
     "output_type": "execute_result"
    }
   ],
   "source": [
    "l2.shape"
   ]
  },
  {
   "cell_type": "code",
   "execution_count": 24,
   "id": "bc0df0c5-b995-499d-a2a6-e3f3bd23c3af",
   "metadata": {},
   "outputs": [],
   "source": [
    "l3 = np.dot(l2,weight['W3']) + weight['b3']"
   ]
  },
  {
   "cell_type": "code",
   "execution_count": 25,
   "id": "6c665c0f-b999-4501-9297-c291d7f7aa17",
   "metadata": {},
   "outputs": [
    {
     "data": {
      "text/plain": [
       "(1, 10)"
      ]
     },
     "execution_count": 25,
     "metadata": {},
     "output_type": "execute_result"
    }
   ],
   "source": [
    "l3.shape"
   ]
  },
  {
   "cell_type": "code",
   "execution_count": 26,
   "id": "04dba80a-8e07-4a14-be08-df62379a410a",
   "metadata": {},
   "outputs": [
    {
     "data": {
      "text/plain": [
       "3"
      ]
     },
     "execution_count": 26,
     "metadata": {},
     "output_type": "execute_result"
    }
   ],
   "source": [
    "#제일큰놈\n",
    "np.argmax(l3) #답이 5여야하는데 틀림. 이제 활성화 함수 넣으면 맞음. "
   ]
  },
  {
   "cell_type": "code",
   "execution_count": 67,
   "id": "0900a132-f73a-4a3d-b0df-c64052164da8",
   "metadata": {},
   "outputs": [
    {
     "name": "stderr",
     "output_type": "stream",
     "text": [
      "C:\\Users\\user\\Desktop\\수업노트\\이강욱강사\\9.DeepLearning\\activation.py:4: RuntimeWarning: overflow encountered in exp\n",
      "  return 1/(1+np.exp(-x))\n"
     ]
    },
    {
     "data": {
      "text/plain": [
       "5"
      ]
     },
     "execution_count": 67,
     "metadata": {},
     "output_type": "execute_result"
    }
   ],
   "source": [
    "#시그모이드\n",
    "l1 = np.dot(x.loc[0,:].values.reshape(1,784),weight['W1']) + weight['b1']\n",
    "a1 = sigmoid(l1)\n",
    "l2 = np.dot(a1, weight['W2']) + weight['b2']\n",
    "a2 = sigmoid(l2)\n",
    "l3 = np.dot(a2, weight['W3']) + weight['b3']\n",
    "np.argmax(l3)"
   ]
  },
  {
   "cell_type": "code",
   "execution_count": 28,
   "id": "540c6bf5-de22-4c89-bf1f-912ea394ce32",
   "metadata": {},
   "outputs": [
    {
     "data": {
      "text/plain": [
       "3"
      ]
     },
     "execution_count": 28,
     "metadata": {},
     "output_type": "execute_result"
    }
   ],
   "source": [
    "#렐루\n",
    "l1 = np.dot(x.loc[0,:].values.reshape(1,784),weight['W1']) + weight['b1']\n",
    "a1 = relu(l1)\n",
    "l2 = np.dot(l1,weight['W2']) + weight['b2']\n",
    "a2 = relu(l2)\n",
    "l3 = np.dot(l2,weight['W3']) + weight['b3']\n",
    "np.argmax(l3)"
   ]
  },
  {
   "cell_type": "code",
   "execution_count": 29,
   "id": "0fde1ca9-dc28-44fd-a63d-ddeac3c10a1b",
   "metadata": {},
   "outputs": [
    {
     "data": {
      "text/plain": [
       "(100, 10)"
      ]
     },
     "execution_count": 29,
     "metadata": {},
     "output_type": "execute_result"
    }
   ],
   "source": [
    "W3 = weight['W3']\n",
    "W3.shape"
   ]
  },
  {
   "cell_type": "code",
   "execution_count": 30,
   "id": "db488a36-f8cd-4006-b095-f065c034b28e",
   "metadata": {},
   "outputs": [],
   "source": [
    "#이제 총 함수를 만들어 봄 "
   ]
  },
  {
   "cell_type": "code",
   "execution_count": 42,
   "id": "20f152a2-a875-48f9-89d1-c2ccb6923722",
   "metadata": {},
   "outputs": [],
   "source": [
    "def predict(x):\n",
    "    W1 = weight['W1']\n",
    "    W2 = weight['W2']\n",
    "    W3 = weight['W3']\n",
    "    b1, b2, b3 = weight['b1'], weight['b2'], weight['b3']\n",
    "    # b2 = weight['b2']\n",
    "    # b3 = weight['b3']\n",
    "    \n",
    "    h1 = np.dot(x,W1) + b1 #Hidden layer\n",
    "    a1 = sigmoid(h1)\n",
    "    h2 = np.dot(a1,W2) + b2 #Hidden layer\n",
    "    a2 = sigmoid(h2)\n",
    "    out = np.dot(a2,W3) + b3 #Hidden layer\n",
    "    result = softmax(out)\n",
    "    return np.argmax(result)\n",
    "    # return np.argmax(out,axis=1)"
   ]
  },
  {
   "cell_type": "code",
   "execution_count": 43,
   "id": "5444d3a3-fced-40ed-9b8d-8f14899f243f",
   "metadata": {
    "tags": []
   },
   "outputs": [
    {
     "data": {
      "text/plain": [
       "5"
      ]
     },
     "execution_count": 43,
     "metadata": {},
     "output_type": "execute_result"
    }
   ],
   "source": [
    "predict(x.iloc[0,:].values)"
   ]
  },
  {
   "cell_type": "code",
   "execution_count": 33,
   "id": "04f1c113-5ed7-4151-bdcc-856a7c378659",
   "metadata": {},
   "outputs": [
    {
     "data": {
      "text/plain": [
       "0"
      ]
     },
     "execution_count": 33,
     "metadata": {},
     "output_type": "execute_result"
    }
   ],
   "source": [
    "predict(x.iloc[1,:].values)"
   ]
  },
  {
   "cell_type": "code",
   "execution_count": 34,
   "id": "1893fef5-b244-4e52-9976-69f4df6a6d42",
   "metadata": {},
   "outputs": [
    {
     "data": {
      "text/plain": [
       "'0'"
      ]
     },
     "execution_count": 34,
     "metadata": {},
     "output_type": "execute_result"
    }
   ],
   "source": [
    "y[1]"
   ]
  },
  {
   "cell_type": "code",
   "execution_count": 46,
   "id": "f5780905-650c-499d-af16-648e6f38600b",
   "metadata": {},
   "outputs": [],
   "source": [
    "def predict(x):\n",
    "    W1 = weight['W1']\n",
    "    W2 = weight['W2']\n",
    "    W3 = weight['W3']\n",
    "    b1, b2, b3 = weight['b1'], weight['b2'], weight['b3']\n",
    "    # b2 = weight['b2']\n",
    "    # b3 = weight['b3']\n",
    "    \n",
    "    h1 = np.dot(x,W1) + b1 #Hidden layer\n",
    "    a1 = sigmoid(h1)\n",
    "    h2 = np.dot(a1,W2) + b2 #Hidden layer\n",
    "    a2 = sigmoid(h2)\n",
    "    out = np.dot(a2,W3) + b3 #Hidden layer\n",
    "    out = np.argmax(out,axis=1).astype('str')\n",
    "    return out\n",
    "\n",
    "def accuracy(x,y):\n",
    "    return sum(predict(x) == y.values)/y.size"
   ]
  },
  {
   "cell_type": "code",
   "execution_count": 47,
   "id": "1302d1b1-9cba-4596-82b3-fb616f741cb6",
   "metadata": {},
   "outputs": [
    {
     "name": "stderr",
     "output_type": "stream",
     "text": [
      "C:\\Users\\user\\Desktop\\수업노트\\이강욱강사\\9.DeepLearning\\activation.py:4: RuntimeWarning: overflow encountered in exp\n",
      "  return 1/(1+np.exp(-x))\n"
     ]
    },
    {
     "data": {
      "text/plain": [
       "array(['5', '0', '4', ..., '4', '8', '6'], dtype='<U21')"
      ]
     },
     "execution_count": 47,
     "metadata": {},
     "output_type": "execute_result"
    }
   ],
   "source": [
    "predict(x.values)"
   ]
  },
  {
   "cell_type": "code",
   "execution_count": 48,
   "id": "801ac98b-b429-4148-9146-ec98740d2c3f",
   "metadata": {},
   "outputs": [
    {
     "data": {
      "text/plain": [
       "0.9245428571428571"
      ]
     },
     "execution_count": 48,
     "metadata": {},
     "output_type": "execute_result"
    }
   ],
   "source": [
    "accuracy(x,y)"
   ]
  },
  {
   "cell_type": "code",
   "execution_count": null,
   "id": "4e60453d-4a4b-4af4-92d3-a506a032e903",
   "metadata": {},
   "outputs": [],
   "source": []
  },
  {
   "cell_type": "code",
   "execution_count": null,
   "id": "1b942f75-d1ae-437f-8ab7-8c6955e435e1",
   "metadata": {},
   "outputs": [],
   "source": []
  },
  {
   "cell_type": "code",
   "execution_count": null,
   "id": "57e548fc-23b3-4866-b0ba-b99e714c4561",
   "metadata": {},
   "outputs": [],
   "source": []
  },
  {
   "cell_type": "code",
   "execution_count": 77,
   "id": "979632f9-7ef0-4b3f-8d0b-acbf5ff45f37",
   "metadata": {},
   "outputs": [
    {
     "name": "stdout",
     "output_type": "stream",
     "text": [
      "b2\n",
      "W1\n",
      "b1\n",
      "W2\n",
      "W3\n",
      "b3\n"
     ]
    }
   ],
   "source": [
    "with open('sample_weight.pkl','rb') as f:\n",
    "    network = pickle.load(f)\n",
    "    \n",
    "for i in network.keys():\n",
    "    print(i)"
   ]
  },
  {
   "cell_type": "code",
   "execution_count": 56,
   "id": "57ecdc5a-fadc-4384-a0af-23a0f11a8190",
   "metadata": {},
   "outputs": [],
   "source": [
    "# for i in range(int(len(network.keys())/2)):\n",
    "#     print('W'+str(i+1))\n",
    "#     print('b'+str(i+1))"
   ]
  },
  {
   "cell_type": "code",
   "execution_count": 83,
   "id": "af902ec8-0e5e-4c9b-8731-a8e2cd985321",
   "metadata": {},
   "outputs": [],
   "source": [
    "def predict(x,network):\n",
    "    input_layer = x\n",
    "    layers = []\n",
    "    bias = []\n",
    "    num_layer = int(len(network.keys())/2)\n",
    "    for i in range(num_layer):\n",
    "        layers.append(network['W'+str(i+1)]) #무조건 첫번째꺼\n",
    "        bias.append(network['b'+str(i+1)]) #무조건 두번째꺼\n",
    "    # return layers #까지 3바퀴 돌고 >>>>> #어레이를 모았다\n",
    "    for i in range(num_layer): #한 층씩 들고오기\n",
    "        if num_layer != i:\n",
    "            input_layer = sigmoid(np.dot(input_layer,layers[i]) + bias[i]) #relu일때 80%맞을 확률나옴\n",
    "        else:\n",
    "            input_layer = np.dot(input_layer,layers[i]) + bias[i]\n",
    "    return np.argmax(input_layer,axis=1).astype('str')"
   ]
  },
  {
   "cell_type": "code",
   "execution_count": 57,
   "id": "d6b43dd3-a6d6-46f4-b73d-460816d2e076",
   "metadata": {
    "collapsed": true,
    "jupyter": {
     "outputs_hidden": true
    },
    "tags": []
   },
   "outputs": [
    {
     "data": {
      "text/plain": [
       "[array([[-0.00741249, -0.00790439, -0.01307499, ...,  0.01978721,\n",
       "         -0.04331266, -0.01350104],\n",
       "        [-0.01029745, -0.01616653, -0.01228376, ...,  0.01920228,\n",
       "          0.02809811,  0.01450908],\n",
       "        [-0.01309184, -0.00244747, -0.0177224 , ...,  0.00944778,\n",
       "          0.01387301,  0.03393568],\n",
       "        ...,\n",
       "        [ 0.02242565, -0.0296145 , -0.06326169, ..., -0.01012643,\n",
       "          0.01120969,  0.01027199],\n",
       "        [-0.00761533,  0.02028973, -0.01498873, ...,  0.02735376,\n",
       "         -0.01229855,  0.02407041],\n",
       "        [ 0.00027915, -0.06848375,  0.00911191, ..., -0.03183098,\n",
       "          0.00743086, -0.04021148]], dtype=float32),\n",
       " array([[-0.10694039,  0.01591247, -0.44349867, ...,  0.03561032,\n",
       "          0.14045963,  0.03964241],\n",
       "        [ 0.29911557, -0.03322235, -0.08902215, ..., -0.04722451,\n",
       "         -0.0972147 ,  0.2950258 ],\n",
       "        [ 0.06576645,  0.6330455 ,  0.02325344, ...,  0.05046809,\n",
       "          0.26831996, -0.13252524],\n",
       "        ...,\n",
       "        [-0.1839421 , -0.10925075,  0.25180233, ...,  0.06017017,\n",
       "          0.11689074,  0.28868544],\n",
       "        [ 0.10001627,  0.0899286 , -0.03874066, ...,  0.15217757,\n",
       "         -0.05744234, -0.00713823],\n",
       "        [-0.02220659, -0.05105179,  0.00777963, ..., -0.531206  ,\n",
       "         -0.4042084 ,  0.0090801 ]], dtype=float32),\n",
       " array([[-4.21735764e-01,  6.89445496e-01,  8.78510177e-02,\n",
       "         -4.83838320e-01, -1.95891604e-01, -3.11136067e-01,\n",
       "          5.49542189e-01,  5.37674278e-02, -3.05000603e-01,\n",
       "          2.75984704e-02],\n",
       "        [-5.24320543e-01, -1.43624887e-01, -4.42160573e-03,\n",
       "          4.17745829e-01,  2.15625867e-01, -2.56584466e-01,\n",
       "         -1.00939667e+00,  8.12479675e-01, -3.98552269e-02,\n",
       "          8.23425591e-01],\n",
       "        [ 6.82799876e-01, -5.12037337e-01, -4.41083580e-01,\n",
       "         -8.21710154e-02,  3.19505751e-01,  1.08093655e+00,\n",
       "          2.96021044e-01, -4.06458199e-01, -3.87590617e-01,\n",
       "         -9.11374271e-01],\n",
       "        [ 1.55144155e-01,  6.78902492e-02,  9.47823405e-01,\n",
       "         -1.68429948e-02, -5.80456555e-01,  3.27762365e-02,\n",
       "          3.62194031e-01,  7.43931830e-01, -8.67070615e-01,\n",
       "         -8.71464610e-01],\n",
       "        [ 5.05435288e-01, -2.73010045e-01, -3.86344641e-02,\n",
       "          1.62854403e-01, -6.88129485e-01,  3.32544267e-01,\n",
       "          2.02865437e-01,  9.50981900e-02,  1.51449129e-01,\n",
       "         -7.51806647e-02],\n",
       "        [-1.96135119e-01, -1.86595306e-01, -7.12956667e-01,\n",
       "          1.86611667e-01,  4.71210986e-01,  2.42333114e-01,\n",
       "         -6.10382736e-01,  7.51007020e-01, -3.54771428e-02,\n",
       "          3.63117427e-01],\n",
       "        [-3.40776503e-01,  1.12583566e+00, -7.88639635e-02,\n",
       "         -2.40077689e-01, -1.88947007e-01,  2.77629793e-01,\n",
       "          5.58597930e-02,  7.87557483e-01, -7.21895814e-01,\n",
       "         -6.01844311e-01],\n",
       "        [-5.99524677e-01,  7.77958393e-01, -6.34838939e-01,\n",
       "         -4.66428464e-03,  7.62679726e-02, -5.22314072e-01,\n",
       "         -5.41155636e-01,  1.18006003e+00, -5.90134799e-01,\n",
       "          6.01088047e-01],\n",
       "        [-3.76633376e-01,  5.10982513e-01, -2.23146994e-02,\n",
       "         -2.52363771e-01, -3.46366763e-01,  2.64313281e-01,\n",
       "          3.83371353e-01, -7.59539828e-02,  1.97959334e-01,\n",
       "         -4.29215163e-01],\n",
       "        [ 6.50213897e-01, -3.07582080e-01, -1.82832479e-01,\n",
       "          3.61862123e-01, -2.20673040e-01,  2.36749575e-01,\n",
       "          1.46889806e-01, -8.55163217e-01, -4.77893144e-01,\n",
       "          5.95522761e-01],\n",
       "        [ 9.80530322e-01, -2.83191472e-01,  4.37024772e-01,\n",
       "          3.36801678e-01, -7.04811275e-01,  5.14311731e-01,\n",
       "          3.63065779e-01,  1.93833143e-01, -9.63333666e-01,\n",
       "         -9.99653816e-01],\n",
       "        [-5.14112294e-01, -5.21245450e-02,  8.73817950e-02,\n",
       "          6.49854317e-02, -6.79773763e-02,  5.75620718e-02,\n",
       "          2.17452496e-02,  2.97408521e-01,  6.58227876e-02,\n",
       "          5.48533797e-02],\n",
       "        [-1.22029677e-01, -5.97060800e-01, -1.67890251e-01,\n",
       "         -7.57286906e-01,  3.32458198e-01,  4.26246405e-01,\n",
       "         -5.21180809e-01,  2.07759365e-01, -3.89716327e-02,\n",
       "          7.81422555e-01],\n",
       "        [ 1.54342026e-01, -3.68901044e-01,  5.82112253e-01,\n",
       "          5.15596330e-01, -5.64041555e-01, -4.99413550e-01,\n",
       "         -8.81392837e-01,  2.10159346e-01,  1.86985135e-01,\n",
       "         -4.38510999e-02],\n",
       "        [ 4.54860330e-01, -3.00265312e-01,  6.81924820e-01,\n",
       "         -2.64147162e-01, -2.18347400e-01,  1.88041180e-01,\n",
       "          3.81713420e-01, -7.35825658e-01,  2.48639315e-01,\n",
       "         -4.43372279e-01],\n",
       "        [-5.25331438e-01,  1.18984044e+00,  3.92173350e-01,\n",
       "          6.12658978e-01, -6.09629095e-01, -1.64488718e-01,\n",
       "         -4.21452105e-01, -1.57024071e-01,  4.09224838e-01,\n",
       "         -4.47212726e-01],\n",
       "        [ 6.64840162e-01, -4.77979153e-01, -2.65062183e-01,\n",
       "          6.36108816e-01, -1.42231810e+00,  3.43148038e-02,\n",
       "         -1.16741645e+00,  7.00149655e-01,  1.24187134e-01,\n",
       "          9.88344133e-01],\n",
       "        [ 9.01858881e-02,  1.87217399e-01,  2.40680173e-01,\n",
       "          2.17940882e-01, -4.56552237e-01,  1.17312826e-01,\n",
       "          1.69359997e-01, -4.43112820e-01,  3.64482552e-01,\n",
       "         -1.11816239e+00],\n",
       "        [ 4.91134822e-01, -9.00796771e-01, -5.36716223e-01,\n",
       "         -7.89842069e-01,  3.83926064e-01,  2.72480428e-01,\n",
       "         -2.04326913e-01,  1.29462862e-02,  8.45103979e-01,\n",
       "          4.70017105e-01],\n",
       "        [ 5.84113061e-01, -5.51996469e-01,  6.50859475e-01,\n",
       "          8.69455695e-01, -1.85319453e-01, -6.97416365e-01,\n",
       "         -1.75041392e-01,  9.19872299e-02, -2.56296039e-01,\n",
       "         -7.93265477e-02],\n",
       "        [-6.92425907e-01, -1.96424216e-01, -2.89716989e-01,\n",
       "          4.59242135e-01,  3.48947614e-01, -1.67159468e-01,\n",
       "          1.60998300e-01, -8.09544206e-01,  6.75078809e-01,\n",
       "          1.56182379e-01],\n",
       "        [-1.29524320e-02,  3.38228792e-01,  5.93463369e-02,\n",
       "         -6.87147900e-02, -5.87453544e-01,  7.74757266e-02,\n",
       "         -2.76282996e-01,  2.38401830e-01,  6.18681967e-01,\n",
       "         -5.51157482e-02],\n",
       "        [-1.18962085e+00,  2.37674057e-01,  7.05483854e-02,\n",
       "          2.19739154e-01,  8.16889703e-01, -3.32062960e-01,\n",
       "         -5.38534045e-01,  1.60113409e-01, -8.55953246e-02,\n",
       "          5.15658796e-01],\n",
       "        [ 4.10203546e-01,  6.13717549e-03,  5.66948950e-01,\n",
       "         -2.59074479e-01, -1.50069296e-01,  2.25018293e-01,\n",
       "          4.06786650e-01, -7.35297143e-01, -3.46720248e-01,\n",
       "         -2.61616319e-01],\n",
       "        [ 4.59970772e-01, -4.31826115e-01, -8.56852472e-01,\n",
       "          7.73031771e-01,  1.38916939e-01,  5.60679853e-01,\n",
       "          2.40944013e-01, -8.48280013e-01, -3.33365619e-01,\n",
       "          4.76054907e-01],\n",
       "        [-9.88283753e-02, -1.76046476e-01,  5.23827970e-01,\n",
       "          4.93311286e-01, -3.64566833e-01, -6.25113010e-01,\n",
       "         -1.03237808e-01,  1.33148193e-01, -2.17261493e-01,\n",
       "          4.12722528e-01],\n",
       "        [ 1.01385760e+00, -8.49169970e-01, -5.17473184e-02,\n",
       "          1.36904821e-01, -2.97809035e-01, -2.57933736e-01,\n",
       "          9.45847854e-02,  1.84433058e-01, -9.48848128e-02,\n",
       "         -1.27696171e-01],\n",
       "        [ 1.10258982e-01, -1.13074876e-01,  3.61660570e-01,\n",
       "          6.37016416e-01, -9.38879609e-01,  4.03465390e-01,\n",
       "         -8.38840306e-01,  8.87874886e-02,  6.13263905e-01,\n",
       "         -2.62609452e-01],\n",
       "        [ 3.35207991e-02, -3.10817391e-01,  6.60446942e-01,\n",
       "         -8.03743303e-02, -3.53499681e-01,  1.35674715e-01,\n",
       "          7.04031825e-01, -5.38375497e-01,  2.68499017e-01,\n",
       "         -3.45674306e-01],\n",
       "        [ 5.69811165e-01, -5.41205049e-01,  2.31889188e-02,\n",
       "          4.89905447e-01, -2.72151738e-01,  5.81560850e-01,\n",
       "         -1.45812467e-01, -6.32519484e-01,  1.47586465e-01,\n",
       "         -4.30490822e-01],\n",
       "        [-1.78033903e-01,  4.55413640e-01,  2.76871175e-01,\n",
       "          7.92362913e-02, -1.37377933e-01, -5.41430473e-01,\n",
       "          1.04435158e+00, -2.25798294e-01, -5.47417521e-01,\n",
       "         -6.21576250e-01],\n",
       "        [-3.71773511e-01,  1.31890997e-01,  9.79362205e-02,\n",
       "          6.88198984e-01, -1.36723658e-02, -4.33259517e-01,\n",
       "          2.70418584e-01,  6.90640584e-02, -7.96580434e-01,\n",
       "         -5.26694544e-02],\n",
       "        [-7.46119380e-01,  9.01669323e-01, -2.98285723e-01,\n",
       "         -6.93346620e-01,  2.22594962e-01,  3.04485057e-02,\n",
       "          6.12528384e-01,  2.91027486e-01, -6.12122193e-02,\n",
       "          2.26576433e-01],\n",
       "        [ 3.48814666e-01, -4.58619356e-01, -6.81712866e-01,\n",
       "         -8.45831633e-01,  3.85846436e-01,  3.74807537e-01,\n",
       "          6.80784345e-01,  4.05046254e-01, -3.60009670e-01,\n",
       "          4.06914890e-01],\n",
       "        [-2.68160850e-01,  1.07725048e+00, -2.42447808e-01,\n",
       "         -2.51773655e-01, -4.94481117e-01,  7.93285251e-01,\n",
       "         -1.86872244e-01,  2.33764172e-01,  7.65040368e-02,\n",
       "         -5.82407176e-01],\n",
       "        [-2.11705387e-01, -1.51310667e-01,  4.11912441e-01,\n",
       "         -3.43303621e-01,  8.63409936e-01, -1.09486476e-01,\n",
       "          3.09372574e-01,  9.14473683e-02, -8.08858573e-01,\n",
       "         -4.53698725e-01],\n",
       "        [-8.46252620e-01,  2.60528892e-01, -2.08791450e-01,\n",
       "          3.45685095e-01,  3.24550092e-01,  1.55364513e-01,\n",
       "         -7.04575300e-01, -3.74434799e-01,  6.25603318e-01,\n",
       "          2.56761312e-01],\n",
       "        [ 1.74457684e-01,  1.81623884e-02,  5.10722816e-01,\n",
       "          1.43729225e-01, -5.16600788e-01, -1.29177034e-01,\n",
       "         -2.84929127e-01,  7.80223534e-02, -1.95045814e-01,\n",
       "         -3.94748539e-01],\n",
       "        [-9.24672037e-02, -2.23728850e-01, -9.66394618e-02,\n",
       "         -4.45146620e-01,  6.13103390e-01, -3.68567199e-01,\n",
       "          3.70431751e-01,  2.21393555e-01, -2.72072498e-02,\n",
       "          5.77588558e-01],\n",
       "        [ 4.03020531e-01, -2.55338818e-01, -8.18292499e-01,\n",
       "         -7.23324642e-02, -1.96062587e-02,  1.01438415e+00,\n",
       "         -1.16559081e-01,  8.81542623e-01, -4.94637221e-01,\n",
       "          1.04218423e-01],\n",
       "        [ 2.29111224e-01,  7.30729550e-02,  1.22222453e-01,\n",
       "          3.62838387e-01, -3.36847633e-01,  3.46625239e-01,\n",
       "          4.59826976e-01, -1.19660234e+00,  6.46007299e-01,\n",
       "         -3.92430216e-01],\n",
       "        [-6.43994093e-01, -2.67290205e-01,  9.30678025e-02,\n",
       "          3.94550234e-01,  1.39838919e-01, -1.74355850e-01,\n",
       "         -6.76944792e-01, -2.02130079e-01,  7.06950128e-01,\n",
       "          5.73860466e-01],\n",
       "        [ 1.07093401e-01, -2.68440068e-01, -2.92150110e-01,\n",
       "          1.73880085e-01, -3.07512134e-01, -3.96545947e-01,\n",
       "         -1.84642792e-01,  3.94368291e-01, -4.25530560e-02,\n",
       "          3.89361382e-01],\n",
       "        [-9.44061875e-01,  3.12739849e-01,  7.40508661e-02,\n",
       "          3.96307945e-01,  5.65728784e-01, -7.04721391e-01,\n",
       "         -5.46964332e-02, -2.59483963e-01,  1.21336356e-01,\n",
       "          1.15879285e+00],\n",
       "        [-3.42181930e-03, -2.76601106e-01,  1.77765489e-01,\n",
       "         -1.00918278e-01,  5.06949902e-01,  1.84735537e-01,\n",
       "          3.32832158e-01, -2.01131087e-02, -9.75943431e-02,\n",
       "         -6.96182191e-01],\n",
       "        [ 3.78743917e-01, -1.30411685e-01,  5.25011957e-01,\n",
       "         -4.92531627e-01,  8.44208971e-02, -4.36175138e-01,\n",
       "          4.46968526e-01, -6.69526532e-02, -2.38409087e-01,\n",
       "          1.86576545e-01],\n",
       "        [-1.38466686e-01,  2.03825533e-01,  7.62569189e-01,\n",
       "          5.65001488e-01, -4.62089807e-01, -9.06799734e-02,\n",
       "         -3.04654509e-01, -3.25737983e-01,  3.49818558e-01,\n",
       "         -2.02839971e-01],\n",
       "        [ 2.19535548e-02, -5.79012573e-01, -2.61314094e-01,\n",
       "         -7.66233563e-01,  6.20492339e-01,  2.91753441e-01,\n",
       "          3.10217768e-01,  1.84355244e-01, -3.97317529e-01,\n",
       "          1.77944213e-01],\n",
       "        [ 8.36480111e-02,  1.80452511e-01, -1.26577318e-01,\n",
       "          1.01459846e-01, -4.49865282e-01,  2.09935844e-01,\n",
       "         -8.78130078e-01,  3.66405249e-01, -5.88898994e-02,\n",
       "          1.14128381e-01],\n",
       "        [ 4.04730767e-01, -2.30980113e-01, -2.02063665e-01,\n",
       "         -8.40371922e-02,  3.85631770e-01, -2.53033131e-01,\n",
       "         -7.08307028e-01,  4.86081317e-02,  5.63206136e-01,\n",
       "         -2.45178029e-01],\n",
       "        [ 1.23736739e-01,  6.76029548e-03, -4.96723533e-01,\n",
       "          1.10396254e+00,  9.44059342e-02,  1.11372745e+00,\n",
       "          1.17447861e-02, -6.46701455e-01, -4.05388534e-01,\n",
       "         -6.19069815e-01],\n",
       "        [-4.22820002e-01,  1.78682953e-01, -3.56148094e-01,\n",
       "          2.37796769e-01, -3.54685962e-01,  3.11215729e-01,\n",
       "          4.49742610e-03, -4.62334067e-01,  1.25280845e+00,\n",
       "          2.57526368e-01],\n",
       "        [ 5.01734205e-03, -2.78115179e-02,  8.33090007e-01,\n",
       "         -9.38227713e-01,  4.41729516e-01, -2.41064683e-01,\n",
       "          2.70801604e-01, -2.75141865e-01,  2.39632681e-01,\n",
       "         -2.43629783e-01],\n",
       "        [ 1.65217429e-01,  1.71752870e-01, -3.43052834e-01,\n",
       "         -6.45057321e-01,  4.53449517e-01,  1.79140553e-01,\n",
       "          4.08720821e-01, -8.79922092e-01,  4.29752409e-01,\n",
       "          3.10203969e-01],\n",
       "        [ 4.18428481e-01,  6.94155693e-01,  3.97938192e-01,\n",
       "          4.51456159e-01, -7.18708575e-01,  9.63209383e-03,\n",
       "         -4.92072105e-01,  5.09976700e-04, -2.95970529e-01,\n",
       "         -4.95860398e-01],\n",
       "        [-1.76199555e-01,  7.09368765e-01, -2.31948897e-01,\n",
       "          3.25359583e-01, -4.63672340e-01,  7.24577367e-01,\n",
       "         -4.43653435e-01, -1.68254837e-01,  2.95370251e-01,\n",
       "         -4.97434855e-01],\n",
       "        [-1.87396109e-01, -2.23947570e-01,  2.42886275e-01,\n",
       "         -2.86557496e-01,  2.73342788e-01, -1.13700256e-02,\n",
       "         -3.06602985e-01,  5.72437823e-01, -2.42054805e-01,\n",
       "          3.46188515e-01],\n",
       "        [-1.17365503e+00,  5.90703338e-02, -1.56762972e-01,\n",
       "          1.38338506e-01,  6.11611664e-01, -1.62515834e-01,\n",
       "         -2.27308512e-01,  5.09866297e-01,  7.78953657e-02,\n",
       "         -8.07275623e-03],\n",
       "        [-1.22156359e-01, -2.62149960e-01, -2.96030581e-01,\n",
       "         -6.09369529e-03,  8.27431440e-01,  1.45755662e-02,\n",
       "          1.35886416e-01,  4.84385580e-01, -6.17888629e-01,\n",
       "         -2.57963389e-01],\n",
       "        [-1.18745811e-01, -3.78561169e-02,  8.41072202e-02,\n",
       "          1.59376860e-01,  2.78664678e-01, -5.57438016e-01,\n",
       "         -1.06849708e-01,  7.62400031e-02, -1.46159276e-01,\n",
       "          6.71272278e-01],\n",
       "        [-4.58585024e-01, -2.70307302e-01,  8.93705249e-01,\n",
       "          4.14883375e-01,  5.04897237e-01, -5.52910447e-01,\n",
       "          7.95029774e-02,  3.26490283e-01, -4.37226027e-01,\n",
       "         -1.50011420e-01],\n",
       "        [-2.27586448e-01,  2.70228744e-01, -1.38651179e-02,\n",
       "         -1.68369621e-01, -6.68714801e-03,  1.84312925e-01,\n",
       "         -2.07858533e-01, -7.48970136e-02,  2.81839728e-01,\n",
       "          1.62073016e-01],\n",
       "        [-2.93510854e-01,  5.90191126e-01, -8.06541979e-01,\n",
       "          4.55247253e-01, -6.28962517e-02,  4.05282497e-01,\n",
       "         -8.00064087e-01,  1.01426566e+00, -9.47925091e-01,\n",
       "          1.12049413e+00],\n",
       "        [ 1.03260410e+00, -3.75866979e-01, -2.32749850e-01,\n",
       "          3.54511850e-02,  1.59004685e-02,  1.35123044e-01,\n",
       "         -1.82888061e-01,  5.62692165e-01, -7.38840044e-01,\n",
       "         -1.65996298e-01],\n",
       "        [-3.03140342e-01, -3.99403989e-01, -1.24023721e-01,\n",
       "          8.09619203e-02,  6.03184886e-02, -3.47880661e-01,\n",
       "         -3.64323795e-01,  7.73909748e-01, -5.57690300e-02,\n",
       "          7.16391385e-01],\n",
       "        [-9.02440190e-01,  4.48047310e-01,  3.87582779e-01,\n",
       "         -1.07054925e+00,  6.14855111e-01, -4.32848215e-01,\n",
       "          6.89762652e-01,  1.21512324e-01,  1.68398306e-01,\n",
       "         -5.61287642e-01],\n",
       "        [-6.52550608e-02,  5.19375086e-01,  2.36409321e-01,\n",
       "          1.48231626e-01, -1.71541229e-01,  4.79659773e-02,\n",
       "          6.95545554e-01, -7.34554410e-01,  5.00819862e-01,\n",
       "         -8.43456626e-01],\n",
       "        [-5.33281922e-01,  5.26653945e-01,  1.57454126e-02,\n",
       "          1.46121949e-01,  2.76504960e-02, -8.91758129e-02,\n",
       "          4.62411702e-01,  5.36043644e-02,  2.31896397e-02,\n",
       "         -6.53083622e-01],\n",
       "        [ 3.93885463e-01,  2.22290620e-01, -8.66812587e-01,\n",
       "         -4.42612439e-01, -1.09500468e-01,  3.44947040e-01,\n",
       "          4.43797231e-01, -3.26241434e-01, -1.91667125e-01,\n",
       "          2.68693328e-01],\n",
       "        [ 5.09423316e-01, -1.10831499e+00, -6.63363814e-01,\n",
       "          6.10601194e-02,  4.62890774e-01,  2.16605678e-01,\n",
       "         -2.04363316e-01, -3.48413497e-01,  5.46411932e-01,\n",
       "          1.59806624e-01],\n",
       "        [ 5.03182411e-01, -4.58128005e-01, -1.23811312e-01,\n",
       "         -7.70608895e-03, -5.03727078e-01, -1.03737101e-01,\n",
       "         -6.97336435e-01,  8.40921402e-02,  9.15018559e-01,\n",
       "          4.06962276e-01],\n",
       "        [-3.36555511e-01,  2.32747003e-01, -6.51690245e-01,\n",
       "          1.92894682e-01,  4.90722917e-02,  4.82812226e-01,\n",
       "          5.17001033e-01, -3.74707580e-01, -7.26062572e-03,\n",
       "         -2.24724170e-02],\n",
       "        [-8.20727646e-01,  2.77037054e-01, -4.00716156e-01,\n",
       "         -6.01541400e-01,  5.41227221e-01, -1.07606472e-02,\n",
       "          1.13190107e-01, -7.11759388e-01,  7.47027993e-01,\n",
       "          3.95591497e-01],\n",
       "        [-9.64956045e-01,  6.50479198e-01,  1.57247171e-01,\n",
       "          1.21039891e+00, -6.58656538e-01, -2.88676590e-01,\n",
       "         -5.25724113e-01,  6.54611349e-01, -3.65922421e-01,\n",
       "          4.67684865e-02],\n",
       "        [-4.69699763e-02, -3.76960456e-01, -8.73867750e-01,\n",
       "         -2.19822064e-01,  6.68559313e-01,  5.76594114e-01,\n",
       "         -2.38980711e-01,  1.74888268e-01, -1.48410887e-01,\n",
       "          5.87270916e-01],\n",
       "        [ 3.56634349e-01, -5.18213026e-02,  9.20258999e-01,\n",
       "         -1.40335053e-01, -4.26269978e-01, -6.22207582e-01,\n",
       "          5.75894825e-02,  5.12691498e-01, -2.06441224e-01,\n",
       "         -2.68630385e-01],\n",
       "        [-3.19506019e-01,  2.53038436e-01,  1.83337316e-01,\n",
       "         -2.11295307e-01, -5.53449214e-01, -4.45205271e-01,\n",
       "         -1.75601929e-01,  4.42056775e-01,  6.44582987e-01,\n",
       "          2.00125635e-01],\n",
       "        [-7.43463695e-01,  2.60086924e-01, -1.95406988e-01,\n",
       "         -4.23818171e-01,  8.64849150e-01, -2.67847985e-01,\n",
       "         -1.79303423e-01, -4.71354812e-01,  5.73067427e-01,\n",
       "          3.13313872e-01],\n",
       "        [-2.63424993e-01, -2.83117831e-01, -2.91389525e-01,\n",
       "          5.06457686e-01,  7.84329653e-01, -5.26254058e-01,\n",
       "          7.48095810e-01, -4.18872535e-01, -8.39335993e-02,\n",
       "          2.52932400e-01],\n",
       "        [ 4.14991900e-02, -4.03793097e-01, -1.95395365e-01,\n",
       "          2.11023405e-01,  1.32343337e-01,  2.31272504e-01,\n",
       "         -1.18078411e+00,  1.86573476e-01,  7.68505335e-02,\n",
       "          3.85415733e-01],\n",
       "        [ 1.09860265e+00, -1.09753442e+00,  3.80715638e-01,\n",
       "         -6.38348997e-01, -1.58655971e-01,  1.94847152e-01,\n",
       "         -7.95399770e-02,  9.50471818e-01, -3.16824853e-01,\n",
       "         -2.83558935e-01],\n",
       "        [-2.77928740e-01,  2.24254742e-01, -3.28038484e-01,\n",
       "          2.36775950e-01,  4.65092897e-01,  1.14463799e-01,\n",
       "         -4.18108590e-02,  1.95581898e-01, -7.47340381e-01,\n",
       "         -2.79023498e-01],\n",
       "        [ 7.56891370e-02, -1.96978986e-01,  6.49631858e-01,\n",
       "          4.44254547e-01,  4.46472913e-01, -2.43867710e-01,\n",
       "          3.44643325e-01, -6.73000336e-01,  1.98133841e-01,\n",
       "         -7.13343263e-01],\n",
       "        [ 3.50795746e-01, -2.43827224e-01,  2.70755768e-01,\n",
       "         -1.88798487e-01,  2.67679513e-01, -2.67900437e-01,\n",
       "         -2.25820035e-01,  1.41538918e-01, -6.25311971e-01,\n",
       "         -7.91989092e-04],\n",
       "        [ 6.04720116e-01, -1.23945558e+00, -9.89200622e-02,\n",
       "         -8.47476780e-01,  1.88840643e-01,  1.78689778e-01,\n",
       "          3.30614984e-01,  2.13386491e-01,  1.40828237e-01,\n",
       "          5.96347034e-01],\n",
       "        [-1.29010156e-01, -4.19559628e-01,  8.10783267e-01,\n",
       "         -7.79421180e-02, -6.39355540e-01,  1.82476446e-01,\n",
       "          4.43780273e-02,  2.43306741e-01,  3.22627991e-01,\n",
       "         -6.96950316e-01],\n",
       "        [-2.65945554e-01,  2.54204452e-01, -2.81551868e-01,\n",
       "          3.05856839e-02,  3.32366735e-01, -2.72288859e-01,\n",
       "         -1.56741664e-01,  7.37876654e-01, -3.42516750e-01,\n",
       "         -3.38515751e-02],\n",
       "        [-2.21063226e-01, -1.61017135e-01, -3.43953133e-01,\n",
       "          7.71231763e-03,  3.99634361e-01,  4.22857910e-01,\n",
       "          1.07494044e+00,  1.67980686e-01, -5.57168424e-01,\n",
       "         -9.82021630e-01],\n",
       "        [-3.34168285e-01,  4.13684517e-01,  8.20092857e-02,\n",
       "          2.00068444e-01, -6.36684000e-01,  6.32712722e-01,\n",
       "          6.26974523e-01, -7.68007815e-01,  7.41086155e-02,\n",
       "         -7.47185767e-01],\n",
       "        [-1.13031104e-01,  2.84815133e-01,  4.20125455e-01,\n",
       "         -4.12524790e-01,  2.86876053e-01, -5.96397281e-01,\n",
       "         -6.13868050e-02, -2.01329246e-01,  1.37402400e-01,\n",
       "          4.73863035e-02],\n",
       "        [-8.77382278e-01,  7.03926206e-01, -5.87477982e-01,\n",
       "          8.03793550e-01, -5.38776457e-01,  8.71291935e-01,\n",
       "         -4.21437055e-01,  1.79496706e-01, -2.01206416e-01,\n",
       "          2.20881462e-01],\n",
       "        [ 4.79993403e-01, -3.88967425e-01,  6.42738879e-01,\n",
       "         -2.66709924e-01, -2.35347107e-01, -5.27117729e-01,\n",
       "          2.24357635e-01,  4.09907281e-01, -2.55028307e-01,\n",
       "         -3.98389012e-01],\n",
       "        [-2.36967623e-01,  2.08492681e-01,  4.95875329e-02,\n",
       "         -2.54601955e-01, -1.96262509e-01,  2.20791083e-02,\n",
       "          5.87105930e-01, -1.76071987e-01, -2.93505043e-01,\n",
       "         -6.90922514e-02],\n",
       "        [ 3.72552484e-01,  1.13524333e-01,  1.47908121e-01,\n",
       "         -5.87250233e-01, -5.45590937e-01,  2.20800832e-01,\n",
       "         -1.86717466e-01, -2.76110709e-01,  1.63341820e-01,\n",
       "          9.27756205e-02],\n",
       "        [ 6.91043854e-01, -7.39305258e-01,  3.66775483e-01,\n",
       "          2.29010403e-01, -2.62648702e-01, -3.35895628e-01,\n",
       "          4.16883469e-01, -4.66414630e-01, -4.81522113e-01,\n",
       "          5.41691422e-01],\n",
       "        [-5.42117991e-02,  8.16400051e-02, -2.16311708e-01,\n",
       "         -6.47027910e-01,  4.48576599e-01, -2.78799266e-01,\n",
       "          6.27859950e-01, -3.13865662e-01,  3.10088933e-01,\n",
       "          5.49431086e-01],\n",
       "        [-4.22955692e-01,  4.71692123e-02,  5.09801149e-01,\n",
       "         -4.14053082e-01,  1.48667157e-01, -1.13204829e-01,\n",
       "          1.46537170e-01, -8.12405765e-01,  7.64870703e-01,\n",
       "         -9.93795879e-03],\n",
       "        [-4.50043291e-01,  7.81999648e-01,  2.15509236e-01,\n",
       "         -3.13456476e-01, -4.41162616e-01, -8.88375938e-02,\n",
       "          1.30276158e-01, -7.62776807e-02,  4.38656509e-01,\n",
       "         -3.53991002e-01],\n",
       "        [-5.44507623e-01,  5.37671924e-01,  2.79337078e-01,\n",
       "          6.31389797e-01, -3.13700497e-01, -9.68888775e-02,\n",
       "         -8.03692937e-01,  3.23311478e-01,  5.13087690e-01,\n",
       "         -3.67015935e-02],\n",
       "        [ 1.07227898e+00, -3.73002291e-01, -3.47672790e-01,\n",
       "         -6.34944439e-01, -2.26390660e-01,  8.66467118e-01,\n",
       "         -1.20632663e-01,  1.60931930e-01, -2.61490524e-01,\n",
       "          3.17717306e-02]], dtype=float32)]"
      ]
     },
     "execution_count": 57,
     "metadata": {},
     "output_type": "execute_result"
    }
   ],
   "source": [
    "# >>>>>\n",
    "# predict(x,network) #어레이를 모았다"
   ]
  },
  {
   "cell_type": "code",
   "execution_count": 81,
   "id": "17a6a5e1-7103-47f4-a42f-cf34d8ce7216",
   "metadata": {},
   "outputs": [
    {
     "data": {
      "text/plain": [
       "(70000, 784)"
      ]
     },
     "execution_count": 81,
     "metadata": {},
     "output_type": "execute_result"
    }
   ],
   "source": [
    "x.values.shape"
   ]
  },
  {
   "cell_type": "code",
   "execution_count": 84,
   "id": "e10073de-6fc5-4e03-aac6-aa0e2ad95ebf",
   "metadata": {
    "tags": []
   },
   "outputs": [
    {
     "name": "stderr",
     "output_type": "stream",
     "text": [
      "C:\\Users\\user\\Desktop\\수업노트\\이강욱강사\\9.DeepLearning\\activation.py:4: RuntimeWarning: overflow encountered in exp\n",
      "  return 1/(1+np.exp(-x))\n"
     ]
    },
    {
     "data": {
      "text/plain": [
       "<function __main__.predict(x, network)>"
      ]
     },
     "execution_count": 84,
     "metadata": {},
     "output_type": "execute_result"
    }
   ],
   "source": [
    "predict(x.values,network)\n",
    "predict"
   ]
  },
  {
   "cell_type": "code",
   "execution_count": 85,
   "id": "27d16640-70e2-443b-a768-be2dd2a709b1",
   "metadata": {
    "tags": []
   },
   "outputs": [],
   "source": [
    "pre = predict(x,network)"
   ]
  },
  {
   "cell_type": "code",
   "execution_count": 86,
   "id": "f9dcce97-7fa0-4fa3-bed5-44a811321207",
   "metadata": {},
   "outputs": [
    {
     "data": {
      "text/plain": [
       "0.9245428571428571"
      ]
     },
     "execution_count": 86,
     "metadata": {},
     "output_type": "execute_result"
    }
   ],
   "source": [
    "sum(pre == y)/y.size"
   ]
  },
  {
   "cell_type": "code",
   "execution_count": null,
   "id": "e7b3d806-9ee6-4edc-ae62-f8ecc2c09c7d",
   "metadata": {},
   "outputs": [],
   "source": [
    "#92%맞을 확률 "
   ]
  },
  {
   "cell_type": "code",
   "execution_count": null,
   "id": "23d62505-c1d9-412c-a042-e8de5ebcb313",
   "metadata": {},
   "outputs": [],
   "source": []
  },
  {
   "cell_type": "code",
   "execution_count": null,
   "id": "8234a762-0e57-4c1f-b1f7-af8da54a8181",
   "metadata": {},
   "outputs": [],
   "source": []
  },
  {
   "cell_type": "markdown",
   "id": "6cdb7311-9488-4f00-8658-061319cb5e62",
   "metadata": {},
   "source": [
    "## 엔트로피 계산\n",
    "1. y값을 one_hot -- tk\n",
    "2. network 를 softmax로 풀어서 10개의 값을 구하기\n",
    "3. 엔트로피 오차 공식 쓰면"
   ]
  },
  {
   "cell_type": "code",
   "execution_count": 90,
   "id": "f53624a5-57b9-498c-b326-04a56e4f7f4d",
   "metadata": {},
   "outputs": [
    {
     "data": {
      "text/plain": [
       "OneHotEncoder()"
      ]
     },
     "execution_count": 90,
     "metadata": {},
     "output_type": "execute_result"
    }
   ],
   "source": [
    "#1\n",
    "from sklearn.preprocessing import OneHotEncoder\n",
    "enc = OneHotEncoder()\n",
    "enc.fit(W3)"
   ]
  },
  {
   "cell_type": "code",
   "execution_count": 88,
   "id": "de5553d1-6c8c-4d14-ad2a-37a5fdd9ff49",
   "metadata": {},
   "outputs": [
    {
     "data": {
      "text/plain": [
       "array([[0., 0., 0., ..., 0., 0., 0.],\n",
       "       [0., 0., 0., ..., 0., 0., 0.],\n",
       "       [0., 0., 0., ..., 0., 0., 0.],\n",
       "       ...,\n",
       "       [0., 0., 0., ..., 0., 0., 0.],\n",
       "       [0., 0., 0., ..., 0., 0., 0.],\n",
       "       [0., 0., 0., ..., 0., 0., 0.]])"
      ]
     },
     "execution_count": 88,
     "metadata": {},
     "output_type": "execute_result"
    }
   ],
   "source": [
    "W3_onehot = enc.transform(W3).toarray()\n",
    "W3_onehot"
   ]
  },
  {
   "cell_type": "code",
   "execution_count": 89,
   "id": "58dca573-c7d3-4ed6-baf0-c5a2b476aabb",
   "metadata": {
    "collapsed": true,
    "jupyter": {
     "outputs_hidden": true
    },
    "tags": []
   },
   "outputs": [
    {
     "data": {
      "text/plain": [
       "array([[22],\n",
       "       [16],\n",
       "       [93],\n",
       "       [67],\n",
       "       [86],\n",
       "       [39],\n",
       "       [25],\n",
       "       [12],\n",
       "       [23],\n",
       "       [91],\n",
       "       [95],\n",
       "       [17],\n",
       "       [46],\n",
       "       [66],\n",
       "       [81],\n",
       "       [15],\n",
       "       [92],\n",
       "       [62],\n",
       "       [84],\n",
       "       [89],\n",
       "       [10],\n",
       "       [54],\n",
       "       [ 0],\n",
       "       [79],\n",
       "       [82],\n",
       "       [49],\n",
       "       [96],\n",
       "       [64],\n",
       "       [58],\n",
       "       [88],\n",
       "       [41],\n",
       "       [24],\n",
       "       [ 8],\n",
       "       [71],\n",
       "       [32],\n",
       "       [38],\n",
       "       [ 6],\n",
       "       [69],\n",
       "       [50],\n",
       "       [77],\n",
       "       [70],\n",
       "       [11],\n",
       "       [63],\n",
       "       [ 3],\n",
       "       [55],\n",
       "       [75],\n",
       "       [43],\n",
       "       [57],\n",
       "       [61],\n",
       "       [78],\n",
       "       [65],\n",
       "       [21],\n",
       "       [56],\n",
       "       [68],\n",
       "       [80],\n",
       "       [42],\n",
       "       [40],\n",
       "       [ 1],\n",
       "       [45],\n",
       "       [47],\n",
       "       [18],\n",
       "       [36],\n",
       "       [30],\n",
       "       [97],\n",
       "       [29],\n",
       "       [ 4],\n",
       "       [51],\n",
       "       [14],\n",
       "       [76],\n",
       "       [87],\n",
       "       [85],\n",
       "       [26],\n",
       "       [ 7],\n",
       "       [ 2],\n",
       "       [53],\n",
       "       [73],\n",
       "       [28],\n",
       "       [ 9],\n",
       "       [34],\n",
       "       [59],\n",
       "       [99],\n",
       "       [31],\n",
       "       [60],\n",
       "       [72],\n",
       "       [90],\n",
       "       [44],\n",
       "       [33],\n",
       "       [37],\n",
       "       [27],\n",
       "       [48],\n",
       "       [ 5],\n",
       "       [83],\n",
       "       [35],\n",
       "       [74],\n",
       "       [94],\n",
       "       [52],\n",
       "       [20],\n",
       "       [19],\n",
       "       [13],\n",
       "       [98]], dtype=int64)"
      ]
     },
     "execution_count": 89,
     "metadata": {},
     "output_type": "execute_result"
    }
   ],
   "source": [
    "W3_recovery = np.argmax(W3_onehot,axis=1).reshape(-1,1)\n",
    "W3_recovery"
   ]
  },
  {
   "cell_type": "code",
   "execution_count": 91,
   "id": "58741503-f677-4453-a83b-7b5dded21dec",
   "metadata": {
    "collapsed": true,
    "jupyter": {
     "outputs_hidden": true
    },
    "tags": []
   },
   "outputs": [
    {
     "data": {
      "text/plain": [
       "array([[0.00444444],\n",
       "       [0.00323232],\n",
       "       [0.01878788],\n",
       "       [0.01353535],\n",
       "       [0.01737374],\n",
       "       [0.00787879],\n",
       "       [0.00505051],\n",
       "       [0.00242424],\n",
       "       [0.00464646],\n",
       "       [0.01838384],\n",
       "       [0.01919192],\n",
       "       [0.00343434],\n",
       "       [0.00929293],\n",
       "       [0.01333333],\n",
       "       [0.01636364],\n",
       "       [0.0030303 ],\n",
       "       [0.01858586],\n",
       "       [0.01252525],\n",
       "       [0.0169697 ],\n",
       "       [0.0179798 ],\n",
       "       [0.0020202 ],\n",
       "       [0.01090909],\n",
       "       [0.        ],\n",
       "       [0.0159596 ],\n",
       "       [0.01656566],\n",
       "       [0.00989899],\n",
       "       [0.01939394],\n",
       "       [0.01292929],\n",
       "       [0.01171717],\n",
       "       [0.01777778],\n",
       "       [0.00828283],\n",
       "       [0.00484848],\n",
       "       [0.00161616],\n",
       "       [0.01434343],\n",
       "       [0.00646465],\n",
       "       [0.00767677],\n",
       "       [0.00121212],\n",
       "       [0.01393939],\n",
       "       [0.01010101],\n",
       "       [0.01555556],\n",
       "       [0.01414141],\n",
       "       [0.00222222],\n",
       "       [0.01272727],\n",
       "       [0.00060606],\n",
       "       [0.01111111],\n",
       "       [0.01515152],\n",
       "       [0.00868687],\n",
       "       [0.01151515],\n",
       "       [0.01232323],\n",
       "       [0.01575758],\n",
       "       [0.01313131],\n",
       "       [0.00424242],\n",
       "       [0.01131313],\n",
       "       [0.01373737],\n",
       "       [0.01616162],\n",
       "       [0.00848485],\n",
       "       [0.00808081],\n",
       "       [0.00020202],\n",
       "       [0.00909091],\n",
       "       [0.00949495],\n",
       "       [0.00363636],\n",
       "       [0.00727273],\n",
       "       [0.00606061],\n",
       "       [0.01959596],\n",
       "       [0.00585859],\n",
       "       [0.00080808],\n",
       "       [0.01030303],\n",
       "       [0.00282828],\n",
       "       [0.01535354],\n",
       "       [0.01757576],\n",
       "       [0.01717172],\n",
       "       [0.00525253],\n",
       "       [0.00141414],\n",
       "       [0.00040404],\n",
       "       [0.01070707],\n",
       "       [0.01474747],\n",
       "       [0.00565657],\n",
       "       [0.00181818],\n",
       "       [0.00686869],\n",
       "       [0.01191919],\n",
       "       [0.02      ],\n",
       "       [0.00626263],\n",
       "       [0.01212121],\n",
       "       [0.01454545],\n",
       "       [0.01818182],\n",
       "       [0.00888889],\n",
       "       [0.00666667],\n",
       "       [0.00747475],\n",
       "       [0.00545455],\n",
       "       [0.00969697],\n",
       "       [0.0010101 ],\n",
       "       [0.01676768],\n",
       "       [0.00707071],\n",
       "       [0.01494949],\n",
       "       [0.0189899 ],\n",
       "       [0.01050505],\n",
       "       [0.0040404 ],\n",
       "       [0.00383838],\n",
       "       [0.00262626],\n",
       "       [0.01979798]])"
      ]
     },
     "execution_count": 91,
     "metadata": {},
     "output_type": "execute_result"
    }
   ],
   "source": [
    "#2\n",
    "a = np.array(W3_recovery)\n",
    "a/np.sum(a)"
   ]
  },
  {
   "cell_type": "code",
   "execution_count": 1,
   "id": "15303a63-2642-47d9-88b1-a5766289836e",
   "metadata": {},
   "outputs": [
    {
     "ename": "IndentationError",
     "evalue": "expected an indented block (Temp/ipykernel_16772/4084648450.py, line 7)",
     "output_type": "error",
     "traceback": [
      "\u001b[1;36m  File \u001b[1;32m\"C:\\Users\\user\\AppData\\Local\\Temp/ipykernel_16772/4084648450.py\"\u001b[1;36m, line \u001b[1;32m7\u001b[0m\n\u001b[1;33m    delta = 1e-7\u001b[0m\n\u001b[1;37m    ^\u001b[0m\n\u001b[1;31mIndentationError\u001b[0m\u001b[1;31m:\u001b[0m expected an indented block\n"
     ]
    }
   ],
   "source": [
    "#3\n",
    "import numpy as np\n",
    "\n",
    "def mean_squared_error(a, W3_recovery):\n",
    "    return 0.5 * np.sum((a-W3_recovery)**2)\n",
    "def cross_entropy_code(a, W3_recovery):\n",
    "    delta = 1e-7\n",
    "    return -np.sum(W3_recovery * np.log(a + delta))\n",
    "# t = [ 0, 0, 1, 0, 0, 0, 0, 0, 0, 0]\n",
    "# # 예시 1 : '2'일 확률이 가장 높다고 추정함 ( 0.6 )\n",
    "# y = [0.1, 0.05, 0.6, 0.0, 0.05, 0.1, 0.0, 0.1, 0.0, 0.0]\n",
    "# print(cross_entropy_code(np.array(y), np.array(a)))\n",
    "# # 예시 2 : '7'일 확률이 가장 높다고 추정함 ( 0.6 )\n",
    "# y = [0.1, 0.05, 0.1, 0.0, 0.05, 0.1, 0.0, 0.6, 0.0, 0.0]\n",
    "# print(cross_entropy_code(np.array(y), np.array(a)))"
   ]
  },
  {
   "cell_type": "code",
   "execution_count": 95,
   "id": "09bddaa0-a856-45bd-86e5-6ad33195012b",
   "metadata": {},
   "outputs": [
    {
     "data": {
      "text/plain": [
       "9"
      ]
     },
     "execution_count": 95,
     "metadata": {},
     "output_type": "execute_result"
    }
   ],
   "source": [
    "#미분값 0으로 보내버리기\n",
    "def f(x):\n",
    "    return x**2\n",
    "f(3)"
   ]
  },
  {
   "cell_type": "code",
   "execution_count": 96,
   "id": "a01e6d9b-38d4-4973-b5be-6f1d93e5d4dd",
   "metadata": {},
   "outputs": [
    {
     "data": {
      "text/plain": [
       "6"
      ]
     },
     "execution_count": 96,
     "metadata": {},
     "output_type": "execute_result"
    }
   ],
   "source": [
    "#미분한값\n",
    "def der_f(x):\n",
    "    return 2*x\n",
    "der_f(3)"
   ]
  },
  {
   "cell_type": "code",
   "execution_count": 98,
   "id": "7d4fd2e1-b262-48df-bcb4-a94331112869",
   "metadata": {},
   "outputs": [
    {
     "data": {
      "text/plain": [
       "6.000000087880153"
      ]
     },
     "execution_count": 98,
     "metadata": {},
     "output_type": "execute_result"
    }
   ],
   "source": [
    "(f(3+1e-7) - f(3))/1e-7 #1e-7가장 좋은 입실론이라고 생각해서 씀"
   ]
  },
  {
   "cell_type": "code",
   "execution_count": 100,
   "id": "e5ea0e7b-1894-492d-8d7d-624251c0fd33",
   "metadata": {},
   "outputs": [],
   "source": [
    "#해석적 미분: 내일 이걸 행렬로 돌리고 미분할거"
   ]
  },
  {
   "cell_type": "code",
   "execution_count": 101,
   "id": "8a3d3b15-54c7-4b6d-9876-31fdc50b08d7",
   "metadata": {},
   "outputs": [],
   "source": [
    "#이걸 이해해야 뒤가 쉬움"
   ]
  },
  {
   "cell_type": "markdown",
   "id": "05002de8-770c-41fe-9be4-fa305f62d806",
   "metadata": {},
   "source": [
    "## 까지 텐서플로우1 이였습니당"
   ]
  },
  {
   "cell_type": "code",
   "execution_count": null,
   "id": "c43ffa0f-880b-43f3-b51b-8b6dd466cb10",
   "metadata": {},
   "outputs": [],
   "source": []
  }
 ],
 "metadata": {
  "kernelspec": {
   "display_name": "Python 3 (ipykernel)",
   "language": "python",
   "name": "python3"
  },
  "language_info": {
   "codemirror_mode": {
    "name": "ipython",
    "version": 3
   },
   "file_extension": ".py",
   "mimetype": "text/x-python",
   "name": "python",
   "nbconvert_exporter": "python",
   "pygments_lexer": "ipython3",
   "version": "3.9.7"
  }
 },
 "nbformat": 4,
 "nbformat_minor": 5
}
