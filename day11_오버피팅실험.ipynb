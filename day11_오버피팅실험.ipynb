{
 "cells": [
  {
   "cell_type": "raw",
   "id": "3e3209ca-a9d6-494b-941e-0b263051dfc2",
   "metadata": {},
   "source": [
    "교재151"
   ]
  },
  {
   "cell_type": "markdown",
   "id": "c9a81d00-bbf5-4c5e-8082-a278249ff161",
   "metadata": {},
   "source": [
    "# 트레인데이터 작게 넣으면 오버피팅 왜 일어나는지 볼거임 "
   ]
  },
  {
   "cell_type": "code",
   "execution_count": 1,
   "id": "070f6423-6665-4ea3-be7d-94f382a9c3e0",
   "metadata": {},
   "outputs": [],
   "source": [
    "from keras.datasets import mnist\n",
    "from keras.models import Sequential\n",
    "from keras.layers import Dense\n",
    "from keras.utils.np_utils import to_categorical"
   ]
  },
  {
   "cell_type": "code",
   "execution_count": 2,
   "id": "1d1782e1-ee32-41cf-a2e5-cf7ceaf7ce94",
   "metadata": {},
   "outputs": [],
   "source": [
    "(X_train,y_train),(X_test,y_test)=mnist.load_data()"
   ]
  },
  {
   "cell_type": "code",
   "execution_count": 3,
   "id": "d2e5752e-ba75-46c2-a51f-fdbac41edcbd",
   "metadata": {
    "tags": []
   },
   "outputs": [],
   "source": [
    "X_train = X_train.reshape(-1,28*28)\n",
    "X_train\n",
    "X_train.shape #5000개만 쓸거\n",
    "X_train = X_train[:5000]\n",
    "y_train = y_train[:5000] #이제 카테고리컬 해줘야함\n",
    "y_train = to_categorical(y_train)"
   ]
  },
  {
   "cell_type": "raw",
   "id": "992a7cf9-3b2d-4070-97c9-04de1bebd50f",
   "metadata": {},
   "source": [
    "모델생성"
   ]
  },
  {
   "cell_type": "code",
   "execution_count": 4,
   "id": "99968f33-b5e1-4b6c-bf00-18b910a0adbd",
   "metadata": {
    "tags": []
   },
   "outputs": [
    {
     "name": "stdout",
     "output_type": "stream",
     "text": [
      "Model: \"sequential\"\n",
      "_________________________________________________________________\n",
      " Layer (type)                Output Shape              Param #   \n",
      "=================================================================\n",
      " dense (Dense)               (None, 128)               100480    \n",
      "                                                                 \n",
      " dense_1 (Dense)             (None, 64)                8256      \n",
      "                                                                 \n",
      " dense_2 (Dense)             (None, 10)                650       \n",
      "                                                                 \n",
      "=================================================================\n",
      "Total params: 109,386\n",
      "Trainable params: 109,386\n",
      "Non-trainable params: 0\n",
      "_________________________________________________________________\n"
     ]
    }
   ],
   "source": [
    "input_shape = X_train.shape[1]\n",
    "output_shape = y_train.shape[1]\n",
    "\n",
    "model = Sequential()\n",
    "model.add(Dense(128,activation='relu',input_shape=(input_shape,)))\n",
    "model.add(Dense(64,activation='relu'))\n",
    "model.add(Dense(output_shape,activation='softmax'))\n",
    "\n",
    "model.summary()"
   ]
  },
  {
   "cell_type": "raw",
   "id": "17ef2e39-981a-41b6-87eb-c341c8e7c25e",
   "metadata": {},
   "source": [
    "컴파일"
   ]
  },
  {
   "cell_type": "code",
   "execution_count": 5,
   "id": "f63849ee-3526-4c5b-8d8a-41628f54f307",
   "metadata": {},
   "outputs": [],
   "source": [
    "optimizer=\"adam\"\n",
    "loss=\"categorical_crossentropy\"\n",
    "metrics=[\"accuracy\"]\n",
    "model.compile(optimizer=optimizer,\n",
    "                      loss=loss,\n",
    "                      metrics=metrics)"
   ]
  },
  {
   "cell_type": "raw",
   "id": "d7f802b0-a640-425a-b536-6074363a6dbd",
   "metadata": {},
   "source": [
    "학습"
   ]
  },
  {
   "cell_type": "code",
   "execution_count": 10,
   "id": "4d726f3f-44b3-489a-82f4-91878b0ef4dd",
   "metadata": {
    "tags": []
   },
   "outputs": [
    {
     "name": "stdout",
     "output_type": "stream",
     "text": [
      "Epoch 1/20\n",
      "13/13 [==============================] - 0s 3ms/step - loss: 2.0135 - accuracy: 0.8780\n",
      "Epoch 2/20\n",
      "13/13 [==============================] - 0s 3ms/step - loss: 1.2528 - accuracy: 0.9102\n",
      "Epoch 3/20\n",
      "13/13 [==============================] - 0s 3ms/step - loss: 0.8253 - accuracy: 0.9306\n",
      "Epoch 4/20\n",
      "13/13 [==============================] - 0s 3ms/step - loss: 0.5552 - accuracy: 0.9448\n",
      "Epoch 5/20\n",
      "13/13 [==============================] - 0s 3ms/step - loss: 0.3729 - accuracy: 0.9638\n",
      "Epoch 6/20\n",
      "13/13 [==============================] - 0s 3ms/step - loss: 0.2501 - accuracy: 0.9750\n",
      "Epoch 7/20\n",
      "13/13 [==============================] - 0s 3ms/step - loss: 0.1770 - accuracy: 0.9798\n",
      "Epoch 8/20\n",
      "13/13 [==============================] - 0s 2ms/step - loss: 0.1191 - accuracy: 0.9858\n",
      "Epoch 9/20\n",
      "13/13 [==============================] - 0s 3ms/step - loss: 0.0735 - accuracy: 0.9894\n",
      "Epoch 10/20\n",
      "13/13 [==============================] - 0s 3ms/step - loss: 0.0470 - accuracy: 0.9928\n",
      "Epoch 11/20\n",
      "13/13 [==============================] - 0s 3ms/step - loss: 0.0322 - accuracy: 0.9956\n",
      "Epoch 12/20\n",
      "13/13 [==============================] - 0s 3ms/step - loss: 0.0185 - accuracy: 0.9978\n",
      "Epoch 13/20\n",
      "13/13 [==============================] - 0s 3ms/step - loss: 0.0091 - accuracy: 0.9984\n",
      "Epoch 14/20\n",
      "13/13 [==============================] - 0s 4ms/step - loss: 0.0044 - accuracy: 0.9994\n",
      "Epoch 15/20\n",
      "13/13 [==============================] - 0s 3ms/step - loss: 0.0021 - accuracy: 0.9998\n",
      "Epoch 16/20\n",
      "13/13 [==============================] - 0s 4ms/step - loss: 0.0012 - accuracy: 1.0000\n",
      "Epoch 17/20\n",
      "13/13 [==============================] - 0s 3ms/step - loss: 8.5245e-04 - accuracy: 1.0000\n",
      "Epoch 18/20\n",
      "13/13 [==============================] - 0s 3ms/step - loss: 7.2361e-04 - accuracy: 1.0000\n",
      "Epoch 19/20\n",
      "13/13 [==============================] - 0s 4ms/step - loss: 6.2986e-04 - accuracy: 1.0000\n",
      "Epoch 20/20\n",
      "13/13 [==============================] - 0s 3ms/step - loss: 5.7940e-04 - accuracy: 1.0000\n"
     ]
    },
    {
     "data": {
      "text/plain": [
       "<keras.callbacks.History at 0x23286e6beb0>"
      ]
     },
     "execution_count": 10,
     "metadata": {},
     "output_type": "execute_result"
    }
   ],
   "source": [
    "epochs = 20\n",
    "batch_size = 400\n",
    "model.fit(X_train,\n",
    "         y_train,\n",
    "         epochs=epochs,\n",
    "         batch_size=batch_size)"
   ]
  },
  {
   "cell_type": "raw",
   "id": "3b862db1-67c5-4e42-810d-a3d8ea589b9d",
   "metadata": {},
   "source": [
    "평가"
   ]
  },
  {
   "cell_type": "code",
   "execution_count": 11,
   "id": "24309b66-d0cc-4395-af74-de6b28404fb8",
   "metadata": {},
   "outputs": [
    {
     "name": "stdout",
     "output_type": "stream",
     "text": [
      "313/313 [==============================] - 0s 728us/step - loss: 2.5497 - accuracy: 0.8573\n"
     ]
    },
    {
     "data": {
      "text/plain": [
       "[2.5497372150421143, 0.8572999835014343]"
      ]
     },
     "execution_count": 11,
     "metadata": {},
     "output_type": "execute_result"
    }
   ],
   "source": [
    "model.evaluate(X_test.reshape(-1,28*28),to_categorical(y_test))"
   ]
  },
  {
   "cell_type": "raw",
   "id": "f96c8e3d-27ed-4204-afa8-a26eb6183e81",
   "metadata": {},
   "source": [
    "##트레인데이터 작게 넣으면 오버피팅 왜 일어나는지? >> 샘플이 적은 상태서 학습 많이 시켜서 ?\n",
    "\n",
    ">> 과적합을 피하는데 샘플을 많이 확보한다거나, 독립변수의 수를 줄이는 것 또한 도움\n",
    "\n",
    "훈련을 시키면 시킬 수록 Error rate는 계속 줄어드는 경향이 있으므로 결국은 과적합(over-fitting)으로 귀결 >> 적정적합 구간에서 훈련을 중단 필요\n",
    "Cross-validation >> Training set으로 훈련시켜 모형을 만들고 (iteration....) --> Validation set을 사용해서 over-fitting 시작하는 지점을 탐지해서 적정 시점에 훈련을 중지시킨 후에 (Over-fitting 방지) --> Test set으로 최종 모델의 성능을 평가\n",
    "\n",
    "모델에 범용성(일반화 능력; Generalization)을 부여하여 overfitting을 방지 >> Regularization :: L1 regularization, L2 regularization, Dropout, Early stopping 등"
   ]
  }
 ],
 "metadata": {
  "kernelspec": {
   "display_name": "Python 3 (ipykernel)",
   "language": "python",
   "name": "python3"
  },
  "language_info": {
   "codemirror_mode": {
    "name": "ipython",
    "version": 3
   },
   "file_extension": ".py",
   "mimetype": "text/x-python",
   "name": "python",
   "nbconvert_exporter": "python",
   "pygments_lexer": "ipython3",
   "version": "3.9.7"
  }
 },
 "nbformat": 4,
 "nbformat_minor": 5
}
