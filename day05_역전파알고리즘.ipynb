{
 "cells": [
  {
   "cell_type": "raw",
   "id": "403940fd-64c0-44ad-b2ed-e4cee84b45f2",
   "metadata": {},
   "source": [
    "back propagation 오차역전파\n",
    "계산그래프 곱셈노드, 덧셈노드 실습"
   ]
  },
  {
   "cell_type": "code",
   "execution_count": 1,
   "id": "d5c6adc7-b0f1-4de1-9f1c-38f729790d83",
   "metadata": {},
   "outputs": [],
   "source": [
    "import numpy as np"
   ]
  },
  {
   "cell_type": "code",
   "execution_count": 8,
   "id": "b6309ff5-ec14-4bac-af46-f13135b057be",
   "metadata": {},
   "outputs": [],
   "source": [
    "#곱셈노드\n",
    "class ComputeGraph: #MulGraph\n",
    "    def __init__(self):\n",
    "        self.x = None\n",
    "        self.y = None\n",
    "        \n",
    "    def forward(self,x,y):\n",
    "        self.x = x\n",
    "        self.y = y\n",
    "        \n",
    "        out = x*y\n",
    "        return out\n",
    "    \n",
    "    def backward(self,dout):\n",
    "        dx = dout*self.y\n",
    "        dy = dout*self.x\n",
    "        \n",
    "        return dx,dy"
   ]
  },
  {
   "cell_type": "code",
   "execution_count": 9,
   "id": "41178091-054f-44c5-8046-25f83c91536c",
   "metadata": {
    "tags": []
   },
   "outputs": [
    {
     "data": {
      "text/plain": [
       "200"
      ]
     },
     "execution_count": 9,
     "metadata": {},
     "output_type": "execute_result"
    }
   ],
   "source": [
    "apple_price = 100\n",
    "apple_number = 2\n",
    "\n",
    "cal_graph = ComputeGraph()\n",
    "cal_graph.forward(apple_price,apple_number)"
   ]
  },
  {
   "cell_type": "code",
   "execution_count": 10,
   "id": "760e6497-6ae5-4c07-a24e-f2ce57f154c6",
   "metadata": {},
   "outputs": [
    {
     "data": {
      "text/plain": [
       "(2, 100)"
      ]
     },
     "execution_count": 10,
     "metadata": {},
     "output_type": "execute_result"
    }
   ],
   "source": [
    "dout = 1\n",
    "cal_graph.backward(dout)"
   ]
  },
  {
   "cell_type": "code",
   "execution_count": 26,
   "id": "d83db180-013a-485f-83bb-2577eceb194c",
   "metadata": {},
   "outputs": [],
   "source": [
    "#사과 세금계산\n",
    "price = 100\n",
    "number = 2\n",
    "tax = 1.1\n",
    "\n",
    "cal_apple = ComputeGraph()\n",
    "cal_tax = ComputeGraph()\n",
    "apple_price = cal_apple.forward(price,number)\n",
    "total_price = cal_tax.forward(apple_price,tax)"
   ]
  },
  {
   "cell_type": "code",
   "execution_count": 27,
   "id": "cc3af7df-fa9a-4254-83f2-e49f290b696e",
   "metadata": {},
   "outputs": [
    {
     "data": {
      "text/plain": [
       "200"
      ]
     },
     "execution_count": 27,
     "metadata": {},
     "output_type": "execute_result"
    }
   ],
   "source": [
    "apple_price"
   ]
  },
  {
   "cell_type": "code",
   "execution_count": 28,
   "id": "49bc799c-3c48-49bb-8f1c-a0f4e9a11015",
   "metadata": {},
   "outputs": [
    {
     "data": {
      "text/plain": [
       "220.00000000000003"
      ]
     },
     "execution_count": 28,
     "metadata": {},
     "output_type": "execute_result"
    }
   ],
   "source": [
    "total_price"
   ]
  },
  {
   "cell_type": "code",
   "execution_count": 32,
   "id": "e7f8c356-c21d-4a3d-8bcd-1105639022e8",
   "metadata": {},
   "outputs": [],
   "source": [
    "dout = 1\n",
    "dnumber, dprice = cal_apple.backward(dout)\n",
    "dapple_price, dtax = cal_tax.backward(dout)"
   ]
  },
  {
   "cell_type": "code",
   "execution_count": 37,
   "id": "90b1deb7-57bb-4e62-b0c9-f72f2d83d071",
   "metadata": {},
   "outputs": [
    {
     "data": {
      "text/plain": [
       "220.00000000000003"
      ]
     },
     "execution_count": 37,
     "metadata": {},
     "output_type": "execute_result"
    }
   ],
   "source": [
    "total_price"
   ]
  },
  {
   "cell_type": "code",
   "execution_count": 33,
   "id": "e365d68f-55be-4e6e-9232-6627bacbea26",
   "metadata": {},
   "outputs": [
    {
     "data": {
      "text/plain": [
       "1.1"
      ]
     },
     "execution_count": 33,
     "metadata": {},
     "output_type": "execute_result"
    }
   ],
   "source": [
    "dapple_price"
   ]
  },
  {
   "cell_type": "code",
   "execution_count": 34,
   "id": "85a55bbc-4430-405e-9601-a1b0961b7878",
   "metadata": {},
   "outputs": [
    {
     "data": {
      "text/plain": [
       "200"
      ]
     },
     "execution_count": 34,
     "metadata": {},
     "output_type": "execute_result"
    }
   ],
   "source": [
    "dtax"
   ]
  },
  {
   "cell_type": "code",
   "execution_count": 38,
   "id": "b776e7fe-643c-40b0-acff-fbb3d552927e",
   "metadata": {},
   "outputs": [],
   "source": [
    "dout = dapple_price\n",
    "dapple, dnumber = cal_apple.backward(dout)"
   ]
  },
  {
   "cell_type": "code",
   "execution_count": 39,
   "id": "0a515af8-a5a8-44da-8833-bd42d08c920b",
   "metadata": {},
   "outputs": [
    {
     "data": {
      "text/plain": [
       "2.2"
      ]
     },
     "execution_count": 39,
     "metadata": {},
     "output_type": "execute_result"
    }
   ],
   "source": [
    "dapple"
   ]
  },
  {
   "cell_type": "code",
   "execution_count": 40,
   "id": "38ae95a1-76c6-4da5-9adc-091aa777ceae",
   "metadata": {},
   "outputs": [
    {
     "data": {
      "text/plain": [
       "110.00000000000001"
      ]
     },
     "execution_count": 40,
     "metadata": {},
     "output_type": "execute_result"
    }
   ],
   "source": [
    "dnumber"
   ]
  },
  {
   "cell_type": "code",
   "execution_count": 74,
   "id": "ac4331c8-a416-4fe1-9e00-0ade510015da",
   "metadata": {},
   "outputs": [],
   "source": [
    "#덧셈노드\n",
    "class AddGraph:\n",
    "    def __init__(self):\n",
    "        pass\n",
    "        \n",
    "    def forward(self,x,y):\n",
    "        out = x+y\n",
    "        return out\n",
    "    \n",
    "    def backward(self,dout):\n",
    "        dx = dout*1\n",
    "        dy = dout*1        \n",
    "        return dx,dy"
   ]
  },
  {
   "cell_type": "code",
   "execution_count": 75,
   "id": "f16ef3a5-32db-4fdc-a5d7-4c8b59b47780",
   "metadata": {},
   "outputs": [],
   "source": [
    "x1 = 5\n",
    "x2 = 3\n",
    "x3 = 4\n",
    "f1 = AddGraph()\n",
    "f2 = AddGraph()\n",
    "part_sum = f1.forward(x1,x2)\n",
    "total_sum = f2.forward(part_sum,x3)"
   ]
  },
  {
   "cell_type": "code",
   "execution_count": 78,
   "id": "9b66d41e-f2b0-4f1c-b522-ab093d7c7e81",
   "metadata": {},
   "outputs": [],
   "source": [
    "dout = 1\n",
    "df1, dx3 = f2.backward(dout)"
   ]
  },
  {
   "cell_type": "code",
   "execution_count": 82,
   "id": "cd20c74a-e577-46db-9194-bc2f5aad4cbd",
   "metadata": {},
   "outputs": [
    {
     "data": {
      "text/plain": [
       "12"
      ]
     },
     "execution_count": 82,
     "metadata": {},
     "output_type": "execute_result"
    }
   ],
   "source": [
    "total_sum"
   ]
  },
  {
   "cell_type": "code",
   "execution_count": 80,
   "id": "d27ac569-eb95-47a1-851c-6700a0852b3e",
   "metadata": {},
   "outputs": [
    {
     "data": {
      "text/plain": [
       "1"
      ]
     },
     "execution_count": 80,
     "metadata": {},
     "output_type": "execute_result"
    }
   ],
   "source": [
    "df1"
   ]
  },
  {
   "cell_type": "code",
   "execution_count": 81,
   "id": "c4626470-088e-4b8e-9d25-1874b08fdf4d",
   "metadata": {},
   "outputs": [
    {
     "data": {
      "text/plain": [
       "1"
      ]
     },
     "execution_count": 81,
     "metadata": {},
     "output_type": "execute_result"
    }
   ],
   "source": [
    "dx3"
   ]
  },
  {
   "cell_type": "markdown",
   "id": "f1aa0029-e626-4285-bde8-7553238834a8",
   "metadata": {},
   "source": [
    "### 문제"
   ]
  },
  {
   "cell_type": "code",
   "execution_count": 83,
   "id": "1cd7de84-cc69-4547-b6d7-d504a2db5c97",
   "metadata": {},
   "outputs": [],
   "source": [
    "apple =100\n",
    "apple_num = 2\n",
    "orange = 150\n",
    "orange_num = 3\n",
    "tax = 1.1"
   ]
  },
  {
   "cell_type": "raw",
   "id": "11d1743b-4f46-47d8-8206-9f960bcfeaa1",
   "metadata": {},
   "source": [
    "일때 아래를 구하라\n",
    "total_price\n",
    "dApple\n",
    "dApple_num\n",
    "dOrange\n",
    "dOrange_num\n",
    "dTax"
   ]
  },
  {
   "cell_type": "code",
   "execution_count": 107,
   "id": "a11fef66-32de-43e1-ba5d-754d8173936f",
   "metadata": {},
   "outputs": [],
   "source": [
    "class MulLayer:\n",
    "    def __init__(self):\n",
    "        self.x = None\n",
    "        self.y = None\n",
    "    def forward(self,x,y):\n",
    "        self.x = x\n",
    "        self.y = y\n",
    "        out = x*y\n",
    "        return out\n",
    "    def backward(self,dout):\n",
    "        dx = dout*self.y\n",
    "        dy = dout*self.x\n",
    "        return dx,dy\n",
    "    \n",
    "class AddLayer:\n",
    "    def __init__(self):\n",
    "        pass\n",
    "    def forward(self,x,y):\n",
    "        out = x+y\n",
    "        return out\n",
    "    def backward(self,dout):\n",
    "        dx = dout*1\n",
    "        dy = dout*1\n",
    "        return dx,dy"
   ]
  },
  {
   "cell_type": "code",
   "execution_count": 124,
   "id": "c5bc5c76-858b-4e8b-af39-8078ba7ca2da",
   "metadata": {},
   "outputs": [],
   "source": [
    "mul_apple_layer = MulLayer()\n",
    "mul_orange_layer = MulLayer()\n",
    "mul_tax_layer = MulLayer()\n",
    "add_apple_layer = AddLayer()\n",
    "add_orange_layer = AddLayer()\n",
    "add_tax_layer = AddLayer()\n",
    "add_apple_orange_layer = AddLayer()"
   ]
  },
  {
   "cell_type": "code",
   "execution_count": 125,
   "id": "90905975-a1f8-4094-8fcc-5848ecab0821",
   "metadata": {
    "tags": []
   },
   "outputs": [],
   "source": [
    "apple_price = mul_apple_layer.forward(apple,apple_num)\n",
    "orange_price = mul_orange_layer.forward(orange,orange_num)\n",
    "price = add_apple_orange_layer.forward(apple_num,orange_num)\n",
    "total_price = mul_tax_layer.forward(price,tax)"
   ]
  },
  {
   "cell_type": "code",
   "execution_count": 126,
   "id": "78d6808c-4e96-47e0-a006-b2e284d7ad18",
   "metadata": {},
   "outputs": [],
   "source": [
    "dout=1\n",
    "dprice, dtax = mul_tax_layer.backward(dout)"
   ]
  },
  {
   "cell_type": "code",
   "execution_count": 127,
   "id": "0f92658a-95bb-4bc3-bee5-6e7b9d52f8a5",
   "metadata": {},
   "outputs": [
    {
     "data": {
      "text/plain": [
       "5.5"
      ]
     },
     "execution_count": 127,
     "metadata": {},
     "output_type": "execute_result"
    }
   ],
   "source": [
    "total_price"
   ]
  },
  {
   "cell_type": "code",
   "execution_count": 128,
   "id": "4aaf576f-7e3d-4cff-9ecb-00bcf18aa272",
   "metadata": {},
   "outputs": [
    {
     "data": {
      "text/plain": [
       "5"
      ]
     },
     "execution_count": 128,
     "metadata": {},
     "output_type": "execute_result"
    }
   ],
   "source": [
    "dtax"
   ]
  },
  {
   "cell_type": "code",
   "execution_count": 129,
   "id": "f9253143-cb83-4201-ad32-79d8bbb0d95d",
   "metadata": {},
   "outputs": [
    {
     "data": {
      "text/plain": [
       "1.1"
      ]
     },
     "execution_count": 129,
     "metadata": {},
     "output_type": "execute_result"
    }
   ],
   "source": [
    "dprice"
   ]
  },
  {
   "cell_type": "code",
   "execution_count": 131,
   "id": "c871a40f-d1a6-476f-b277-ee76a2176603",
   "metadata": {
    "tags": []
   },
   "outputs": [],
   "source": [
    "#dx,dy = add_apple_orange_layer.backward(dprice)\n",
    "dapple,dorange = add_apple_orange_layer.backward(dprice)"
   ]
  },
  {
   "cell_type": "code",
   "execution_count": 135,
   "id": "f7ed9441-7f93-474a-9534-d319af88d38b",
   "metadata": {},
   "outputs": [
    {
     "data": {
      "text/plain": [
       "(1.1, 1.1)"
      ]
     },
     "execution_count": 135,
     "metadata": {},
     "output_type": "execute_result"
    }
   ],
   "source": [
    "add_apple_orange_layer.backward(dprice)"
   ]
  },
  {
   "cell_type": "code",
   "execution_count": 132,
   "id": "c1398d2c-fcec-4c5e-bdb9-5207d3836148",
   "metadata": {},
   "outputs": [],
   "source": [
    "dapple,dapple_num = mul_apple_layer.backward(dapple)\n",
    "dorange,dorange_num = mul_orange_layer.backward(dorange)"
   ]
  },
  {
   "cell_type": "code",
   "execution_count": 133,
   "id": "7a62c1c8-a9f9-4af7-a31f-9fb2c0ec112a",
   "metadata": {},
   "outputs": [
    {
     "data": {
      "text/plain": [
       "3.3000000000000003"
      ]
     },
     "execution_count": 133,
     "metadata": {},
     "output_type": "execute_result"
    }
   ],
   "source": [
    "dorange"
   ]
  },
  {
   "cell_type": "code",
   "execution_count": 134,
   "id": "f551a59d-ef6c-4d3a-a719-3c08eb3e8afd",
   "metadata": {},
   "outputs": [
    {
     "data": {
      "text/plain": [
       "165.0"
      ]
     },
     "execution_count": 134,
     "metadata": {},
     "output_type": "execute_result"
    }
   ],
   "source": [
    "dorange_num"
   ]
  },
  {
   "cell_type": "code",
   "execution_count": 136,
   "id": "9707a12c-69ac-46c2-a01e-52650a8bdca6",
   "metadata": {},
   "outputs": [],
   "source": [
    "def relu(x):\n",
    "    return np.where(x>0,x,0)"
   ]
  },
  {
   "cell_type": "code",
   "execution_count": 156,
   "id": "ba55004e-9af8-430b-8fad-4b6ce6fc9bec",
   "metadata": {},
   "outputs": [],
   "source": [
    "class Relu:\n",
    "    def __init__(self):\n",
    "        self.mask = None\n",
    "        \n",
    "    def forward(self,x):\n",
    "        self.mask = (x<=0)\n",
    "        out = x.copy()\n",
    "        out[self.mask] = 0\n",
    "        return out\n",
    "    \n",
    "    def backward(self,dout):\n",
    "        dout[self.mask] = 0\n",
    "        dx = dout\n",
    "        return dx"
   ]
  },
  {
   "cell_type": "code",
   "execution_count": 138,
   "id": "439ec02c-dcc1-43a0-a893-8fa7d8ab11fa",
   "metadata": {},
   "outputs": [],
   "source": [
    "relu_layer = Relu()"
   ]
  },
  {
   "cell_type": "code",
   "execution_count": 141,
   "id": "0f145975-6b90-4647-95bc-94bdae69e791",
   "metadata": {},
   "outputs": [
    {
     "data": {
      "text/plain": [
       "array([[ 1.32463001, -0.79558985],\n",
       "       [ 1.05389834, -0.93494539],\n",
       "       [-0.42515072,  0.02432526],\n",
       "       [-0.80723601, -0.31525857]])"
      ]
     },
     "execution_count": 141,
     "metadata": {},
     "output_type": "execute_result"
    }
   ],
   "source": [
    "x = np.random.randn(4,2)\n",
    "x"
   ]
  },
  {
   "cell_type": "code",
   "execution_count": 143,
   "id": "1d227691-1d10-48b8-b053-d9b7b9ad5a3e",
   "metadata": {},
   "outputs": [
    {
     "data": {
      "text/plain": [
       "array([[1.32463001, 0.        ],\n",
       "       [1.05389834, 0.        ],\n",
       "       [0.        , 0.02432526],\n",
       "       [0.        , 0.        ]])"
      ]
     },
     "execution_count": 143,
     "metadata": {},
     "output_type": "execute_result"
    }
   ],
   "source": [
    "xf = relu_layer.forward(x)\n",
    "xf"
   ]
  },
  {
   "cell_type": "code",
   "execution_count": 157,
   "id": "a1f242db-877a-4f26-bc50-a1c4f2206d04",
   "metadata": {},
   "outputs": [
    {
     "data": {
      "text/plain": [
       "array([[1.32463001, 0.        ],\n",
       "       [1.05389834, 0.        ],\n",
       "       [0.        , 0.02432526],\n",
       "       [0.        , 0.        ]])"
      ]
     },
     "execution_count": 157,
     "metadata": {},
     "output_type": "execute_result"
    }
   ],
   "source": [
    "xb = relu_layer.backward(xf) ???????\n",
    "xb"
   ]
  },
  {
   "cell_type": "code",
   "execution_count": 151,
   "id": "f1df6787-3165-485e-a7eb-74895fcb09fd",
   "metadata": {},
   "outputs": [
    {
     "data": {
      "text/plain": [
       "array([[ True, False],\n",
       "       [ True, False],\n",
       "       [False,  True],\n",
       "       [False, False]])"
      ]
     },
     "execution_count": 151,
     "metadata": {},
     "output_type": "execute_result"
    }
   ],
   "source": [
    "x_mask = (x>0)\n",
    "x_mask"
   ]
  },
  {
   "cell_type": "code",
   "execution_count": 182,
   "id": "5e519930-337c-431d-95a9-09907df31fde",
   "metadata": {},
   "outputs": [],
   "source": [
    "class Sigmoid:\n",
    "    def __init_(self):\n",
    "        self.out = None\n",
    "    \n",
    "    def forward(self,x):\n",
    "        out = 1 / (1+np.exp(-x))\n",
    "        self.out = out\n",
    "        return out \n",
    "    \n",
    "    def backward(self,dout):\n",
    "        dx = dout*self.out*(1-self.out)\n",
    "        return dx"
   ]
  },
  {
   "cell_type": "code",
   "execution_count": 183,
   "id": "d29f5873-c838-4a77-a93d-5c3cee33700c",
   "metadata": {},
   "outputs": [],
   "source": [
    "x = np.random.randn(4,2)"
   ]
  },
  {
   "cell_type": "code",
   "execution_count": 184,
   "id": "15df7b71-325c-47eb-9f26-0f72aa3cc020",
   "metadata": {
    "tags": []
   },
   "outputs": [],
   "source": [
    "sigmoid_layer = Sigmoid()\n",
    "sf = sigmoid_layer.forward(x)\n",
    "sb = sigmoid_layer.backward(sf)"
   ]
  },
  {
   "cell_type": "code",
   "execution_count": 185,
   "id": "153f34c0-cafb-4665-9291-be2b78c29ced",
   "metadata": {},
   "outputs": [
    {
     "data": {
      "text/plain": [
       "array([[0.78783438, 0.20620988],\n",
       "       [0.57252334, 0.51877713],\n",
       "       [0.16838897, 0.58223402],\n",
       "       [0.36379806, 0.52548079]])"
      ]
     },
     "execution_count": 185,
     "metadata": {},
     "output_type": "execute_result"
    }
   ],
   "source": [
    "sf"
   ]
  },
  {
   "cell_type": "code",
   "execution_count": null,
   "id": "a06a1518-f0ec-40d5-9e1f-ede93c7e34bb",
   "metadata": {},
   "outputs": [],
   "source": [
    "#softmax는 알아서 짜봐 ^^"
   ]
  },
  {
   "cell_type": "code",
   "execution_count": null,
   "id": "97e8d368-58f4-42c4-af1d-64b321050b9e",
   "metadata": {},
   "outputs": [],
   "source": []
  },
  {
   "cell_type": "code",
   "execution_count": null,
   "id": "dc0889be-28b9-4fed-a4e2-9e4b62033a3d",
   "metadata": {},
   "outputs": [],
   "source": []
  },
  {
   "cell_type": "code",
   "execution_count": 190,
   "id": "ca334ae9-5747-4b72-8fd5-5bf6f2b3bb44",
   "metadata": {},
   "outputs": [
    {
     "data": {
      "text/plain": [
       "(3,)"
      ]
     },
     "execution_count": 190,
     "metadata": {},
     "output_type": "execute_result"
    }
   ],
   "source": [
    "X = np.random.randn(2)\n",
    "W = np.random.randn(2,3)\n",
    "b = np.random.randn(3)\n",
    "X.shape\n",
    "W.shape\n",
    "b.shape    \n",
    "\n",
    "out = np.dot(X,W) + b #넘파이 중요하다고 말했습니다^^\n",
    "out.shape"
   ]
  },
  {
   "cell_type": "code",
   "execution_count": 196,
   "id": "b98adfef-7f5b-48cb-9f62-91df9095fae6",
   "metadata": {},
   "outputs": [
    {
     "data": {
      "text/plain": [
       "matrix([[ 0.85408539, -0.18595254],\n",
       "        [-0.18595254,  1.36350684]])"
      ]
     },
     "execution_count": 196,
     "metadata": {},
     "output_type": "execute_result"
    }
   ],
   "source": [
    "W = np.matrix(W)\n",
    "W_t = np.matrix(W.T)\n",
    "np.dot(W,W.T)\n",
    "W*W_t"
   ]
  },
  {
   "cell_type": "code",
   "execution_count": 202,
   "id": "a92b83a6-f4e5-47e6-82e5-db45a52fe004",
   "metadata": {},
   "outputs": [
    {
     "data": {
      "text/plain": [
       "array([5, 7, 9])"
      ]
     },
     "execution_count": 202,
     "metadata": {},
     "output_type": "execute_result"
    }
   ],
   "source": [
    "x = np.array([[0,0,0],[10.,10.,10.]])\n",
    "b = np.array([1,2,3])\n",
    "out = x+b\n",
    "\n",
    "dy = np.arange(1,7).reshape(2,3)\n",
    "dy\n",
    "\n",
    "dB = np.sum(dy,axis=0)\n",
    "dB"
   ]
  },
  {
   "cell_type": "code",
   "execution_count": 207,
   "id": "bce7c902-cabc-441f-b748-d93abe166bad",
   "metadata": {},
   "outputs": [],
   "source": [
    "class Affine:\n",
    "    def __init__(self,W,b):\n",
    "        self.W = W\n",
    "        self.b = b\n",
    "        self.x = None\n",
    "        self.dW = None\n",
    "        self.db = None\n",
    "        \n",
    "    def forward(self,x):\n",
    "        self.x = x\n",
    "        out = np.dot(x,self.W)+self.b\n",
    "        \n",
    "        return out\n",
    "    \n",
    "    def backward(self,dout):\n",
    "        dx = np.dot(dout, self.W)"
   ]
  },
  {
   "cell_type": "code",
   "execution_count": 208,
   "id": "b15e8c17-bda4-4f42-bbc3-ca48bcc24333",
   "metadata": {},
   "outputs": [],
   "source": [
    "X = np.random.randn(2,3)\n",
    "W = np.random.randn(3,2)\n",
    "out = np.dot(X,W) "
   ]
  },
  {
   "cell_type": "code",
   "execution_count": 210,
   "id": "05ad8974-faf1-4049-84c3-a412fc97ca57",
   "metadata": {},
   "outputs": [
    {
     "data": {
      "text/plain": [
       "(array([[ 2.09976048, -2.55220883],\n",
       "        [ 0.85774643, -1.47768937]]),\n",
       " array([[-1.47465077,  1.7278147 ],\n",
       "        [-1.22368657,  0.71008509],\n",
       "        [ 0.24088229, -0.01521896]]))"
      ]
     },
     "execution_count": 210,
     "metadata": {},
     "output_type": "execute_result"
    }
   ],
   "source": [
    "out,W"
   ]
  },
  {
   "cell_type": "code",
   "execution_count": 211,
   "id": "c36889fc-dc19-4b7a-9de1-c9cd5b17b7b3",
   "metadata": {},
   "outputs": [
    {
     "ename": "ValueError",
     "evalue": "shapes (2,2) and (3,2) not aligned: 2 (dim 1) != 3 (dim 0)",
     "output_type": "error",
     "traceback": [
      "\u001b[1;31m---------------------------------------------------------------------------\u001b[0m",
      "\u001b[1;31mValueError\u001b[0m                                Traceback (most recent call last)",
      "\u001b[1;32m~\\AppData\\Local\\Temp/ipykernel_7960/931312309.py\u001b[0m in \u001b[0;36m<module>\u001b[1;34m\u001b[0m\n\u001b[1;32m----> 1\u001b[1;33m \u001b[0mnp\u001b[0m\u001b[1;33m.\u001b[0m\u001b[0mdot\u001b[0m\u001b[1;33m(\u001b[0m\u001b[0mout\u001b[0m\u001b[1;33m,\u001b[0m\u001b[0mW\u001b[0m\u001b[1;33m)\u001b[0m\u001b[1;33m\u001b[0m\u001b[1;33m\u001b[0m\u001b[0m\n\u001b[0m",
      "\u001b[1;32m<__array_function__ internals>\u001b[0m in \u001b[0;36mdot\u001b[1;34m(*args, **kwargs)\u001b[0m\n",
      "\u001b[1;31mValueError\u001b[0m: shapes (2,2) and (3,2) not aligned: 2 (dim 1) != 3 (dim 0)"
     ]
    }
   ],
   "source": [
    "np.dot(out,W)"
   ]
  },
  {
   "cell_type": "raw",
   "id": "e1b3dbfc-bb4f-4fdd-919c-c9d75c8adae3",
   "metadata": {},
   "source": [
    "shapes (2,2) and (3,2) not aligned: 2 (dim 1) != 3 (dim 0) 행렬이 안맞다. 트랜스폼 시켜줘라. "
   ]
  },
  {
   "cell_type": "code",
   "execution_count": 212,
   "id": "1f74dbc8-1176-43e0-b786-095af77f3f90",
   "metadata": {},
   "outputs": [
    {
     "data": {
      "text/plain": [
       "array([[-7.50615736, -4.38173413,  0.5446371 ],\n",
       "       [-3.81804985, -2.09889797,  0.22910483]])"
      ]
     },
     "execution_count": 212,
     "metadata": {},
     "output_type": "execute_result"
    }
   ],
   "source": [
    "np.dot(out,W.T)"
   ]
  },
  {
   "cell_type": "code",
   "execution_count": 213,
   "id": "2b3be1bb-88db-418b-a209-d862816d6b5a",
   "metadata": {},
   "outputs": [],
   "source": [
    "class Affine:\n",
    "    def __init__(self,W,b):\n",
    "        self.W = W\n",
    "        self.b = b\n",
    "        self.x = None\n",
    "        self.dW = None\n",
    "        self.db = None\n",
    "        \n",
    "    def forward(self,x): #predict랑 같음\n",
    "        self.x = x\n",
    "        out = np.dot(x,self.W)+self.b\n",
    "        \n",
    "        return out\n",
    "    \n",
    "    def backward(self,dout): #추가\n",
    "        dx = np.dot(dout, self.W.T)\n",
    "        self.dW = np.dot(self.x.T,dout)\n",
    "        self.db = np.sum(dout,axis=0)\n",
    "        \n",
    "        return dx"
   ]
  },
  {
   "cell_type": "code",
   "execution_count": 214,
   "id": "f26443dc-b7c7-46d6-8a73-579bae9b9513",
   "metadata": {},
   "outputs": [],
   "source": [
    "x = np.random.randn(4,2)\n",
    "W = np.random.randn(2,3)\n",
    "b = np.random.randn(3,)"
   ]
  },
  {
   "cell_type": "code",
   "execution_count": 215,
   "id": "d7a6ec9a-25fc-4474-b44a-b531bc53de39",
   "metadata": {},
   "outputs": [
    {
     "data": {
      "text/plain": [
       "array([[ 2.34092885e-02, -4.24199406e-01,  4.69301649e-01],\n",
       "       [-2.16837290e+00,  1.51814811e+00, -1.36302381e+00],\n",
       "       [-2.09288169e+00,  1.70745947e+00, -1.77484264e+00],\n",
       "       [-1.39435948e-02,  1.91811067e-03, -2.90443479e-01]])"
      ]
     },
     "execution_count": 215,
     "metadata": {},
     "output_type": "execute_result"
    }
   ],
   "source": [
    "affine = Affine(W,b)\n",
    "out = affine.forward(x)\n",
    "out"
   ]
  },
  {
   "cell_type": "code",
   "execution_count": 217,
   "id": "8e22db30-9baf-42b3-87b5-54fe92be7907",
   "metadata": {},
   "outputs": [
    {
     "data": {
      "text/plain": [
       "array([[0.50585205, 0.39551231, 0.61521845],\n",
       "       [0.10262678, 0.82026562, 0.20374929],\n",
       "       [0.10979061, 0.84650648, 0.14494113],\n",
       "       [0.49651416, 0.50047953, 0.4278953 ]])"
      ]
     },
     "execution_count": 217,
     "metadata": {},
     "output_type": "execute_result"
    }
   ],
   "source": [
    "sig = Sigmoid()\n",
    "sig_out = sig.forward(out)\n",
    "sig_out"
   ]
  },
  {
   "cell_type": "code",
   "execution_count": 218,
   "id": "0cf39133-fa1d-4cac-b147-a5c3334b9d7f",
   "metadata": {},
   "outputs": [
    {
     "data": {
      "text/plain": [
       "(4, 3)"
      ]
     },
     "execution_count": 218,
     "metadata": {},
     "output_type": "execute_result"
    }
   ],
   "source": [
    "out.shape"
   ]
  },
  {
   "cell_type": "code",
   "execution_count": 223,
   "id": "5cce053b-55d5-49e2-81c9-fca1aae14c70",
   "metadata": {},
   "outputs": [
    {
     "data": {
      "text/plain": [
       "array([-4.25178889,  2.80332629, -2.95900829])"
      ]
     },
     "execution_count": 223,
     "metadata": {},
     "output_type": "execute_result"
    }
   ],
   "source": [
    "affine.backward(out)\n",
    "affine.dW\n",
    "affine.db"
   ]
  },
  {
   "cell_type": "code",
   "execution_count": 229,
   "id": "e729fcee-4c01-4396-a90e-defb9add2f7a",
   "metadata": {
    "tags": []
   },
   "outputs": [
    {
     "data": {
      "text/plain": [
       "2.883662195834364"
      ]
     },
     "execution_count": 229,
     "metadata": {},
     "output_type": "execute_result"
    }
   ],
   "source": [
    "#소프트맥스 함수\n",
    "x = np.random.randn(5,3)\n",
    "w1 = np.random.randn(3,4)\n",
    "b1 = np.random.randn(4)\n",
    "w2 = np.random.randn(4,3)\n",
    "b2 = np.random.randn(3)\n",
    "t = np.zeros((5,3))\n",
    "t[:,1]=1\n",
    "\n",
    "from loss import cross_entropy_error\n",
    "from activation import softmax\n",
    "def relu(x):\n",
    "    return np.maximum(0,x)\n",
    "l1 = np.dot(x,w1)+b1\n",
    "z1 = relu(l1)\n",
    "l2 = np.dot(z1,w2)+b2\n",
    "\n",
    "cross_entropy_error(softmax(l2),t)"
   ]
  },
  {
   "cell_type": "code",
   "execution_count": 231,
   "id": "441f5a37-e757-4301-af90-9c8460c53796",
   "metadata": {},
   "outputs": [],
   "source": [
    "class SoftmaxWithLoss:\n",
    "    def __init__(self):\n",
    "        self.loss = None\n",
    "        self.y = None\n",
    "        self.t = None\n",
    "    \n",
    "    def forward(self,x,t):\n",
    "        self.y = softmax(x) #self.predict(x)\n",
    "        self.t = t\n",
    "        self.loss = cross_entropy_error(self.y,self.t)\n",
    "        return self.loss\n",
    "    \n",
    "    def backward(self,dout=1):\n",
    "        dx = dout*(self.y-self.t)/y.shape[0]\n",
    "        return dx"
   ]
  },
  {
   "cell_type": "code",
   "execution_count": 234,
   "id": "ecb880f2-96fd-4d4a-af0e-b1d27ca7fe6c",
   "metadata": {},
   "outputs": [
    {
     "data": {
      "text/plain": [
       "2.883662195834364"
      ]
     },
     "execution_count": 234,
     "metadata": {},
     "output_type": "execute_result"
    }
   ],
   "source": [
    "dL = SoftmaxWithLoss()\n",
    "dLforward = dL.forward(l2,t)\n",
    "dLforward"
   ]
  },
  {
   "cell_type": "code",
   "execution_count": 236,
   "id": "61e89ef6-feed-4f21-bff0-5b02dd8d35f4",
   "metadata": {},
   "outputs": [
    {
     "data": {
      "text/plain": [
       "(5, 3)"
      ]
     },
     "execution_count": 236,
     "metadata": {},
     "output_type": "execute_result"
    }
   ],
   "source": [
    "dL.backward().shape"
   ]
  },
  {
   "cell_type": "code",
   "execution_count": 237,
   "id": "9374a4ef-6637-45ee-8f7e-3f99b6cde42c",
   "metadata": {},
   "outputs": [
    {
     "data": {
      "text/plain": [
       "(5, 3)"
      ]
     },
     "execution_count": 237,
     "metadata": {},
     "output_type": "execute_result"
    }
   ],
   "source": [
    "l2.shape"
   ]
  },
  {
   "cell_type": "code",
   "execution_count": null,
   "id": "2cdced62-3b09-40d1-80f3-1b86e6831799",
   "metadata": {},
   "outputs": [],
   "source": []
  }
 ],
 "metadata": {
  "kernelspec": {
   "display_name": "Python 3 (ipykernel)",
   "language": "python",
   "name": "python3"
  },
  "language_info": {
   "codemirror_mode": {
    "name": "ipython",
    "version": 3
   },
   "file_extension": ".py",
   "mimetype": "text/x-python",
   "name": "python",
   "nbconvert_exporter": "python",
   "pygments_lexer": "ipython3",
   "version": "3.9.7"
  }
 },
 "nbformat": 4,
 "nbformat_minor": 5
}
