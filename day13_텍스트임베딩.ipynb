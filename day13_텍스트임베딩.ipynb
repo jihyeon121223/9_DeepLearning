{
 "cells": [
  {
   "cell_type": "raw",
   "id": "8cf5f84b-0b71-4ad6-bbc2-548925f5d14e",
   "metadata": {},
   "source": [
    "ppt.125 임베딩레이어\n",
    "https://github.com/gilbutITbook/006975/blob/master/6.1-using-word-embeddings.ipynb"
   ]
  },
  {
   "cell_type": "code",
   "execution_count": 1,
   "id": "d7f22c1c-a610-47af-b225-18b1577b53c3",
   "metadata": {},
   "outputs": [],
   "source": [
    "import numpy as np\n",
    "import pandas as pd\n",
    "from keras.preprocessing.sequence import pad_sequences\n",
    "from keras.utils.np_utils import to_categorical\n",
    "from keras.layers import Dense, Embedding, BatchNormalization, Flatten, SimpleRNN, LSTM, GRU, concatenate\n",
    "from keras.layers import Conv1D, MaxPooling1D\n",
    "from keras.models import Sequential, Model\n",
    "from keras import Input\n",
    "from tensorflow.keras.utils import plot_model\n",
    "\n",
    "from keras.datasets import reuters"
   ]
  },
  {
   "cell_type": "code",
   "execution_count": 2,
   "id": "d215fc06-ac25-43be-a52e-c3739a7dc19f",
   "metadata": {},
   "outputs": [],
   "source": [
    "(X_train,y_train),(X_test,y_test) = reuters.load_data()"
   ]
  },
  {
   "cell_type": "code",
   "execution_count": 3,
   "id": "f2378353-c6c3-4624-a1c9-d4ace2170860",
   "metadata": {},
   "outputs": [],
   "source": [
    "from keras.layers import Embedding\n",
    "\n",
    "# Embedding 층은 적어도 두 개의 매개변수를 받습니다.\n",
    "# 가능한 토큰의 개수(여기서는 1,000으로 단어 인덱스 최댓값 + 1입니다)와 임베딩 차원(여기서는 64)입니다\n",
    "\n",
    "# pd.Series(X_train).apply(len).max()\n",
    "length = pd.Series(X_train).apply(len).max()+1\n",
    "\n",
    "embedding_layer = Embedding(length, 64)"
   ]
  },
  {
   "cell_type": "code",
   "execution_count": 4,
   "id": "aeeac33e-2e3b-427d-b71d-281d8be308a6",
   "metadata": {},
   "outputs": [
    {
     "data": {
      "text/plain": [
       "(8982,)"
      ]
     },
     "execution_count": 4,
     "metadata": {},
     "output_type": "execute_result"
    }
   ],
   "source": [
    "dir(embedding_layer)\n",
    "embedding_layer.weights\n",
    "X_train.shape"
   ]
  },
  {
   "cell_type": "code",
   "execution_count": 5,
   "id": "0bf8b891-164b-40ef-a890-0651a06287a5",
   "metadata": {},
   "outputs": [
    {
     "data": {
      "text/plain": [
       "2376"
      ]
     },
     "execution_count": 5,
     "metadata": {},
     "output_type": "execute_result"
    }
   ],
   "source": [
    "#시리즈로 바꾸기\n",
    "pd.Series(X_train).apply(len).max()"
   ]
  },
  {
   "cell_type": "code",
   "execution_count": 6,
   "id": "f8b74425-aae0-4b6a-9c4b-e4d058835735",
   "metadata": {},
   "outputs": [],
   "source": [
    "if pd.Series(X_test).apply(len).max() > pd.Series(X_test).apply(len).max():\n",
    "    maxlen = pd.Series(X_test).apply(len).max()+1\n",
    "else:\n",
    "    maxlen = pd.Series(X_train).apply(len).max()+1"
   ]
  },
  {
   "cell_type": "code",
   "execution_count": 7,
   "id": "9a7d59af-494b-436c-a0f1-306347561e70",
   "metadata": {},
   "outputs": [],
   "source": [
    "X_train = pad_sequences(X_train,maxlen=maxlen,padding='post')\n",
    "X_test = pad_sequences(X_test,maxlen=maxlen,padding='post')"
   ]
  },
  {
   "cell_type": "code",
   "execution_count": 8,
   "id": "45b211d3-e881-4e9f-a0a1-751253db231b",
   "metadata": {},
   "outputs": [],
   "source": [
    "y_train = to_categorical(y_train)\n",
    "y_test = to_categorical(y_test)"
   ]
  },
  {
   "cell_type": "code",
   "execution_count": 9,
   "id": "595f67fc-58f2-49cf-a6d4-769565d27402",
   "metadata": {},
   "outputs": [],
   "source": [
    "ouput_shape = y_train.shape[1]"
   ]
  },
  {
   "cell_type": "code",
   "execution_count": 10,
   "id": "b3a2f095-9901-4b51-8a00-9ac1b0c8276c",
   "metadata": {},
   "outputs": [
    {
     "data": {
      "text/plain": [
       "28842"
      ]
     },
     "execution_count": 10,
     "metadata": {},
     "output_type": "execute_result"
    }
   ],
   "source": [
    "max(X_train[0])"
   ]
  },
  {
   "cell_type": "code",
   "execution_count": 11,
   "id": "ac037165-bfff-4fbe-83b9-d491ccdb220a",
   "metadata": {},
   "outputs": [],
   "source": [
    "max_val = 0\n",
    "for i in X_train:\n",
    "    if max(i) > max_val:\n",
    "        max_val = max(i)   "
   ]
  },
  {
   "cell_type": "code",
   "execution_count": 12,
   "id": "89679284-85a4-46cc-a63f-2e263030f1ba",
   "metadata": {},
   "outputs": [
    {
     "data": {
      "text/plain": [
       "30982"
      ]
     },
     "execution_count": 12,
     "metadata": {},
     "output_type": "execute_result"
    }
   ],
   "source": [
    "max_val += 1\n",
    "max_val"
   ]
  },
  {
   "cell_type": "code",
   "execution_count": 13,
   "id": "5fca4b93-ea48-411d-9e1e-4229ab6d5ba6",
   "metadata": {},
   "outputs": [],
   "source": [
    "word_idx = reuters.get_word_index()"
   ]
  },
  {
   "cell_type": "code",
   "execution_count": 14,
   "id": "c1691ea4-220a-4f4d-8008-395014b15d5b",
   "metadata": {},
   "outputs": [
    {
     "name": "stdout",
     "output_type": "stream",
     "text": [
      "Epoch 1/5\n",
      "281/281 [==============================] - 2s 6ms/step - loss: 2.3501 - accuracy: 0.5341\n",
      "Epoch 2/5\n",
      "281/281 [==============================] - 2s 6ms/step - loss: 1.2788 - accuracy: 0.7189\n",
      "Epoch 3/5\n",
      "281/281 [==============================] - 2s 6ms/step - loss: 0.8641 - accuracy: 0.8157\n",
      "Epoch 4/5\n",
      "281/281 [==============================] - 2s 6ms/step - loss: 0.6469 - accuracy: 0.8735\n",
      "Epoch 5/5\n",
      "281/281 [==============================] - 2s 5ms/step - loss: 0.5049 - accuracy: 0.9066\n",
      "71/71 [==============================] - 0s 2ms/step - loss: 1.5764 - accuracy: 0.6723\n"
     ]
    },
    {
     "data": {
      "text/plain": [
       "[1.5763756036758423, 0.6723062992095947]"
      ]
     },
     "execution_count": 14,
     "metadata": {},
     "output_type": "execute_result"
    }
   ],
   "source": [
    "#1\n",
    "model = Sequential()\n",
    "model.add(Embedding(max_val, 8, input_length=maxlen))\n",
    "model.add(Flatten())\n",
    "model.add(Dense(12))\n",
    "model.add(BatchNormalization())\n",
    "model.add(Dense(ouput_shape,activation=\"softmax\"))\n",
    "\n",
    "optimizer = 'adam'\n",
    "loss = 'categorical_crossentropy'\n",
    "metrics = ['accuracy']\n",
    "model.compile(optimizer=optimizer,\n",
    "             loss=loss,\n",
    "             metrics=metrics)\n",
    "\n",
    "epochs = 5\n",
    "batch_size = 32\n",
    "model.fit(X_train, \n",
    "          y_train,\n",
    "         epochs=epochs,\n",
    "         batch_size=batch_size)\n",
    "\n",
    "model.evaluate(X_test,y_test)"
   ]
  },
  {
   "cell_type": "code",
   "execution_count": 15,
   "id": "f34ead3d-7ef7-4628-a385-51ff975ff79c",
   "metadata": {},
   "outputs": [],
   "source": [
    "#2 #오래걸리니 실행은 함부로 말것\n",
    "# model = Sequential()\n",
    "# model.add(Embedding(max_val, 8, input_length=maxlen))\n",
    "# model.add(SimpleRNN(maxlen,return_sequences=True))\n",
    "# model.add(SimpleRNN(maxlen,return_sequences=True))\n",
    "# model.add(SimpleRNN(maxlen,return_sequences=True))\n",
    "# model.add(SimpleRNN(maxlen))\n",
    "# model.add(Dense(ouput_shape,activation=\"softmax\"))\n",
    "\n",
    "# optimizer = 'adam'\n",
    "# loss = 'categorical_crossentropy'\n",
    "# metrics = ['accuracy']\n",
    "# model.compile(optimizer=optimizer,\n",
    "#              loss=loss,\n",
    "#              metrics=metrics)\n",
    "\n",
    "# epochs = 6\n",
    "# batch_size = 32\n",
    "# model.fit(X_train, \n",
    "#           y_train,\n",
    "#          epochs=epochs,\n",
    "#          batch_size=batch_size)\n",
    "\n",
    "# model.evaluate(X_test,y_test)"
   ]
  },
  {
   "cell_type": "code",
   "execution_count": null,
   "id": "1623dee1-b77a-4c71-a419-d17a9b8f13f2",
   "metadata": {},
   "outputs": [],
   "source": []
  },
  {
   "cell_type": "code",
   "execution_count": null,
   "id": "27bae5a1-143a-40e7-a3dc-0878612bd5a6",
   "metadata": {},
   "outputs": [],
   "source": []
  },
  {
   "cell_type": "code",
   "execution_count": 16,
   "id": "d8505d81-79d6-4155-9c42-83ac3b48bf61",
   "metadata": {},
   "outputs": [],
   "source": [
    "(X_train,y_train),(X_test,y_test) = reuters.load_data(num_words=10000) "
   ]
  },
  {
   "cell_type": "code",
   "execution_count": 17,
   "id": "3359b7ab-feb0-450b-8421-d59c00defe13",
   "metadata": {},
   "outputs": [],
   "source": [
    "X_train = pad_sequences(X_train,100)\n",
    "X_test = pad_sequences(X_test,100)\n",
    "y_train = to_categorical(y_train)\n",
    "y_test = to_categorical(y_test)"
   ]
  },
  {
   "cell_type": "code",
   "execution_count": 18,
   "id": "b83121f1-647d-45f5-9334-be48106a5d0f",
   "metadata": {},
   "outputs": [],
   "source": [
    "input_shape= X_train.shape[1]\n",
    "output_shape = y_train.shape[1]"
   ]
  },
  {
   "cell_type": "code",
   "execution_count": 19,
   "id": "47c5b55e-f17e-429c-bdd6-1a26bf5f12b2",
   "metadata": {},
   "outputs": [],
   "source": [
    "model = Sequential()\n",
    "model.add(Embedding(10001,128,input_length=input_shape))\n",
    "model.add(Conv1D(32,7,activation='relu'))\n",
    "model.add(MaxPooling1D())\n",
    "model.add(Flatten())\n",
    "model.add(Dense(128,activation='relu'))\n",
    "model.add(Dense(output_shape,activation='softmax'))"
   ]
  },
  {
   "cell_type": "code",
   "execution_count": 20,
   "id": "e98b4f09-5472-4acf-b3d1-dacc197a9b6e",
   "metadata": {},
   "outputs": [],
   "source": [
    "input_data = Input(shape=(input_shape,))\n",
    "embedding = Embedding(10001,128)(input_data)\n",
    "conv_layer = Conv1D(32,7,activation='relu')(embedding)\n",
    "pooling_layer = MaxPooling1D()(conv_layer)\n",
    "flatten = Flatten()(pooling_layer)\n",
    "fc_layer = Dense(128,activation='relu')(flatten)\n",
    "output = Dense(output_shape,activation='softmax')(fc_layer)\n",
    "model = Model(inputs=[input_data],outputs=output)"
   ]
  },
  {
   "cell_type": "code",
   "execution_count": 21,
   "id": "6b4089c0-8a96-4c61-ac8f-86caead995bd",
   "metadata": {},
   "outputs": [],
   "source": [
    "opt = 'rmsprop'\n",
    "loss = 'categorical_crossentropy'\n",
    "metrics = ['accuracy']\n",
    "model.compile(optimizer=opt, loss = loss, metrics = metrics)"
   ]
  },
  {
   "cell_type": "code",
   "execution_count": 22,
   "id": "5903e4ff-4484-4b57-966c-6320bf226b77",
   "metadata": {
    "tags": []
   },
   "outputs": [
    {
     "name": "stdout",
     "output_type": "stream",
     "text": [
      "Epoch 1/10\n",
      "281/281 [==============================] - 5s 18ms/step - loss: 1.7368 - accuracy: 0.5499\n",
      "Epoch 2/10\n",
      "281/281 [==============================] - 5s 18ms/step - loss: 1.1993 - accuracy: 0.7016\n",
      "Epoch 3/10\n",
      "281/281 [==============================] - 5s 18ms/step - loss: 0.8904 - accuracy: 0.7783\n",
      "Epoch 4/10\n",
      "281/281 [==============================] - 5s 19ms/step - loss: 0.6294 - accuracy: 0.8416\n",
      "Epoch 5/10\n",
      "281/281 [==============================] - 5s 18ms/step - loss: 0.4216 - accuracy: 0.8978\n",
      "Epoch 6/10\n",
      "281/281 [==============================] - 5s 18ms/step - loss: 0.3018 - accuracy: 0.9318\n",
      "Epoch 7/10\n",
      "281/281 [==============================] - 6s 22ms/step - loss: 0.2390 - accuracy: 0.9466\n",
      "Epoch 8/10\n",
      "281/281 [==============================] - 6s 21ms/step - loss: 0.2015 - accuracy: 0.9502\n",
      "Epoch 9/10\n",
      "281/281 [==============================] - 7s 23ms/step - loss: 0.1849 - accuracy: 0.9516\n",
      "Epoch 10/10\n",
      "281/281 [==============================] - 7s 23ms/step - loss: 0.1674 - accuracy: 0.9535\n"
     ]
    },
    {
     "data": {
      "text/plain": [
       "<keras.callbacks.History at 0x273a30f6730>"
      ]
     },
     "execution_count": 22,
     "metadata": {},
     "output_type": "execute_result"
    }
   ],
   "source": [
    "epochs= 10\n",
    "batch_size = 32\n",
    "model.fit(X_train,\n",
    "          y_train,\n",
    "          epochs=epochs,\n",
    "          batch_size=batch_size)"
   ]
  },
  {
   "cell_type": "code",
   "execution_count": 23,
   "id": "008c06d3-d4f6-40b8-98b9-5ee3207588cb",
   "metadata": {},
   "outputs": [
    {
     "name": "stdout",
     "output_type": "stream",
     "text": [
      "71/71 [==============================] - 0s 2ms/step - loss: 1.4986 - accuracy: 0.7128\n"
     ]
    },
    {
     "data": {
      "text/plain": [
       "[1.4985965490341187, 0.7128227949142456]"
      ]
     },
     "execution_count": 23,
     "metadata": {},
     "output_type": "execute_result"
    }
   ],
   "source": [
    "model.evaluate(X_test,y_test)"
   ]
  },
  {
   "cell_type": "code",
   "execution_count": null,
   "id": "1a391cf6-cac1-4a2e-b59e-f9a2a94d32ee",
   "metadata": {},
   "outputs": [],
   "source": []
  },
  {
   "cell_type": "code",
   "execution_count": null,
   "id": "9a6dd5b4-b70a-4f0b-ba22-f4123245f88d",
   "metadata": {},
   "outputs": [],
   "source": []
  },
  {
   "cell_type": "code",
   "execution_count": 24,
   "id": "fdca7467-aa31-444f-ad64-141e6268b839",
   "metadata": {},
   "outputs": [],
   "source": [
    "from keras.datasets import reuters\n",
    "(X_train,y_train),(X_test,y_test) = reuters.load_data()"
   ]
  },
  {
   "cell_type": "code",
   "execution_count": 25,
   "id": "d81c4243-7f6d-46a5-ae96-a69127f65ffe",
   "metadata": {},
   "outputs": [
    {
     "name": "stdout",
     "output_type": "stream",
     "text": [
      "Model: \"model\"\n",
      "_________________________________________________________________\n",
      " Layer (type)                Output Shape              Param #   \n",
      "=================================================================\n",
      " input_1 (InputLayer)        [(None, 100)]             0         \n",
      "                                                                 \n",
      " embedding_3 (Embedding)     (None, 100, 128)          1280128   \n",
      "                                                                 \n",
      " conv1d_1 (Conv1D)           (None, 94, 32)            28704     \n",
      "                                                                 \n",
      " max_pooling1d_1 (MaxPooling  (None, 47, 32)           0         \n",
      " 1D)                                                             \n",
      "                                                                 \n",
      " flatten_2 (Flatten)         (None, 1504)              0         \n",
      "                                                                 \n",
      " dense_4 (Dense)             (None, 128)               192640    \n",
      "                                                                 \n",
      " dense_5 (Dense)             (None, 46)                5934      \n",
      "                                                                 \n",
      "=================================================================\n",
      "Total params: 1,507,406\n",
      "Trainable params: 1,507,406\n",
      "Non-trainable params: 0\n",
      "_________________________________________________________________\n"
     ]
    }
   ],
   "source": [
    "model.summary()"
   ]
  },
  {
   "cell_type": "code",
   "execution_count": 26,
   "id": "ef722ba2-62f6-4e4e-b703-677b0732c656",
   "metadata": {},
   "outputs": [],
   "source": [
    "model = Sequential()\n",
    "model.add(Embedding(1000,64,input_length=100))\n",
    "model.add(Flatten())\n",
    "model.add(Dense(10,activation='softmax'))"
   ]
  },
  {
   "cell_type": "code",
   "execution_count": 28,
   "id": "d1c763a0-1410-4d66-8bd0-aa968b339dde",
   "metadata": {},
   "outputs": [
    {
     "data": {
      "image/png": "[encoded data removed]",
      "text/plain": [
       "<IPython.core.display.Image object>"
      ]
     },
     "execution_count": 28,
     "metadata": {},
     "output_type": "execute_result"
    }
   ],
   "source": [
    "text_vocab_size = 10000\n",
    "question_vocab_size = 10000\n",
    "answer_vocab_size = 500\n",
    "\n",
    "text_input = Input(shape=(None,),name=\"text\")\n",
    "question_input = Input(shape=(None,),name=\"question\")\n",
    "embedded_text = Embedding(text_vocab_size,64)(text_input)\n",
    "embedded_question = Embedding(question_vocab_size,32)(question_input)\n",
    "encoded_text = LSTM(32)(embedded_text)\n",
    "encoded_question = LSTM(32)(embedded_question)\n",
    "\n",
    "concated = concatenate([encoded_text,encoded_question],axis=-1)\n",
    "\n",
    "answer = Dense(500,activation='relu')(concated)\n",
    "output = Dense(answer_vocab_size,activation=\"softmax\")(answer)\n",
    "\n",
    "\n",
    "model = Model(inputs=[text_input,question_input],outputs=output)\n",
    "\n",
    "plot_model(model)"
   ]
  },
  {
   "cell_type": "code",
   "execution_count": 29,
   "id": "51f49b14-2d57-4f1c-b61f-25caaee3cb45",
   "metadata": {},
   "outputs": [
    {
     "data": {
      "text/plain": [
       "TensorShape([None, 32])"
      ]
     },
     "execution_count": 29,
     "metadata": {},
     "output_type": "execute_result"
    }
   ],
   "source": [
    "encoded_question.shape"
   ]
  },
  {
   "cell_type": "raw",
   "id": "6e13e839-4ac4-4b09-942f-75f3ce672905",
   "metadata": {},
   "source": [
    "#예시\n",
    "model = Sequential()\n",
    "model.add(Dense(64, activation='relu',\n",
    "                       input_shape=(train_data.shape[1],)))\n",
    "model.add(Dense(64, activation='relu'))\n",
    "model.add(Dense(1))\n",
    "model.compile(optimizer='rmsprop', loss='mse', metrics=['mae'])"
   ]
  },
  {
   "cell_type": "raw",
   "id": "608d27e7-5474-4638-9e12-5c73e218a2a4",
   "metadata": {
    "jupyter": {
     "outputs_hidden": true
    },
    "tags": []
   },
   "source": [
    "#예시\n",
    "ref_text = Input(shape=(None,),name='ref')\n",
    "qst_text = Input(shape=(None,),name='qst')\n",
    "ref_embedding = Embedding(1000,64)(ref_text)\n",
    "qst_embedding = Embedding(1000,64)(qst_text)\n",
    "ref_lstm = LSTM(10)(ref_embedding)\n",
    "qst_lstm = LSTM(10)(qst_embedding)\n",
    "concat_layer = concatenate([ref_lstm,qst_lstm],axis=-1)\n",
    "flatten_layer = Flatten()(concat_layer)\n",
    "output = Dense(10,activation='softmax')(flatten)\n",
    "model1 = Model(inputs=[ref_text,qst_text],outputs=[output])"
   ]
  },
  {
   "cell_type": "code",
   "execution_count": 38,
   "id": "4d7f19fb-f74c-4811-b771-a005cbe69478",
   "metadata": {},
   "outputs": [],
   "source": [
    "ref_text = Input(shape=(None,),name='ref')\n",
    "question_text = Input(shape=(None,),name='question')\n",
    "ref_embedding = Embedding(1000,64)(ref_text)\n",
    "qeustion_embedding = Embedding(1000,64)(question_text)"
   ]
  },
  {
   "cell_type": "code",
   "execution_count": 36,
   "id": "cb265df2-27a6-4451-9dd5-ac00a3ebff6b",
   "metadata": {},
   "outputs": [],
   "source": [
    "model = Sequential()\n",
    "model.add(Dense(10,activation='sigmoid',input_shape=(100,)))\n",
    "model.add(Dense(100,activation='softmax'))"
   ]
  },
  {
   "cell_type": "code",
   "execution_count": 37,
   "id": "954e3557-ece4-4ad0-89b9-600324a3b5a3",
   "metadata": {},
   "outputs": [
    {
     "data": {
      "image/png": "[encoded data removed]",
      "text/plain": [
       "<IPython.core.display.Image object>"
      ]
     },
     "execution_count": 37,
     "metadata": {},
     "output_type": "execute_result"
    }
   ],
   "source": [
    "plot_model(model)"
   ]
  },
  {
   "cell_type": "code",
   "execution_count": null,
   "id": "9917f22e-baab-4f0f-a68f-8a9dccf49bd5",
   "metadata": {},
   "outputs": [],
   "source": []
  },
  {
   "cell_type": "code",
   "execution_count": null,
   "id": "92493659-ba50-4bdf-84ba-35d15e5d9aa9",
   "metadata": {},
   "outputs": [],
   "source": []
  },
  {
   "cell_type": "markdown",
   "id": "6ad4950b-3c9b-48c6-a698-6622399a7916",
   "metadata": {},
   "source": [
    "# 다른 데이터로 해보기"
   ]
  },
  {
   "cell_type": "code",
   "execution_count": 41,
   "id": "a6301cc3-72cb-48a3-b8bb-2b2d6147c526",
   "metadata": {
    "collapsed": true,
    "jupyter": {
     "outputs_hidden": true
    },
    "tags": []
   },
   "outputs": [
    {
     "name": "stdout",
     "output_type": "stream",
     "text": [
      "Epoch 1/500\n"
     ]
    },
    {
     "ename": "ValueError",
     "evalue": "in user code:\n\n    File \"C:\\Users\\user\\anaconda3\\lib\\site-packages\\keras\\engine\\training.py\", line 1021, in train_function  *\n        return step_function(self, iterator)\n    File \"C:\\Users\\user\\anaconda3\\lib\\site-packages\\keras\\engine\\training.py\", line 1010, in step_function  **\n        outputs = model.distribute_strategy.run(run_step, args=(data,))\n    File \"C:\\Users\\user\\anaconda3\\lib\\site-packages\\keras\\engine\\training.py\", line 1000, in run_step  **\n        outputs = model.train_step(data)\n    File \"C:\\Users\\user\\anaconda3\\lib\\site-packages\\keras\\engine\\training.py\", line 859, in train_step\n        y_pred = self(x, training=True)\n    File \"C:\\Users\\user\\anaconda3\\lib\\site-packages\\keras\\utils\\traceback_utils.py\", line 67, in error_handler\n        raise e.with_traceback(filtered_tb) from None\n    File \"C:\\Users\\user\\anaconda3\\lib\\site-packages\\keras\\engine\\input_spec.py\", line 264, in assert_input_compatibility\n        raise ValueError(f'Input {input_index} of layer \"{layer_name}\" is '\n\n    ValueError: Input 0 of layer \"model_4\" is incompatible with the layer: expected shape=(None, 100), found shape=(None, 13)\n",
     "output_type": "error",
     "traceback": [
      "\u001b[1;31m---------------------------------------------------------------------------\u001b[0m",
      "\u001b[1;31mValueError\u001b[0m                                Traceback (most recent call last)",
      "\u001b[1;32m~\\AppData\\Local\\Temp/ipykernel_7940/3742656298.py\u001b[0m in \u001b[0;36m<module>\u001b[1;34m\u001b[0m\n\u001b[0;32m     21\u001b[0m \u001b[0mepochs\u001b[0m\u001b[1;33m=\u001b[0m \u001b[1;36m500\u001b[0m\u001b[1;33m\u001b[0m\u001b[1;33m\u001b[0m\u001b[0m\n\u001b[0;32m     22\u001b[0m \u001b[0mbatch_size\u001b[0m \u001b[1;33m=\u001b[0m \u001b[1;36m100\u001b[0m\u001b[1;33m\u001b[0m\u001b[1;33m\u001b[0m\u001b[0m\n\u001b[1;32m---> 23\u001b[1;33m model.fit(X_train,\n\u001b[0m\u001b[0;32m     24\u001b[0m           \u001b[0my_train\u001b[0m\u001b[1;33m,\u001b[0m\u001b[1;33m\u001b[0m\u001b[1;33m\u001b[0m\u001b[0m\n\u001b[0;32m     25\u001b[0m           \u001b[0mepochs\u001b[0m\u001b[1;33m=\u001b[0m\u001b[0mepochs\u001b[0m\u001b[1;33m,\u001b[0m\u001b[1;33m\u001b[0m\u001b[1;33m\u001b[0m\u001b[0m\n",
      "\u001b[1;32m~\\anaconda3\\lib\\site-packages\\keras\\utils\\traceback_utils.py\u001b[0m in \u001b[0;36merror_handler\u001b[1;34m(*args, **kwargs)\u001b[0m\n\u001b[0;32m     65\u001b[0m     \u001b[1;32mexcept\u001b[0m \u001b[0mException\u001b[0m \u001b[1;32mas\u001b[0m \u001b[0me\u001b[0m\u001b[1;33m:\u001b[0m  \u001b[1;31m# pylint: disable=broad-except\u001b[0m\u001b[1;33m\u001b[0m\u001b[1;33m\u001b[0m\u001b[0m\n\u001b[0;32m     66\u001b[0m       \u001b[0mfiltered_tb\u001b[0m \u001b[1;33m=\u001b[0m \u001b[0m_process_traceback_frames\u001b[0m\u001b[1;33m(\u001b[0m\u001b[0me\u001b[0m\u001b[1;33m.\u001b[0m\u001b[0m__traceback__\u001b[0m\u001b[1;33m)\u001b[0m\u001b[1;33m\u001b[0m\u001b[1;33m\u001b[0m\u001b[0m\n\u001b[1;32m---> 67\u001b[1;33m       \u001b[1;32mraise\u001b[0m \u001b[0me\u001b[0m\u001b[1;33m.\u001b[0m\u001b[0mwith_traceback\u001b[0m\u001b[1;33m(\u001b[0m\u001b[0mfiltered_tb\u001b[0m\u001b[1;33m)\u001b[0m \u001b[1;32mfrom\u001b[0m \u001b[1;32mNone\u001b[0m\u001b[1;33m\u001b[0m\u001b[1;33m\u001b[0m\u001b[0m\n\u001b[0m\u001b[0;32m     68\u001b[0m     \u001b[1;32mfinally\u001b[0m\u001b[1;33m:\u001b[0m\u001b[1;33m\u001b[0m\u001b[1;33m\u001b[0m\u001b[0m\n\u001b[0;32m     69\u001b[0m       \u001b[1;32mdel\u001b[0m \u001b[0mfiltered_tb\u001b[0m\u001b[1;33m\u001b[0m\u001b[1;33m\u001b[0m\u001b[0m\n",
      "\u001b[1;32m~\\anaconda3\\lib\\site-packages\\tensorflow\\python\\framework\\func_graph.py\u001b[0m in \u001b[0;36mautograph_handler\u001b[1;34m(*args, **kwargs)\u001b[0m\n\u001b[0;32m   1145\u001b[0m           \u001b[1;32mexcept\u001b[0m \u001b[0mException\u001b[0m \u001b[1;32mas\u001b[0m \u001b[0me\u001b[0m\u001b[1;33m:\u001b[0m  \u001b[1;31m# pylint:disable=broad-except\u001b[0m\u001b[1;33m\u001b[0m\u001b[1;33m\u001b[0m\u001b[0m\n\u001b[0;32m   1146\u001b[0m             \u001b[1;32mif\u001b[0m \u001b[0mhasattr\u001b[0m\u001b[1;33m(\u001b[0m\u001b[0me\u001b[0m\u001b[1;33m,\u001b[0m \u001b[1;34m\"ag_error_metadata\"\u001b[0m\u001b[1;33m)\u001b[0m\u001b[1;33m:\u001b[0m\u001b[1;33m\u001b[0m\u001b[1;33m\u001b[0m\u001b[0m\n\u001b[1;32m-> 1147\u001b[1;33m               \u001b[1;32mraise\u001b[0m \u001b[0me\u001b[0m\u001b[1;33m.\u001b[0m\u001b[0mag_error_metadata\u001b[0m\u001b[1;33m.\u001b[0m\u001b[0mto_exception\u001b[0m\u001b[1;33m(\u001b[0m\u001b[0me\u001b[0m\u001b[1;33m)\u001b[0m\u001b[1;33m\u001b[0m\u001b[1;33m\u001b[0m\u001b[0m\n\u001b[0m\u001b[0;32m   1148\u001b[0m             \u001b[1;32melse\u001b[0m\u001b[1;33m:\u001b[0m\u001b[1;33m\u001b[0m\u001b[1;33m\u001b[0m\u001b[0m\n\u001b[0;32m   1149\u001b[0m               \u001b[1;32mraise\u001b[0m\u001b[1;33m\u001b[0m\u001b[1;33m\u001b[0m\u001b[0m\n",
      "\u001b[1;31mValueError\u001b[0m: in user code:\n\n    File \"C:\\Users\\user\\anaconda3\\lib\\site-packages\\keras\\engine\\training.py\", line 1021, in train_function  *\n        return step_function(self, iterator)\n    File \"C:\\Users\\user\\anaconda3\\lib\\site-packages\\keras\\engine\\training.py\", line 1010, in step_function  **\n        outputs = model.distribute_strategy.run(run_step, args=(data,))\n    File \"C:\\Users\\user\\anaconda3\\lib\\site-packages\\keras\\engine\\training.py\", line 1000, in run_step  **\n        outputs = model.train_step(data)\n    File \"C:\\Users\\user\\anaconda3\\lib\\site-packages\\keras\\engine\\training.py\", line 859, in train_step\n        y_pred = self(x, training=True)\n    File \"C:\\Users\\user\\anaconda3\\lib\\site-packages\\keras\\utils\\traceback_utils.py\", line 67, in error_handler\n        raise e.with_traceback(filtered_tb) from None\n    File \"C:\\Users\\user\\anaconda3\\lib\\site-packages\\keras\\engine\\input_spec.py\", line 264, in assert_input_compatibility\n        raise ValueError(f'Input {input_index} of layer \"{layer_name}\" is '\n\n    ValueError: Input 0 of layer \"model_4\" is incompatible with the layer: expected shape=(None, 100), found shape=(None, 13)\n"
     ]
    }
   ],
   "source": [
    "from keras.datasets import boston_housing\n",
    "(X_train, y_train), (X_test, y_test) =  boston_housing.load_data()\n",
    "\n",
    "from keras.layers import Dense\n",
    "from keras.models import Model\n",
    "from keras import Input\n",
    "\n",
    "input_data1 = Input(shape=(X_train.shape[1],))\n",
    "layer1 = Dense(64,activation='relu')(input_data)\n",
    "layer2 = Dense(64,activation='relu')(layer1)\n",
    "output = Dense(1)(layer2)\n",
    "model = Model(inputs=[input_data],outputs=output)\n",
    "\n",
    "optimizer='rmsprop'\n",
    "loss = 'mse'\n",
    "metrics = ['mae']\n",
    "model.compile(optimizer=optimizer,\n",
    "             loss=loss,\n",
    "             metrics=metrics)\n",
    "\n",
    "epochs= 500\n",
    "batch_size = 100\n",
    "model.fit(X_train,\n",
    "          y_train,\n",
    "          epochs=epochs,\n",
    "          batch_size=batch_size)"
   ]
  },
  {
   "cell_type": "code",
   "execution_count": 42,
   "id": "ff9c279f-58b6-4be2-9e58-2cb4bbedf8f5",
   "metadata": {
    "collapsed": true,
    "jupyter": {
     "outputs_hidden": true
    },
    "tags": []
   },
   "outputs": [
    {
     "ename": "ValueError",
     "evalue": "in user code:\n\n    File \"C:\\Users\\user\\anaconda3\\lib\\site-packages\\keras\\engine\\training.py\", line 1801, in predict_function  *\n        return step_function(self, iterator)\n    File \"C:\\Users\\user\\anaconda3\\lib\\site-packages\\keras\\engine\\training.py\", line 1790, in step_function  **\n        outputs = model.distribute_strategy.run(run_step, args=(data,))\n    File \"C:\\Users\\user\\anaconda3\\lib\\site-packages\\keras\\engine\\training.py\", line 1783, in run_step  **\n        outputs = model.predict_step(data)\n    File \"C:\\Users\\user\\anaconda3\\lib\\site-packages\\keras\\engine\\training.py\", line 1751, in predict_step\n        return self(x, training=False)\n    File \"C:\\Users\\user\\anaconda3\\lib\\site-packages\\keras\\utils\\traceback_utils.py\", line 67, in error_handler\n        raise e.with_traceback(filtered_tb) from None\n    File \"C:\\Users\\user\\anaconda3\\lib\\site-packages\\keras\\engine\\input_spec.py\", line 264, in assert_input_compatibility\n        raise ValueError(f'Input {input_index} of layer \"{layer_name}\" is '\n\n    ValueError: Input 0 of layer \"model_4\" is incompatible with the layer: expected shape=(None, 100), found shape=(None, 13)\n",
     "output_type": "error",
     "traceback": [
      "\u001b[1;31m---------------------------------------------------------------------------\u001b[0m",
      "\u001b[1;31mValueError\u001b[0m                                Traceback (most recent call last)",
      "\u001b[1;32m~\\AppData\\Local\\Temp/ipykernel_7940/3472847899.py\u001b[0m in \u001b[0;36m<module>\u001b[1;34m\u001b[0m\n\u001b[0;32m      1\u001b[0m \u001b[1;31m# np.sum(np.square(y_test - model.predict(X_test)))\u001b[0m\u001b[1;33m\u001b[0m\u001b[1;33m\u001b[0m\u001b[0m\n\u001b[0;32m      2\u001b[0m \u001b[0msst\u001b[0m \u001b[1;33m=\u001b[0m \u001b[0mnp\u001b[0m\u001b[1;33m.\u001b[0m\u001b[0msum\u001b[0m\u001b[1;33m(\u001b[0m\u001b[0mnp\u001b[0m\u001b[1;33m.\u001b[0m\u001b[0msquare\u001b[0m\u001b[1;33m(\u001b[0m\u001b[0my_test\u001b[0m \u001b[1;33m-\u001b[0m \u001b[0mnp\u001b[0m\u001b[1;33m.\u001b[0m\u001b[0mmean\u001b[0m\u001b[1;33m(\u001b[0m\u001b[0my_test\u001b[0m\u001b[1;33m)\u001b[0m\u001b[1;33m)\u001b[0m\u001b[1;33m)\u001b[0m\u001b[1;33m\u001b[0m\u001b[1;33m\u001b[0m\u001b[0m\n\u001b[1;32m----> 3\u001b[1;33m \u001b[0msse\u001b[0m \u001b[1;33m=\u001b[0m \u001b[0mnp\u001b[0m\u001b[1;33m.\u001b[0m\u001b[0msum\u001b[0m\u001b[1;33m(\u001b[0m\u001b[0mnp\u001b[0m\u001b[1;33m.\u001b[0m\u001b[0msquare\u001b[0m\u001b[1;33m(\u001b[0m\u001b[0my_test\u001b[0m \u001b[1;33m-\u001b[0m \u001b[0mmodel\u001b[0m\u001b[1;33m.\u001b[0m\u001b[0mpredict\u001b[0m\u001b[1;33m(\u001b[0m\u001b[0mX_test\u001b[0m\u001b[1;33m)\u001b[0m\u001b[1;33m)\u001b[0m\u001b[1;33m)\u001b[0m\u001b[1;33m\u001b[0m\u001b[1;33m\u001b[0m\u001b[0m\n\u001b[0m\u001b[0;32m      4\u001b[0m \u001b[0msse\u001b[0m\u001b[1;33m/\u001b[0m\u001b[0msst\u001b[0m\u001b[1;33m\u001b[0m\u001b[1;33m\u001b[0m\u001b[0m\n",
      "\u001b[1;32m~\\anaconda3\\lib\\site-packages\\keras\\utils\\traceback_utils.py\u001b[0m in \u001b[0;36merror_handler\u001b[1;34m(*args, **kwargs)\u001b[0m\n\u001b[0;32m     65\u001b[0m     \u001b[1;32mexcept\u001b[0m \u001b[0mException\u001b[0m \u001b[1;32mas\u001b[0m \u001b[0me\u001b[0m\u001b[1;33m:\u001b[0m  \u001b[1;31m# pylint: disable=broad-except\u001b[0m\u001b[1;33m\u001b[0m\u001b[1;33m\u001b[0m\u001b[0m\n\u001b[0;32m     66\u001b[0m       \u001b[0mfiltered_tb\u001b[0m \u001b[1;33m=\u001b[0m \u001b[0m_process_traceback_frames\u001b[0m\u001b[1;33m(\u001b[0m\u001b[0me\u001b[0m\u001b[1;33m.\u001b[0m\u001b[0m__traceback__\u001b[0m\u001b[1;33m)\u001b[0m\u001b[1;33m\u001b[0m\u001b[1;33m\u001b[0m\u001b[0m\n\u001b[1;32m---> 67\u001b[1;33m       \u001b[1;32mraise\u001b[0m \u001b[0me\u001b[0m\u001b[1;33m.\u001b[0m\u001b[0mwith_traceback\u001b[0m\u001b[1;33m(\u001b[0m\u001b[0mfiltered_tb\u001b[0m\u001b[1;33m)\u001b[0m \u001b[1;32mfrom\u001b[0m \u001b[1;32mNone\u001b[0m\u001b[1;33m\u001b[0m\u001b[1;33m\u001b[0m\u001b[0m\n\u001b[0m\u001b[0;32m     68\u001b[0m     \u001b[1;32mfinally\u001b[0m\u001b[1;33m:\u001b[0m\u001b[1;33m\u001b[0m\u001b[1;33m\u001b[0m\u001b[0m\n\u001b[0;32m     69\u001b[0m       \u001b[1;32mdel\u001b[0m \u001b[0mfiltered_tb\u001b[0m\u001b[1;33m\u001b[0m\u001b[1;33m\u001b[0m\u001b[0m\n",
      "\u001b[1;32m~\\anaconda3\\lib\\site-packages\\tensorflow\\python\\framework\\func_graph.py\u001b[0m in \u001b[0;36mautograph_handler\u001b[1;34m(*args, **kwargs)\u001b[0m\n\u001b[0;32m   1145\u001b[0m           \u001b[1;32mexcept\u001b[0m \u001b[0mException\u001b[0m \u001b[1;32mas\u001b[0m \u001b[0me\u001b[0m\u001b[1;33m:\u001b[0m  \u001b[1;31m# pylint:disable=broad-except\u001b[0m\u001b[1;33m\u001b[0m\u001b[1;33m\u001b[0m\u001b[0m\n\u001b[0;32m   1146\u001b[0m             \u001b[1;32mif\u001b[0m \u001b[0mhasattr\u001b[0m\u001b[1;33m(\u001b[0m\u001b[0me\u001b[0m\u001b[1;33m,\u001b[0m \u001b[1;34m\"ag_error_metadata\"\u001b[0m\u001b[1;33m)\u001b[0m\u001b[1;33m:\u001b[0m\u001b[1;33m\u001b[0m\u001b[1;33m\u001b[0m\u001b[0m\n\u001b[1;32m-> 1147\u001b[1;33m               \u001b[1;32mraise\u001b[0m \u001b[0me\u001b[0m\u001b[1;33m.\u001b[0m\u001b[0mag_error_metadata\u001b[0m\u001b[1;33m.\u001b[0m\u001b[0mto_exception\u001b[0m\u001b[1;33m(\u001b[0m\u001b[0me\u001b[0m\u001b[1;33m)\u001b[0m\u001b[1;33m\u001b[0m\u001b[1;33m\u001b[0m\u001b[0m\n\u001b[0m\u001b[0;32m   1148\u001b[0m             \u001b[1;32melse\u001b[0m\u001b[1;33m:\u001b[0m\u001b[1;33m\u001b[0m\u001b[1;33m\u001b[0m\u001b[0m\n\u001b[0;32m   1149\u001b[0m               \u001b[1;32mraise\u001b[0m\u001b[1;33m\u001b[0m\u001b[1;33m\u001b[0m\u001b[0m\n",
      "\u001b[1;31mValueError\u001b[0m: in user code:\n\n    File \"C:\\Users\\user\\anaconda3\\lib\\site-packages\\keras\\engine\\training.py\", line 1801, in predict_function  *\n        return step_function(self, iterator)\n    File \"C:\\Users\\user\\anaconda3\\lib\\site-packages\\keras\\engine\\training.py\", line 1790, in step_function  **\n        outputs = model.distribute_strategy.run(run_step, args=(data,))\n    File \"C:\\Users\\user\\anaconda3\\lib\\site-packages\\keras\\engine\\training.py\", line 1783, in run_step  **\n        outputs = model.predict_step(data)\n    File \"C:\\Users\\user\\anaconda3\\lib\\site-packages\\keras\\engine\\training.py\", line 1751, in predict_step\n        return self(x, training=False)\n    File \"C:\\Users\\user\\anaconda3\\lib\\site-packages\\keras\\utils\\traceback_utils.py\", line 67, in error_handler\n        raise e.with_traceback(filtered_tb) from None\n    File \"C:\\Users\\user\\anaconda3\\lib\\site-packages\\keras\\engine\\input_spec.py\", line 264, in assert_input_compatibility\n        raise ValueError(f'Input {input_index} of layer \"{layer_name}\" is '\n\n    ValueError: Input 0 of layer \"model_4\" is incompatible with the layer: expected shape=(None, 100), found shape=(None, 13)\n"
     ]
    }
   ],
   "source": [
    "# np.sum(np.square(y_test - model.predict(X_test)))\n",
    "sst = np.sum(np.square(y_test - np.mean(y_test)))\n",
    "sse = np.sum(np.square(y_test - model.predict(X_test)))\n",
    "sse/sst"
   ]
  },
  {
   "cell_type": "code",
   "execution_count": null,
   "id": "f1550fd0-4257-4c90-bcad-cb0f0121a394",
   "metadata": {},
   "outputs": [],
   "source": []
  },
  {
   "cell_type": "code",
   "execution_count": null,
   "id": "228dd045-79c5-4345-b948-ea1bf4ef4791",
   "metadata": {},
   "outputs": [],
   "source": []
  },
  {
   "cell_type": "code",
   "execution_count": null,
   "id": "d6288076-c4df-47a6-a0d1-d39c02b23934",
   "metadata": {},
   "outputs": [],
   "source": []
  }
 ],
 "metadata": {
  "kernelspec": {
   "display_name": "Python 3 (ipykernel)",
   "language": "python",
   "name": "python3"
  },
  "language_info": {
   "codemirror_mode": {
    "name": "ipython",
    "version": 3
   },
   "file_extension": ".py",
   "mimetype": "text/x-python",
   "name": "python",
   "nbconvert_exporter": "python",
   "pygments_lexer": "ipython3",
   "version": "3.9.7"
  }
 },
 "nbformat": 4,
 "nbformat_minor": 5
}
