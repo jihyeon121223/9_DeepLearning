{
 "cells": [
  {
   "cell_type": "code",
   "execution_count": 1,
   "id": "5b537ff4-d065-47cf-9a75-e6a3563a3d81",
   "metadata": {},
   "outputs": [],
   "source": [
    "from activation import sigmoid, relu, softmax"
   ]
  },
  {
   "cell_type": "code",
   "execution_count": 2,
   "id": "fc3b8086-643a-4767-8bb2-ef982bac3160",
   "metadata": {},
   "outputs": [],
   "source": [
    "import numpy as np"
   ]
  },
  {
   "cell_type": "code",
   "execution_count": 3,
   "id": "c4099e75-399c-40d7-bfa3-80e2304b051a",
   "metadata": {},
   "outputs": [
    {
     "data": {
      "text/plain": [
       "array([1.38389653e-87, 3.72007598e-44, 1.00000000e+00])"
      ]
     },
     "execution_count": 3,
     "metadata": {},
     "output_type": "execute_result"
    }
   ],
   "source": [
    "softmax(np.array([100,200,300]))"
   ]
  },
  {
   "cell_type": "code",
   "execution_count": 4,
   "id": "9a3d7afd-a22e-4e5f-86c6-697ef8c09ce1",
   "metadata": {},
   "outputs": [
    {
     "data": {
      "text/plain": [
       "array([8.00557267e-31, 1.00000000e+00, 2.17052201e-29])"
      ]
     },
     "execution_count": 4,
     "metadata": {},
     "output_type": "execute_result"
    }
   ],
   "source": [
    "softmax(np.array([0.7,70,4]))"
   ]
  },
  {
   "cell_type": "code",
   "execution_count": 17,
   "id": "5762545b-a130-4050-80d6-73f34ce776be",
   "metadata": {},
   "outputs": [],
   "source": [
    "import numpy as np\n",
    "import matplotlib.pyplot as plt\n",
    "import warnings\n",
    "warnings.filterwarnings('ignore')\n",
    "from sklearn.datasets import fetch_openml\n"
   ]
  },
  {
   "cell_type": "markdown",
   "id": "1750973a-2548-4778-82d6-13b4476ae165",
   "metadata": {},
   "source": [
    "## 원핫문제에서 // MSE, CEE계산하기 (오차 확인)\n",
    "\n",
    "### MSE = 1/2*np.sum((y-t)**2)"
   ]
  },
  {
   "cell_type": "code",
   "execution_count": 8,
   "id": "bb144dfa-97f3-4693-bed5-b42336f8f75a",
   "metadata": {},
   "outputs": [],
   "source": [
    "import pickle\n",
    "with open('sample_weight.pkl','rb') as f:\n",
    "    weight = pickle.load(f)"
   ]
  },
  {
   "cell_type": "code",
   "execution_count": 9,
   "id": "4220c026-d309-4817-8dc7-2ab6170689e1",
   "metadata": {},
   "outputs": [
    {
     "name": "stdout",
     "output_type": "stream",
     "text": [
      "b2\n",
      "W1\n",
      "b1\n",
      "W2\n",
      "W3\n",
      "b3\n"
     ]
    }
   ],
   "source": [
    "with open('sample_weight.pkl','rb') as f:\n",
    "    network = pickle.load(f)\n",
    "    \n",
    "for i in network.keys():\n",
    "    print(i)"
   ]
  },
  {
   "cell_type": "code",
   "execution_count": 40,
   "id": "57cc1a5b-eb6d-4e42-91e8-1681bf3c886d",
   "metadata": {},
   "outputs": [],
   "source": [
    "def predict(x,network):\n",
    "    input_layer = x\n",
    "    layers = []\n",
    "    bias = []\n",
    "    num_layer = int(len(network.keys())/2)\n",
    "    for i in range(num_layer):\n",
    "        layers.append(network['W'+str(i+1)]) #무조건 첫번째꺼\n",
    "        bias.append(network['b'+str(i+1)]) #무조건 두번째꺼\n",
    "    # return layers #까지 3바퀴 돌고 >>>>> #어레이를 모았다\n",
    "    for i in range(num_layer): #한 층씩 들고오기\n",
    "        if num_layer != i:\n",
    "            input_layer = sigmoid(np.dot(input_layer,layers[i]) + bias[i]) #relu일때 80%맞을 확률나옴\n",
    "        else:\n",
    "            input_layer = np.dot(input_layer,layers[i]) + bias[i]\n",
    "    # return np.argmax(input_layer,axis=1).astype('str')\n",
    "    return input_layer"
   ]
  },
  {
   "cell_type": "code",
   "execution_count": 19,
   "id": "be9dfb36-c012-48d8-ac7f-828c705f7c6c",
   "metadata": {},
   "outputs": [],
   "source": [
    "mnist = fetch_openml('mnist_784')\n",
    "x = mnist['data']\n",
    "y = mnist['target']"
   ]
  },
  {
   "cell_type": "code",
   "execution_count": 20,
   "id": "6f68d38a-9451-4ca6-84ee-5c1fe7249ecc",
   "metadata": {
    "tags": []
   },
   "outputs": [
    {
     "data": {
      "text/plain": [
       "24       1\n",
       "48       9\n",
       "70       1\n",
       "80       9\n",
       "100      5\n",
       "        ..\n",
       "69970    5\n",
       "69975    3\n",
       "69982    5\n",
       "69986    3\n",
       "69998    5\n",
       "Name: class, Length: 5282, dtype: category\n",
       "Categories (10, object): ['0', '1', '2', '3', ..., '6', '7', '8', '9']"
      ]
     },
     "execution_count": 20,
     "metadata": {},
     "output_type": "execute_result"
    }
   ],
   "source": [
    "y[predict(x,network) != y] "
   ]
  },
  {
   "cell_type": "code",
   "execution_count": 21,
   "id": "2c25b32a-9c7e-4e76-95a3-f75ea9e71378",
   "metadata": {},
   "outputs": [
    {
     "data": {
      "text/plain": [
       "'1'"
      ]
     },
     "execution_count": 21,
     "metadata": {},
     "output_type": "execute_result"
    }
   ],
   "source": [
    "y[24]"
   ]
  },
  {
   "cell_type": "code",
   "execution_count": 22,
   "id": "a85e1ec4-974b-44ed-8087-09a92ac9488b",
   "metadata": {},
   "outputs": [],
   "source": [
    "#원핫으로 0,1로 넣었을 때 예시\n",
    "r = np.array([0,1,0,0,0])"
   ]
  },
  {
   "cell_type": "code",
   "execution_count": 23,
   "id": "7bb009b0-9e55-4c69-847f-211fb998451a",
   "metadata": {},
   "outputs": [],
   "source": [
    "t = predict(x,network)[24]"
   ]
  },
  {
   "cell_type": "code",
   "execution_count": 42,
   "id": "696d687a-cc2a-478d-9f21-6f81977a0d2a",
   "metadata": {
    "tags": []
   },
   "outputs": [],
   "source": [
    "p = softmax(r)"
   ]
  },
  {
   "cell_type": "code",
   "execution_count": 44,
   "id": "d7951bf6-bab2-43fb-963f-3c109b135f28",
   "metadata": {
    "tags": []
   },
   "outputs": [
    {
     "data": {
      "text/plain": [
       "0.22155602429709084"
      ]
     },
     "execution_count": 44,
     "metadata": {},
     "output_type": "execute_result"
    }
   ],
   "source": [
    "1/2*np.sum((p-r)**2)"
   ]
  },
  {
   "cell_type": "code",
   "execution_count": null,
   "id": "1ac7b483-ced0-4ef9-bb58-ba2549288a12",
   "metadata": {},
   "outputs": [],
   "source": [
    "1/2*np.sum((t-p)**2) "
   ]
  },
  {
   "cell_type": "markdown",
   "id": "78237eb5-0cd9-4154-80ff-4b5edaca9c69",
   "metadata": {},
   "source": [
    "## 원핫문제에서 // MSE, CEE계산하기 (오차 확인)\n",
    "\n",
    "### CEE = -np.sum((t*np.log(y))"
   ]
  },
  {
   "cell_type": "code",
   "execution_count": 50,
   "id": "e3c84061-3ba6-4bb0-9003-3f0a96f80b73",
   "metadata": {},
   "outputs": [],
   "source": [
    "tf = np.array([0,1,0,0,0,0])\n",
    "tt = np.array([0,0,0,1,0,0])\n",
    "yt = softmax(predict(x,network)[0])\n",
    "yf = softmax(predict(x,network)[24])"
   ]
  },
  {
   "cell_type": "code",
   "execution_count": null,
   "id": "6970faa6-d8fc-4d39-8c93-7711a5e4f8ee",
   "metadata": {},
   "outputs": [],
   "source": [
    "-np.sum((yt*np.log(tt+1e-7))\n",
    "-np.sum((yf*np.log(tf+1e-7))"
   ]
  },
  {
   "cell_type": "markdown",
   "id": "78bcfc28-1fde-4948-8f84-d487cd338a42",
   "metadata": {},
   "source": [
    "## 함수만들기 >> loss함수 만듦"
   ]
  },
  {
   "cell_type": "code",
   "execution_count": 59,
   "id": "a8faaed6-c2ac-425e-a174-26a74f73f9aa",
   "metadata": {},
   "outputs": [],
   "source": [
    "def mse(y,t):\n",
    "    return np.sum((y-t)**2)/y.size"
   ]
  },
  {
   "cell_type": "code",
   "execution_count": 60,
   "id": "4558ea1e-0853-468e-82df-cb8f610e2fa0",
   "metadata": {},
   "outputs": [],
   "source": [
    "# CEE(Cross Entropy Error) : (오차)값이 작을수록  정답에 가깝다.\n",
    "# yi는 신경망의 출력, ti는 정답 레이블(One-Hot인코딩)\n",
    "def cross_entropy_err(y,t):\n",
    "    delta = 1e-7\n",
    "    return -np.sum(np.log(y+delta) * t)/y.shape[0]"
   ]
  },
  {
   "cell_type": "code",
   "execution_count": 62,
   "id": "5fe7371d-5b4f-4fd9-af2d-4a396dbcd1ea",
   "metadata": {
    "tags": []
   },
   "outputs": [],
   "source": [
    "y = y.astype(np.int)"
   ]
  },
  {
   "cell_type": "code",
   "execution_count": 57,
   "id": "48c5103f-610c-4339-ab84-2bf510dc5252",
   "metadata": {},
   "outputs": [],
   "source": [
    "y_one = np.zeros_like(y)"
   ]
  },
  {
   "cell_type": "code",
   "execution_count": 58,
   "id": "5aa7c60f-820b-4948-80ca-b577aaeede38",
   "metadata": {},
   "outputs": [
    {
     "data": {
      "text/plain": [
       "array([0, 0, 0, ..., 0, 0, 0])"
      ]
     },
     "execution_count": 58,
     "metadata": {},
     "output_type": "execute_result"
    }
   ],
   "source": [
    "y_one"
   ]
  },
  {
   "cell_type": "code",
   "execution_count": 33,
   "id": "3675bf95-3d5a-47a2-995a-77f7bf6ce48f",
   "metadata": {},
   "outputs": [],
   "source": [
    "y_one = np.zeros((y.size,np.unique(y).size))"
   ]
  },
  {
   "cell_type": "code",
   "execution_count": 34,
   "id": "fa8b7e56-463d-49b6-b533-3101bb5f5bcd",
   "metadata": {},
   "outputs": [],
   "source": [
    "for i in range(y.size):\n",
    "    y_one[y[i]] = 1"
   ]
  },
  {
   "cell_type": "code",
   "execution_count": 51,
   "id": "0477b6aa-896d-4c52-aba6-568c53aa5083",
   "metadata": {},
   "outputs": [
    {
     "data": {
      "text/plain": [
       "0.37606541317106257"
      ]
     },
     "execution_count": 51,
     "metadata": {},
     "output_type": "execute_result"
    }
   ],
   "source": [
    "mse(predict(x,network),y_one)"
   ]
  },
  {
   "cell_type": "code",
   "execution_count": 52,
   "id": "c314a27b-52b5-4f92-a2ac-ee21f7d266f7",
   "metadata": {},
   "outputs": [
    {
     "data": {
      "text/plain": [
       "200.85241408878449"
      ]
     },
     "execution_count": 52,
     "metadata": {},
     "output_type": "execute_result"
    }
   ],
   "source": [
    "cross_entropy_err(predict(x,network),y_one)"
   ]
  },
  {
   "cell_type": "code",
   "execution_count": null,
   "id": "4ee3f852-5206-4a09-8a9c-5204d6c0f463",
   "metadata": {},
   "outputs": [],
   "source": []
  }
 ],
 "metadata": {
  "kernelspec": {
   "display_name": "Python 3 (ipykernel)",
   "language": "python",
   "name": "python3"
  },
  "language_info": {
   "codemirror_mode": {
    "name": "ipython",
    "version": 3
   },
   "file_extension": ".py",
   "mimetype": "text/x-python",
   "name": "python",
   "nbconvert_exporter": "python",
   "pygments_lexer": "ipython3",
   "version": "3.9.7"
  }
 },
 "nbformat": 4,
 "nbformat_minor": 5
}
