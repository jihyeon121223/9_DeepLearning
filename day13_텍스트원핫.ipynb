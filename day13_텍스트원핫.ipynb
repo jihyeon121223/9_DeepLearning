{
 "cells": [
  {
   "cell_type": "raw",
   "id": "74fdf031-8d8d-42fa-bc95-3d7d7d5ea83b",
   "metadata": {},
   "source": [
    "https://github.com/gilbutITbook/006975/blob/master/6.1-one-hot-encoding-of-words-or-characters.ipynb"
   ]
  },
  {
   "cell_type": "code",
   "execution_count": 1,
   "id": "ad59a4ff-b651-4330-8325-90e51dc9eb04",
   "metadata": {},
   "outputs": [],
   "source": [
    "#단어가 40만개 있을때\n",
    "import numpy as np\n",
    "\n",
    "# x = np.zeros((500000,400000)) #1.4TB 필요 "
   ]
  },
  {
   "cell_type": "code",
   "execution_count": 2,
   "id": "df83ff03-b46b-4802-9c79-d7cfdb4440c1",
   "metadata": {},
   "outputs": [],
   "source": [
    "samples = ['The cat sat on the mat.', 'The dog ate my homework.']"
   ]
  },
  {
   "cell_type": "code",
   "execution_count": 3,
   "id": "f3db309a-4c85-4000-aaae-c950985fdee9",
   "metadata": {},
   "outputs": [
    {
     "data": {
      "text/plain": [
       "'The cat sat on the mat.'"
      ]
     },
     "execution_count": 3,
     "metadata": {},
     "output_type": "execute_result"
    }
   ],
   "source": [
    "#단어 비교\n",
    "samples[0]"
   ]
  },
  {
   "cell_type": "code",
   "execution_count": 4,
   "id": "81dc55d0-9672-4f26-986c-aa9f319a49cd",
   "metadata": {},
   "outputs": [
    {
     "data": {
      "text/plain": [
       "'The dog ate my homework.'"
      ]
     },
     "execution_count": 4,
     "metadata": {},
     "output_type": "execute_result"
    }
   ],
   "source": [
    "samples[1]"
   ]
  },
  {
   "cell_type": "code",
   "execution_count": 13,
   "id": "fc3208fa-55db-4da4-928e-54adc8c8bde5",
   "metadata": {},
   "outputs": [
    {
     "data": {
      "text/plain": [
       "{0: 'The',\n",
       " 1: 'cat',\n",
       " 2: 'set',\n",
       " 3: 'on',\n",
       " 4: 'the',\n",
       " 5: 'mat.',\n",
       " 6: 'dog',\n",
       " 7: 'ate',\n",
       " 8: 'my',\n",
       " 9: 'homework.'}"
      ]
     },
     "execution_count": 13,
     "metadata": {},
     "output_type": "execute_result"
    }
   ],
   "source": [
    "#워드 하나당 딕셔너리로 저장\n",
    "samples[0].split(' ')\n",
    "unique_word = ['The','cat','set','on','the','mat.','dog','ate','my','homework.']\n",
    "dic_index = { k:v for k,v in enumerate(unique_word)}\n",
    "dic_index"
   ]
  },
  {
   "cell_type": "code",
   "execution_count": 17,
   "id": "c0bc3ac3-bd3d-41ae-ab4b-f8989bf59d67",
   "metadata": {},
   "outputs": [
    {
     "data": {
      "text/plain": [
       "{'The': array([1., 0., 0., 0., 0., 0., 0., 0., 0., 0.]),\n",
       " 'cat': array([0., 1., 0., 0., 0., 0., 0., 0., 0., 0.]),\n",
       " 'set': array([0., 0., 1., 0., 0., 0., 0., 0., 0., 0.]),\n",
       " 'on': array([0., 0., 0., 1., 0., 0., 0., 0., 0., 0.]),\n",
       " 'the': array([0., 0., 0., 0., 1., 0., 0., 0., 0., 0.]),\n",
       " 'mat.': array([0., 0., 0., 0., 0., 1., 0., 0., 0., 0.]),\n",
       " 'dog': array([0., 0., 0., 0., 0., 0., 1., 0., 0., 0.]),\n",
       " 'ate': array([0., 0., 0., 0., 0., 0., 0., 1., 0., 0.]),\n",
       " 'my': array([0., 0., 0., 0., 0., 0., 0., 0., 1., 0.]),\n",
       " 'homework.': array([0., 0., 0., 0., 0., 0., 0., 0., 0., 1.])}"
      ]
     },
     "execution_count": 17,
     "metadata": {},
     "output_type": "execute_result"
    }
   ],
   "source": [
    "#딕셔너리를 원핫으로\n",
    "one_hot_dict = {}\n",
    "for k,v in dic_index.items():\n",
    "    tmp = np.zeros(10)\n",
    "    tmp[k]=1\n",
    "    one_hot_dict[v] = tmp\n",
    "    \n",
    "one_hot_dict"
   ]
  },
  {
   "cell_type": "code",
   "execution_count": 5,
   "id": "f04c5355-e9b3-4252-8376-e7a641320d80",
   "metadata": {},
   "outputs": [],
   "source": [
    "token_index = {}\n",
    "for sample in samples:\n",
    "    # split() 메서드를 사용해 샘플을 토큰으로 나눕니다.\n",
    "    # 실전에서는 구둣점과 특수 문자도 사용합니다.\n",
    "    for word in sample.split():\n",
    "        if word not in token_index:\n",
    "            # 단어마다 고유한 인덱스를 할당합니다.\n",
    "            token_index[word] = len(token_index) + 1\n",
    "            # 인덱스 0은 사용하지 않습니다.\n",
    "\n",
    "# 샘플을 벡터로 변환합니다.\n",
    "# 각 샘플에서 max_length 까지 단어만 사용합니다.\n",
    "max_length = 10"
   ]
  },
  {
   "cell_type": "code",
   "execution_count": 6,
   "id": "d540e4d8-36de-45f4-bd5e-286b48724aee",
   "metadata": {},
   "outputs": [],
   "source": [
    "# 결과를 저장할 배열입니다\n",
    "results = np.zeros((len(samples), max_length, max(token_index.values()) + 1))\n",
    "for i, sample in enumerate(samples):\n",
    "    for j, word in list(enumerate(sample.split()))[:max_length]:\n",
    "        index = token_index.get(word)\n",
    "        results[i, j, index] = 1."
   ]
  },
  {
   "cell_type": "code",
   "execution_count": 7,
   "id": "73b4dc05-f904-4562-806e-939ae1cf00c6",
   "metadata": {
    "tags": []
   },
   "outputs": [
    {
     "data": {
      "text/plain": [
       "array([[[0., 1., 0., 0., 0., 0., 0., 0., 0., 0., 0.],\n",
       "        [0., 0., 1., 0., 0., 0., 0., 0., 0., 0., 0.],\n",
       "        [0., 0., 0., 1., 0., 0., 0., 0., 0., 0., 0.],\n",
       "        [0., 0., 0., 0., 1., 0., 0., 0., 0., 0., 0.],\n",
       "        [0., 0., 0., 0., 0., 1., 0., 0., 0., 0., 0.],\n",
       "        [0., 0., 0., 0., 0., 0., 1., 0., 0., 0., 0.],\n",
       "        [0., 0., 0., 0., 0., 0., 0., 0., 0., 0., 0.],\n",
       "        [0., 0., 0., 0., 0., 0., 0., 0., 0., 0., 0.],\n",
       "        [0., 0., 0., 0., 0., 0., 0., 0., 0., 0., 0.],\n",
       "        [0., 0., 0., 0., 0., 0., 0., 0., 0., 0., 0.]],\n",
       "\n",
       "       [[0., 1., 0., 0., 0., 0., 0., 0., 0., 0., 0.],\n",
       "        [0., 0., 0., 0., 0., 0., 0., 1., 0., 0., 0.],\n",
       "        [0., 0., 0., 0., 0., 0., 0., 0., 1., 0., 0.],\n",
       "        [0., 0., 0., 0., 0., 0., 0., 0., 0., 1., 0.],\n",
       "        [0., 0., 0., 0., 0., 0., 0., 0., 0., 0., 1.],\n",
       "        [0., 0., 0., 0., 0., 0., 0., 0., 0., 0., 0.],\n",
       "        [0., 0., 0., 0., 0., 0., 0., 0., 0., 0., 0.],\n",
       "        [0., 0., 0., 0., 0., 0., 0., 0., 0., 0., 0.],\n",
       "        [0., 0., 0., 0., 0., 0., 0., 0., 0., 0., 0.],\n",
       "        [0., 0., 0., 0., 0., 0., 0., 0., 0., 0., 0.]]])"
      ]
     },
     "execution_count": 7,
     "metadata": {},
     "output_type": "execute_result"
    }
   ],
   "source": [
    "results #단어장을 만듦"
   ]
  },
  {
   "cell_type": "raw",
   "id": "0c4e51dc-3878-492c-91fa-8f7b1867a390",
   "metadata": {},
   "source": []
  },
  {
   "cell_type": "code",
   "execution_count": null,
   "id": "937a2eae-4b65-47dd-9c1d-ecb24a462565",
   "metadata": {},
   "outputs": [],
   "source": []
  }
 ],
 "metadata": {
  "kernelspec": {
   "display_name": "Python 3 (ipykernel)",
   "language": "python",
   "name": "python3"
  },
  "language_info": {
   "codemirror_mode": {
    "name": "ipython",
    "version": 3
   },
   "file_extension": ".py",
   "mimetype": "text/x-python",
   "name": "python",
   "nbconvert_exporter": "python",
   "pygments_lexer": "ipython3",
   "version": "3.9.7"
  }
 },
 "nbformat": 4,
 "nbformat_minor": 5
}
