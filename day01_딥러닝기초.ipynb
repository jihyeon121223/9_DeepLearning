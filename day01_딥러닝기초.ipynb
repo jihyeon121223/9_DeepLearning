{
 "cells": [
  {
   "cell_type": "raw",
   "id": "0f8508fd-6a17-4736-8980-8c7ec1ff9ef1",
   "metadata": {},
   "source": [
    "-뉴럴네트워크\n",
    "퍼셉톤(가장 작은 신경망)의 인풋a(i)가 있을 때 아웃풋 구하기\n",
    "인풋a(i)를 찾기 ///"
   ]
  },
  {
   "cell_type": "raw",
   "id": "bff56238-82f8-4f09-8f87-ec3ae3180e3e",
   "metadata": {},
   "source": [
    "y = a*x #a값을 구하는거 (기울기, 미분값)"
   ]
  },
  {
   "cell_type": "code",
   "execution_count": 39,
   "id": "1f6c77ce-c623-4855-8376-680acf0d92e3",
   "metadata": {
    "tags": []
   },
   "outputs": [],
   "source": [
    "import numpy as np\n",
    "import matplotlib.pyplot as plt\n",
    "import warnings\n",
    "warnings.filterwarnings('ignore')"
   ]
  },
  {
   "cell_type": "code",
   "execution_count": 2,
   "id": "0b8cb875-f952-4172-b2cc-ef3abd61300f",
   "metadata": {},
   "outputs": [
    {
     "data": {
      "text/plain": [
       "array([42])"
      ]
     },
     "execution_count": 2,
     "metadata": {},
     "output_type": "execute_result"
    }
   ],
   "source": [
    "a = np.random.randint(1,100,1)\n",
    "a"
   ]
  },
  {
   "cell_type": "code",
   "execution_count": 3,
   "id": "ba031123-a760-464a-9520-916cf737bff2",
   "metadata": {},
   "outputs": [],
   "source": [
    "x = np.random.randint(1,10,100)"
   ]
  },
  {
   "cell_type": "code",
   "execution_count": 4,
   "id": "b74de91c-84c0-4ba4-b256-dda13e1ae0e8",
   "metadata": {},
   "outputs": [],
   "source": [
    "y = a*x + np.random.randn(100)"
   ]
  },
  {
   "cell_type": "code",
   "execution_count": 5,
   "id": "0e9e96e1-3a8b-4092-bdc9-c942d9bbfad7",
   "metadata": {},
   "outputs": [
    {
     "data": {
      "text/plain": [
       "[<matplotlib.lines.Line2D at 0x129ce7f1850>]"
      ]
     },
     "execution_count": 5,
     "metadata": {},
     "output_type": "execute_result"
    },
    {
     "data": {
      "image/png": "[encoded data removed]",
      "text/plain": [
       "<Figure size 432x288 with 1 Axes>"
      ]
     },
     "metadata": {
      "needs_background": "light"
     },
     "output_type": "display_data"
    }
   ],
   "source": [
    "plt.plot(x,y)"
   ]
  },
  {
   "cell_type": "code",
   "execution_count": 6,
   "id": "58a09a4e-e529-4c7f-a805-bd186970d4ed",
   "metadata": {},
   "outputs": [],
   "source": [
    "# 회귀분석은 어떻게 스스로 학습하는가"
   ]
  },
  {
   "cell_type": "raw",
   "id": "64d74ae1-90d1-4c39-afcd-b29271bb8d40",
   "metadata": {},
   "source": [
    "err = (y - x*a_hat) # a_hat // 가정한 a값\n",
    "#위의 식으로는 안되고 이 오차의 제곱의 평균이어야 구해짐\n",
    "#"
   ]
  },
  {
   "cell_type": "code",
   "execution_count": 7,
   "id": "69e52c84-7fd9-4280-8817-0a8f06ddf5ac",
   "metadata": {},
   "outputs": [
    {
     "data": {
      "text/plain": [
       "[<matplotlib.lines.Line2D at 0x129ce8f9bb0>]"
      ]
     },
     "execution_count": 7,
     "metadata": {},
     "output_type": "execute_result"
    },
    {
     "name": "stderr",
     "output_type": "stream",
     "text": [
      "C:\\Users\\user\\anaconda3\\lib\\site-packages\\matplotlib\\backends\\backend_agg.py:240: RuntimeWarning: Glyph 8722 missing from current font.\n",
      "  font.set_text(s, 0.0, flags=flags)\n",
      "C:\\Users\\user\\anaconda3\\lib\\site-packages\\matplotlib\\backends\\backend_agg.py:203: RuntimeWarning: Glyph 8722 missing from current font.\n",
      "  font.set_text(s, 0, flags=flags)\n"
     ]
    },
    {
     "data": {
      "image/png": "[encoded data removed]",
      "text/plain": [
       "<Figure size 432x288 with 1 Axes>"
      ]
     },
     "metadata": {
      "needs_background": "light"
     },
     "output_type": "display_data"
    }
   ],
   "source": [
    "a = np.arange(-5,7,0.1) \n",
    "err = a**2 - 2*a #그냥 2차함수 예시 보여주는 듯\n",
    "plt.plot(a,err)"
   ]
  },
  {
   "cell_type": "code",
   "execution_count": 8,
   "id": "fe12249b-d48c-4f64-b333-2e500770bd7e",
   "metadata": {},
   "outputs": [],
   "source": [
    "#케라스를 안쓰고도 풀리커넥티드는 짤 수 있어야 함"
   ]
  },
  {
   "cell_type": "raw",
   "id": "93a89e35-6da2-40da-a7de-b00ff493e018",
   "metadata": {},
   "source": [
    "랜덤으로 뽑았는데 위치가 ~이다.\n",
    "왼: 미분값 (음수 기울기)가 양수로 가려면 빼줘야(러닝레이트)\n",
    "오: 미분값 (양수 기울기)가 음수로 가려면 빼줘야(러닝레이트)\n",
    "노트필기 참고"
   ]
  },
  {
   "cell_type": "code",
   "execution_count": 9,
   "id": "f19bee99-be77-4549-9e83-690751f59aec",
   "metadata": {},
   "outputs": [
    {
     "data": {
      "text/plain": [
       "array([38])"
      ]
     },
     "execution_count": 9,
     "metadata": {},
     "output_type": "execute_result"
    }
   ],
   "source": [
    "a_hat = np.random.randint(1,100,1)\n",
    "a_hat"
   ]
  },
  {
   "cell_type": "code",
   "execution_count": 10,
   "id": "442870d7-5c01-4fc8-827c-461f70bd62ba",
   "metadata": {
    "collapsed": true,
    "jupyter": {
     "outputs_hidden": true
    },
    "tags": []
   },
   "outputs": [
    {
     "data": {
      "text/plain": [
       "array([-406.31991755, -112.53816364,   -8.409767  ,  -33.50115117,\n",
       "        -58.90104712,  -79.93578278, -213.19294669, -392.53094531,\n",
       "        -36.83478323,   -6.69729707, -191.44171971,   -7.04325662,\n",
       "        -84.99494774,  -30.76113578, -199.28971024, -390.00343459,\n",
       "       -214.71725171,  -25.89905146,   -7.79318523, -117.63490503,\n",
       "        -83.57307375,   -8.4322491 ,   -9.80934067,  -78.2747848 ,\n",
       "       -136.43759122,  -34.99850099, -187.03701488,  -73.58796794,\n",
       "       -408.53875913, -294.25265524,  -34.04116281,  -39.99312275,\n",
       "         -4.79398051, -140.20412644, -182.27357491, -290.65451822,\n",
       "        -79.54563733, -199.50723384, -378.55016155,  -36.63607485,\n",
       "        -10.2975252 ,  -78.48784585,  -65.25429727, -645.50820278,\n",
       "       -280.85761436, -547.67181103, -128.12334761, -129.47590438,\n",
       "       -288.98735601, -192.39770816, -626.61164911,  -33.00953409,\n",
       "        -66.13794188, -517.87261   ,  -30.55112852, -286.85413328,\n",
       "         -2.44674682,   -6.74698112, -115.45152513, -649.16956218,\n",
       "       -523.87785192, -274.80975296, -202.32944029,  -28.84979521,\n",
       "       -377.90881839, -122.38215184, -218.57255397, -664.11439681,\n",
       "        -39.91431084,  -10.52156468,  -70.22927183, -204.40191384,\n",
       "       -426.86910115,  -72.12685486, -280.2856964 , -669.83861021,\n",
       "       -175.47138437, -383.31941492, -275.88562138, -649.59988526,\n",
       "       -290.24914016, -375.04396884, -684.49015556, -285.54097873,\n",
       "        -68.41914199, -634.68472807, -365.97229059, -502.01759651,\n",
       "       -529.80518991, -109.1635131 , -207.40062222,   -8.00660545,\n",
       "        -73.58466809, -378.24326641,  -31.92542036,  -34.98733717,\n",
       "       -203.49650884, -293.41410569, -136.73244538, -120.27826313])"
      ]
     },
     "execution_count": 10,
     "metadata": {},
     "output_type": "execute_result"
    }
   ],
   "source": [
    "2*x*(a_hat*x-y) #2x(ax-y)"
   ]
  },
  {
   "cell_type": "code",
   "execution_count": 11,
   "id": "4b506c0f-afe2-453b-b2a3-508b9e100fb2",
   "metadata": {},
   "outputs": [],
   "source": [
    "lr = 1e-5 #러닝 레이트 1*10의 ^-5승\n",
    "a_hat = a_hat - lr*(np.sum(2*x*(a_hat*x-y))/x.size)*0.00001"
   ]
  },
  {
   "cell_type": "code",
   "execution_count": 12,
   "id": "46d540b4-1df0-40ce-9ef1-9538d760120e",
   "metadata": {},
   "outputs": [
    {
     "data": {
      "text/plain": [
       "array([38.00000002])"
      ]
     },
     "execution_count": 12,
     "metadata": {},
     "output_type": "execute_result"
    }
   ],
   "source": [
    "a_hat #31로 가려면 56보다 작아야해"
   ]
  },
  {
   "cell_type": "code",
   "execution_count": 13,
   "id": "b3068cec-8044-4cc1-bc2d-7c73144093eb",
   "metadata": {},
   "outputs": [],
   "source": [
    "epochs = 10000 #돌리는 횟수\n",
    "for epoch in range(epochs):\n",
    "    a_hat = a_hat - lr*(np.sum(2*x*(a_hat*x-y))/x.size)*0.00001"
   ]
  },
  {
   "cell_type": "code",
   "execution_count": 14,
   "id": "047d9a4c-094e-4a31-b8c7-40f3f87f70f9",
   "metadata": {},
   "outputs": [
    {
     "data": {
      "text/plain": [
       "array([38.00021028])"
      ]
     },
     "execution_count": 14,
     "metadata": {},
     "output_type": "execute_result"
    }
   ],
   "source": [
    "a_hat"
   ]
  },
  {
   "cell_type": "code",
   "execution_count": 15,
   "id": "bc6f8801-deb4-433b-8e9e-450cc0ee045d",
   "metadata": {},
   "outputs": [
    {
     "data": {
      "text/plain": [
       "array([-5.00000000e+00, -4.90000000e+00, -4.80000000e+00, -4.70000000e+00,\n",
       "       -4.60000000e+00, -4.50000000e+00, -4.40000000e+00, -4.30000000e+00,\n",
       "       -4.20000000e+00, -4.10000000e+00, -4.00000000e+00, -3.90000000e+00,\n",
       "       -3.80000000e+00, -3.70000000e+00, -3.60000000e+00, -3.50000000e+00,\n",
       "       -3.40000000e+00, -3.30000000e+00, -3.20000000e+00, -3.10000000e+00,\n",
       "       -3.00000000e+00, -2.90000000e+00, -2.80000000e+00, -2.70000000e+00,\n",
       "       -2.60000000e+00, -2.50000000e+00, -2.40000000e+00, -2.30000000e+00,\n",
       "       -2.20000000e+00, -2.10000000e+00, -2.00000000e+00, -1.90000000e+00,\n",
       "       -1.80000000e+00, -1.70000000e+00, -1.60000000e+00, -1.50000000e+00,\n",
       "       -1.40000000e+00, -1.30000000e+00, -1.20000000e+00, -1.10000000e+00,\n",
       "       -1.00000000e+00, -9.00000000e-01, -8.00000000e-01, -7.00000000e-01,\n",
       "       -6.00000000e-01, -5.00000000e-01, -4.00000000e-01, -3.00000000e-01,\n",
       "       -2.00000000e-01, -1.00000000e-01, -1.77635684e-14,  1.00000000e-01,\n",
       "        2.00000000e-01,  3.00000000e-01,  4.00000000e-01,  5.00000000e-01,\n",
       "        6.00000000e-01,  7.00000000e-01,  8.00000000e-01,  9.00000000e-01,\n",
       "        1.00000000e+00,  1.10000000e+00,  1.20000000e+00,  1.30000000e+00,\n",
       "        1.40000000e+00,  1.50000000e+00,  1.60000000e+00,  1.70000000e+00,\n",
       "        1.80000000e+00,  1.90000000e+00,  2.00000000e+00,  2.10000000e+00,\n",
       "        2.20000000e+00,  2.30000000e+00,  2.40000000e+00,  2.50000000e+00,\n",
       "        2.60000000e+00,  2.70000000e+00,  2.80000000e+00,  2.90000000e+00,\n",
       "        3.00000000e+00,  3.10000000e+00,  3.20000000e+00,  3.30000000e+00,\n",
       "        3.40000000e+00,  3.50000000e+00,  3.60000000e+00,  3.70000000e+00,\n",
       "        3.80000000e+00,  3.90000000e+00,  4.00000000e+00,  4.10000000e+00,\n",
       "        4.20000000e+00,  4.30000000e+00,  4.40000000e+00,  4.50000000e+00,\n",
       "        4.60000000e+00,  4.70000000e+00,  4.80000000e+00,  4.90000000e+00,\n",
       "        5.00000000e+00,  5.10000000e+00,  5.20000000e+00,  5.30000000e+00,\n",
       "        5.40000000e+00,  5.50000000e+00,  5.60000000e+00,  5.70000000e+00,\n",
       "        5.80000000e+00,  5.90000000e+00,  6.00000000e+00,  6.10000000e+00,\n",
       "        6.20000000e+00,  6.30000000e+00,  6.40000000e+00,  6.50000000e+00,\n",
       "        6.60000000e+00,  6.70000000e+00,  6.80000000e+00,  6.90000000e+00])"
      ]
     },
     "execution_count": 15,
     "metadata": {},
     "output_type": "execute_result"
    }
   ],
   "source": [
    "a"
   ]
  },
  {
   "cell_type": "code",
   "execution_count": 16,
   "id": "40a6703f-4f23-471f-b03a-6ed6b353496c",
   "metadata": {},
   "outputs": [],
   "source": [
    "# 논리회로"
   ]
  },
  {
   "cell_type": "code",
   "execution_count": 7,
   "id": "f873bb69-3381-415e-9a07-ca0324c1c85f",
   "metadata": {},
   "outputs": [],
   "source": [
    "# 퍼셉트론 AND논리\n",
    "def AND(x1,x2):\n",
    "    w1 = 0.5\n",
    "    w2 = 0.5\n",
    "    theta = 0.6\n",
    "    if w1*x1 + w2*x2 > theta:\n",
    "        return 1\n",
    "    else:\n",
    "        return 0"
   ]
  },
  {
   "cell_type": "code",
   "execution_count": 8,
   "id": "b7d5f788-1450-4d05-bd4a-c206a02a170a",
   "metadata": {},
   "outputs": [
    {
     "data": {
      "text/plain": [
       "0"
      ]
     },
     "execution_count": 8,
     "metadata": {},
     "output_type": "execute_result"
    }
   ],
   "source": [
    "AND(0,1)"
   ]
  },
  {
   "cell_type": "code",
   "execution_count": 9,
   "id": "c8eccbb0-bc1e-4ad9-bcc8-e8c15bdcaee0",
   "metadata": {},
   "outputs": [
    {
     "data": {
      "text/plain": [
       "1"
      ]
     },
     "execution_count": 9,
     "metadata": {},
     "output_type": "execute_result"
    }
   ],
   "source": [
    "AND(1,1)"
   ]
  },
  {
   "cell_type": "code",
   "execution_count": 13,
   "id": "8afb70b5-925b-41fd-8e02-08ca6907effc",
   "metadata": {},
   "outputs": [],
   "source": [
    "# 퍼셉트론 OR논리\n",
    "def OR(x1,x2):\n",
    "    w1 = 0.5\n",
    "    w2 = 0.5\n",
    "    theta = 0.4\n",
    "    if w1*x1 + w2*x2 < theta:\n",
    "        return 0\n",
    "    else:\n",
    "        return 1"
   ]
  },
  {
   "cell_type": "code",
   "execution_count": 14,
   "id": "6c907221-e73c-46aa-ac6a-113a4830565b",
   "metadata": {},
   "outputs": [
    {
     "data": {
      "text/plain": [
       "1"
      ]
     },
     "execution_count": 14,
     "metadata": {},
     "output_type": "execute_result"
    }
   ],
   "source": [
    "OR(1,1)"
   ]
  },
  {
   "cell_type": "code",
   "execution_count": 15,
   "id": "0c2d2d74-a2d9-4ba3-8271-69e02a8af51b",
   "metadata": {},
   "outputs": [
    {
     "data": {
      "text/plain": [
       "0"
      ]
     },
     "execution_count": 15,
     "metadata": {},
     "output_type": "execute_result"
    }
   ],
   "source": [
    "OR(0,0)"
   ]
  },
  {
   "cell_type": "code",
   "execution_count": 16,
   "id": "d314758f-4036-4626-addd-5cd1a625e99c",
   "metadata": {},
   "outputs": [],
   "source": [
    "# 퍼셉트론 NAND논리\n",
    "def NAND(x1,x2):\n",
    "    w1 = 0.5\n",
    "    w2 = 0.5\n",
    "    theta = 0.6\n",
    "    if w1*x1 + w2*x2 > theta:\n",
    "        return 0\n",
    "    else:\n",
    "        return 1"
   ]
  },
  {
   "cell_type": "code",
   "execution_count": 17,
   "id": "aa87aac2-569d-45aa-aac8-f402971593a2",
   "metadata": {},
   "outputs": [
    {
     "data": {
      "text/plain": [
       "1"
      ]
     },
     "execution_count": 17,
     "metadata": {},
     "output_type": "execute_result"
    }
   ],
   "source": [
    "NAND(0,1)"
   ]
  },
  {
   "cell_type": "code",
   "execution_count": 20,
   "id": "1a17d739-29f7-4f6d-bf7e-4cef41efb3b8",
   "metadata": {},
   "outputs": [
    {
     "data": {
      "text/plain": [
       "1"
      ]
     },
     "execution_count": 20,
     "metadata": {},
     "output_type": "execute_result"
    }
   ],
   "source": [
    "XOR(1,0)"
   ]
  },
  {
   "cell_type": "code",
   "execution_count": 21,
   "id": "ce94156a-4e22-4e65-85f1-fd98447f26ab",
   "metadata": {},
   "outputs": [],
   "source": [
    "# 퍼셉트론 XOR논리 \n",
    "def XOR(x1,x2):\n",
    "    s1 = NAND(x1,x2)\n",
    "    s2 = OR(x1,x2)\n",
    "    return AND(s1,s2)"
   ]
  },
  {
   "cell_type": "code",
   "execution_count": 22,
   "id": "c25975de-c8f2-4c55-80d6-2836fa66d78d",
   "metadata": {
    "tags": []
   },
   "outputs": [
    {
     "data": {
      "text/plain": [
       "0"
      ]
     },
     "execution_count": 22,
     "metadata": {},
     "output_type": "execute_result"
    }
   ],
   "source": [
    "XOR(1,1)"
   ]
  },
  {
   "cell_type": "code",
   "execution_count": 25,
   "id": "0caace29-1f6b-401d-b46f-f81cae1ef9a9",
   "metadata": {
    "tags": []
   },
   "outputs": [
    {
     "data": {
      "text/plain": [
       "1"
      ]
     },
     "execution_count": 25,
     "metadata": {},
     "output_type": "execute_result"
    }
   ],
   "source": [
    "XOR(0,1)"
   ]
  },
  {
   "cell_type": "code",
   "execution_count": 24,
   "id": "1067d924-087f-4505-ba99-cd1afce9ded9",
   "metadata": {},
   "outputs": [
    {
     "data": {
      "text/plain": [
       "0"
      ]
     },
     "execution_count": 24,
     "metadata": {},
     "output_type": "execute_result"
    }
   ],
   "source": [
    "XOR(0,0)"
   ]
  },
  {
   "cell_type": "code",
   "execution_count": 30,
   "id": "1267eca4-f36c-4794-bc0c-88710867655f",
   "metadata": {},
   "outputs": [],
   "source": [
    "# 결론: 층을 여러개 쌓을 수 있다 = w의 개수를 내 맘대로 만들 수 있다 = (미분)계산이 굉장히 많아짐 "
   ]
  },
  {
   "cell_type": "code",
   "execution_count": 31,
   "id": "8572995a-aa5d-4623-b4c4-2955c2bd48fe",
   "metadata": {},
   "outputs": [],
   "source": [
    "#계단함수\n",
    "def step_func(x):\n",
    "    if x > 0.5:\n",
    "        return 1\n",
    "    else: \n",
    "        return 0"
   ]
  },
  {
   "cell_type": "code",
   "execution_count": 32,
   "id": "1e0933b9-06ab-45c4-8495-09488a2c4328",
   "metadata": {},
   "outputs": [],
   "source": [
    "x = np.arange(-5,5)"
   ]
  },
  {
   "cell_type": "code",
   "execution_count": 33,
   "id": "12f97861-3984-4b77-a12a-7b3f201406ff",
   "metadata": {},
   "outputs": [
    {
     "data": {
      "text/plain": [
       "0"
      ]
     },
     "execution_count": 33,
     "metadata": {},
     "output_type": "execute_result"
    }
   ],
   "source": [
    "step_func(-5)"
   ]
  },
  {
   "cell_type": "code",
   "execution_count": 34,
   "id": "2bbbf800-bb1d-459b-9cd8-8f8914910f2e",
   "metadata": {},
   "outputs": [
    {
     "data": {
      "text/plain": [
       "1"
      ]
     },
     "execution_count": 34,
     "metadata": {},
     "output_type": "execute_result"
    }
   ],
   "source": [
    "step_func(0.6)"
   ]
  },
  {
   "cell_type": "code",
   "execution_count": 35,
   "id": "3d3fc3f5-44ad-4242-87be-ff8f618be61a",
   "metadata": {},
   "outputs": [],
   "source": [
    "def step_func(x):\n",
    "    result = x > 0.5\n",
    "    return result.astype(np.int)"
   ]
  },
  {
   "cell_type": "code",
   "execution_count": 37,
   "id": "9be930ac-d7ce-45bd-9467-9ac4d264aee2",
   "metadata": {},
   "outputs": [
    {
     "name": "stderr",
     "output_type": "stream",
     "text": [
      "C:\\Users\\user\\AppData\\Local\\Temp/ipykernel_1684/2187050215.py:3: DeprecationWarning: `np.int` is a deprecated alias for the builtin `int`. To silence this warning, use `int` by itself. Doing this will not modify any behavior and is safe. When replacing `np.int`, you may wish to use e.g. `np.int64` or `np.int32` to specify the precision. If you wish to review your current use, check the release note link for additional information.\n",
      "Deprecated in NumPy 1.20; for more details and guidance: https://numpy.org/devdocs/release/1.20.0-notes.html#deprecations\n",
      "  return result.astype(np.int)\n"
     ]
    },
    {
     "data": {
      "text/plain": [
       "<function __main__.step_func(x)>"
      ]
     },
     "execution_count": 37,
     "metadata": {},
     "output_type": "execute_result"
    },
    {
     "name": "stderr",
     "output_type": "stream",
     "text": [
      "C:\\Users\\user\\anaconda3\\lib\\site-packages\\matplotlib\\backends\\backend_agg.py:240: RuntimeWarning: Glyph 8722 missing from current font.\n",
      "  font.set_text(s, 0.0, flags=flags)\n",
      "C:\\Users\\user\\anaconda3\\lib\\site-packages\\matplotlib\\backends\\backend_agg.py:203: RuntimeWarning: Glyph 8722 missing from current font.\n",
      "  font.set_text(s, 0, flags=flags)\n"
     ]
    },
    {
     "data": {
      "image/png": "[encoded data removed]",
      "text/plain": [
       "<Figure size 432x288 with 1 Axes>"
      ]
     },
     "metadata": {
      "needs_background": "light"
     },
     "output_type": "display_data"
    }
   ],
   "source": [
    "x = np.arange(-5,5)\n",
    "plt.plot(x,step_func(x))\n",
    "step_func"
   ]
  },
  {
   "cell_type": "code",
   "execution_count": 38,
   "id": "def0f15f-713e-4dd6-a507-fd828b538db5",
   "metadata": {},
   "outputs": [],
   "source": [
    "# 스텝함수는 연속형에서 불안형 때문에 썼는데, 입력값이 0,1로 나눠질 수 없어서 생각해낸것이 시그모이드 함수다."
   ]
  },
  {
   "cell_type": "code",
   "execution_count": 41,
   "id": "fb1183b6-8374-4ded-88b1-78770084bc74",
   "metadata": {},
   "outputs": [],
   "source": [
    "#시그모이드 함수\n",
    "def sigmoid(x):\n",
    "    return 1/(1+np.exp(-x))"
   ]
  },
  {
   "cell_type": "code",
   "execution_count": 43,
   "id": "bc491da9-fdc9-4d0d-bdb8-e64849ed8d71",
   "metadata": {},
   "outputs": [
    {
     "data": {
      "image/png": "[encoded data removed]",
      "text/plain": [
       "<Figure size 432x288 with 1 Axes>"
      ]
     },
     "metadata": {
      "needs_background": "light"
     },
     "output_type": "display_data"
    }
   ],
   "source": [
    "x = np.arange(-5,5)\n",
    "plt.plot(x,step_func(x))\n",
    "plt.plot(x,sigmoid(x))\n",
    "plt.show()"
   ]
  },
  {
   "cell_type": "code",
   "execution_count": 44,
   "id": "e274aab6-e7a1-4974-8c75-93109174a585",
   "metadata": {},
   "outputs": [],
   "source": [
    "# 이거는 비선형의 문제를 못 품. 그래서 시그모이드. \n",
    "def ident_func(X):\n",
    "    return x"
   ]
  },
  {
   "cell_type": "code",
   "execution_count": 52,
   "id": "1b1119bc-e52c-4218-a950-980d682977e1",
   "metadata": {},
   "outputs": [
    {
     "data": {
      "image/png": "[encoded data removed]",
      "text/plain": [
       "<Figure size 432x288 with 1 Axes>"
      ]
     },
     "metadata": {
      "needs_background": "light"
     },
     "output_type": "display_data"
    }
   ],
   "source": [
    "x = np.arange(-1,1,0.1)\n",
    "plt.plot(x,ident_func(x))\n",
    "plt.plot(x,step_func(x))\n",
    "plt.plot(x,sigmoid(x))\n",
    "plt.show()"
   ]
  },
  {
   "cell_type": "code",
   "execution_count": 48,
   "id": "a19a0538-036e-48c2-9394-838e87016a10",
   "metadata": {},
   "outputs": [],
   "source": [
    "#렐류함수\n",
    "def relu(x):\n",
    "    return np.maximum(0,x)"
   ]
  },
  {
   "cell_type": "code",
   "execution_count": 49,
   "id": "1cf5e61d-6a51-404f-b564-7ffa4671b894",
   "metadata": {},
   "outputs": [
    {
     "data": {
      "text/plain": [
       "0"
      ]
     },
     "execution_count": 49,
     "metadata": {},
     "output_type": "execute_result"
    }
   ],
   "source": [
    "relu(-3)"
   ]
  },
  {
   "cell_type": "code",
   "execution_count": 51,
   "id": "1cad7413-108c-403b-94cf-4c8080c01112",
   "metadata": {},
   "outputs": [
    {
     "data": {
      "image/png": "[encoded data removed]",
      "text/plain": [
       "<Figure size 432x288 with 1 Axes>"
      ]
     },
     "metadata": {
      "needs_background": "light"
     },
     "output_type": "display_data"
    }
   ],
   "source": [
    "x = np.arange(-1,1,0.1)\n",
    "# plt.plot(x,ident_func(x))\n",
    "plt.plot(x,relu(x))\n",
    "plt.plot(x,step_func(x))\n",
    "plt.plot(x,sigmoid(x))\n",
    "plt.show()"
   ]
  },
  {
   "cell_type": "code",
   "execution_count": 96,
   "id": "5095b6cc-d7cd-4077-a6dc-fede42cd3b7f",
   "metadata": {},
   "outputs": [],
   "source": [
    "# 변수가 10개의 종류\n",
    "from sklearn.datasets import load_iris\n",
    "x = load_iris()['data'][:100]\n",
    "y = load_iris()['target'][:100]"
   ]
  },
  {
   "cell_type": "code",
   "execution_count": 71,
   "id": "882ead5b-f681-4223-be5c-397964d711c1",
   "metadata": {},
   "outputs": [
    {
     "data": {
      "text/plain": [
       "(100, 4)"
      ]
     },
     "execution_count": 71,
     "metadata": {},
     "output_type": "execute_result"
    }
   ],
   "source": [
    "x,y\n",
    "x.shape"
   ]
  },
  {
   "cell_type": "code",
   "execution_count": 69,
   "id": "c555726f-3bfd-47be-863c-81502bc4cd3b",
   "metadata": {},
   "outputs": [
    {
     "data": {
      "text/plain": [
       "array([[ 0.1085808 ],\n",
       "       [-0.15152564],\n",
       "       [-0.63464015],\n",
       "       [ 1.46327643]])"
      ]
     },
     "execution_count": 69,
     "metadata": {},
     "output_type": "execute_result"
    }
   ],
   "source": [
    "w = np.random.randn(4,1)\n",
    "w"
   ]
  },
  {
   "cell_type": "code",
   "execution_count": 76,
   "id": "4725e73e-6206-4807-b8c5-508eeeaeb646",
   "metadata": {
    "collapsed": true,
    "jupyter": {
     "outputs_hidden": true
    },
    "tags": []
   },
   "outputs": [
    {
     "data": {
      "text/plain": [
       "array([[-0.57241855],\n",
       "       [-0.51837189],\n",
       "       [-0.50692916],\n",
       "       [-0.62956271],\n",
       "       [-0.59842919],\n",
       "       [-0.49819132],\n",
       "       [-0.46522874],\n",
       "       [-0.63158808],\n",
       "       [-0.55750973],\n",
       "       [-0.74331611],\n",
       "       [-0.63361345],\n",
       "       [-0.71676826],\n",
       "       [-0.67555761],\n",
       "       [-0.53945597],\n",
       "       [-0.44524678],\n",
       "       [-0.41445187],\n",
       "       [-0.24433526],\n",
       "       [-0.42609091],\n",
       "       [-0.59679216],\n",
       "       [-0.53501261],\n",
       "       [-0.71508379],\n",
       "       [-0.37353241],\n",
       "       [-0.38800546],\n",
       "       [-0.29352254],\n",
       "       [-0.9071603 ],\n",
       "       [-0.63444184],\n",
       "       [-0.40239681],\n",
       "       [-0.62502448],\n",
       "       [-0.5464079 ],\n",
       "       [-0.69732121],\n",
       "       [-0.67131056],\n",
       "       [-0.29550047],\n",
       "       [-0.86226751],\n",
       "       [-0.63505417],\n",
       "       [-0.59698847],\n",
       "       [-0.41089091],\n",
       "       [-0.46552221],\n",
       "       [-0.75561492],\n",
       "       [-0.50919828],\n",
       "       [-0.62073   ],\n",
       "       [-0.37348497],\n",
       "       [-0.24594461],\n",
       "       [-0.53950341],\n",
       "       [-0.12489409],\n",
       "       [-0.64254103],\n",
       "       [-0.38290233],\n",
       "       [-0.74480427],\n",
       "       [-0.58125126],\n",
       "       [-0.64447153],\n",
       "       [-0.5529715 ],\n",
       "       [-1.65903809],\n",
       "       [-1.4509309 ],\n",
       "       [-1.63534399],\n",
       "       [-1.38761577],\n",
       "       [-1.44292658],\n",
       "       [-1.7589825 ],\n",
       "       [-1.45754193],\n",
       "       [-1.46265164],\n",
       "       [-1.73987635],\n",
       "       [-1.27100861],\n",
       "       [-1.51811133],\n",
       "       [-1.28452413],\n",
       "       [-1.75715573],\n",
       "       [-1.71130312],\n",
       "       [-1.21381701],\n",
       "       [-1.48606773],\n",
       "       [-1.50749042],\n",
       "       [-1.91809872],\n",
       "       [-1.32112143],\n",
       "       [-1.63625408],\n",
       "       [-1.25663042],\n",
       "       [-1.3982301 ],\n",
       "       [-1.60957709],\n",
       "       [-1.98880585],\n",
       "       [-1.57120047],\n",
       "       [-1.48177324],\n",
       "       [-1.68360801],\n",
       "       [-1.41271632],\n",
       "       [-1.44890553],\n",
       "       [-1.53302015],\n",
       "       [-1.56849559],\n",
       "       [-1.65135921],\n",
       "       [-1.49851541],\n",
       "       [-1.65305685],\n",
       "       [-1.52920658],\n",
       "       [-1.37834071],\n",
       "       [-1.53013213],\n",
       "       [-1.55460718],\n",
       "       [-1.54628965],\n",
       "       [-1.41792089],\n",
       "       [-1.83325716],\n",
       "       [-1.66299167],\n",
       "       [-1.54682686],\n",
       "       [-1.436641  ],\n",
       "       [-1.56429597],\n",
       "       [-1.74522322],\n",
       "       [-1.58374302],\n",
       "       [-1.59291663],\n",
       "       [-1.11936836],\n",
       "       [-1.50512644]])"
      ]
     },
     "execution_count": 76,
     "metadata": {},
     "output_type": "execute_result"
    }
   ],
   "source": [
    "np.dot(x,w) - y.reshape(100,1) #이 값을 미분 "
   ]
  },
  {
   "cell_type": "code",
   "execution_count": 79,
   "id": "96faf00d-e1fc-4df4-bb00-0cda6fff40ce",
   "metadata": {},
   "outputs": [
    {
     "data": {
      "text/plain": [
       "(4, 100)"
      ]
     },
     "execution_count": 79,
     "metadata": {},
     "output_type": "execute_result"
    }
   ],
   "source": [
    "#층의 갯수 따라\n",
    "layer1 = np.random.randn(4,100)\n",
    "np.dot(x,layer1).shape\n",
    "layer1.shape"
   ]
  },
  {
   "cell_type": "code",
   "execution_count": 81,
   "id": "01d3224e-515f-4c4e-b46d-b172cab73556",
   "metadata": {},
   "outputs": [],
   "source": [
    "layer2 = np.random.randn(100,30)\n",
    "layer3 = np.random.randn(30,70)\n",
    "output = np.random.randn(70,1)\n",
    "l1 = np.dot(x,layer1)\n",
    "l2 = np.dot(l1,layer2)\n",
    "l3 = np.dot(l2,layer3)\n",
    "out = np.dot(l3,output)"
   ]
  },
  {
   "cell_type": "code",
   "execution_count": 83,
   "id": "bda9f175-6a7b-4cb1-856a-41c752a3e3d0",
   "metadata": {},
   "outputs": [
    {
     "data": {
      "text/plain": [
       "array([[ 0.01111963,  3.11399844,  8.75384636, ..., -3.74534665,\n",
       "        -4.21585452,  2.97450469],\n",
       "       [-0.21997438,  3.11266126,  8.07204361, ..., -3.6067099 ,\n",
       "        -4.11928249,  2.59898329],\n",
       "       [-0.02213705,  2.87710214,  8.06734136, ..., -3.46632882,\n",
       "        -3.87306914,  2.71361523],\n",
       "       ...,\n",
       "       [-3.1011458 ,  3.2728536 , 10.38526092, ..., -8.95001458,\n",
       "        -1.25177286, -0.36687726],\n",
       "       [-2.20422145,  2.88882233,  8.86572924, ..., -6.47855085,\n",
       "        -1.76860434,  0.39612495],\n",
       "       [-2.953474  ,  2.90062329,  9.80412279, ..., -8.53942613,\n",
       "        -0.81797967, -0.45774374]])"
      ]
     },
     "execution_count": 83,
     "metadata": {},
     "output_type": "execute_result"
    }
   ],
   "source": [
    "np.dot(x,layer1)"
   ]
  },
  {
   "cell_type": "code",
   "execution_count": 86,
   "id": "cf7e23cf-a040-4cc3-a426-41608f3f0aac",
   "metadata": {
    "collapsed": true,
    "jupyter": {
     "outputs_hidden": true
    },
    "tags": []
   },
   "outputs": [
    {
     "data": {
      "text/plain": [
       "array([[-1.24469169e+00],\n",
       "       [ 1.24105584e+00],\n",
       "       [-6.50759312e-01],\n",
       "       [-1.17701092e+00],\n",
       "       [-2.01446273e+00],\n",
       "       [-2.20949321e+00],\n",
       "       [-1.75933062e+00],\n",
       "       [-1.41546343e+00],\n",
       "       [-3.98321508e-01],\n",
       "       [-1.79975257e-01],\n",
       "       [-1.61690763e+00],\n",
       "       [-2.22027237e+00],\n",
       "       [ 5.20245165e-01],\n",
       "       [-6.09545298e-01],\n",
       "       [-7.05421786e-01],\n",
       "       [-2.47565900e+00],\n",
       "       [-1.06728774e+00],\n",
       "       [-8.75584783e-01],\n",
       "       [-1.49175978e+00],\n",
       "       [-2.29246207e+00],\n",
       "       [-6.13467682e-01],\n",
       "       [-1.64821631e+00],\n",
       "       [-2.03409624e+00],\n",
       "       [-7.01486707e-01],\n",
       "       [-2.70399289e+00],\n",
       "       [ 7.87582090e-01],\n",
       "       [-1.19280665e+00],\n",
       "       [-1.25341908e+00],\n",
       "       [-2.25144375e-01],\n",
       "       [-1.66486962e+00],\n",
       "       [-8.20711291e-01],\n",
       "       [ 7.58882343e-01],\n",
       "       [-3.64405619e+00],\n",
       "       [-3.03469815e+00],\n",
       "       [-9.47097628e-04],\n",
       "       [ 1.25075626e+00],\n",
       "       [ 1.07113865e+00],\n",
       "       [-2.66552753e+00],\n",
       "       [-6.11086121e-01],\n",
       "       [-1.06257886e+00],\n",
       "       [-8.34346342e-01],\n",
       "       [ 5.47741279e+00],\n",
       "       [-1.59679735e+00],\n",
       "       [-9.86184391e-01],\n",
       "       [-2.71600827e+00],\n",
       "       [ 9.03117163e-01],\n",
       "       [-2.86356585e+00],\n",
       "       [-1.35099419e+00],\n",
       "       [-1.92646779e+00],\n",
       "       [-4.54814416e-01],\n",
       "       [ 1.38434629e-02],\n",
       "       [ 1.16922680e-01],\n",
       "       [ 8.76784947e-01],\n",
       "       [ 3.31615522e+00],\n",
       "       [ 1.79862242e+00],\n",
       "       [ 1.81857693e+00],\n",
       "       [ 2.97670487e-01],\n",
       "       [ 1.65741960e+00],\n",
       "       [ 1.15240721e+00],\n",
       "       [ 1.66158684e+00],\n",
       "       [ 4.28019770e+00],\n",
       "       [ 6.76156371e-01],\n",
       "       [ 4.10184470e+00],\n",
       "       [ 1.54575898e+00],\n",
       "       [-1.29921926e-01],\n",
       "       [ 6.00232604e-02],\n",
       "       [ 1.30988528e+00],\n",
       "       [ 1.30243727e+00],\n",
       "       [ 4.45242008e+00],\n",
       "       [ 2.03307977e+00],\n",
       "       [ 1.21508069e+00],\n",
       "       [ 8.23232930e-01],\n",
       "       [ 3.21621923e+00],\n",
       "       [ 1.86520558e+00],\n",
       "       [ 7.39825236e-01],\n",
       "       [ 5.41679378e-01],\n",
       "       [ 1.91718484e+00],\n",
       "       [ 1.57610526e+00],\n",
       "       [ 1.41149009e+00],\n",
       "       [ 8.68617507e-01],\n",
       "       [ 2.41861111e+00],\n",
       "       [ 2.23712104e+00],\n",
       "       [ 1.06433641e+00],\n",
       "       [ 3.04936433e+00],\n",
       "       [ 1.47585671e+00],\n",
       "       [-1.63559885e-01],\n",
       "       [ 6.70765819e-01],\n",
       "       [ 3.88992541e+00],\n",
       "       [ 3.90684155e-01],\n",
       "       [ 2.36419142e+00],\n",
       "       [ 2.57099542e+00],\n",
       "       [ 1.04868239e+00],\n",
       "       [ 1.71816531e+00],\n",
       "       [ 2.19197646e+00],\n",
       "       [ 1.75804593e+00],\n",
       "       [ 4.17490820e-01],\n",
       "       [ 8.96548095e-01],\n",
       "       [ 7.88795180e-01],\n",
       "       [ 8.97367037e-01],\n",
       "       [ 1.11795292e+00]])"
      ]
     },
     "execution_count": 86,
     "metadata": {},
     "output_type": "execute_result"
    }
   ],
   "source": [
    "#레이어 한번 나올때마다 activation 넣기\n",
    "layer1 = np.random.randn(4,100)\n",
    "layer2 = np.random.randn(100,30)\n",
    "layer3 = np.random.randn(30,70)\n",
    "output = np.random.randn(70,1)\n",
    "l1 = np.dot(x,layer1)\n",
    "a1 = sigmoid(l1) \n",
    "l2 = np.dot(a1,layer2)\n",
    "a2 = sigmoid(l2)\n",
    "l3 = np.dot(a2,layer3)\n",
    "out = np.dot(l3,output) #마지막엔 시그모이드 필요 없음\n",
    "out"
   ]
  },
  {
   "cell_type": "code",
   "execution_count": 87,
   "id": "0415f221-61df-42a3-a33d-145bd941d6c4",
   "metadata": {
    "collapsed": true,
    "jupyter": {
     "outputs_hidden": true
    },
    "tags": []
   },
   "outputs": [
    {
     "data": {
      "text/plain": [
       "array([[-1380.92563812],\n",
       "       [-1316.34251858],\n",
       "       [-1269.72772863],\n",
       "       [-1279.90000216],\n",
       "       [-1346.73520819],\n",
       "       [-1418.35069107],\n",
       "       [-1206.43448618],\n",
       "       [-1375.86302133],\n",
       "       [-1208.95837065],\n",
       "       [-1372.62108585],\n",
       "       [-1470.09349784],\n",
       "       [-1346.74578581],\n",
       "       [-1333.60698025],\n",
       "       [-1182.24458093],\n",
       "       [-1512.18973004],\n",
       "       [-1430.69288004],\n",
       "       [-1344.85284309],\n",
       "       [-1341.38302115],\n",
       "       [-1534.39503327],\n",
       "       [-1336.2678138 ],\n",
       "       [-1484.47130442],\n",
       "       [-1304.79405433],\n",
       "       [-1182.60072783],\n",
       "       [-1305.16962845],\n",
       "       [-1412.44352712],\n",
       "       [-1360.61248968],\n",
       "       [-1317.00659679],\n",
       "       [-1426.03339829],\n",
       "       [-1409.92636462],\n",
       "       [-1324.2158274 ],\n",
       "       [-1333.58310278],\n",
       "       [-1382.70904266],\n",
       "       [-1450.65066908],\n",
       "       [-1460.51219756],\n",
       "       [-1333.38798068],\n",
       "       [-1330.09565111],\n",
       "       [-1466.43063238],\n",
       "       [-1372.42724851],\n",
       "       [-1196.94238529],\n",
       "       [-1398.2377407 ],\n",
       "       [-1296.27526097],\n",
       "       [-1148.00508498],\n",
       "       [-1183.75378339],\n",
       "       [-1241.14930102],\n",
       "       [-1395.57901079],\n",
       "       [-1255.34092943],\n",
       "       [-1401.92300322],\n",
       "       [-1259.74461179],\n",
       "       [-1442.49939703],\n",
       "       [-1360.5605491 ],\n",
       "       [-2087.42801471],\n",
       "       [-1856.01342141],\n",
       "       [-2106.82864144],\n",
       "       [-1685.59118839],\n",
       "       [-1957.63185269],\n",
       "       [-1807.04830041],\n",
       "       [-1856.94542114],\n",
       "       [-1424.44572846],\n",
       "       [-2052.96252698],\n",
       "       [-1515.81925354],\n",
       "       [-1581.9537496 ],\n",
       "       [-1688.17001126],\n",
       "       [-1957.2624542 ],\n",
       "       [-1910.82291286],\n",
       "       [-1514.37850872],\n",
       "       [-1929.24045989],\n",
       "       [-1696.76777723],\n",
       "       [-1858.76813824],\n",
       "       [-1950.91963607],\n",
       "       [-1738.4295494 ],\n",
       "       [-1739.05883605],\n",
       "       [-1751.21968318],\n",
       "       [-2034.39072225],\n",
       "       [-2000.22771533],\n",
       "       [-1907.42269031],\n",
       "       [-1928.31752294],\n",
       "       [-2132.58980331],\n",
       "       [-2011.79138499],\n",
       "       [-1794.49436178],\n",
       "       [-1626.88962343],\n",
       "       [-1697.23201798],\n",
       "       [-1706.59399331],\n",
       "       [-1705.6744987 ],\n",
       "       [-1931.71029828],\n",
       "       [-1653.08272685],\n",
       "       [-1732.05778826],\n",
       "       [-2004.39550576],\n",
       "       [-2013.59795076],\n",
       "       [-1655.32717751],\n",
       "       [-1659.12121115],\n",
       "       [-1790.58859524],\n",
       "       [-1874.5239522 ],\n",
       "       [-1765.30169753],\n",
       "       [-1465.43327991],\n",
       "       [-1714.945648  ],\n",
       "       [-1743.89337187],\n",
       "       [-1719.30251988],\n",
       "       [-1865.21555579],\n",
       "       [-1336.74810707],\n",
       "       [-1703.16809505]])"
      ]
     },
     "execution_count": 87,
     "metadata": {},
     "output_type": "execute_result"
    }
   ],
   "source": [
    "layer1 = np.random.randn(4,100)\n",
    "layer2 = np.random.randn(100,30)\n",
    "layer3 = np.random.randn(30,70)\n",
    "output = np.random.randn(70,1)\n",
    "l1 = np.dot(x,layer1)\n",
    "a1 = relu(l1) \n",
    "l2 = np.dot(a1,layer2)\n",
    "a2 = relu(l2)\n",
    "l3 = np.dot(a2,layer3)\n",
    "out = np.dot(l3,output) #마지막엔 렐루 필요 없음\n",
    "out"
   ]
  },
  {
   "cell_type": "code",
   "execution_count": 101,
   "id": "b143f1a4-effd-4a99-899d-0d534d003970",
   "metadata": {
    "collapsed": true,
    "jupyter": {
     "outputs_hidden": true
    },
    "tags": []
   },
   "outputs": [
    {
     "data": {
      "text/plain": [
       "array([[ -445.78812818],\n",
       "       [ -394.61628013],\n",
       "       [ -409.1410168 ],\n",
       "       [ -482.15252943],\n",
       "       [ -509.28653566],\n",
       "       [ -581.53984899],\n",
       "       [ -519.96102638],\n",
       "       [ -481.4428295 ],\n",
       "       [ -438.62703225],\n",
       "       [ -440.89505414],\n",
       "       [ -479.16506461],\n",
       "       [ -545.88615505],\n",
       "       [ -402.07299661],\n",
       "       [ -380.50855943],\n",
       "       [ -482.78925354],\n",
       "       [ -712.97582852],\n",
       "       [ -547.87739074],\n",
       "       [ -443.35286531],\n",
       "       [ -526.37826313],\n",
       "       [ -585.3902667 ],\n",
       "       [ -506.29282334],\n",
       "       [ -543.48909053],\n",
       "       [ -579.30908337],\n",
       "       [ -510.4049032 ],\n",
       "       [ -651.28365865],\n",
       "       [ -457.74381968],\n",
       "       [ -502.20906324],\n",
       "       [ -472.62471473],\n",
       "       [ -417.59804581],\n",
       "       [ -520.96463792],\n",
       "       [ -494.57752635],\n",
       "       [ -424.23348074],\n",
       "       [ -673.72832983],\n",
       "       [ -659.69259812],\n",
       "       [ -447.08406126],\n",
       "       [ -337.18043787],\n",
       "       [ -361.74735653],\n",
       "       [ -516.43197464],\n",
       "       [ -415.06062063],\n",
       "       [ -469.35453979],\n",
       "       [ -460.1555148 ],\n",
       "       [ -315.10912487],\n",
       "       [ -468.26657381],\n",
       "       [ -509.70879103],\n",
       "       [ -690.89439902],\n",
       "       [ -400.94639394],\n",
       "       [ -586.2329113 ],\n",
       "       [ -462.63109366],\n",
       "       [ -494.72622474],\n",
       "       [ -426.78782459],\n",
       "       [-1492.92501395],\n",
       "       [-1487.00669258],\n",
       "       [-1558.90593054],\n",
       "       [-1252.47867212],\n",
       "       [-1443.32327043],\n",
       "       [-1461.36498008],\n",
       "       [-1572.38340927],\n",
       "       [-1076.69849765],\n",
       "       [-1449.28022078],\n",
       "       [-1299.62931022],\n",
       "       [-1074.00355506],\n",
       "       [-1400.32149962],\n",
       "       [-1183.03695954],\n",
       "       [-1516.24812161],\n",
       "       [-1196.5757512 ],\n",
       "       [-1399.03888156],\n",
       "       [-1493.65245573],\n",
       "       [-1321.96520847],\n",
       "       [-1349.29470298],\n",
       "       [-1235.23705003],\n",
       "       [-1593.61232821],\n",
       "       [-1267.6759198 ],\n",
       "       [-1508.19956183],\n",
       "       [-1501.68552349],\n",
       "       [-1361.56205219],\n",
       "       [-1392.87091776],\n",
       "       [-1487.71415909],\n",
       "       [-1593.76609499],\n",
       "       [-1463.6012723 ],\n",
       "       [-1091.85456457],\n",
       "       [-1192.72226106],\n",
       "       [-1155.65619907],\n",
       "       [-1247.02820769],\n",
       "       [-1601.85876929],\n",
       "       [-1499.43350585],\n",
       "       [-1546.72178155],\n",
       "       [-1507.53458712],\n",
       "       [-1316.04194407],\n",
       "       [-1388.58839401],\n",
       "       [-1282.36084536],\n",
       "       [-1410.94605387],\n",
       "       [-1503.32568911],\n",
       "       [-1266.5459156 ],\n",
       "       [-1048.00955519],\n",
       "       [-1365.23814815],\n",
       "       [-1408.25380728],\n",
       "       [-1393.7897909 ],\n",
       "       [-1382.88435911],\n",
       "       [ -958.78063147],\n",
       "       [-1349.15052533]])"
      ]
     },
     "execution_count": 101,
     "metadata": {},
     "output_type": "execute_result"
    }
   ],
   "source": [
    "# 출력층 설계\n",
    "from sklearn.datasets import load_iris\n",
    "x = load_iris()['data'][:100]\n",
    "y = load_iris()['target'][:100]\n",
    "layer1 = np.random.randn(4,100)\n",
    "layer2 = np.random.randn(100,30)\n",
    "layer3 = np.random.randn(30,70)\n",
    "output = np.random.randn(70,1)\n",
    "l1 = np.dot(x,layer1)\n",
    "a1 = relu(l1) \n",
    "l2 = np.dot(a1,layer2)\n",
    "a2 = relu(l2)\n",
    "l3 = np.dot(a2,layer3)\n",
    "out = np.dot(l3,output)\n",
    "\n",
    "y\n",
    "one_y = np.zeros((150,3))\n",
    "\n",
    "j = 0\n",
    "for i in y:\n",
    "    one_y[j,i] = 1\n",
    "    j += 1\n",
    "one_y\n",
    "out"
   ]
  },
  {
   "cell_type": "code",
   "execution_count": 107,
   "id": "16c2965e-dfb0-469d-8671-735dfb58a222",
   "metadata": {},
   "outputs": [],
   "source": [
    "# 소프트맥스 // 소프트맥스 함수는 출력층에서 사용되는 함수, 높은 확률을 가지는 class로 분류, 확률값으로 만들어줌\n",
    "# np.exp(-445.78812818)/(np.exp(-445.78812818))*(np.exp(-445.78812818))*(np.exp(-445.78812818)) 몰라 이건 못씀\n",
    "\n",
    "def softmax(x):\n",
    "    return np.exp(x)/np.sum(np.exp(x)) #여러값/한값"
   ]
  },
  {
   "cell_type": "code",
   "execution_count": 109,
   "id": "32049e03-42ff-4e32-a439-c6cf6a7decf4",
   "metadata": {},
   "outputs": [
    {
     "data": {
      "text/plain": [
       "1.0"
      ]
     },
     "execution_count": 109,
     "metadata": {},
     "output_type": "execute_result"
    }
   ],
   "source": [
    "np.sum(softmax(out[0,:])) #총 합이 1.0이라는 것의 특징 : 확률로써 설명이 가능하다."
   ]
  },
  {
   "cell_type": "code",
   "execution_count": 116,
   "id": "18287918-2d1f-4998-855e-4deca82fb59e",
   "metadata": {},
   "outputs": [
    {
     "data": {
      "text/plain": [
       "[<matplotlib.lines.Line2D at 0x129d312f6d0>]"
      ]
     },
     "execution_count": 116,
     "metadata": {},
     "output_type": "execute_result"
    },
    {
     "data": {
      "image/png": "[encoded data removed]",
      "text/plain": [
       "<Figure size 432x288 with 1 Axes>"
      ]
     },
     "metadata": {
      "needs_background": "light"
     },
     "output_type": "display_data"
    }
   ],
   "source": [
    "#소프트함수 문제점: 큰값은 컴 한계를 넘어감\n",
    "x = np.array([1,2,3,4])\n",
    "softmax(x)\n",
    "\n",
    "x = np.array([1000,200,3000,4])\n",
    "softmax(x)\n",
    "\n",
    "x = np.arange(-100,1000)\n",
    "plt.plot(x,np.exp(x))"
   ]
  },
  {
   "cell_type": "code",
   "execution_count": 117,
   "id": "483a5029-ea94-4ca2-95bb-2a11dd79e8ba",
   "metadata": {},
   "outputs": [
    {
     "data": {
      "text/plain": [
       "array([0.0320586 , 0.08714432, 0.23688282, 0.64391426])"
      ]
     },
     "execution_count": 117,
     "metadata": {},
     "output_type": "execute_result"
    }
   ],
   "source": [
    "# 해결\n",
    "def softmax(x):\n",
    "    c = np.max(x)\n",
    "    a = x - c\n",
    "    return np.exp(a)/np.sum(np.exp(a)) \n",
    "\n",
    "x = np.array([1,2,3,4])\n",
    "softmax(x)"
   ]
  },
  {
   "cell_type": "code",
   "execution_count": null,
   "id": "e3af92db-6dca-447c-8a69-525f2c3c19d5",
   "metadata": {},
   "outputs": [],
   "source": []
  }
 ],
 "metadata": {
  "kernelspec": {
   "display_name": "Python 3 (ipykernel)",
   "language": "python",
   "name": "python3"
  },
  "language_info": {
   "codemirror_mode": {
    "name": "ipython",
    "version": 3
   },
   "file_extension": ".py",
   "mimetype": "text/x-python",
   "name": "python",
   "nbconvert_exporter": "python",
   "pygments_lexer": "ipython3",
   "version": "3.9.7"
  }
 },
 "nbformat": 4,
 "nbformat_minor": 5
}
