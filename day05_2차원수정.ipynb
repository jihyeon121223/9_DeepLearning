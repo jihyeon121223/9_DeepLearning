{
 "cells": [
  {
   "cell_type": "code",
   "execution_count": 1,
   "id": "860a93a9-a5cf-45d3-94c8-b45c616ae5e1",
   "metadata": {},
   "outputs": [],
   "source": [
    "#2차원구조 만들어서 만든 함수 불러와서 써보기"
   ]
  },
  {
   "cell_type": "code",
   "execution_count": 10,
   "id": "d4426902-4af6-436b-a2ee-1ac36457e7a6",
   "metadata": {},
   "outputs": [],
   "source": [
    "import numpy as np\n",
    "from layers import Relu, SoftmaxWithLoss, Sigmoid, Affine\n",
    "from collections import OrderedDict\n",
    "from loss import cross_entropy_error\n",
    "from activation import softmax"
   ]
  },
  {
   "cell_type": "code",
   "execution_count": 11,
   "id": "eb587a80-19ba-4051-ad35-7ea8d386fed2",
   "metadata": {},
   "outputs": [],
   "source": [
    "#이거 수정: 빠르게 나오게 하려고\n",
    "class TwoLayerNet: \n",
    "    def __init__(self,input_size,hidden_size,output_size):\n",
    "        self.W = {}\n",
    "        self.W['W1'] = np.random.randn(input_size,hidden_size)\n",
    "        self.W['b1'] = np.random.randn(hidden_size)\n",
    "        self.W['W2'] = np.random.randn(hidden_size,output_size)\n",
    "        self.W['b2'] = np.random.randn(output_size)\n",
    "        self.loss_val = []\n",
    "        self.layers = OrderedDict()\n",
    "        self.layers['Affine1'] = Affine(self.W['W1'],self.W['b1'])\n",
    "        self.layers['Relu1'] = Relu()\n",
    "        self.layers['Affine2'] = Affine(self.W['W2'],self.W['b2'])\n",
    "        \n",
    "        self.lastLayer = SoftmaxWithLoss()\n",
    "    \n",
    "    def predict(self,x):\n",
    "        for layer in self.layers.values(): #x업데이트\n",
    "            x = layer.forward(x)\n",
    "        return x\n",
    "    \n",
    "    def loss(self,x,t):\n",
    "        y = self.predict(x)\n",
    "        # loss = cross_entropy_error(y,t) #미분하려고 구한거(수치적) >> 해석적으로 쓰려고 class만듦 :forwardmax, backwardmax\n",
    "        loss = self.lastLayer.forward(y,t)\n",
    "        return loss\n",
    "\n",
    "    def numerical_gradient(self,x,t):\n",
    "        f = lambda W: self.loss(x,t)\n",
    "        \n",
    "        grads = {}\n",
    "        grads['W1'] = numerical_gradient(f, self.W['W1'])\n",
    "        grads['b1'] = numerical_gradient(f, self.W['b1'])\n",
    "        grads['W2'] = numerical_gradient(f, self.W['W2'])\n",
    "        grads['b2'] = numerical_gradient(f, self.W['b2'])\n",
    "        \n",
    "        return grads\n",
    "    \n",
    "    def gradient(self,x,t): #backward시켜주는거 #맨 마지막loss부터 거꾸로 #grad(기울기)를 원래 값에서 빼주면 학습이 되는것이기 때문\n",
    "        self.loss(x,t)\n",
    "        dout = 1\n",
    "        dout = self.lastLayer.backward(dout) #미분값\n",
    "        layers = list(layers.values()) #끝까지 계산했다 다시 back해줘야해서 순서 바꾸기\n",
    "        layers.reverse()\n",
    "        for layer in layers:\n",
    "            layer.backward(dout) \n",
    "            \n",
    "        grads = {}\n",
    "        grads['W1'] = self.layers['Affine1'].dW\n",
    "        grads['b1'] = self.layers['Affine1'].db\n",
    "        grads['W2'] = self.layers['Affine2'].dW\n",
    "        grads['b2'] = self.layers['Affine2'].db\n",
    "        \n",
    "        return grads\n",
    "    \n",
    "    def accuracy(self,x,t):\n",
    "        y = self.predict(x)\n",
    "        y = np.argmax(y,axis=1)\n",
    "        t = np.argmax(t,axis=1)\n",
    "        acc = sum(y == t)/x.shape[0]\n",
    "        return acc\n",
    "    \n",
    "    def fit(self,epochs,lr,x,t):\n",
    "        for epoch in range(epochs):\n",
    "            grads = self.gradient(x,t)\n",
    "            for key in grads.keys():\n",
    "                self.W[key] -= lr*grads[key]\n",
    "            self.loss_val.append(self.loss(x,t))\n"
   ]
  },
  {
   "cell_type": "code",
   "execution_count": 12,
   "id": "be86a80d-480b-4d80-bedf-f95ec3a95315",
   "metadata": {},
   "outputs": [],
   "source": [
    "#확인\n",
    "x = np.random.randn(10,5)\n",
    "t = np.random.randn(10,4)\n",
    "input_size = x.shape[1]\n",
    "hidden_size = 3\n",
    "output_size = 4\n",
    "\n",
    "W={}\n",
    "W['W1'] = np.random.randn(input_size,hidden_size)\n",
    "W['b1'] = np.random.randn(hidden_size)\n",
    "W['W2'] = np.random.randn(hidden_size,output_size)\n",
    "W['b2'] = np.random.randn(output_size)\n",
    "layers = OrderedDict({}) #그냥 딕이 아닌 리스트로 만들어줘서 함수 쓰기 적합?\n",
    "layers['Affine1'] = Affine(W['W1'],W['b1'])\n",
    "layers['Relu1'] = Relu()\n",
    "layers['Affine2'] = Affine(W['W2'],W['b2'])"
   ]
  },
  {
   "cell_type": "code",
   "execution_count": 5,
   "id": "4e78c145-1cba-4fbe-9621-5752977f3cae",
   "metadata": {},
   "outputs": [
    {
     "data": {
      "text/plain": [
       "OrderedDict([('Affine1', <layers.Affine at 0x15f020f4df0>),\n",
       "             ('Relu1', <layers.Relu at 0x15f020f41f0>),\n",
       "             ('Affine2', <layers.Affine at 0x15f020f4970>)])"
      ]
     },
     "execution_count": 5,
     "metadata": {},
     "output_type": "execute_result"
    }
   ],
   "source": [
    "layers #각 class확인가능"
   ]
  },
  {
   "cell_type": "code",
   "execution_count": 6,
   "id": "281a969f-54bd-45ec-b05e-49027f9f383d",
   "metadata": {},
   "outputs": [
    {
     "name": "stdout",
     "output_type": "stream",
     "text": [
      "<layers.Affine object at 0x0000015F020F4DF0>\n",
      "<layers.Relu object at 0x0000015F020F41F0>\n",
      "<layers.Affine object at 0x0000015F020F4970>\n"
     ]
    }
   ],
   "source": [
    "for layers in layers.values(): \n",
    "    print(layers)"
   ]
  },
  {
   "cell_type": "code",
   "execution_count": 17,
   "id": "d82ae086-812b-4d20-838f-6468ea2a0578",
   "metadata": {},
   "outputs": [
    {
     "name": "stdout",
     "output_type": "stream",
     "text": [
      "odict_values([<layers.Affine object at 0x0000015F04794970>, <layers.Relu object at 0x0000015F04794A30>, <layers.Affine object at 0x0000015F04794490>])\n"
     ]
    }
   ],
   "source": [
    "for i in [layers.values()]: \n",
    "    print(i)"
   ]
  },
  {
   "cell_type": "code",
   "execution_count": 22,
   "id": "8ab0663e-427e-44c3-95b3-2e7f4cca5c6f",
   "metadata": {},
   "outputs": [],
   "source": [
    "#Affine forward가 predict와 같음을 증명\n",
    "def predict(self,x):\n",
    "    w1,w2 = self.W['W1'],self.W['W2']\n",
    "    b1,b2 = self.W['b1'],self.W['b2']\n",
    "    a1 = np.dot(x,W1)+self.b1\n",
    "    z1 = relu(a1)\n",
    "    a2 = np.dot(z1,W2)+self.b2\n",
    "    y = softmax(a2)"
   ]
  },
  {
   "cell_type": "code",
   "execution_count": null,
   "id": "b7311736-6d80-48ed-b118-150b1a512a46",
   "metadata": {},
   "outputs": [],
   "source": []
  }
 ],
 "metadata": {
  "kernelspec": {
   "display_name": "Python 3 (ipykernel)",
   "language": "python",
   "name": "python3"
  },
  "language_info": {
   "codemirror_mode": {
    "name": "ipython",
    "version": 3
   },
   "file_extension": ".py",
   "mimetype": "text/x-python",
   "name": "python",
   "nbconvert_exporter": "python",
   "pygments_lexer": "ipython3",
   "version": "3.9.7"
  }
 },
 "nbformat": 4,
 "nbformat_minor": 5
}
