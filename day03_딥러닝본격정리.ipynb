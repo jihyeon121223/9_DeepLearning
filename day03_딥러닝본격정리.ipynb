{
 "cells": [
  {
   "cell_type": "code",
   "execution_count": 1,
   "id": "f3e3e0aa-0e5c-4444-91d8-4683e215bfc6",
   "metadata": {},
   "outputs": [],
   "source": [
    "import numpy as np\n",
    "from sklearn.datasets import load_iris"
   ]
  },
  {
   "cell_type": "code",
   "execution_count": 2,
   "id": "726c4c7f-f3e9-4619-b703-8188e5315c28",
   "metadata": {},
   "outputs": [],
   "source": [
    "# 행렬 shape 그대로 출력하게 하기\n",
    "input_x = np.random.randn(3,2)"
   ]
  },
  {
   "cell_type": "code",
   "execution_count": 3,
   "id": "dfe95d2c-7fb4-49cc-a9e3-588f518853be",
   "metadata": {},
   "outputs": [],
   "source": [
    "t = np.array(['monkey','cat','dog'])\n",
    "t = [[0],[1],[2]]\n",
    "t = np.array([[0],[1],[2]]) \n",
    "t = np.array([[1,0,0],[0,1,0],[0,0,1]])"
   ]
  },
  {
   "cell_type": "code",
   "execution_count": 4,
   "id": "c771e88f-3bb2-4834-b569-4b2be0ded995",
   "metadata": {},
   "outputs": [],
   "source": [
    "w = np.random.randn(2,1)\n",
    "output = np.dot(input_x,w)\n",
    "w = np.random.randn(2,3) # 2X3으로 행렬이 가야한다\n",
    "output = np.dot(input_x,w)"
   ]
  },
  {
   "cell_type": "code",
   "execution_count": 5,
   "id": "60bf6adf-2bb4-4292-b9aa-88f09cba244d",
   "metadata": {},
   "outputs": [
    {
     "data": {
      "text/plain": [
       "array([1., 1., 1.])"
      ]
     },
     "execution_count": 5,
     "metadata": {},
     "output_type": "execute_result"
    }
   ],
   "source": [
    "def softmax(x):\n",
    "    x = x - np.max(x,axis=1).reshape(-1,1)\n",
    "    return np.exp(x)/np.sum(np.exp(x),axis=1).reshape(-1,1)\n",
    "np.sum(softmax(output),axis=1)"
   ]
  },
  {
   "cell_type": "code",
   "execution_count": 6,
   "id": "9835626c-151b-49b6-81db-ab5b27c31f99",
   "metadata": {},
   "outputs": [
    {
     "data": {
      "text/plain": [
       "array([1.72260299, 0.9326641 , 0.48769884])"
      ]
     },
     "execution_count": 6,
     "metadata": {},
     "output_type": "execute_result"
    }
   ],
   "source": [
    "def sigmoid(x):\n",
    "    return 1/(1+np.exp(-x))\n",
    "np.sum(sigmoid(output),axis=1)"
   ]
  },
  {
   "cell_type": "code",
   "execution_count": 7,
   "id": "e95a3f73-97f3-455b-b9f5-8a5c986f5cc5",
   "metadata": {},
   "outputs": [
    {
     "data": {
      "text/plain": [
       "array([1.72771419, 0.        , 0.        ])"
      ]
     },
     "execution_count": 7,
     "metadata": {},
     "output_type": "execute_result"
    }
   ],
   "source": [
    "def relu(x):\n",
    "    return np.maximum(0,x)\n",
    "np.sum(relu(output),axis=1)"
   ]
  },
  {
   "cell_type": "code",
   "execution_count": 8,
   "id": "5eeaa214-b82b-4dd0-8670-4e65d6028782",
   "metadata": {},
   "outputs": [
    {
     "data": {
      "text/plain": [
       "1.7826139307290534"
      ]
     },
     "execution_count": 8,
     "metadata": {},
     "output_type": "execute_result"
    }
   ],
   "source": [
    "def loss(y,t):\n",
    "    return -np.sum(np.log(y) * t)/y.shape[0]\n",
    "loss(softmax(output),t)"
   ]
  },
  {
   "cell_type": "code",
   "execution_count": 9,
   "id": "64a361bd-f48a-42b2-b758-3e7508d2338c",
   "metadata": {},
   "outputs": [
    {
     "data": {
      "text/plain": [
       "1.7826139307290534"
      ]
     },
     "execution_count": 9,
     "metadata": {},
     "output_type": "execute_result"
    }
   ],
   "source": [
    "def cross_entropy_error(y,t):\n",
    "    return -np.sum(t*np.log(y))/y.shape[0] \n",
    "cross_entropy_error(softmax(output),t)"
   ]
  },
  {
   "cell_type": "code",
   "execution_count": 10,
   "id": "4aed8995-139c-4fdb-a79b-4209e418887a",
   "metadata": {},
   "outputs": [],
   "source": [
    "class Network:\n",
    "    def __init__(self):\n",
    "        self.W = np.random.randn(2,2)\n",
    "        self.b = np.random.randn(2)\n",
    "    \n",
    "    def predict(self,x):\n",
    "        return np.dot(x,self.W) + self.b\n",
    "    \n",
    "    def loss(self,x,t):\n",
    "        z = self.predict(x)\n",
    "        y = softmax(z)\n",
    "        loss = cross_entropy_error(y,t)\n",
    "        return loss"
   ]
  },
  {
   "cell_type": "code",
   "execution_count": 11,
   "id": "07a86a65-5d76-4a44-92f9-5fb08890c602",
   "metadata": {},
   "outputs": [
    {
     "data": {
      "text/plain": [
       "array([2.e-08, 4.e-08, 6.e-08])"
      ]
     },
     "execution_count": 11,
     "metadata": {},
     "output_type": "execute_result"
    }
   ],
   "source": [
    "def numerical_gradient(f,x):\n",
    "    h = 1e-4\n",
    "    grad = np.zeros_like(x)\n",
    "    if x.ndim == 2:\n",
    "        for i in range(grad.shape[0]):\n",
    "            for j in range(grad.shape[1]):\n",
    "                fx = f(x[i,j])\n",
    "                tmp_val = x[i,j]\n",
    "                x[i,j] = tmp_val + h\n",
    "                fxh = f(x[i,j])\n",
    "                grad[i,j] = (fxh-fx)/h\n",
    "                x[i,j] = tmp_val\n",
    "        return grad\n",
    "    else: \n",
    "        for i in range(x.size):\n",
    "            tmp_val = x[i]\n",
    "            x[i] = tmp_val + h\n",
    "            fxh1 = f(x[i])\n",
    "            x[i] = tmp_val - h\n",
    "            fxh2 = f(x[i])\n",
    "            grad[i] = (fxh1-fxh2)/2*h\n",
    "            x[i] = tmp_val    \n",
    "        return grad\n",
    "    \n",
    "f = lambda x :x**2\n",
    "numerical_gradient(f,np.array([1.,2.,3.]))"
   ]
  },
  {
   "cell_type": "code",
   "execution_count": 12,
   "id": "f3980e49-35b6-437c-bfb1-ac47498bf72c",
   "metadata": {},
   "outputs": [],
   "source": [
    "class TwoLayerNet: #네트워크 초기화\n",
    "    def __init__(self,input_size,hidden_size,output_size): #결정해서 들어갈거임\n",
    "        self.W = {}\n",
    "        self.W['W1'] = np.random.randn(input_size,hidden_size)\n",
    "        self.W['b1'] = np.random.randn(hidden_size)\n",
    "        self.W['W2'] = np.random.randn(hidden_size,output_size) #두개니깐 여기서 끝\n",
    "        self.W['b2'] = np.random.randn(output_size)\n",
    "        self.loss_val = []\n",
    "    \n",
    "    def predict(self,x):\n",
    "        W1 = self.W['W1']\n",
    "        W2 = self.W['W2']\n",
    "        b1 = self.W['b1']\n",
    "        b2 = self.W['b2']\n",
    "        \n",
    "        a1 = np.dot(x,W1) + b1 #첫번쨰 출력값\n",
    "        z1 = relu(a1) #활성화\n",
    "        a2 = np.dot(z1,W2) + b2 #활성화 된 값을 가져와 출력\n",
    "        out = softmax(a2) #이것을 출력\n",
    "        return out\n",
    "    \n",
    "    def loss(self,x,t):\n",
    "        y = self.predict(x)\n",
    "        loss = cross_entropy_error(y,t)\n",
    "        return loss\n",
    "\n",
    "    def numerical_gradient(self,x,t):\n",
    "        f = lambda W: self.loss(x,t)\n",
    "        \n",
    "        grads = {}\n",
    "        grads['W1'] = numerical_gradient(f, self.W['W1'])\n",
    "        grads['b1'] = numerical_gradient(f, self.W['b1'])\n",
    "        grads['W2'] = numerical_gradient(f, self.W['W2'])\n",
    "        grads['b2'] = numerical_gradient(f, self.W['b2'])\n",
    "        \n",
    "        return grads\n",
    "\n",
    "    \n",
    "    def accuracy(self,x,t):\n",
    "        y = self.predict(x)\n",
    "        y = np.argmax(y,axis=1)\n",
    "        t = np.argmax(t,axis=1)\n",
    "        acc = sum(y == t)/x.shape[0]\n",
    "        return acc\n",
    "    \n",
    "    def train(self,epochs,lr,x,t):\n",
    "        for epoch in range(epochs):\n",
    "            grads = self.numerical_gradient(x,t)\n",
    "            for key in grads.keys():\n",
    "                self.W[key] -= lr*grads[key]\n",
    "            self.loss_val.append(self.loss(x,t))\n",
    "        "
   ]
  },
  {
   "cell_type": "code",
   "execution_count": 27,
   "id": "a293b9ad-a781-4cc9-86f7-e74f474a3e8c",
   "metadata": {},
   "outputs": [],
   "source": [
    "X = load_iris()['data']\n",
    "y = load_iris()['target']\n",
    "t = np.zeros((y.size,np.unique(y).size))\n",
    "for i in range(len(t)):\n",
    "    t[i,y[i]] = 1\n",
    "input_size = X.shape[1]\n",
    "hidden_size = 5\n",
    "output_size = t.shape[1]\n",
    "network = TwoLayerNet(input_size=input_size,hidden_size=hidden_size,output_size=output_size)"
   ]
  },
  {
   "cell_type": "code",
   "execution_count": 28,
   "id": "41f5866f-7232-496e-a458-bcfc1912b212",
   "metadata": {
    "tags": []
   },
   "outputs": [
    {
     "data": {
      "text/plain": [
       "0.3333333333333333"
      ]
     },
     "execution_count": 28,
     "metadata": {},
     "output_type": "execute_result"
    }
   ],
   "source": [
    "network.accuracy(X,t)"
   ]
  },
  {
   "cell_type": "code",
   "execution_count": 29,
   "id": "8413a407-117a-4408-a21b-bdb871bca8e0",
   "metadata": {},
   "outputs": [],
   "source": [
    "network.train(100000,1e-3,X,t)"
   ]
  },
  {
   "cell_type": "code",
   "execution_count": 32,
   "id": "fa0dad1d-18b5-4654-a822-21ffe56fbd08",
   "metadata": {
    "tags": []
   },
   "outputs": [
    {
     "data": {
      "text/plain": [
       "[<matplotlib.lines.Line2D at 0x275bc9927c0>]"
      ]
     },
     "execution_count": 32,
     "metadata": {},
     "output_type": "execute_result"
    },
    {
     "data": {
      "image/png": "[encoded data removed]",
      "text/plain": [
       "<Figure size 432x288 with 1 Axes>"
      ]
     },
     "metadata": {
      "needs_background": "light"
     },
     "output_type": "display_data"
    }
   ],
   "source": [
    "import matplotlib.pyplot as plt\n",
    "plt.plot(np.arange(100000),network.loss_val)"
   ]
  },
  {
   "cell_type": "code",
   "execution_count": 17,
   "id": "febc6fc2-c66f-4d2a-b817-1c1bd0a1ca10",
   "metadata": {},
   "outputs": [],
   "source": [
    "from sklearn.model_selection import train_test_split\n",
    "X = load_iris()['data']\n",
    "y = load_iris()['target']\n",
    "X_train, X_test, y_train, y_test = train_test_split(X,y,test_size=.2)\n",
    "\n",
    "t_train = np.zeros((y_train.size,np.unique(y_train).size))\n",
    "for i in range(len(t_train)):\n",
    "    t_train[i,y_train[i]] = 1\n",
    "t_test = np.zeros((y_test.size,np.unique(y_test).size))\n",
    "for i in range(len(t_test)):\n",
    "    t_test[i,y_test[i]] = 1\n",
    "    \n",
    "input_size = X_train.shape[1]\n",
    "hidden_size = 5\n",
    "output_size = t_train.shape[1]\n",
    "network = TwoLayerNet(input_size=input_size,hidden_size=hidden_size,output_size=output_size)"
   ]
  },
  {
   "cell_type": "code",
   "execution_count": 18,
   "id": "3339df14-edac-475f-af9d-5d480bf7bdce",
   "metadata": {},
   "outputs": [],
   "source": [
    "network.train(10000,1e-3,X_test,t_test)"
   ]
  },
  {
   "cell_type": "code",
   "execution_count": 19,
   "id": "6b67cb69-4303-4ee5-ab6c-876f5fbef7bb",
   "metadata": {},
   "outputs": [
    {
     "data": {
      "text/plain": [
       "0.9666666666666667"
      ]
     },
     "execution_count": 19,
     "metadata": {},
     "output_type": "execute_result"
    }
   ],
   "source": [
    "network.accuracy(X_test,t_test)"
   ]
  },
  {
   "cell_type": "code",
   "execution_count": 20,
   "id": "c5d427ee-35ba-4e4c-a896-80732cfe249d",
   "metadata": {},
   "outputs": [
    {
     "data": {
      "text/plain": [
       "[<matplotlib.lines.Line2D at 0x275bc736550>]"
      ]
     },
     "execution_count": 20,
     "metadata": {},
     "output_type": "execute_result"
    },
    {
     "data": {
      "image/png": "[encoded data removed]",
      "text/plain": [
       "<Figure size 432x288 with 1 Axes>"
      ]
     },
     "metadata": {
      "needs_background": "light"
     },
     "output_type": "display_data"
    }
   ],
   "source": [
    "plt.plot(np.arange(len(network.loss_val)),network.loss_val)"
   ]
  },
  {
   "cell_type": "code",
   "execution_count": null,
   "id": "9911f6ce-14cc-4821-82c0-ed41e9c7e98b",
   "metadata": {},
   "outputs": [],
   "source": []
  }
 ],
 "metadata": {
  "kernelspec": {
   "display_name": "Python 3 (ipykernel)",
   "language": "python",
   "name": "python3"
  },
  "language_info": {
   "codemirror_mode": {
    "name": "ipython",
    "version": 3
   },
   "file_extension": ".py",
   "mimetype": "text/x-python",
   "name": "python",
   "nbconvert_exporter": "python",
   "pygments_lexer": "ipython3",
   "version": "3.9.7"
  }
 },
 "nbformat": 4,
 "nbformat_minor": 5
}
