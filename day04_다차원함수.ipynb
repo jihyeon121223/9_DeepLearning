{
 "cells": [
  {
   "cell_type": "markdown",
   "id": "7f913264-0eb9-42b1-8e8e-74c9ebfa4454",
   "metadata": {},
   "source": [
    "## layers 파이썬 만들었으니 불러와서 돌려보기"
   ]
  },
  {
   "cell_type": "code",
   "execution_count": 1,
   "id": "39084551-aad1-4c78-822f-677e450eed66",
   "metadata": {},
   "outputs": [],
   "source": [
    "import numpy as np\n",
    "from layers import OneLayer, TwoLayerNet\n",
    "from numerical_gradient import numerical_gradient\n",
    "from loss import cross_entropy_error\n",
    "from activation import relu,softmax"
   ]
  },
  {
   "cell_type": "code",
   "execution_count": 2,
   "id": "a90f2f6e-4e2d-4c88-8e18-c552f07a4b74",
   "metadata": {},
   "outputs": [],
   "source": [
    "def make_one(x):\n",
    "    if x.ndim == 2:\n",
    "        x = np.ravel(x.values)\n",
    "    t = np.zeros((x.size,np.unique(x).size))\n",
    "    for i in range(t.shape[0]):\n",
    "        t[i,x[i]] = 1\n",
    "    return t"
   ]
  },
  {
   "cell_type": "code",
   "execution_count": 3,
   "id": "28616224-d93b-4b93-aece-8a4102866ddd",
   "metadata": {},
   "outputs": [],
   "source": [
    "from sklearn.datasets import load_wine\n",
    "X = load_wine()['data']\n",
    "y = load_wine()['target']\n",
    "t = np.zeros((y.size,np.unique(y).size))"
   ]
  },
  {
   "cell_type": "code",
   "execution_count": 4,
   "id": "3d6b377d-c3ed-4ff1-a092-d1717b7a8910",
   "metadata": {},
   "outputs": [],
   "source": [
    "input_size = X.shape[1]\n",
    "hidden_size = 5\n",
    "output_size = t.shape[1]\n",
    "model = TwoLayerNet(input_size=input_size,hidden_size=hidden_size,output_size=output_size)"
   ]
  },
  {
   "cell_type": "code",
   "execution_count": 5,
   "id": "d135e65d-5b1c-4525-aa35-ac2b43711f83",
   "metadata": {
    "tags": []
   },
   "outputs": [],
   "source": [
    "epochs = 10000\n",
    "lr = 1e-3\n",
    "model.train(epochs,lr,X,t)"
   ]
  },
  {
   "cell_type": "code",
   "execution_count": 6,
   "id": "675c3938-4130-49e9-b3d3-3a5153f33e03",
   "metadata": {},
   "outputs": [
    {
     "data": {
      "text/plain": [
       "0.0"
      ]
     },
     "execution_count": 6,
     "metadata": {},
     "output_type": "execute_result"
    }
   ],
   "source": [
    "model.accuracy(X,t)"
   ]
  },
  {
   "cell_type": "markdown",
   "id": "2dcd20cf-7c5b-4685-9659-62a3c31556ec",
   "metadata": {},
   "source": [
    "# 3차원"
   ]
  },
  {
   "cell_type": "code",
   "execution_count": 7,
   "id": "0bec0e72-ee5e-42ae-b6ad-07dbfcc74e69",
   "metadata": {},
   "outputs": [],
   "source": [
    "class ThreeLayerNet:\n",
    "    def __init__(self,input_size,hidden_size1,hidden_size2,output_size):\n",
    "        self.W = {}\n",
    "        self.W['W1'] = np.random.randn(input_size,hidden_size1)\n",
    "        self.W['b1'] = np.random.randn(hidden_size1)\n",
    "        self.W['W2'] = np.random.randn(hidden_size1,hidden_size2)\n",
    "        self.W['b2'] = np.random.randn(hidden_size2)\n",
    "        self.W['W3'] = np.random.randn(hidden_size2,output_size)\n",
    "        self.W['b3'] = np.random.randn(output_size)\n",
    "        self.loss_val = []\n",
    "    \n",
    "    def predict(self,x):\n",
    "        W1 = self.W['W1']\n",
    "        W2 = self.W['W2']\n",
    "        W3 = self.W['W3']\n",
    "        b1 = self.W['b1']\n",
    "        b2 = self.W['b2']\n",
    "        b3 = self.W['b3']\n",
    "        \n",
    "        a1 = np.dot(x,W1) + b1 \n",
    "        z1 = relu(a1)\n",
    "        a2 = np.dot(z1,W2) + b2\n",
    "        z2 = relu(a2)\n",
    "        a3 = np.dot(z2,W3) + b3\n",
    "        out = softmax(a3)\n",
    "        return out\n",
    "    \n",
    "    def loss(self,x,t):\n",
    "        y = self.predict(x)\n",
    "        loss = cross_entropy_error(y,t)\n",
    "        return loss\n",
    "\n",
    "    def numerical_gradient(self,x,t):\n",
    "        f = lambda W: self.loss(x,t)\n",
    "        \n",
    "        grads = {}\n",
    "        grads['W1'] = numerical_gradient(f, self.W['W1'])\n",
    "        grads['b1'] = numerical_gradient(f, self.W['b1'])\n",
    "        grads['W2'] = numerical_gradient(f, self.W['W2'])\n",
    "        grads['b2'] = numerical_gradient(f, self.W['b2'])\n",
    "        grads['W3'] = numerical_gradient(f, self.W['W3'])\n",
    "        grads['b3'] = numerical_gradient(f, self.W['b3'])\n",
    "        \n",
    "        return grads\n",
    "\n",
    "    \n",
    "    def accuracy(self,x,t):\n",
    "        y = self.predict(x)\n",
    "        y = np.argmax(y,axis=1)\n",
    "        t = np.argmax(t,axis=1)\n",
    "        acc = sum(y == t)/x.shape[0]\n",
    "        return acc\n",
    "    \n",
    "    def fit(self,epochs,lr,x,t):\n",
    "        for epoch in range(epochs):\n",
    "            grads = self.numerical_gradient(x,t)\n",
    "            for key in grads.keys():\n",
    "                self.W[key] -= lr*grads[key]\n",
    "            self.loss_val.append(self.loss(x,t))"
   ]
  },
  {
   "cell_type": "code",
   "execution_count": 8,
   "id": "31945e59-0ece-4a2e-99e8-dc841d54b68e",
   "metadata": {},
   "outputs": [],
   "source": [
    "from sklearn.datasets import load_digits"
   ]
  },
  {
   "cell_type": "code",
   "execution_count": 9,
   "id": "9916b56b-d4ef-45bc-9ce5-c68a8175d3c3",
   "metadata": {
    "tags": []
   },
   "outputs": [],
   "source": [
    "X = load_digits()['data']\n",
    "y = load_digits()['target']\n",
    "t = make_one(y)"
   ]
  },
  {
   "cell_type": "code",
   "execution_count": 10,
   "id": "3de6a40b-d603-451d-a88b-fff2c0a66fa3",
   "metadata": {},
   "outputs": [],
   "source": [
    "input_size = X.shape[1]\n",
    "output_size = t.shape[1]\n",
    "hidden_size1 = 10\n",
    "hidden_size2 = 5"
   ]
  },
  {
   "cell_type": "code",
   "execution_count": 11,
   "id": "4baa8cf7-8335-4f09-ad80-e3977e51d325",
   "metadata": {
    "tags": []
   },
   "outputs": [],
   "source": [
    "model = ThreeLayerNet(input_size,hidden_size1,hidden_size2,output_size)"
   ]
  },
  {
   "cell_type": "code",
   "execution_count": 12,
   "id": "b3585041-0eb8-4a44-8d1b-ddcf7805cc27",
   "metadata": {},
   "outputs": [],
   "source": [
    "model.fit(100,1e-3,X,t)"
   ]
  },
  {
   "cell_type": "code",
   "execution_count": 13,
   "id": "108f0efc-9b51-464d-a70e-d1c4aa28b31c",
   "metadata": {},
   "outputs": [
    {
     "data": {
      "text/plain": [
       "[<matplotlib.lines.Line2D at 0x132f3027430>]"
      ]
     },
     "execution_count": 13,
     "metadata": {},
     "output_type": "execute_result"
    },
    {
     "data": {
      "image/png": "[encoded data removed]",
      "text/plain": [
       "<Figure size 432x288 with 1 Axes>"
      ]
     },
     "metadata": {
      "needs_background": "light"
     },
     "output_type": "display_data"
    }
   ],
   "source": [
    "import matplotlib.pyplot as plt\n",
    "plt.plot(np.arange(len(model.loss_val)),model.loss_val)"
   ]
  },
  {
   "cell_type": "markdown",
   "id": "f379c8cf-dccd-47a4-8474-bab6b3458ee5",
   "metadata": {},
   "source": [
    "# 4 차원"
   ]
  },
  {
   "cell_type": "raw",
   "id": "736568f3-61e5-403d-80bd-5f0f31f3ed3b",
   "metadata": {},
   "source": [
    "class MultiLayerNet:\n",
    "    def __init__(self,input_size,[12,23],output_size):\n",
    "        self.W = {}\n",
    "        self.W['Input'] = np.random.randn(input_size,hidden_size)\n",
    "        self.W['Input_bias'] = np.random.randn(hidden_size)\n",
    "        self.W['W1'] = np.random.randn(hidden_size1,hidden_size2)\n",
    "        self.W['b1'] = np.random.randn(hidden_size2)\n",
    "        self.W['W2'] = np.random.randn(hidden_size1,hidden_size2)\n",
    "        self.W['b2'] = np.random.randn(hidden_size2)\n",
    "        self.W['Output'] = np.random.randn(hidden_size2,output_size)\n",
    "        self.W['Output_bias'] = np.random.randn(output_size)\n",
    "    return W"
   ]
  },
  {
   "cell_type": "code",
   "execution_count": 14,
   "id": "34708207-6fee-4ed7-946d-59606f544200",
   "metadata": {},
   "outputs": [
    {
     "name": "stdout",
     "output_type": "stream",
     "text": [
      "23\n",
      "32\n",
      "25\n"
     ]
    }
   ],
   "source": [
    "# hidden layer가 여러겹 있을 때 돌아가는 구조\n",
    "for i in [23,32,25]:\n",
    "    print(i)"
   ]
  },
  {
   "cell_type": "markdown",
   "id": "85c77cfb-34c6-4923-a51a-dab82dd5c78c",
   "metadata": {},
   "source": [
    "# 다차원"
   ]
  },
  {
   "cell_type": "code",
   "execution_count": 15,
   "id": "e263b840-a18b-4d01-ad11-15a4cddf8ec4",
   "metadata": {},
   "outputs": [],
   "source": [
    "class MultiLayerNet:\n",
    "    def __init__(self,input_size,hidden_size,output_size):\n",
    "        hidden_size.append(output_size)\n",
    "        self.W = {}\n",
    "        self.W['Input'] = np.random.randn(input_size,hidden_size[0])\n",
    "        self.W['Input_b'] = np.random.randn(hidden_size[0])\n",
    "        for i in range(1,len(hidden_size)-1):\n",
    "            w = 'W'+str(i)\n",
    "            b = 'b'+str(i)\n",
    "            self.W[w] = np.random.randn(hidden_size[i],hidden_size[i+1])\n",
    "            self.W[b] = np.random.randn(hidden_size[i+1])\n",
    "        return W"
   ]
  },
  {
   "cell_type": "code",
   "execution_count": 16,
   "id": "df206b23-4ab0-4d7c-821f-b7858fae1fcd",
   "metadata": {},
   "outputs": [
    {
     "name": "stdout",
     "output_type": "stream",
     "text": [
      "1 2\n",
      "2 3\n"
     ]
    }
   ],
   "source": [
    "[1,2,3]\n",
    "for i in range(1,3):\n",
    "    print(i, i+1)"
   ]
  },
  {
   "cell_type": "markdown",
   "id": "3a2627cd-4a81-4ba5-be59-ceaef0058f31",
   "metadata": {},
   "source": [
    "# 질문"
   ]
  },
  {
   "cell_type": "code",
   "execution_count": 27,
   "id": "60be2025-f22c-40a8-9cc7-215fa007ff19",
   "metadata": {
    "tags": []
   },
   "outputs": [
    {
     "name": "stdout",
     "output_type": "stream",
     "text": [
      "W0\n",
      "b0\n",
      "[[ 0.49301871 -0.25223591]]\n",
      "W1\n",
      "b1\n",
      "[[ 0.16717282  0.78098533 -0.31294132]\n",
      " [-0.67587344 -0.75761285 -1.26010894]]\n",
      "W2\n",
      "b2\n",
      "[[ 0.19003441 -0.13656249  1.27402587]\n",
      " [ 0.71175099  0.41762582 -1.45350186]\n",
      " [-1.96312573 -0.57209083  2.17063704]]\n"
     ]
    }
   ],
   "source": [
    "#for문 안 확인\n",
    "hidden_size = [1,2,3]\n",
    "output_size = 3\n",
    "hidden_size.append(output_size)\n",
    "W = {}\n",
    "for i in range(len(hidden_size)-1):\n",
    "    w = 'W'+str(i)\n",
    "    b = 'b'+str(i)\n",
    "    W[w] = np.random.randn(hidden_size[i],hidden_size[i+1]) \n",
    "    W[b] = np.random.randn(hidden_size[i+1])\n",
    "    print(w)\n",
    "    print(b)\n",
    "    print(W[w])"
   ]
  },
  {
   "cell_type": "code",
   "execution_count": 30,
   "id": "4ca75780-7a3a-4f9a-abd4-3f87a44d5a3d",
   "metadata": {},
   "outputs": [],
   "source": [
    "class MultiLayerNet:\n",
    "    def __init__(self,input_size,hidden_size,output_size):\n",
    "        hidden_size.append(output_size)\n",
    "        self.W = {}\n",
    "        self.W['Input'] = np.random.randn(input_size,hidden_size[0])\n",
    "        self.W['Input_b'] = np.random.randn(hidden_size[0])\n",
    "        for i in range(len(hidden_size)-1):\n",
    "            w = 'W'+str(i)\n",
    "            b = 'b'+str(i)\n",
    "            self.W[w] = np.random.randn(hidden_size[i],hidden_size[i+1])\n",
    "            self.W[b] = np.random.randn(hidden_size[i+1])\n",
    "            \n",
    "        self.keys = []\n",
    "            \n",
    "    def predict(self):\n",
    "        for key in self.W.keys():\n",
    "            self.keys.append(key)\n",
    "        return self.keys"
   ]
  },
  {
   "cell_type": "code",
   "execution_count": 31,
   "id": "bcf03365-c7cf-46cb-903b-06c1741b61c0",
   "metadata": {},
   "outputs": [
    {
     "data": {
      "text/plain": [
       "<__main__.MultiLayerNet at 0x132f30faf10>"
      ]
     },
     "execution_count": 31,
     "metadata": {},
     "output_type": "execute_result"
    }
   ],
   "source": [
    "x = MultiLayerNet(3,[3,3,4,5,8],10)\n",
    "x"
   ]
  },
  {
   "cell_type": "code",
   "execution_count": 32,
   "id": "36f40add-f3c5-4d72-8746-5ef1aab1832d",
   "metadata": {},
   "outputs": [
    {
     "data": {
      "text/plain": [
       "['Input',\n",
       " 'Input_b',\n",
       " 'W0',\n",
       " 'b0',\n",
       " 'W1',\n",
       " 'b1',\n",
       " 'W2',\n",
       " 'b2',\n",
       " 'W3',\n",
       " 'b3',\n",
       " 'W4',\n",
       " 'b4']"
      ]
     },
     "execution_count": 32,
     "metadata": {},
     "output_type": "execute_result"
    }
   ],
   "source": [
    "x.predict()"
   ]
  },
  {
   "cell_type": "code",
   "execution_count": 33,
   "id": "5ca51e37-32b3-4aa4-b8f7-64176d8bd1a7",
   "metadata": {},
   "outputs": [
    {
     "data": {
      "text/plain": [
       "6"
      ]
     },
     "execution_count": 33,
     "metadata": {},
     "output_type": "execute_result"
    }
   ],
   "source": [
    "int(len(x.W.keys())/2)"
   ]
  },
  {
   "cell_type": "code",
   "execution_count": 34,
   "id": "11d15484-6af4-47a3-806b-03cb87075bf7",
   "metadata": {},
   "outputs": [],
   "source": [
    "#pridict 자동으로 하게 만들기\n",
    "class MultiLayerNet:\n",
    "    def __init__(self,input_size,hidden_size,output_size):\n",
    "        hidden_size.append(output_size)\n",
    "        self.W = {}\n",
    "        self.W['Input'] = np.random.randn(input_size,hidden_size[0])\n",
    "        self.W['Input_b'] = np.random.randn(hidden_size[0])\n",
    "        for i in range(len(hidden_size)-1):\n",
    "            w = 'W'+str(i)\n",
    "            b = 'b'+str(i)\n",
    "            self.W[w] = np.random.randn(hidden_size[i],hidden_size[i+1])\n",
    "            self.W[b] = np.random.randn(hidden_size[i+1])\n",
    "            \n",
    "    def predict(self,x): \n",
    "        j = 0\n",
    "        for i in range(len(self.W)):\n",
    "            if j%2 ==0 and i >= (len(self.W)-2):\n",
    "                x = relu(np.dot(x,self.W[list(self.W.keys())[i]])+self.W[list(self.W.keys())[i+1]])\n",
    "            elif j%2 ==0 and i < (len(self.W)-2):\n",
    "                x = (np.dot(x,self.W[list(self.W.keys())[i]])+self.W[list(self.W.keys())[i+1]])\n",
    "            j += 1\n",
    "        return softmax(x)\n",
    "    \n",
    "    def loss(self):\n",
    "        pass\n",
    "    \n",
    "    def numerical_gradient(self):\n",
    "        pass\n",
    "    \n",
    "    def accuracy(self):\n",
    "        pass\n",
    "    \n",
    "    def fit(self):\n",
    "        pass"
   ]
  },
  {
   "cell_type": "raw",
   "id": "71c56116-9002-427a-a2ca-9070cf65178b",
   "metadata": {},
   "source": [
    "확인"
   ]
  },
  {
   "cell_type": "code",
   "execution_count": 35,
   "id": "ef42d030-5f64-4447-897d-14ea30077b4e",
   "metadata": {
    "tags": []
   },
   "outputs": [
    {
     "ename": "KeyError",
     "evalue": "'Input'",
     "output_type": "error",
     "traceback": [
      "\u001b[1;31m---------------------------------------------------------------------------\u001b[0m",
      "\u001b[1;31mKeyError\u001b[0m                                  Traceback (most recent call last)",
      "\u001b[1;32m~\\AppData\\Local\\Temp/ipykernel_7644/1997218005.py\u001b[0m in \u001b[0;36m<module>\u001b[1;34m\u001b[0m\n\u001b[0;32m      1\u001b[0m \u001b[0mx\u001b[0m \u001b[1;33m=\u001b[0m \u001b[0mnp\u001b[0m\u001b[1;33m.\u001b[0m\u001b[0mrandom\u001b[0m\u001b[1;33m.\u001b[0m\u001b[0mrandn\u001b[0m\u001b[1;33m(\u001b[0m\u001b[1;36m10\u001b[0m\u001b[1;33m,\u001b[0m\u001b[1;36m3\u001b[0m\u001b[1;33m)\u001b[0m\u001b[1;33m\u001b[0m\u001b[1;33m\u001b[0m\u001b[0m\n\u001b[1;32m----> 2\u001b[1;33m \u001b[0mx\u001b[0m \u001b[1;33m=\u001b[0m \u001b[0mnp\u001b[0m\u001b[1;33m.\u001b[0m\u001b[0mdot\u001b[0m\u001b[1;33m(\u001b[0m\u001b[0mx\u001b[0m\u001b[1;33m,\u001b[0m\u001b[0mmodel\u001b[0m\u001b[1;33m.\u001b[0m\u001b[0mW\u001b[0m\u001b[1;33m[\u001b[0m\u001b[1;34m'Input'\u001b[0m\u001b[1;33m]\u001b[0m\u001b[1;33m)\u001b[0m\u001b[1;33m+\u001b[0m\u001b[0mmodel\u001b[0m\u001b[1;33m.\u001b[0m\u001b[0mW\u001b[0m\u001b[1;33m[\u001b[0m\u001b[1;34m'Input_b'\u001b[0m\u001b[1;33m]\u001b[0m\u001b[1;33m\u001b[0m\u001b[1;33m\u001b[0m\u001b[0m\n\u001b[0m\u001b[0;32m      3\u001b[0m \u001b[0mx\u001b[0m \u001b[1;33m=\u001b[0m \u001b[0mnp\u001b[0m\u001b[1;33m.\u001b[0m\u001b[0mdot\u001b[0m\u001b[1;33m(\u001b[0m\u001b[0mx\u001b[0m\u001b[1;33m,\u001b[0m\u001b[0mmodel\u001b[0m\u001b[1;33m.\u001b[0m\u001b[0mW\u001b[0m\u001b[1;33m[\u001b[0m\u001b[1;34m'W1'\u001b[0m\u001b[1;33m]\u001b[0m\u001b[1;33m)\u001b[0m\u001b[1;33m+\u001b[0m\u001b[0mmodel\u001b[0m\u001b[1;33m.\u001b[0m\u001b[0mW\u001b[0m\u001b[1;33m[\u001b[0m\u001b[1;34m'b1'\u001b[0m\u001b[1;33m]\u001b[0m\u001b[1;33m\u001b[0m\u001b[1;33m\u001b[0m\u001b[0m\n\u001b[0;32m      4\u001b[0m \u001b[0mx\u001b[0m \u001b[1;33m=\u001b[0m \u001b[0mnp\u001b[0m\u001b[1;33m.\u001b[0m\u001b[0mdot\u001b[0m\u001b[1;33m(\u001b[0m\u001b[0mx\u001b[0m\u001b[1;33m,\u001b[0m\u001b[0mmodel\u001b[0m\u001b[1;33m.\u001b[0m\u001b[0mW\u001b[0m\u001b[1;33m[\u001b[0m\u001b[1;34m'W2'\u001b[0m\u001b[1;33m]\u001b[0m\u001b[1;33m)\u001b[0m\u001b[1;33m+\u001b[0m\u001b[0mmodel\u001b[0m\u001b[1;33m.\u001b[0m\u001b[0mW\u001b[0m\u001b[1;33m[\u001b[0m\u001b[1;34m'b2'\u001b[0m\u001b[1;33m]\u001b[0m\u001b[1;33m\u001b[0m\u001b[1;33m\u001b[0m\u001b[0m\n\u001b[0;32m      5\u001b[0m \u001b[0mx\u001b[0m \u001b[1;33m=\u001b[0m \u001b[0mnp\u001b[0m\u001b[1;33m.\u001b[0m\u001b[0mdot\u001b[0m\u001b[1;33m(\u001b[0m\u001b[0mx\u001b[0m\u001b[1;33m,\u001b[0m\u001b[0mmodel\u001b[0m\u001b[1;33m.\u001b[0m\u001b[0mW\u001b[0m\u001b[1;33m[\u001b[0m\u001b[1;34m'W3'\u001b[0m\u001b[1;33m]\u001b[0m\u001b[1;33m)\u001b[0m\u001b[1;33m+\u001b[0m\u001b[0mmodel\u001b[0m\u001b[1;33m.\u001b[0m\u001b[0mW\u001b[0m\u001b[1;33m[\u001b[0m\u001b[1;34m'b3'\u001b[0m\u001b[1;33m]\u001b[0m\u001b[1;33m\u001b[0m\u001b[1;33m\u001b[0m\u001b[0m\n",
      "\u001b[1;31mKeyError\u001b[0m: 'Input'"
     ]
    }
   ],
   "source": [
    "x = np.random.randn(10,3)\n",
    "x = np.dot(x,model.W['Input'])+model.W['Input_b']\n",
    "x = np.dot(x,model.W['W1'])+model.W['b1']\n",
    "x = np.dot(x,model.W['W2'])+model.W['b2']\n",
    "x = np.dot(x,model.W['W3'])+model.W['b3']\n",
    "x"
   ]
  },
  {
   "cell_type": "code",
   "execution_count": 36,
   "id": "ca1e9765-6863-412a-9a28-29861234e56c",
   "metadata": {
    "tags": []
   },
   "outputs": [
    {
     "name": "stdout",
     "output_type": "stream",
     "text": [
      "0 1\n",
      "1 2\n",
      "2 3\n",
      "3 4\n",
      "4 5\n",
      "5 6\n",
      "6 7\n",
      "7 8\n",
      "8 9\n",
      "9 10\n"
     ]
    }
   ],
   "source": [
    "[1,2,3]\n",
    "for i in range(10):\n",
    "    print(i, i+1)"
   ]
  },
  {
   "cell_type": "code",
   "execution_count": 37,
   "id": "1686ec81-2f3e-4969-abda-29d42254c834",
   "metadata": {
    "tags": []
   },
   "outputs": [
    {
     "name": "stdout",
     "output_type": "stream",
     "text": [
      "0 1\n",
      "2 3\n",
      "4 5\n",
      "6 7\n",
      "8 9\n"
     ]
    }
   ],
   "source": [
    "j = 0\n",
    "for i in range(10):\n",
    "    if j % 2 == 0:\n",
    "        print(i,i+1)\n",
    "    j += 1"
   ]
  },
  {
   "cell_type": "raw",
   "id": "930afec7-a703-498d-a0df-e100127a02ee",
   "metadata": {},
   "source": [
    "결과_성공"
   ]
  },
  {
   "cell_type": "code",
   "execution_count": 38,
   "id": "9fe4e362-a549-4fd6-914d-a46da099bd5f",
   "metadata": {
    "tags": []
   },
   "outputs": [
    {
     "data": {
      "text/plain": [
       "array([1., 1., 1., 1., 1., 1., 1., 1., 1., 1.])"
      ]
     },
     "execution_count": 38,
     "metadata": {},
     "output_type": "execute_result"
    }
   ],
   "source": [
    "model = MultiLayerNet(3,[3,3,4,5,8],10)\n",
    "model.predict(x).shape\n",
    "np.sum(model.predict(x),axis=1)"
   ]
  },
  {
   "cell_type": "code",
   "execution_count": 39,
   "id": "2a09f007-301a-47ac-9b22-66210bfec932",
   "metadata": {},
   "outputs": [],
   "source": [
    "# predict for문 깔끔하게 고치기 # 혼자 해보래\n",
    "def predict(self,x): \n",
    "    j = 0\n",
    "    for i in range(len(self.W)):\n",
    "        if j%2 ==0 and i >= (len(self.W)-2):\n",
    "            x = relu(np.dot(x,self.W[list(self.W.keys())[i]])+self.W[list(self.W.keys())[i+1]])\n",
    "        elif j%2 ==0 and i < (len(self.W)-2):\n",
    "            x = (np.dot(x,self.W[list(self.W.keys())[i]])+self.W[list(self.W.keys())[i+1]])\n",
    "        j += 1\n",
    "    return softmax(x)"
   ]
  },
  {
   "cell_type": "code",
   "execution_count": 40,
   "id": "e319c29a-27e1-4c8e-92e4-93826b7a991b",
   "metadata": {},
   "outputs": [],
   "source": [
    "# 서버를 만들어 밖에서 접속가능하게 하는거(각 조별로) 할거래"
   ]
  },
  {
   "cell_type": "code",
   "execution_count": 41,
   "id": "4f0c29d3-34ce-4ff4-ba37-4a11f33f63a4",
   "metadata": {},
   "outputs": [
    {
     "data": {
      "text/plain": [
       "array([[0.27800979, 0.30724834, 0.41474187]])"
      ]
     },
     "execution_count": 41,
     "metadata": {},
     "output_type": "execute_result"
    }
   ],
   "source": [
    "def prob(x):\n",
    "    return x/np.sum(x)\n",
    "\n",
    "x = np.array([[3,4,7]])\n",
    "prob(x)\n",
    "softmax(x)\n",
    "\n",
    "x = np.array([[.3,.4,.7]])\n",
    "prob(x)\n",
    "softmax(x)\n",
    "\n",
    "#확률값이 prob이 좋은데 softmax쓰는 이유: 속도 문제로 수치가 아니라 해석적=식을 직접 써넣어주는것 >> prob에선 값이 안나옴 >> activ function 4개 (relu,sigmoid,softmax,weight)를 미분"
   ]
  },
  {
   "cell_type": "code",
   "execution_count": 42,
   "id": "aed3fb92-b704-4382-8092-5c6058e056dd",
   "metadata": {},
   "outputs": [],
   "source": [
    "#나머지 채우기\n",
    "class MultiLayerNet:\n",
    "    def __init__(self,input_size,hidden_size,output_size):\n",
    "        hidden_size.append(output_size)\n",
    "        self.W = {}\n",
    "        self.W['Input'] = np.random.randn(input_size,hidden_size[0])\n",
    "        self.W['Input_b'] = np.random.randn(hidden_size[0])\n",
    "        for i in range(1,len(hidden_size)-1):\n",
    "            w = 'W'+str(i)\n",
    "            b = 'b'+str(i)\n",
    "            self.W[w] = np.random.randn(hidden_size[i],hidden_size[i+1])\n",
    "            self.W[b] = np.random.randn(hidden_size[i+1])\n",
    "            \n",
    "    def predict(self,x): \n",
    "        j = 0\n",
    "        for i in range(len(self.W)):\n",
    "            if j%2 ==0 and i >= (len(self.W)-2):\n",
    "                x = relu(np.dot(x,self.W[list(self.W.keys())[i]])+self.W[list(self.W.keys())[i+1]])\n",
    "            elif j%2 ==0 and i < (len(self.W)-2):\n",
    "                x = (np.dot(x,self.W[list(self.W.keys())[i]])+self.W[list(self.W.keys())[i+1]])\n",
    "            j += 1\n",
    "        return softmax(x)\n",
    "    \n",
    "    def loss(self,x,t):\n",
    "        y = self.predict(x)\n",
    "        return cross_entropy_error(y,t)\n",
    "    \n",
    "    def numerical_gradient(self,x,t):\n",
    "        f = lambda W: self.loss(x,t) #10,10에대한 값이 나옴, w가 각각에 대해 가중치를 주는 계산을 함, 그 값을 원래값에서 빼주고 다시 반복. ???\n",
    "        grads = {}\n",
    "        for key in self.W.keys():\n",
    "            grads[key] = numerical_gradient(f,self.W[key])\n",
    "        return grads\n",
    "    \n",
    "    def accuracy(self,x,t):\n",
    "        for i in range(len(self.W)):\n",
    "            y = np.argmax(self.predict(x),axis=1)\n",
    "            t = np.argmax(t,axis=1)\n",
    "            acc = np.sum(y==t)/y.size\n",
    "        return acc\n",
    "\n",
    "    def fit(self,epochs,lr,x,verbos=1):\n",
    "        for epoch in range(epochs):\n",
    "            for key in self.W.keys():\n",
    "                self.W[key] -= lr*self.numerical_gradient(x,t)[key]\n",
    "            if verbos == 1:\n",
    "                print(epoch,\":epoch==========accuracy:\",self.accuracy(x,t),\"=========loss:\",self.loss(x,t))\n",
    "                "
   ]
  },
  {
   "cell_type": "code",
   "execution_count": 43,
   "id": "c1324e7c-b1a9-4950-8057-43386ee62928",
   "metadata": {},
   "outputs": [],
   "source": [
    "# numerical_gradient 확인"
   ]
  },
  {
   "cell_type": "code",
   "execution_count": 44,
   "id": "0c52ad8e-01d6-4f65-9393-8e39b3f4db4a",
   "metadata": {},
   "outputs": [],
   "source": [
    "model = MultiLayerNet(3,[3,3,4,5,8],10)\n",
    "y = np.random.randint(10,size = 100)\n",
    "t = make_one(y)\n",
    "t.shape\n",
    "x = np.random.randn(100,3)"
   ]
  },
  {
   "cell_type": "code",
   "execution_count": 45,
   "id": "917ba93a-be86-4305-ba63-449688f5c2f2",
   "metadata": {
    "tags": []
   },
   "outputs": [
    {
     "data": {
      "text/plain": [
       "{'Input': array([[ 0.02163377, -0.95929425, -0.59812524],\n",
       "        [ 0.4583349 , -0.98136498, -0.78938548],\n",
       "        [-0.27530737, -0.17071671,  0.03614558]]),\n",
       " 'Input_b': array([ 2.51319409e-09, -3.11990122e-09, -3.88513248e-09]),\n",
       " 'W1': array([[ 0.38606425,  1.50493246,  1.53385294,  0.66899161],\n",
       "        [ 0.19381513,  0.60418555,  0.16622014,  0.44631735],\n",
       "        [-0.05012152,  0.09137688,  0.50076088, -0.1065254 ]]),\n",
       " 'b1': array([-1.15052858e-09, -3.11613779e-09, -4.32438864e-09, -5.97745810e-10]),\n",
       " 'W2': array([[-0.22491169,  1.115494  , -1.32308021,  1.04583489, -1.53247536],\n",
       "        [-0.19852352,  0.86404151, -1.05720838,  0.81578764, -1.20943449],\n",
       "        [ 0.05901357, -0.71966449,  0.99447106, -0.69784832,  1.13029586],\n",
       "        [ 0.28352627, -0.57157462,  0.46417333, -0.48702848,  0.55467988]]),\n",
       " 'b2': array([ 7.75156689e-10, -1.23485217e-09,  1.09924258e-09, -1.07831679e-09,\n",
       "         1.24914873e-09]),\n",
       " 'W3': array([[-0.13477407, -0.08118259,  0.16771743, -0.77382721, -0.09561605,\n",
       "         -0.34808188,  0.18598494, -0.08362593],\n",
       "        [-0.10420257,  0.37086142,  0.34444401, -1.3255804 , -0.0296975 ,\n",
       "         -0.26035669,  0.21918986, -0.16187068],\n",
       "        [ 0.10548572,  0.69514002,  0.57405564, -1.73852765,  0.33163985,\n",
       "          0.0797973 ,  0.45497426, -0.16723128],\n",
       "        [ 0.33058359,  0.69260726,  0.37130381, -0.81418188,  0.50378679,\n",
       "          0.48714749,  0.29767261, -0.07063621],\n",
       "        [ 0.07543159,  0.15523126,  0.14641265, -0.34504023,  0.16128968,\n",
       "          0.11113477,  0.14815847, -0.01610905]]),\n",
       " 'b3': array([-3.53025342e-10, -1.74138149e-10,  1.32277658e-10, -6.06444567e-10,\n",
       "        -2.51475917e-10, -4.14809924e-10,  1.04806314e-10, -1.39571397e-11]),\n",
       " 'W4': array([[ 1.85537196e-02, -2.18307103e-02,  3.01992735e-02,\n",
       "          1.85738894e-02, -5.93903216e-02,  7.66905053e-02,\n",
       "          3.55271368e-11, -1.05561249e-05, -5.42789169e-02,\n",
       "          4.50782236e-02],\n",
       "        [-4.89910917e-03,  2.33808267e-02, -3.69220138e-02,\n",
       "         -4.14696793e-02,  8.84867845e-02, -1.07966391e-01,\n",
       "          0.00000000e+00,  3.37559847e-05,  8.57376095e-02,\n",
       "         -6.94908218e-02],\n",
       "        [-8.96752920e-01,  5.36014327e-02, -1.13869598e-01,\n",
       "          2.30605858e+00,  2.48895448e-01, -3.25665817e-01,\n",
       "         -7.10542736e-11,  5.83617066e-05, -3.91478997e-01,\n",
       "         -9.81192382e-01],\n",
       "        [-1.62999923e-01,  3.87157476e-02, -4.47350626e-02,\n",
       "          1.74381224e-01,  2.75671969e-02, -7.84782730e-02,\n",
       "         -3.55271368e-11, -5.58980773e-05,  4.11857705e-02,\n",
       "         -7.44455102e-02],\n",
       "        [ 1.43838801e-01,  1.52276814e-01, -1.62752256e-01,\n",
       "         -1.14090384e+00,  1.79605047e-01, -3.04769855e-01,\n",
       "         -1.06581410e-10, -1.09054969e-04,  5.26984315e-01,\n",
       "          2.54854038e-01],\n",
       "        [-3.36190627e-01, -3.96220771e-02,  4.23910355e-02,\n",
       "          1.03342885e+00, -8.82857604e-02,  1.05373668e-01,\n",
       "          0.00000000e+00, -2.68442513e-05, -3.40101292e-01,\n",
       "         -2.61409989e-01],\n",
       "        [ 3.08686970e-01, -6.76811830e-02,  8.96167474e-02,\n",
       "         -4.94958823e-01, -1.19387842e-01,  1.94999943e-01,\n",
       "          8.88178420e-11,  3.88986976e-05, -2.42851959e-02,\n",
       "          2.57395508e-01],\n",
       "        [-1.20464203e-01, -3.39188178e-02,  3.69560832e-02,\n",
       "          4.37297596e-01, -6.19161259e-02,  7.88997455e-02,\n",
       "          3.55271368e-11,  1.15107923e-08, -1.53901144e-01,\n",
       "         -9.77768689e-02]]),\n",
       " 'b4': array([ 1.01205551e-10, -9.98888519e-11,  1.06401644e-10,  1.36993072e-10,\n",
       "        -1.13869389e-10,  1.79447692e-10,  8.88178420e-20,  8.90826080e-14,\n",
       "        -1.05703314e-10,  6.97001603e-12])}"
      ]
     },
     "execution_count": 45,
     "metadata": {},
     "output_type": "execute_result"
    }
   ],
   "source": [
    "model.numerical_gradient(x,t)"
   ]
  },
  {
   "cell_type": "raw",
   "id": "5c2d8bba-ead2-4032-a233-80fc1e64cdcc",
   "metadata": {},
   "source": [
    "model.W['Input'] = model.W['Input'] - 1e-3*model.numerical_gradient(x,t)['Input']"
   ]
  },
  {
   "cell_type": "code",
   "execution_count": 50,
   "id": "701432a7-09aa-404c-b6b3-c796219baf25",
   "metadata": {
    "tags": []
   },
   "outputs": [],
   "source": [
    "x = np.random.randn(100,3)\n",
    "model.fit(100,1e-3,x,2)"
   ]
  },
  {
   "cell_type": "code",
   "execution_count": null,
   "id": "709cfb90-d5d1-4848-83a4-449374b6f469",
   "metadata": {},
   "outputs": [],
   "source": []
  },
  {
   "cell_type": "code",
   "execution_count": null,
   "id": "22b34dbd-e261-4a1e-a66c-cb98d619c4e3",
   "metadata": {},
   "outputs": [],
   "source": []
  }
 ],
 "metadata": {
  "kernelspec": {
   "display_name": "Python 3 (ipykernel)",
   "language": "python",
   "name": "python3"
  },
  "language_info": {
   "codemirror_mode": {
    "name": "ipython",
    "version": 3
   },
   "file_extension": ".py",
   "mimetype": "text/x-python",
   "name": "python",
   "nbconvert_exporter": "python",
   "pygments_lexer": "ipython3",
   "version": "3.9.7"
  }
 },
 "nbformat": 4,
 "nbformat_minor": 5
}
