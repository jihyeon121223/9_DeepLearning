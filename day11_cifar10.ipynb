{
 "cells": [
  {
   "cell_type": "raw",
   "id": "9ced8a7e-ce6a-470b-8a95-b7458ec53446",
   "metadata": {},
   "source": [
    "https://paperswithcode.com/sota/image-classification-on-cifar-10"
   ]
  },
  {
   "cell_type": "code",
   "execution_count": 10,
   "id": "b73fe37b-2bdc-48cc-adf2-5a14f30ffda5",
   "metadata": {},
   "outputs": [],
   "source": [
    "from keras.datasets import cifar10\n",
    "from keras.models import Sequential\n",
    "from keras.layers import Dense, Dropout, BatchNormalization\n",
    "from keras.utils.np_utils import to_categorical\n",
    "import matplotlib.pyplot as plt"
   ]
  },
  {
   "cell_type": "code",
   "execution_count": 3,
   "id": "8e425630-2af5-4c6a-b8d7-34f3696e092c",
   "metadata": {},
   "outputs": [
    {
     "name": "stdout",
     "output_type": "stream",
     "text": [
      "Downloading data from https://www.cs.toronto.edu/~kriz/cifar-10-python.tar.gz\n",
      "170500096/170498071 [==============================] - 192s 1us/step\n",
      "170508288/170498071 [==============================] - 192s 1us/step\n"
     ]
    }
   ],
   "source": [
    "(X_train,y_train),(X_test,y_test)=cifar10.load_data()"
   ]
  },
  {
   "cell_type": "code",
   "execution_count": 7,
   "id": "279d52b7-004a-4227-9289-86614f2e4a6f",
   "metadata": {},
   "outputs": [
    {
     "data": {
      "text/plain": [
       "<matplotlib.image.AxesImage at 0x2747eafefd0>"
      ]
     },
     "execution_count": 7,
     "metadata": {},
     "output_type": "execute_result"
    },
    {
     "data": {
      "image/png": "[encoded data removed]",
      "text/plain": [
       "<Figure size 432x288 with 1 Axes>"
      ]
     },
     "metadata": {
      "needs_background": "light"
     },
     "output_type": "display_data"
    }
   ],
   "source": [
    "#확인\n",
    "X_train.shape #2차원이니깐 1차원으로 만들어줘야 함\n",
    "X_train[0]\n",
    "y_train[0]\n",
    "plt.imshow(X_train[0])"
   ]
  },
  {
   "cell_type": "code",
   "execution_count": 11,
   "id": "04f393de-57f9-44bb-98b3-f6ba58122084",
   "metadata": {},
   "outputs": [],
   "source": [
    "X_train = X_train.reshape(-1,X_train.shape[1]*X_train.shape[2]*X_train.shape[3]) #가로*세로*깊이\n",
    "X_test = X_test.reshape(-1,X_test.shape[1]*X_test.shape[2]*X_test.shape[3])\n",
    "y_train = to_categorical(y_train)\n",
    "y_test = to_categorical(y_test)"
   ]
  },
  {
   "cell_type": "code",
   "execution_count": 12,
   "id": "cc0259df-4d5e-442c-839c-1851f77fd6c0",
   "metadata": {},
   "outputs": [],
   "source": [
    "input_shape = X_train.shape[1]\n",
    "output_shape = y_train.shape[1]\n",
    "\n",
    "model = Sequential()\n",
    "model.add(Dense(1024,activation='relu',input_shape=(input_shape,)))\n",
    "model.add(Dense(2048,activation='relu'))\n",
    "model.add(Dense(2024,activation='relu'))\n",
    "model.add(Dense(512,activation='relu'))\n",
    "model.add(Dense(output_shape,activation='softmax'))"
   ]
  },
  {
   "cell_type": "code",
   "execution_count": 13,
   "id": "4c1d7e86-cd3b-4b54-9ada-32f92352a1bf",
   "metadata": {},
   "outputs": [],
   "source": [
    "optimizer=\"adam\"\n",
    "loss=\"categorical_crossentropy\"\n",
    "metrics=[\"accuracy\"]\n",
    "model.compile(optimizer=optimizer,\n",
    "                      loss=loss,\n",
    "                      metrics=metrics)"
   ]
  },
  {
   "cell_type": "code",
   "execution_count": 14,
   "id": "17e5ce5e-01c5-467b-a627-ac33ab76b35b",
   "metadata": {},
   "outputs": [
    {
     "name": "stdout",
     "output_type": "stream",
     "text": [
      "Epoch 1/20\n",
      "125/125 [==============================] - 13s 105ms/step - loss: 70.3773 - accuracy: 0.0993\n",
      "Epoch 2/20\n",
      "125/125 [==============================] - 13s 106ms/step - loss: 2.3032 - accuracy: 0.0997\n",
      "Epoch 3/20\n",
      "125/125 [==============================] - 13s 103ms/step - loss: 2.3024 - accuracy: 0.0963\n",
      "Epoch 4/20\n",
      "125/125 [==============================] - 13s 106ms/step - loss: 2.3023 - accuracy: 0.0989\n",
      "Epoch 5/20\n",
      "125/125 [==============================] - 14s 111ms/step - loss: 2.3021 - accuracy: 0.0991\n",
      "Epoch 6/20\n",
      "125/125 [==============================] - 13s 105ms/step - loss: 2.3020 - accuracy: 0.0957\n",
      "Epoch 7/20\n",
      "125/125 [==============================] - 13s 102ms/step - loss: 2.3021 - accuracy: 0.0986\n",
      "Epoch 8/20\n",
      "125/125 [==============================] - 13s 100ms/step - loss: 2.3019 - accuracy: 0.0963\n",
      "Epoch 9/20\n",
      "125/125 [==============================] - 13s 101ms/step - loss: 2.3021 - accuracy: 0.0976\n",
      "Epoch 10/20\n",
      "125/125 [==============================] - 13s 101ms/step - loss: 2.3020 - accuracy: 0.0977\n",
      "Epoch 11/20\n",
      "125/125 [==============================] - 12s 99ms/step - loss: 2.3018 - accuracy: 0.0998\n",
      "Epoch 12/20\n",
      "125/125 [==============================] - 13s 101ms/step - loss: 2.3017 - accuracy: 0.0998\n",
      "Epoch 13/20\n",
      "125/125 [==============================] - 13s 101ms/step - loss: 2.3021 - accuracy: 0.0973\n",
      "Epoch 14/20\n",
      "125/125 [==============================] - 13s 104ms/step - loss: 2.3025 - accuracy: 0.0976\n",
      "Epoch 15/20\n",
      "125/125 [==============================] - 13s 104ms/step - loss: 2.3023 - accuracy: 0.0968\n",
      "Epoch 16/20\n",
      "125/125 [==============================] - 13s 104ms/step - loss: 2.3023 - accuracy: 0.0979\n",
      "Epoch 17/20\n",
      "125/125 [==============================] - 13s 106ms/step - loss: 2.3023 - accuracy: 0.0965\n",
      "Epoch 18/20\n",
      "125/125 [==============================] - 13s 104ms/step - loss: 2.3023 - accuracy: 0.0985\n",
      "Epoch 19/20\n",
      "125/125 [==============================] - 13s 101ms/step - loss: 2.3023 - accuracy: 0.0982\n",
      "Epoch 20/20\n",
      "125/125 [==============================] - 13s 101ms/step - loss: 2.3023 - accuracy: 0.0964\n"
     ]
    },
    {
     "data": {
      "text/plain": [
       "<keras.callbacks.History at 0x2747f638250>"
      ]
     },
     "execution_count": 14,
     "metadata": {},
     "output_type": "execute_result"
    }
   ],
   "source": [
    "epochs = 20\n",
    "batch_size = 400\n",
    "model.fit(X_train,\n",
    "         y_train,\n",
    "         epochs=epochs,\n",
    "         batch_size=batch_size)"
   ]
  },
  {
   "cell_type": "code",
   "execution_count": 18,
   "id": "193b637d-034e-4e92-8758-2dfab552c99c",
   "metadata": {},
   "outputs": [
    {
     "name": "stdout",
     "output_type": "stream",
     "text": [
      "313/313 [==============================] - 3s 9ms/step - loss: 3.5168 - accuracy: 0.4763\n"
     ]
    },
    {
     "data": {
      "text/plain": [
       "[3.516845703125, 0.4763000011444092]"
      ]
     },
     "execution_count": 18,
     "metadata": {},
     "output_type": "execute_result"
    }
   ],
   "source": [
    "model.evaluate(X_test,y_test)"
   ]
  },
  {
   "cell_type": "code",
   "execution_count": null,
   "id": "55bcf675-0339-4e1e-9b5a-7af6f10c93a8",
   "metadata": {},
   "outputs": [],
   "source": []
  },
  {
   "cell_type": "code",
   "execution_count": null,
   "id": "5387e173-b368-484d-872a-92cb9b7dfc60",
   "metadata": {},
   "outputs": [],
   "source": []
  },
  {
   "cell_type": "code",
   "execution_count": 15,
   "id": "dba95b44-03ea-4954-8158-dafa21533f19",
   "metadata": {},
   "outputs": [
    {
     "name": "stdout",
     "output_type": "stream",
     "text": [
      "Epoch 1/20\n",
      "250/250 [==============================] - 22s 86ms/step - loss: 1.7393 - accuracy: 0.3828\n",
      "Epoch 2/20\n",
      "250/250 [==============================] - 21s 84ms/step - loss: 1.5234 - accuracy: 0.4557\n",
      "Epoch 3/20\n",
      "250/250 [==============================] - 21s 83ms/step - loss: 1.4210 - accuracy: 0.4903\n",
      "Epoch 4/20\n",
      "250/250 [==============================] - 21s 84ms/step - loss: 1.3424 - accuracy: 0.5194\n",
      "Epoch 5/20\n",
      "250/250 [==============================] - 21s 84ms/step - loss: 1.2613 - accuracy: 0.5501\n",
      "Epoch 6/20\n",
      "250/250 [==============================] - 21s 84ms/step - loss: 1.1986 - accuracy: 0.5723\n",
      "Epoch 7/20\n",
      "250/250 [==============================] - 21s 84ms/step - loss: 1.1211 - accuracy: 0.5964\n",
      "Epoch 8/20\n",
      "250/250 [==============================] - 21s 84ms/step - loss: 1.0528 - accuracy: 0.6217\n",
      "Epoch 9/20\n",
      "250/250 [==============================] - 21s 84ms/step - loss: 0.9804 - accuracy: 0.6476\n",
      "Epoch 10/20\n",
      "250/250 [==============================] - 21s 84ms/step - loss: 0.8988 - accuracy: 0.6765\n",
      "Epoch 11/20\n",
      "250/250 [==============================] - 21s 84ms/step - loss: 0.8137 - accuracy: 0.7037\n",
      "Epoch 12/20\n",
      "250/250 [==============================] - 21s 84ms/step - loss: 0.7272 - accuracy: 0.7346\n",
      "Epoch 13/20\n",
      "250/250 [==============================] - 22s 88ms/step - loss: 0.6180 - accuracy: 0.7779\n",
      "Epoch 14/20\n",
      "250/250 [==============================] - 21s 84ms/step - loss: 0.5266 - accuracy: 0.8078\n",
      "Epoch 15/20\n",
      "250/250 [==============================] - 21s 83ms/step - loss: 0.4213 - accuracy: 0.8495\n",
      "Epoch 16/20\n",
      "250/250 [==============================] - 21s 86ms/step - loss: 0.3366 - accuracy: 0.8796\n",
      "Epoch 17/20\n",
      "250/250 [==============================] - 21s 84ms/step - loss: 0.2845 - accuracy: 0.8984\n",
      "Epoch 18/20\n",
      "250/250 [==============================] - 21s 84ms/step - loss: 0.2267 - accuracy: 0.9216\n",
      "Epoch 19/20\n",
      "250/250 [==============================] - 21s 86ms/step - loss: 0.1922 - accuracy: 0.9328\n",
      "Epoch 20/20\n",
      "250/250 [==============================] - 21s 86ms/step - loss: 0.1738 - accuracy: 0.9395\n"
     ]
    },
    {
     "data": {
      "text/plain": [
       "<keras.callbacks.History at 0x2741ed92fa0>"
      ]
     },
     "execution_count": 15,
     "metadata": {},
     "output_type": "execute_result"
    }
   ],
   "source": [
    "#BatchNormalization추가 해서 돌려보기\n",
    "\n",
    "input_shape = X_train.shape[1]\n",
    "output_shape = y_train.shape[1]\n",
    "\n",
    "model = Sequential()\n",
    "model.add(Dense(1024,activation='relu',input_shape=(input_shape,)))\n",
    "model.add(BatchNormalization())\n",
    "model.add(Dense(2048,activation='relu'))\n",
    "model.add(Dense(2024,activation='relu'))\n",
    "model.add(Dense(512,activation='relu'))\n",
    "model.add(Dense(output_shape,activation='softmax'))\n",
    "\n",
    "optimizer=\"adam\"\n",
    "loss=\"categorical_crossentropy\"\n",
    "metrics=[\"accuracy\"]\n",
    "model.compile(optimizer=optimizer,\n",
    "                      loss=loss,\n",
    "                      metrics=metrics)\n",
    "\n",
    "epochs = 20\n",
    "batch_size = 200\n",
    "model.fit(X_train,\n",
    "         y_train,\n",
    "         epochs=epochs,\n",
    "         batch_size=batch_size)"
   ]
  },
  {
   "cell_type": "code",
   "execution_count": 24,
   "id": "7ebdbef4-b9c4-4592-ab7c-2685501365b8",
   "metadata": {},
   "outputs": [
    {
     "name": "stdout",
     "output_type": "stream",
     "text": [
      "Epoch 1/20\n",
      "100/100 [==============================] - 11s 106ms/step - loss: 83.0610 - accuracy: 0.2245\n",
      "Epoch 2/20\n",
      "100/100 [==============================] - 11s 108ms/step - loss: 1.8346 - accuracy: 0.3376\n",
      "Epoch 3/20\n",
      "100/100 [==============================] - 11s 107ms/step - loss: 1.7418 - accuracy: 0.3742\n",
      "Epoch 4/20\n",
      "100/100 [==============================] - 11s 106ms/step - loss: 1.6854 - accuracy: 0.3927\n",
      "Epoch 5/20\n",
      "100/100 [==============================] - 11s 106ms/step - loss: 1.6395 - accuracy: 0.4099\n",
      "Epoch 6/20\n",
      "100/100 [==============================] - 11s 106ms/step - loss: 1.5881 - accuracy: 0.4297\n",
      "Epoch 7/20\n",
      "100/100 [==============================] - 11s 108ms/step - loss: 1.5552 - accuracy: 0.4414\n",
      "Epoch 8/20\n",
      "100/100 [==============================] - 11s 106ms/step - loss: 1.5132 - accuracy: 0.4568\n",
      "Epoch 9/20\n",
      "100/100 [==============================] - 11s 108ms/step - loss: 1.4832 - accuracy: 0.4687\n",
      "Epoch 10/20\n",
      "100/100 [==============================] - 11s 113ms/step - loss: 1.4473 - accuracy: 0.4792\n",
      "Epoch 11/20\n",
      "100/100 [==============================] - 11s 108ms/step - loss: 1.4250 - accuracy: 0.4872\n",
      "Epoch 12/20\n",
      "100/100 [==============================] - 11s 105ms/step - loss: 1.3923 - accuracy: 0.4988\n",
      "Epoch 13/20\n",
      "100/100 [==============================] - 11s 106ms/step - loss: 1.3562 - accuracy: 0.5131\n",
      "Epoch 14/20\n",
      "100/100 [==============================] - 11s 106ms/step - loss: 1.3406 - accuracy: 0.5197\n",
      "Epoch 15/20\n",
      "100/100 [==============================] - 11s 105ms/step - loss: 1.3088 - accuracy: 0.5291\n",
      "Epoch 16/20\n",
      "100/100 [==============================] - 10s 105ms/step - loss: 1.2744 - accuracy: 0.5417\n",
      "Epoch 17/20\n",
      "100/100 [==============================] - 11s 107ms/step - loss: 1.2424 - accuracy: 0.5533\n",
      "Epoch 18/20\n",
      "100/100 [==============================] - 11s 106ms/step - loss: 1.2232 - accuracy: 0.5568\n",
      "Epoch 19/20\n",
      "100/100 [==============================] - 10s 105ms/step - loss: 1.1926 - accuracy: 0.5689\n",
      "Epoch 20/20\n",
      "100/100 [==============================] - 10s 105ms/step - loss: 1.1500 - accuracy: 0.5855\n"
     ]
    },
    {
     "data": {
      "text/plain": [
       "<keras.callbacks.History at 0x27422af8f40>"
      ]
     },
     "execution_count": 24,
     "metadata": {},
     "output_type": "execute_result"
    }
   ],
   "source": [
    "#모델을 나눠서 돌려보기\n",
    "from sklearn.model_selection import train_test_split\n",
    "\n",
    "(X_train,y_train),(X_test,y_test)=cifar10.load_data()\n",
    "\n",
    "X_train = X_train.reshape(-1,X_train.shape[1]*X_train.shape[2]*X_train.shape[3])\n",
    "X_test = X_test.reshape(-1,X_test.shape[1]*X_test.shape[2]*X_test.shape[3])\n",
    "y_train = to_categorical(y_train)\n",
    "y_test = to_categorical(y_test)\n",
    "X_train,X_test,y_train,y_test = train_test_split(X_train,y_train,test_size=.2)\n",
    "\n",
    "input_shape = X_train.shape[1]\n",
    "output_shape = y_train.shape[1]\n",
    "\n",
    "model = Sequential()\n",
    "model.add(Dense(1024,activation='relu',input_shape=(input_shape,)))\n",
    "model.add(Dense(2048,activation='relu'))\n",
    "model.add(Dense(2024,activation='relu'))\n",
    "model.add(Dense(512,activation='relu'))\n",
    "model.add(Dense(output_shape,activation='softmax'))\n",
    "\n",
    "optimizer=\"adam\"\n",
    "loss=\"categorical_crossentropy\"\n",
    "metrics=[\"accuracy\"]\n",
    "model.compile(optimizer=optimizer,\n",
    "                      loss=loss,\n",
    "                      metrics=metrics)\n",
    "\n",
    "epochs = 20\n",
    "batch_size = 400\n",
    "model.fit(X_train,\n",
    "         y_train,\n",
    "         epochs=epochs,\n",
    "         batch_size=batch_size)"
   ]
  },
  {
   "cell_type": "code",
   "execution_count": null,
   "id": "dfc96512-aacb-4d85-b444-1f766b215a66",
   "metadata": {},
   "outputs": [],
   "source": []
  },
  {
   "cell_type": "code",
   "execution_count": null,
   "id": "cbc09e78-bb8c-4997-89ae-430729c607b7",
   "metadata": {},
   "outputs": [],
   "source": []
  },
  {
   "cell_type": "code",
   "execution_count": null,
   "id": "498f18af-194d-4449-aea9-60ed38188b46",
   "metadata": {},
   "outputs": [],
   "source": []
  },
  {
   "cell_type": "code",
   "execution_count": null,
   "id": "44f4480b-a997-4890-957c-8ecb4c1cd4a7",
   "metadata": {},
   "outputs": [],
   "source": []
  },
  {
   "cell_type": "code",
   "execution_count": null,
   "id": "07b21f53-4e92-4811-9392-90ab66182177",
   "metadata": {},
   "outputs": [],
   "source": []
  }
 ],
 "metadata": {
  "kernelspec": {
   "display_name": "Python 3 (ipykernel)",
   "language": "python",
   "name": "python3"
  },
  "language_info": {
   "codemirror_mode": {
    "name": "ipython",
    "version": 3
   },
   "file_extension": ".py",
   "mimetype": "text/x-python",
   "name": "python",
   "nbconvert_exporter": "python",
   "pygments_lexer": "ipython3",
   "version": "3.9.7"
  }
 },
 "nbformat": 4,
 "nbformat_minor": 5
}
