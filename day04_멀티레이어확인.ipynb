{
 "cells": [
  {
   "cell_type": "code",
   "execution_count": 1,
   "id": "b718d74d-0e71-4efc-a105-a03f01edf28d",
   "metadata": {},
   "outputs": [],
   "source": [
    "# 만든 layers 다층 써보기"
   ]
  },
  {
   "cell_type": "code",
   "execution_count": 1,
   "id": "185d5306-a425-4439-84f4-a57d3faf5e9e",
   "metadata": {},
   "outputs": [],
   "source": [
    "import numpy as np"
   ]
  },
  {
   "cell_type": "code",
   "execution_count": 2,
   "id": "bbba2055-e2b5-4828-8ae8-1226dc7ff96b",
   "metadata": {},
   "outputs": [],
   "source": [
    "from sklearn.datasets import load_digits\n",
    "from layers import MultiLayerNet"
   ]
  },
  {
   "cell_type": "code",
   "execution_count": 3,
   "id": "93571789-3749-4421-8eef-2a3a23ef69a9",
   "metadata": {},
   "outputs": [],
   "source": [
    "X = load_digits()['data']\n",
    "y = load_digits()['target']"
   ]
  },
  {
   "cell_type": "code",
   "execution_count": 4,
   "id": "74c441ee-eab4-4355-825f-1d4b0cd063a9",
   "metadata": {},
   "outputs": [],
   "source": [
    "def make_one(x):\n",
    "    if x.ndim == 2:\n",
    "        x = np.ravel(x.values)\n",
    "    t = np.zeros((x.size,np.unique(x).size))\n",
    "    for i in range(t.shape[0]):\n",
    "        t[i,x[i]] = 1\n",
    "    return t"
   ]
  },
  {
   "cell_type": "code",
   "execution_count": 5,
   "id": "2a5dcbe6-4a45-4efa-a66b-7a128abddcd5",
   "metadata": {},
   "outputs": [
    {
     "data": {
      "text/plain": [
       "10"
      ]
     },
     "execution_count": 5,
     "metadata": {},
     "output_type": "execute_result"
    }
   ],
   "source": [
    "t = make_one(y)\n",
    "t.shape[1]"
   ]
  },
  {
   "cell_type": "code",
   "execution_count": 7,
   "id": "354010f7-b99c-42b3-81f8-406db39936de",
   "metadata": {},
   "outputs": [],
   "source": [
    "input_size = X.shape[1]\n",
    "output_size = t.shape[1]\n",
    "hidden_size = [8,6,3]\n",
    "model = MultiLayerNet(input_size,hidden_size,output_size)"
   ]
  },
  {
   "cell_type": "code",
   "execution_count": 8,
   "id": "38f6d0eb-9b52-4da3-b8f4-9a8067c8e4b5",
   "metadata": {
    "tags": []
   },
   "outputs": [
    {
     "data": {
      "text/plain": [
       "array([[ -39.48854995,    2.66256585,  -53.89844883, ...,  -70.57075179,\n",
       "          31.26848883,   -8.04015818],\n",
       "       [  -7.83515223,   52.51935378,  -58.80769707, ...,  -42.9233625 ,\n",
       "          57.77743787,   -7.93798428],\n",
       "       [  -4.81043642,  -14.85951812, -115.76457721, ...,  -97.29930742,\n",
       "         142.45025934,   78.12788111],\n",
       "       ...,\n",
       "       [ -34.96595541,   54.71105366, -109.3189044 , ...,  -65.42086312,\n",
       "          65.17435092,   -5.61736677],\n",
       "       [ -81.93787364,   -8.35919048,  -49.57516656, ..., -121.37365131,\n",
       "          24.98083799,   -0.26240632],\n",
       "       [ -57.96038052,   37.98828474, -107.50542808, ...,  -64.6970012 ,\n",
       "          70.24527313,   -6.73323818]])"
      ]
     },
     "execution_count": 8,
     "metadata": {},
     "output_type": "execute_result"
    }
   ],
   "source": [
    "np.dot(X,model.W['Input'])"
   ]
  },
  {
   "cell_type": "code",
   "execution_count": 10,
   "id": "f64ee411-b31e-491f-a8c9-a07b240701e1",
   "metadata": {
    "tags": []
   },
   "outputs": [
    {
     "name": "stdout",
     "output_type": "stream",
     "text": [
      "Wall time: 0 ns\n",
      "0 :epoch============== accuracy:  0.11630495269894268 ==========loss : 11.826765247622449\n",
      "1 :epoch============== accuracy:  0.11630495269894268 ==========loss : 11.765218133765694\n",
      "2 :epoch============== accuracy:  0.11630495269894268 ==========loss : 11.701419258351535\n",
      "3 :epoch============== accuracy:  0.11741791875347801 ==========loss : 11.635275176597789\n",
      "4 :epoch============== accuracy:  0.11686143572621036 ==========loss : 11.567096417230168\n"
     ]
    }
   ],
   "source": [
    "%time\n",
    "lr = 1e-3\n",
    "epochs = 5\n",
    "\n",
    "model.fit(epochs,lr,X,t)"
   ]
  },
  {
   "cell_type": "code",
   "execution_count": 11,
   "id": "b75b75f8-d920-4d21-8de8-ba6633176be8",
   "metadata": {},
   "outputs": [],
   "source": [
    "#레이어스 페이지_ 멀티레이어 각자 알아서 고치기\n",
    "#투레이어넷도"
   ]
  },
  {
   "cell_type": "code",
   "execution_count": 12,
   "id": "47736130-2be1-4c87-b843-753f1ba86f21",
   "metadata": {},
   "outputs": [],
   "source": [
    "#아이리스데이터로 돌려보기"
   ]
  },
  {
   "cell_type": "code",
   "execution_count": 6,
   "id": "06784201-e206-4a8c-8a47-0a43840e479e",
   "metadata": {},
   "outputs": [
    {
     "name": "stdout",
     "output_type": "stream",
     "text": [
      "Wall time: 0 ns\n"
     ]
    }
   ],
   "source": [
    "from sklearn.datasets import load_iris\n",
    "\n",
    "X = load_iris()['data']\n",
    "y = load_iris()['target']\n",
    "t = make_one(y)\n",
    "\n",
    "input_size = X.shape[1]\n",
    "output_size = t.shape[1]\n",
    "hidden_size = [13,256]\n",
    "model = MultiLayerNet(input_size,hidden_size,output_size)\n",
    "\n",
    "%time\n",
    "lr = 1e-5\n",
    "epochs = 10"
   ]
  },
  {
   "cell_type": "code",
   "execution_count": 7,
   "id": "81609269-a89d-4065-bea6-15431b71b867",
   "metadata": {
    "tags": []
   },
   "outputs": [
    {
     "name": "stdout",
     "output_type": "stream",
     "text": [
      "0 :epoch============== accuracy:  0.35333333333333333 ==========loss : 10.367946879603846\n",
      "1 :epoch============== accuracy:  0.35333333333333333 ==========loss : 10.353872868587175\n",
      "2 :epoch============== accuracy:  0.35333333333333333 ==========loss : 10.339409132394106\n",
      "3 :epoch============== accuracy:  0.35333333333333333 ==========loss : 10.32445645511742\n",
      "4 :epoch============== accuracy:  0.35333333333333333 ==========loss : 10.308935856342156\n",
      "5 :epoch============== accuracy:  0.35333333333333333 ==========loss : 10.292732019201681\n",
      "6 :epoch============== accuracy:  0.35333333333333333 ==========loss : 10.275753327016472\n",
      "7 :epoch============== accuracy:  0.35333333333333333 ==========loss : 10.257934749957364\n",
      "8 :epoch============== accuracy:  0.35333333333333333 ==========loss : 10.239234633729463\n",
      "9 :epoch============== accuracy:  0.35333333333333333 ==========loss : 10.219666156244331\n"
     ]
    }
   ],
   "source": [
    "model.fit(epochs,lr,X,t)"
   ]
  },
  {
   "cell_type": "code",
   "execution_count": null,
   "id": "2297f343-898e-47c8-9c50-6771ed1b1f55",
   "metadata": {},
   "outputs": [],
   "source": []
  }
 ],
 "metadata": {
  "kernelspec": {
   "display_name": "Python 3 (ipykernel)",
   "language": "python",
   "name": "python3"
  },
  "language_info": {
   "codemirror_mode": {
    "name": "ipython",
    "version": 3
   },
   "file_extension": ".py",
   "mimetype": "text/x-python",
   "name": "python",
   "nbconvert_exporter": "python",
   "pygments_lexer": "ipython3",
   "version": "3.9.7"
  }
 },
 "nbformat": 4,
 "nbformat_minor": 5
}
